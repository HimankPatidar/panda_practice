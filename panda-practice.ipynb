{
 "cells": [
  {
   "cell_type": "code",
   "execution_count": 1,
   "id": "8dbf7dcd",
   "metadata": {
    "_cell_guid": "b1076dfc-b9ad-4769-8c92-a6c4dae69d19",
    "_uuid": "8f2839f25d086af736a60e9eeb907d3b93b6e0e5",
    "execution": {
     "iopub.execute_input": "2024-09-03T16:11:40.283558Z",
     "iopub.status.busy": "2024-09-03T16:11:40.283127Z",
     "iopub.status.idle": "2024-09-03T16:11:40.697746Z",
     "shell.execute_reply": "2024-09-03T16:11:40.696792Z"
    },
    "papermill": {
     "duration": 0.466703,
     "end_time": "2024-09-03T16:11:40.700497",
     "exception": false,
     "start_time": "2024-09-03T16:11:40.233794",
     "status": "completed"
    },
    "tags": []
   },
   "outputs": [],
   "source": [
    "# This Python 3 environment comes with many helpful analytics libraries installed\n",
    "# It is defined by the kaggle/python Docker image: https://github.com/kaggle/docker-python\n",
    "# For example, here's several helpful packages to load\n",
    "\n",
    "import numpy as np # linear algebra\n",
    "import pandas as pd # data processing, CSV file I/O (e.g. pd.read_csv)\n",
    "\n",
    "# Input data files are available in the read-only \"../input/\" directory\n",
    "# For example, running this (by clicking run or pressing Shift+Enter) will list all files under the input directory\n",
    "\n",
    "import os\n",
    "for dirname, _, filenames in os.walk('/kaggle/input'):\n",
    "    for filename in filenames:\n",
    "        print(os.path.join(dirname, filename))\n",
    "\n",
    "# You can write up to 20GB to the current directory (/kaggle/working/) that gets preserved as output when you create a version using \"Save & Run All\" \n",
    "# You can also write temporary files to /kaggle/temp/, but they won't be saved outside of the current session"
   ]
  },
  {
   "cell_type": "markdown",
   "id": "a9c6a1e6",
   "metadata": {
    "papermill": {
     "duration": 0.049288,
     "end_time": "2024-09-03T16:11:40.797894",
     "exception": false,
     "start_time": "2024-09-03T16:11:40.748606",
     "status": "completed"
    },
    "tags": []
   },
   "source": [
    "# `Series` objects\n",
    "The `pandas` library contains the following useful data structures:\n",
    "* `Series` objects, that we will discuss now. A `Series` object is 1D array, similar to a column in a spreadsheet (with a column name and row labels).\n",
    "* `DataFrame` objects. This is a 2D table, similar to a spreadsheet (with column names and row labels).\n",
    "* `Panel` objects. You can see a `Panel` as a dictionary of `DataFrame`s. These are less used, so we will not discuss them here."
   ]
  },
  {
   "cell_type": "markdown",
   "id": "81534245",
   "metadata": {
    "papermill": {
     "duration": 0.045775,
     "end_time": "2024-09-03T16:11:40.890285",
     "exception": false,
     "start_time": "2024-09-03T16:11:40.844510",
     "status": "completed"
    },
    "tags": []
   },
   "source": [
    "## Creating a `Series`\n",
    "Let's start by creating our first `Series` object!"
   ]
  },
  {
   "cell_type": "code",
   "execution_count": 2,
   "id": "af50d3a4",
   "metadata": {
    "execution": {
     "iopub.execute_input": "2024-09-03T16:11:40.983104Z",
     "iopub.status.busy": "2024-09-03T16:11:40.982027Z",
     "iopub.status.idle": "2024-09-03T16:11:40.992882Z",
     "shell.execute_reply": "2024-09-03T16:11:40.991833Z"
    },
    "papermill": {
     "duration": 0.059124,
     "end_time": "2024-09-03T16:11:40.994984",
     "exception": false,
     "start_time": "2024-09-03T16:11:40.935860",
     "status": "completed"
    },
    "tags": []
   },
   "outputs": [
    {
     "data": {
      "text/plain": [
       "0    2\n",
       "1   -1\n",
       "2    3\n",
       "3    5\n",
       "dtype: int64"
      ]
     },
     "execution_count": 2,
     "metadata": {},
     "output_type": "execute_result"
    }
   ],
   "source": [
    "s = pd.Series([2,-1,3,5])\n",
    "s"
   ]
  },
  {
   "cell_type": "markdown",
   "id": "4f13514b",
   "metadata": {
    "papermill": {
     "duration": 0.044945,
     "end_time": "2024-09-03T16:11:41.085231",
     "exception": false,
     "start_time": "2024-09-03T16:11:41.040286",
     "status": "completed"
    },
    "tags": []
   },
   "source": [
    "## Similar to a 1D `ndarray`\n",
    "`Series` objects behave much like one-dimensional NumPy `ndarray`s, and you can often pass them as parameters to NumPy functions:"
   ]
  },
  {
   "cell_type": "code",
   "execution_count": 3,
   "id": "c680b6c6",
   "metadata": {
    "execution": {
     "iopub.execute_input": "2024-09-03T16:11:41.177280Z",
     "iopub.status.busy": "2024-09-03T16:11:41.176850Z",
     "iopub.status.idle": "2024-09-03T16:11:41.186132Z",
     "shell.execute_reply": "2024-09-03T16:11:41.185044Z"
    },
    "papermill": {
     "duration": 0.058403,
     "end_time": "2024-09-03T16:11:41.188567",
     "exception": false,
     "start_time": "2024-09-03T16:11:41.130164",
     "status": "completed"
    },
    "tags": []
   },
   "outputs": [
    {
     "data": {
      "text/plain": [
       "0      7.389056\n",
       "1      0.367879\n",
       "2     20.085537\n",
       "3    148.413159\n",
       "dtype: float64"
      ]
     },
     "execution_count": 3,
     "metadata": {},
     "output_type": "execute_result"
    }
   ],
   "source": [
    "np.exp(s)"
   ]
  },
  {
   "cell_type": "markdown",
   "id": "5daddfdf",
   "metadata": {
    "papermill": {
     "duration": 0.097865,
     "end_time": "2024-09-03T16:11:41.332158",
     "exception": false,
     "start_time": "2024-09-03T16:11:41.234293",
     "status": "completed"
    },
    "tags": []
   },
   "source": [
    "Arithmetic operations on `Series` are also possible, and they apply *elementwise*, just like for `ndarray`s:"
   ]
  },
  {
   "cell_type": "code",
   "execution_count": 4,
   "id": "7f6fd925",
   "metadata": {
    "execution": {
     "iopub.execute_input": "2024-09-03T16:11:41.424816Z",
     "iopub.status.busy": "2024-09-03T16:11:41.424369Z",
     "iopub.status.idle": "2024-09-03T16:11:41.433670Z",
     "shell.execute_reply": "2024-09-03T16:11:41.432627Z"
    },
    "papermill": {
     "duration": 0.058226,
     "end_time": "2024-09-03T16:11:41.436094",
     "exception": false,
     "start_time": "2024-09-03T16:11:41.377868",
     "status": "completed"
    },
    "tags": []
   },
   "outputs": [
    {
     "data": {
      "text/plain": [
       "0    1002\n",
       "1    1999\n",
       "2    3003\n",
       "3    4005\n",
       "dtype: int64"
      ]
     },
     "execution_count": 4,
     "metadata": {},
     "output_type": "execute_result"
    }
   ],
   "source": [
    "s + [1000,2000,3000,4000]\n"
   ]
  },
  {
   "cell_type": "markdown",
   "id": "06360821",
   "metadata": {
    "papermill": {
     "duration": 0.044717,
     "end_time": "2024-09-03T16:11:41.526129",
     "exception": false,
     "start_time": "2024-09-03T16:11:41.481412",
     "status": "completed"
    },
    "tags": []
   },
   "source": [
    "Similar to NumPy, if you add a single number to a `Series`, that number is added to all items in the `Series`. This is called * broadcasting*:"
   ]
  },
  {
   "cell_type": "code",
   "execution_count": 5,
   "id": "f009324c",
   "metadata": {
    "execution": {
     "iopub.execute_input": "2024-09-03T16:11:41.618474Z",
     "iopub.status.busy": "2024-09-03T16:11:41.617491Z",
     "iopub.status.idle": "2024-09-03T16:11:41.625070Z",
     "shell.execute_reply": "2024-09-03T16:11:41.624091Z"
    },
    "papermill": {
     "duration": 0.056231,
     "end_time": "2024-09-03T16:11:41.627269",
     "exception": false,
     "start_time": "2024-09-03T16:11:41.571038",
     "status": "completed"
    },
    "tags": []
   },
   "outputs": [
    {
     "data": {
      "text/plain": [
       "0    1002\n",
       "1     999\n",
       "2    1003\n",
       "3    1005\n",
       "dtype: int64"
      ]
     },
     "execution_count": 5,
     "metadata": {},
     "output_type": "execute_result"
    }
   ],
   "source": [
    "s + 1000"
   ]
  },
  {
   "cell_type": "markdown",
   "id": "6e0d5c84",
   "metadata": {
    "papermill": {
     "duration": 0.045211,
     "end_time": "2024-09-03T16:11:41.717770",
     "exception": false,
     "start_time": "2024-09-03T16:11:41.672559",
     "status": "completed"
    },
    "tags": []
   },
   "source": [
    "The same is true for all binary operations such as `*` or `/`, and even conditional operations:"
   ]
  },
  {
   "cell_type": "code",
   "execution_count": 6,
   "id": "c3bdc1ef",
   "metadata": {
    "execution": {
     "iopub.execute_input": "2024-09-03T16:11:41.811876Z",
     "iopub.status.busy": "2024-09-03T16:11:41.811425Z",
     "iopub.status.idle": "2024-09-03T16:11:41.819507Z",
     "shell.execute_reply": "2024-09-03T16:11:41.818555Z"
    },
    "papermill": {
     "duration": 0.057836,
     "end_time": "2024-09-03T16:11:41.821573",
     "exception": false,
     "start_time": "2024-09-03T16:11:41.763737",
     "status": "completed"
    },
    "tags": []
   },
   "outputs": [
    {
     "data": {
      "text/plain": [
       "0    False\n",
       "1     True\n",
       "2    False\n",
       "3    False\n",
       "dtype: bool"
      ]
     },
     "execution_count": 6,
     "metadata": {},
     "output_type": "execute_result"
    }
   ],
   "source": [
    "s < 0"
   ]
  },
  {
   "cell_type": "markdown",
   "id": "4e7234f5",
   "metadata": {
    "papermill": {
     "duration": 0.046584,
     "end_time": "2024-09-03T16:11:41.913927",
     "exception": false,
     "start_time": "2024-09-03T16:11:41.867343",
     "status": "completed"
    },
    "tags": []
   },
   "source": [
    "## Index labels\n",
    "Each item in a `Series` object has a unique identifier called the *index label*. By default, it is simply the rank of the item in the `Series` (starting from `0`) but you can also set the index labels manually:"
   ]
  },
  {
   "cell_type": "code",
   "execution_count": 7,
   "id": "92dce355",
   "metadata": {
    "execution": {
     "iopub.execute_input": "2024-09-03T16:11:42.007452Z",
     "iopub.status.busy": "2024-09-03T16:11:42.007029Z",
     "iopub.status.idle": "2024-09-03T16:11:42.022507Z",
     "shell.execute_reply": "2024-09-03T16:11:42.021417Z"
    },
    "papermill": {
     "duration": 0.064427,
     "end_time": "2024-09-03T16:11:42.024735",
     "exception": false,
     "start_time": "2024-09-03T16:11:41.960308",
     "status": "completed"
    },
    "tags": []
   },
   "outputs": [
    {
     "data": {
      "text/plain": [
       "alice       68\n",
       "bob         83\n",
       "charles    112\n",
       "darwin      68\n",
       "dtype: int64"
      ]
     },
     "execution_count": 7,
     "metadata": {},
     "output_type": "execute_result"
    }
   ],
   "source": [
    "s2 = pd.Series([68,83,112,68], index=[\"alice\", 'bob', 'charles', 'darwin'])\n",
    "s2"
   ]
  },
  {
   "cell_type": "markdown",
   "id": "96960fea",
   "metadata": {
    "papermill": {
     "duration": 0.044531,
     "end_time": "2024-09-03T16:11:42.114342",
     "exception": false,
     "start_time": "2024-09-03T16:11:42.069811",
     "status": "completed"
    },
    "tags": []
   },
   "source": [
    "#### You can then use the `Series` just like a `dict`:"
   ]
  },
  {
   "cell_type": "code",
   "execution_count": 8,
   "id": "bcd91c1e",
   "metadata": {
    "execution": {
     "iopub.execute_input": "2024-09-03T16:11:42.207307Z",
     "iopub.status.busy": "2024-09-03T16:11:42.206329Z",
     "iopub.status.idle": "2024-09-03T16:11:42.213477Z",
     "shell.execute_reply": "2024-09-03T16:11:42.212421Z"
    },
    "papermill": {
     "duration": 0.05608,
     "end_time": "2024-09-03T16:11:42.215687",
     "exception": false,
     "start_time": "2024-09-03T16:11:42.159607",
     "status": "completed"
    },
    "tags": []
   },
   "outputs": [
    {
     "data": {
      "text/plain": [
       "83"
      ]
     },
     "execution_count": 8,
     "metadata": {},
     "output_type": "execute_result"
    }
   ],
   "source": [
    "s2['bob']"
   ]
  },
  {
   "cell_type": "markdown",
   "id": "8b9dc4da",
   "metadata": {
    "papermill": {
     "duration": 0.044828,
     "end_time": "2024-09-03T16:11:42.306194",
     "exception": false,
     "start_time": "2024-09-03T16:11:42.261366",
     "status": "completed"
    },
    "tags": []
   },
   "source": [
    "### To make it clear when you are accessing by label or by integer location, it is recommended to always use the `loc` attribute when accessing by label, and the `iloc` attribute when accessing by integer location:"
   ]
  },
  {
   "cell_type": "code",
   "execution_count": 9,
   "id": "7286bafe",
   "metadata": {
    "execution": {
     "iopub.execute_input": "2024-09-03T16:11:42.398719Z",
     "iopub.status.busy": "2024-09-03T16:11:42.397931Z",
     "iopub.status.idle": "2024-09-03T16:11:42.405894Z",
     "shell.execute_reply": "2024-09-03T16:11:42.404568Z"
    },
    "papermill": {
     "duration": 0.05683,
     "end_time": "2024-09-03T16:11:42.408218",
     "exception": false,
     "start_time": "2024-09-03T16:11:42.351388",
     "status": "completed"
    },
    "tags": []
   },
   "outputs": [
    {
     "data": {
      "text/plain": [
       "83"
      ]
     },
     "execution_count": 9,
     "metadata": {},
     "output_type": "execute_result"
    }
   ],
   "source": [
    "s2.loc[\"bob\"]"
   ]
  },
  {
   "cell_type": "markdown",
   "id": "cfc1730f",
   "metadata": {
    "papermill": {
     "duration": 0.04518,
     "end_time": "2024-09-03T16:11:42.499030",
     "exception": false,
     "start_time": "2024-09-03T16:11:42.453850",
     "status": "completed"
    },
    "tags": []
   },
   "source": [
    "### Slicing a `Series` also slices the index labels:"
   ]
  },
  {
   "cell_type": "code",
   "execution_count": 10,
   "id": "62ea71f4",
   "metadata": {
    "execution": {
     "iopub.execute_input": "2024-09-03T16:11:42.591866Z",
     "iopub.status.busy": "2024-09-03T16:11:42.591012Z",
     "iopub.status.idle": "2024-09-03T16:11:42.598809Z",
     "shell.execute_reply": "2024-09-03T16:11:42.597737Z"
    },
    "papermill": {
     "duration": 0.056695,
     "end_time": "2024-09-03T16:11:42.601159",
     "exception": false,
     "start_time": "2024-09-03T16:11:42.544464",
     "status": "completed"
    },
    "tags": []
   },
   "outputs": [
    {
     "data": {
      "text/plain": [
       "bob         83\n",
       "charles    112\n",
       "dtype: int64"
      ]
     },
     "execution_count": 10,
     "metadata": {},
     "output_type": "execute_result"
    }
   ],
   "source": [
    "s2.iloc[1:3]"
   ]
  },
  {
   "cell_type": "markdown",
   "id": "7e3d54bd",
   "metadata": {
    "papermill": {
     "duration": 0.045337,
     "end_time": "2024-09-03T16:11:42.692388",
     "exception": false,
     "start_time": "2024-09-03T16:11:42.647051",
     "status": "completed"
    },
    "tags": []
   },
   "source": [
    "### This can lead to unexpected results when using the default numeric labels, so be careful:"
   ]
  },
  {
   "cell_type": "code",
   "execution_count": 11,
   "id": "848a8b8a",
   "metadata": {
    "execution": {
     "iopub.execute_input": "2024-09-03T16:11:42.787438Z",
     "iopub.status.busy": "2024-09-03T16:11:42.787035Z",
     "iopub.status.idle": "2024-09-03T16:11:42.795209Z",
     "shell.execute_reply": "2024-09-03T16:11:42.794065Z"
    },
    "papermill": {
     "duration": 0.058167,
     "end_time": "2024-09-03T16:11:42.797379",
     "exception": false,
     "start_time": "2024-09-03T16:11:42.739212",
     "status": "completed"
    },
    "tags": []
   },
   "outputs": [
    {
     "data": {
      "text/plain": [
       "0    1000\n",
       "1    1001\n",
       "2    1002\n",
       "3    1003\n",
       "dtype: int64"
      ]
     },
     "execution_count": 11,
     "metadata": {},
     "output_type": "execute_result"
    }
   ],
   "source": [
    "surprise = pd.Series([1000,1001,1002,1003])\n",
    "surprise"
   ]
  },
  {
   "cell_type": "code",
   "execution_count": 12,
   "id": "b2d97915",
   "metadata": {
    "execution": {
     "iopub.execute_input": "2024-09-03T16:11:42.894483Z",
     "iopub.status.busy": "2024-09-03T16:11:42.893397Z",
     "iopub.status.idle": "2024-09-03T16:11:42.901845Z",
     "shell.execute_reply": "2024-09-03T16:11:42.900801Z"
    },
    "papermill": {
     "duration": 0.058974,
     "end_time": "2024-09-03T16:11:42.904130",
     "exception": false,
     "start_time": "2024-09-03T16:11:42.845156",
     "status": "completed"
    },
    "tags": []
   },
   "outputs": [
    {
     "data": {
      "text/plain": [
       "2    1002\n",
       "3    1003\n",
       "dtype: int64"
      ]
     },
     "execution_count": 12,
     "metadata": {},
     "output_type": "execute_result"
    }
   ],
   "source": [
    "surprise_slice = surprise[2:]\n",
    "surprise_slice"
   ]
  },
  {
   "cell_type": "markdown",
   "id": "70e09ae1",
   "metadata": {
    "papermill": {
     "duration": 0.045719,
     "end_time": "2024-09-03T16:11:42.996804",
     "exception": false,
     "start_time": "2024-09-03T16:11:42.951085",
     "status": "completed"
    },
    "tags": []
   },
   "source": [
    "### Oh, look! The first element has index label `2`. The element with index label `0` is absent from the slice:"
   ]
  },
  {
   "cell_type": "code",
   "execution_count": 13,
   "id": "6c3b656f",
   "metadata": {
    "execution": {
     "iopub.execute_input": "2024-09-03T16:11:43.092445Z",
     "iopub.status.busy": "2024-09-03T16:11:43.092017Z",
     "iopub.status.idle": "2024-09-03T16:11:43.098404Z",
     "shell.execute_reply": "2024-09-03T16:11:43.097197Z"
    },
    "papermill": {
     "duration": 0.055942,
     "end_time": "2024-09-03T16:11:43.100509",
     "exception": false,
     "start_time": "2024-09-03T16:11:43.044567",
     "status": "completed"
    },
    "tags": []
   },
   "outputs": [
    {
     "name": "stdout",
     "output_type": "stream",
     "text": [
      "Key error :  0\n"
     ]
    }
   ],
   "source": [
    "try :\n",
    "    surprise_slice[0]\n",
    "except KeyError as e:\n",
    "    print(\"Key error : \", e)"
   ]
  },
  {
   "cell_type": "markdown",
   "id": "3ef971ef",
   "metadata": {
    "papermill": {
     "duration": 0.046314,
     "end_time": "2024-09-03T16:11:43.193297",
     "exception": false,
     "start_time": "2024-09-03T16:11:43.146983",
     "status": "completed"
    },
    "tags": []
   },
   "source": [
    "### But remember that you can access elements by integer location using the `iloc` attribute. This illustrates another reason why it's always better to use `loc` and `iloc` to access `Series` objects:"
   ]
  },
  {
   "cell_type": "code",
   "execution_count": 14,
   "id": "660382be",
   "metadata": {
    "execution": {
     "iopub.execute_input": "2024-09-03T16:11:43.287239Z",
     "iopub.status.busy": "2024-09-03T16:11:43.286851Z",
     "iopub.status.idle": "2024-09-03T16:11:43.293517Z",
     "shell.execute_reply": "2024-09-03T16:11:43.292458Z"
    },
    "papermill": {
     "duration": 0.055936,
     "end_time": "2024-09-03T16:11:43.295580",
     "exception": false,
     "start_time": "2024-09-03T16:11:43.239644",
     "status": "completed"
    },
    "tags": []
   },
   "outputs": [
    {
     "data": {
      "text/plain": [
       "1002"
      ]
     },
     "execution_count": 14,
     "metadata": {},
     "output_type": "execute_result"
    }
   ],
   "source": [
    "surprise_slice.iloc[0]"
   ]
  },
  {
   "cell_type": "markdown",
   "id": "c3a62109",
   "metadata": {
    "papermill": {
     "duration": 0.04728,
     "end_time": "2024-09-03T16:11:43.389122",
     "exception": false,
     "start_time": "2024-09-03T16:11:43.341842",
     "status": "completed"
    },
    "tags": []
   },
   "source": [
    "## Init from `dict`\n",
    "\n",
    "#### You can create a `Series` object from a `dict`. The keys will be used as index labels:"
   ]
  },
  {
   "cell_type": "code",
   "execution_count": 15,
   "id": "0b4d24ac",
   "metadata": {
    "execution": {
     "iopub.execute_input": "2024-09-03T16:11:43.484277Z",
     "iopub.status.busy": "2024-09-03T16:11:43.483870Z",
     "iopub.status.idle": "2024-09-03T16:11:43.492447Z",
     "shell.execute_reply": "2024-09-03T16:11:43.491483Z"
    },
    "papermill": {
     "duration": 0.059045,
     "end_time": "2024-09-03T16:11:43.494635",
     "exception": false,
     "start_time": "2024-09-03T16:11:43.435590",
     "status": "completed"
    },
    "tags": []
   },
   "outputs": [
    {
     "data": {
      "text/plain": [
       "alice     68\n",
       "bob       83\n",
       "colin     86\n",
       "darwin    68\n",
       "dtype: int64"
      ]
     },
     "execution_count": 15,
     "metadata": {},
     "output_type": "execute_result"
    }
   ],
   "source": [
    "weights = {\"alice\": 68, \"bob\":83, \"colin\":86, \"darwin\":68}\n",
    "s3 = pd.Series(weights)\n",
    "s3"
   ]
  },
  {
   "cell_type": "markdown",
   "id": "195ed407",
   "metadata": {
    "papermill": {
     "duration": 0.046706,
     "end_time": "2024-09-03T16:11:43.588576",
     "exception": false,
     "start_time": "2024-09-03T16:11:43.541870",
     "status": "completed"
    },
    "tags": []
   },
   "source": [
    "### You can control which elements you want to include in the `Series` and in what order by explicitly specifying the desired `index`:"
   ]
  },
  {
   "cell_type": "code",
   "execution_count": 16,
   "id": "19da4e02",
   "metadata": {
    "execution": {
     "iopub.execute_input": "2024-09-03T16:11:43.684574Z",
     "iopub.status.busy": "2024-09-03T16:11:43.683567Z",
     "iopub.status.idle": "2024-09-03T16:11:43.695511Z",
     "shell.execute_reply": "2024-09-03T16:11:43.694363Z"
    },
    "papermill": {
     "duration": 0.062013,
     "end_time": "2024-09-03T16:11:43.697697",
     "exception": false,
     "start_time": "2024-09-03T16:11:43.635684",
     "status": "completed"
    },
    "tags": []
   },
   "outputs": [
    {
     "data": {
      "text/plain": [
       "colin    86\n",
       "alice    68\n",
       "dtype: int64"
      ]
     },
     "execution_count": 16,
     "metadata": {},
     "output_type": "execute_result"
    }
   ],
   "source": [
    "s4 = pd.Series(weights, index=['colin','alice'])\n",
    "s4"
   ]
  },
  {
   "cell_type": "markdown",
   "id": "71c9b644",
   "metadata": {
    "papermill": {
     "duration": 0.046434,
     "end_time": "2024-09-03T16:11:43.790734",
     "exception": false,
     "start_time": "2024-09-03T16:11:43.744300",
     "status": "completed"
    },
    "tags": []
   },
   "source": [
    "## Automatic alignment\n",
    "When an operation involves multiple `Series` objects, `pandas` automatically aligns items by matching index labels."
   ]
  },
  {
   "cell_type": "code",
   "execution_count": 17,
   "id": "30ee11a9",
   "metadata": {
    "execution": {
     "iopub.execute_input": "2024-09-03T16:11:43.889066Z",
     "iopub.status.busy": "2024-09-03T16:11:43.888657Z",
     "iopub.status.idle": "2024-09-03T16:11:43.902818Z",
     "shell.execute_reply": "2024-09-03T16:11:43.901596Z"
    },
    "papermill": {
     "duration": 0.066019,
     "end_time": "2024-09-03T16:11:43.905321",
     "exception": false,
     "start_time": "2024-09-03T16:11:43.839302",
     "status": "completed"
    },
    "tags": []
   },
   "outputs": [
    {
     "name": "stdout",
     "output_type": "stream",
     "text": [
      "Index(['alice', 'bob', 'charles', 'darwin'], dtype='object')\n",
      "Index(['alice', 'bob', 'colin', 'darwin'], dtype='object')\n"
     ]
    },
    {
     "data": {
      "text/plain": [
       "alice      136.0\n",
       "bob        166.0\n",
       "charles      NaN\n",
       "colin        NaN\n",
       "darwin     136.0\n",
       "dtype: float64"
      ]
     },
     "execution_count": 17,
     "metadata": {},
     "output_type": "execute_result"
    }
   ],
   "source": [
    "print(s2.keys())\n",
    "print(s3.keys())\n",
    "\n",
    "s2 + s3"
   ]
  },
  {
   "cell_type": "markdown",
   "id": "c546f5e7",
   "metadata": {
    "papermill": {
     "duration": 0.04645,
     "end_time": "2024-09-03T16:11:43.999152",
     "exception": false,
     "start_time": "2024-09-03T16:11:43.952702",
     "status": "completed"
    },
    "tags": []
   },
   "source": [
    "### The resulting `Series` contains the union of index labels from `s2` and `s3`. Since `\"colin\"` is missing from `s2` and `\"charles\"` is missing from `s3`, these items have a `NaN` result value (i.e. Not-a-Number means *missing*).\n",
    "\n",
    "### Automatic alignment is very handy when working with data that may come from various sources with varying structure and missing items. But if you forget to set the right index labels, you can have surprising results:"
   ]
  },
  {
   "cell_type": "code",
   "execution_count": 18,
   "id": "8a381339",
   "metadata": {
    "execution": {
     "iopub.execute_input": "2024-09-03T16:11:44.094481Z",
     "iopub.status.busy": "2024-09-03T16:11:44.094083Z",
     "iopub.status.idle": "2024-09-03T16:11:44.106525Z",
     "shell.execute_reply": "2024-09-03T16:11:44.105347Z"
    },
    "papermill": {
     "duration": 0.062596,
     "end_time": "2024-09-03T16:11:44.108815",
     "exception": false,
     "start_time": "2024-09-03T16:11:44.046219",
     "status": "completed"
    },
    "tags": []
   },
   "outputs": [
    {
     "name": "stdout",
     "output_type": "stream",
     "text": [
      "s2 = [ 68  83 112  68]\n",
      "s5 = [1000 1000 1000 1000]\n"
     ]
    },
    {
     "data": {
      "text/plain": [
       "alice     NaN\n",
       "bob       NaN\n",
       "charles   NaN\n",
       "darwin    NaN\n",
       "0         NaN\n",
       "1         NaN\n",
       "2         NaN\n",
       "3         NaN\n",
       "dtype: float64"
      ]
     },
     "execution_count": 18,
     "metadata": {},
     "output_type": "execute_result"
    }
   ],
   "source": [
    "s5 = pd.Series([1000,1000,1000,1000])\n",
    "print(\"s2 =\", s2.values)\n",
    "print(\"s5 =\", s5.values)\n",
    "\n",
    "s2 + s5"
   ]
  },
  {
   "cell_type": "markdown",
   "id": "386a9ac2",
   "metadata": {
    "papermill": {
     "duration": 0.046584,
     "end_time": "2024-09-03T16:11:44.202659",
     "exception": false,
     "start_time": "2024-09-03T16:11:44.156075",
     "status": "completed"
    },
    "tags": []
   },
   "source": [
    "### Pandas could not align the Series, since their labels do not match at all, hence the full NaN result."
   ]
  },
  {
   "cell_type": "markdown",
   "id": "00f4e9b2",
   "metadata": {
    "papermill": {
     "duration": 0.046344,
     "end_time": "2024-09-03T16:11:44.296412",
     "exception": false,
     "start_time": "2024-09-03T16:11:44.250068",
     "status": "completed"
    },
    "tags": []
   },
   "source": [
    "## Init with a scalar\n",
    "You can also initialize a `Series` object using a scalar and a list of index labels: all items will be set to the scalar."
   ]
  },
  {
   "cell_type": "code",
   "execution_count": 19,
   "id": "a53159c6",
   "metadata": {
    "execution": {
     "iopub.execute_input": "2024-09-03T16:11:44.393260Z",
     "iopub.status.busy": "2024-09-03T16:11:44.392191Z",
     "iopub.status.idle": "2024-09-03T16:11:44.401249Z",
     "shell.execute_reply": "2024-09-03T16:11:44.400144Z"
    },
    "papermill": {
     "duration": 0.059463,
     "end_time": "2024-09-03T16:11:44.403483",
     "exception": false,
     "start_time": "2024-09-03T16:11:44.344020",
     "status": "completed"
    },
    "tags": []
   },
   "outputs": [
    {
     "data": {
      "text/plain": [
       "life          42\n",
       "universe      42\n",
       "everything    42\n",
       "dtype: int64"
      ]
     },
     "execution_count": 19,
     "metadata": {},
     "output_type": "execute_result"
    }
   ],
   "source": [
    "meaning = pd.Series(42, ['life', 'universe', 'everything'])\n",
    "meaning\n"
   ]
  },
  {
   "cell_type": "markdown",
   "id": "8572bb31",
   "metadata": {
    "papermill": {
     "duration": 0.048313,
     "end_time": "2024-09-03T16:11:44.502770",
     "exception": false,
     "start_time": "2024-09-03T16:11:44.454457",
     "status": "completed"
    },
    "tags": []
   },
   "source": [
    "# `Series` name\n",
    "\n",
    "## A `Series` can have a `name :`"
   ]
  },
  {
   "cell_type": "code",
   "execution_count": 20,
   "id": "1103195e",
   "metadata": {
    "execution": {
     "iopub.execute_input": "2024-09-03T16:11:44.600253Z",
     "iopub.status.busy": "2024-09-03T16:11:44.599034Z",
     "iopub.status.idle": "2024-09-03T16:11:44.607904Z",
     "shell.execute_reply": "2024-09-03T16:11:44.606838Z"
    },
    "papermill": {
     "duration": 0.06025,
     "end_time": "2024-09-03T16:11:44.610202",
     "exception": false,
     "start_time": "2024-09-03T16:11:44.549952",
     "status": "completed"
    },
    "tags": []
   },
   "outputs": [
    {
     "data": {
      "text/plain": [
       "bob      83\n",
       "alice    68\n",
       "Name: weights, dtype: int64"
      ]
     },
     "execution_count": 20,
     "metadata": {},
     "output_type": "execute_result"
    }
   ],
   "source": [
    "s6 = pd.Series([83,68], index=['bob','alice'], name='weights')\n",
    "s6"
   ]
  },
  {
   "cell_type": "markdown",
   "id": "9e614499",
   "metadata": {
    "papermill": {
     "duration": 0.048825,
     "end_time": "2024-09-03T16:11:44.708082",
     "exception": false,
     "start_time": "2024-09-03T16:11:44.659257",
     "status": "completed"
    },
    "tags": []
   },
   "source": [
    "## Plotting a `Series`\n",
    "Pandas makes it easy to plot `Series` data using matplotlib (for more details on matplotlib, check out the [matplotlib tutorial](tools_matplotlib.ipynb)). Just import matplotlib and call the `plot()` method:"
   ]
  },
  {
   "cell_type": "code",
   "execution_count": 21,
   "id": "73142efd",
   "metadata": {
    "execution": {
     "iopub.execute_input": "2024-09-03T16:11:44.807324Z",
     "iopub.status.busy": "2024-09-03T16:11:44.806913Z",
     "iopub.status.idle": "2024-09-03T16:11:45.070605Z",
     "shell.execute_reply": "2024-09-03T16:11:45.069382Z"
    },
    "papermill": {
     "duration": 0.316632,
     "end_time": "2024-09-03T16:11:45.073151",
     "exception": false,
     "start_time": "2024-09-03T16:11:44.756519",
     "status": "completed"
    },
    "tags": []
   },
   "outputs": [
    {
     "data": {
      "image/png": "[encoded data removed]",
      "text/plain": [
       "<Figure size 640x480 with 1 Axes>"
      ]
     },
     "metadata": {},
     "output_type": "display_data"
    }
   ],
   "source": [
    "import matplotlib.pyplot as plt\n",
    "\n",
    "temperatures = [4.4,5.1,6.1,6.2,6.1,6.1,5.7,5.2,4.7,4.1,3.9,3.5]\n",
    "s7 = pd.Series(temperatures, name=\"Temperature\")\n",
    "s7.plot()\n",
    "plt.show()"
   ]
  },
  {
   "cell_type": "markdown",
   "id": "6feb0a78",
   "metadata": {
    "papermill": {
     "duration": 0.047832,
     "end_time": "2024-09-03T16:11:45.169094",
     "exception": false,
     "start_time": "2024-09-03T16:11:45.121262",
     "status": "completed"
    },
    "tags": []
   },
   "source": [
    "### There are *many* options for plotting your data. It is not necessary to list them all here: if you need a particular type of plot (histograms, pie charts, etc.), just look for it in the excellent [Visualization](https://pandas.pydata.org/pandas-docs/stable/user_guide/visualization.html) section of pandas' documentation, and look at the example code."
   ]
  },
  {
   "cell_type": "markdown",
   "id": "1d42a30d",
   "metadata": {
    "papermill": {
     "duration": 0.04751,
     "end_time": "2024-09-03T16:11:45.264341",
     "exception": false,
     "start_time": "2024-09-03T16:11:45.216831",
     "status": "completed"
    },
    "tags": []
   },
   "source": [
    "# Handling time\n",
    "Many datasets have timestamps, and pandas is awesome at manipulating such data:\n",
    "* it can represent periods (such as 2016Q3) and frequencies (such as \"monthly\"),\n",
    "* it can convert periods to actual timestamps, and *vice versa*,\n",
    "* it can resample data and aggregate values any way you like,\n",
    "* it can handle timezones.\n",
    "\n",
    "## Time range\n",
    "Let's start by creating a time series using `pd.date_range()`. It returns a `DatetimeIndex` containing one datetime per hour for 12 hours starting on October 29th 2016 at 5:30pm."
   ]
  },
  {
   "cell_type": "code",
   "execution_count": 22,
   "id": "b5dc2f42",
   "metadata": {
    "execution": {
     "iopub.execute_input": "2024-09-03T16:11:45.365068Z",
     "iopub.status.busy": "2024-09-03T16:11:45.364614Z",
     "iopub.status.idle": "2024-09-03T16:11:45.381396Z",
     "shell.execute_reply": "2024-09-03T16:11:45.380243Z"
    },
    "papermill": {
     "duration": 0.071119,
     "end_time": "2024-09-03T16:11:45.383700",
     "exception": false,
     "start_time": "2024-09-03T16:11:45.312581",
     "status": "completed"
    },
    "tags": []
   },
   "outputs": [
    {
     "data": {
      "text/plain": [
       "DatetimeIndex(['2024-10-28 17:30:00', '2024-10-28 18:30:00',\n",
       "               '2024-10-28 19:30:00', '2024-10-28 20:30:00',\n",
       "               '2024-10-28 21:30:00', '2024-10-28 22:30:00',\n",
       "               '2024-10-28 23:30:00', '2024-10-29 00:30:00',\n",
       "               '2024-10-29 01:30:00', '2024-10-29 02:30:00',\n",
       "               '2024-10-29 03:30:00', '2024-10-29 04:30:00'],\n",
       "              dtype='datetime64[ns]', freq='h')"
      ]
     },
     "execution_count": 22,
     "metadata": {},
     "output_type": "execute_result"
    }
   ],
   "source": [
    "dates = pd.date_range('2024/10/28 5:30pm', periods=12, freq='h')\n",
    "dates"
   ]
  },
  {
   "cell_type": "markdown",
   "id": "c3a78d4d",
   "metadata": {
    "papermill": {
     "duration": 0.047756,
     "end_time": "2024-09-03T16:11:45.479140",
     "exception": false,
     "start_time": "2024-09-03T16:11:45.431384",
     "status": "completed"
    },
    "tags": []
   },
   "source": [
    "This `DatetimeIndex` may be used as an index in a `Series`:"
   ]
  },
  {
   "cell_type": "code",
   "execution_count": 23,
   "id": "1f225102",
   "metadata": {
    "execution": {
     "iopub.execute_input": "2024-09-03T16:11:45.576915Z",
     "iopub.status.busy": "2024-09-03T16:11:45.576013Z",
     "iopub.status.idle": "2024-09-03T16:11:45.585080Z",
     "shell.execute_reply": "2024-09-03T16:11:45.583966Z"
    },
    "papermill": {
     "duration": 0.060829,
     "end_time": "2024-09-03T16:11:45.587255",
     "exception": false,
     "start_time": "2024-09-03T16:11:45.526426",
     "status": "completed"
    },
    "tags": []
   },
   "outputs": [
    {
     "data": {
      "text/plain": [
       "2024-10-28 17:30:00    4.4\n",
       "2024-10-28 18:30:00    5.1\n",
       "2024-10-28 19:30:00    6.1\n",
       "2024-10-28 20:30:00    6.2\n",
       "2024-10-28 21:30:00    6.1\n",
       "2024-10-28 22:30:00    6.1\n",
       "2024-10-28 23:30:00    5.7\n",
       "2024-10-29 00:30:00    5.2\n",
       "2024-10-29 01:30:00    4.7\n",
       "2024-10-29 02:30:00    4.1\n",
       "2024-10-29 03:30:00    3.9\n",
       "2024-10-29 04:30:00    3.5\n",
       "Freq: h, dtype: float64"
      ]
     },
     "execution_count": 23,
     "metadata": {},
     "output_type": "execute_result"
    }
   ],
   "source": [
    "temp_series = pd.Series(temperatures, dates)\n",
    "temp_series"
   ]
  },
  {
   "cell_type": "code",
   "execution_count": 24,
   "id": "a9c4b09b",
   "metadata": {
    "execution": {
     "iopub.execute_input": "2024-09-03T16:11:45.684204Z",
     "iopub.status.busy": "2024-09-03T16:11:45.683786Z",
     "iopub.status.idle": "2024-09-03T16:11:45.955829Z",
     "shell.execute_reply": "2024-09-03T16:11:45.954736Z"
    },
    "papermill": {
     "duration": 0.323523,
     "end_time": "2024-09-03T16:11:45.958409",
     "exception": false,
     "start_time": "2024-09-03T16:11:45.634886",
     "status": "completed"
    },
    "tags": []
   },
   "outputs": [
    {
     "data": {
      "image/png": "[encoded data removed]",
      "text/plain": [
       "<Figure size 640x480 with 1 Axes>"
      ]
     },
     "metadata": {},
     "output_type": "display_data"
    }
   ],
   "source": [
    "temp_series.plot(kind=\"bar\")\n",
    "\n",
    "plt.grid(True)\n",
    "plt.show()"
   ]
  },
  {
   "cell_type": "markdown",
   "id": "4f05a91f",
   "metadata": {
    "papermill": {
     "duration": 0.048045,
     "end_time": "2024-09-03T16:11:46.055215",
     "exception": false,
     "start_time": "2024-09-03T16:11:46.007170",
     "status": "completed"
    },
    "tags": []
   },
   "source": [
    "## Resampling\n",
    "Pandas lets us resample a time series very simply. Just call the `resample()` method and specify a new frequency:"
   ]
  },
  {
   "cell_type": "code",
   "execution_count": 25,
   "id": "bcede92d",
   "metadata": {
    "execution": {
     "iopub.execute_input": "2024-09-03T16:11:46.153392Z",
     "iopub.status.busy": "2024-09-03T16:11:46.152476Z",
     "iopub.status.idle": "2024-09-03T16:11:46.163214Z",
     "shell.execute_reply": "2024-09-03T16:11:46.162111Z"
    },
    "papermill": {
     "duration": 0.062128,
     "end_time": "2024-09-03T16:11:46.165359",
     "exception": false,
     "start_time": "2024-09-03T16:11:46.103231",
     "status": "completed"
    },
    "tags": []
   },
   "outputs": [
    {
     "data": {
      "text/plain": [
       "<pandas.core.resample.DatetimeIndexResampler object at 0x7ecde89423b0>"
      ]
     },
     "execution_count": 25,
     "metadata": {},
     "output_type": "execute_result"
    }
   ],
   "source": [
    "temp_series_freq_2h = temp_series.resample(\"2h\")\n",
    "temp_series_freq_2h"
   ]
  },
  {
   "cell_type": "markdown",
   "id": "84447e65",
   "metadata": {
    "papermill": {
     "duration": 0.048195,
     "end_time": "2024-09-03T16:11:46.261783",
     "exception": false,
     "start_time": "2024-09-03T16:11:46.213588",
     "status": "completed"
    },
    "tags": []
   },
   "source": [
    "## The resampling operation is actually a deferred operation, which is why we did not get a `Series` object, but a `DatetimeIndexResampler` object instead. To actually perform the resampling operation, we can simply call the `mean()` method. Pandas will compute the mean of every pair of consecutive hours:"
   ]
  },
  {
   "cell_type": "code",
   "execution_count": 26,
   "id": "a1cd2282",
   "metadata": {
    "execution": {
     "iopub.execute_input": "2024-09-03T16:11:46.361348Z",
     "iopub.status.busy": "2024-09-03T16:11:46.360163Z",
     "iopub.status.idle": "2024-09-03T16:11:46.367894Z",
     "shell.execute_reply": "2024-09-03T16:11:46.366911Z"
    },
    "papermill": {
     "duration": 0.060117,
     "end_time": "2024-09-03T16:11:46.370232",
     "exception": false,
     "start_time": "2024-09-03T16:11:46.310115",
     "status": "completed"
    },
    "tags": []
   },
   "outputs": [],
   "source": [
    "temp_series_freq_2h = temp_series_freq_2h.mean()\n"
   ]
  },
  {
   "cell_type": "code",
   "execution_count": 27,
   "id": "1c46606b",
   "metadata": {
    "execution": {
     "iopub.execute_input": "2024-09-03T16:11:46.468826Z",
     "iopub.status.busy": "2024-09-03T16:11:46.468036Z",
     "iopub.status.idle": "2024-09-03T16:11:46.697683Z",
     "shell.execute_reply": "2024-09-03T16:11:46.696486Z"
    },
    "papermill": {
     "duration": 0.281818,
     "end_time": "2024-09-03T16:11:46.700132",
     "exception": false,
     "start_time": "2024-09-03T16:11:46.418314",
     "status": "completed"
    },
    "tags": []
   },
   "outputs": [
    {
     "data": {
      "image/png": "[encoded data removed]",
      "text/plain": [
       "<Figure size 640x480 with 1 Axes>"
      ]
     },
     "metadata": {},
     "output_type": "display_data"
    }
   ],
   "source": [
    "temp_series_freq_2h.plot(kind=\"bar\")\n",
    "plt.show()"
   ]
  },
  {
   "cell_type": "markdown",
   "id": "84e0dba9",
   "metadata": {
    "papermill": {
     "duration": 0.054036,
     "end_time": "2024-09-03T16:11:46.802965",
     "exception": false,
     "start_time": "2024-09-03T16:11:46.748929",
     "status": "completed"
    },
    "tags": []
   },
   "source": [
    "### Note how the values have automatically been aggregated into 2-hour periods. If we look at the 6-8pm period, for example, we had a value of `5.1` at 6:30pm, and `6.1` at 7:30pm. After resampling, we just have one value of `5.6`, which is the mean of `5.1` and `6.1`. Rather than computing the mean, we could have used any other aggregation function, for example we can decide to keep the minimum value of each period:"
   ]
  },
  {
   "cell_type": "code",
   "execution_count": 28,
   "id": "1bfa32cd",
   "metadata": {
    "execution": {
     "iopub.execute_input": "2024-09-03T16:11:46.929342Z",
     "iopub.status.busy": "2024-09-03T16:11:46.927961Z",
     "iopub.status.idle": "2024-09-03T16:11:46.944561Z",
     "shell.execute_reply": "2024-09-03T16:11:46.942452Z"
    },
    "papermill": {
     "duration": 0.083659,
     "end_time": "2024-09-03T16:11:46.948654",
     "exception": false,
     "start_time": "2024-09-03T16:11:46.864995",
     "status": "completed"
    },
    "tags": []
   },
   "outputs": [
    {
     "data": {
      "text/plain": [
       "2024-10-28 16:00:00    4.4\n",
       "2024-10-28 18:00:00    5.1\n",
       "2024-10-28 20:00:00    6.1\n",
       "2024-10-28 22:00:00    5.7\n",
       "2024-10-29 00:00:00    4.7\n",
       "2024-10-29 02:00:00    3.9\n",
       "2024-10-29 04:00:00    3.5\n",
       "Freq: 2h, dtype: float64"
      ]
     },
     "execution_count": 28,
     "metadata": {},
     "output_type": "execute_result"
    }
   ],
   "source": [
    "temp_series_freq_2h = temp_series.resample(\"2h\").min()\n",
    "temp_series_freq_2h"
   ]
  },
  {
   "cell_type": "code",
   "execution_count": 29,
   "id": "d8a71f4e",
   "metadata": {
    "execution": {
     "iopub.execute_input": "2024-09-03T16:11:47.140198Z",
     "iopub.status.busy": "2024-09-03T16:11:47.139076Z",
     "iopub.status.idle": "2024-09-03T16:11:47.150924Z",
     "shell.execute_reply": "2024-09-03T16:11:47.149101Z"
    },
    "papermill": {
     "duration": 0.143244,
     "end_time": "2024-09-03T16:11:47.157384",
     "exception": false,
     "start_time": "2024-09-03T16:11:47.014140",
     "status": "completed"
    },
    "tags": []
   },
   "outputs": [
    {
     "data": {
      "text/plain": [
       "2024-10-28 16:00:00    4.4\n",
       "2024-10-28 18:00:00    5.1\n",
       "2024-10-28 20:00:00    6.1\n",
       "2024-10-28 22:00:00    5.7\n",
       "2024-10-29 00:00:00    4.7\n",
       "2024-10-29 02:00:00    3.9\n",
       "2024-10-29 04:00:00    3.5\n",
       "Freq: 2h, dtype: float64"
      ]
     },
     "execution_count": 29,
     "metadata": {},
     "output_type": "execute_result"
    }
   ],
   "source": [
    "temp_series_freq_2h = temp_series.resample(\"2h\").apply(\"min\")\n",
    "temp_series_freq_2h"
   ]
  },
  {
   "cell_type": "markdown",
   "id": "24296ab2",
   "metadata": {
    "papermill": {
     "duration": 0.049465,
     "end_time": "2024-09-03T16:11:47.271277",
     "exception": false,
     "start_time": "2024-09-03T16:11:47.221812",
     "status": "completed"
    },
    "tags": []
   },
   "source": [
    "## Upsampling and interpolation\n",
    "It was an example of downsampling. We can also upsample (i.e. increase the frequency), but it will create holes in our data:"
   ]
  },
  {
   "cell_type": "code",
   "execution_count": 30,
   "id": "446ad123",
   "metadata": {
    "execution": {
     "iopub.execute_input": "2024-09-03T16:11:47.376029Z",
     "iopub.status.busy": "2024-09-03T16:11:47.375570Z",
     "iopub.status.idle": "2024-09-03T16:11:47.386758Z",
     "shell.execute_reply": "2024-09-03T16:11:47.385546Z"
    },
    "papermill": {
     "duration": 0.064039,
     "end_time": "2024-09-03T16:11:47.389045",
     "exception": false,
     "start_time": "2024-09-03T16:11:47.325006",
     "status": "completed"
    },
    "tags": []
   },
   "outputs": [
    {
     "data": {
      "text/plain": [
       "2024-10-28 17:30:00    4.4\n",
       "2024-10-28 17:45:00    NaN\n",
       "2024-10-28 18:00:00    NaN\n",
       "2024-10-28 18:15:00    NaN\n",
       "2024-10-28 18:30:00    5.1\n",
       "2024-10-28 18:45:00    NaN\n",
       "2024-10-28 19:00:00    NaN\n",
       "2024-10-28 19:15:00    NaN\n",
       "2024-10-28 19:30:00    6.1\n",
       "2024-10-28 19:45:00    NaN\n",
       "Freq: 15min, dtype: float64"
      ]
     },
     "execution_count": 30,
     "metadata": {},
     "output_type": "execute_result"
    }
   ],
   "source": [
    "temp_series_freq_15min = temp_series.resample(\"15Min\").mean()\n",
    "temp_series_freq_15min.head(n=10) # `head` displays the top n values"
   ]
  },
  {
   "cell_type": "markdown",
   "id": "9a9043b6",
   "metadata": {
    "papermill": {
     "duration": 0.055838,
     "end_time": "2024-09-03T16:11:47.495550",
     "exception": false,
     "start_time": "2024-09-03T16:11:47.439712",
     "status": "completed"
    },
    "tags": []
   },
   "source": [
    "### One solution is to fill the gaps by interpolating. We just call the `interpolate()` method. The default is to use linear interpolation, but we can also select another method, such as cubic interpolation:"
   ]
  },
  {
   "cell_type": "code",
   "execution_count": 31,
   "id": "5bbd4f5a",
   "metadata": {
    "execution": {
     "iopub.execute_input": "2024-09-03T16:11:47.613072Z",
     "iopub.status.busy": "2024-09-03T16:11:47.611861Z",
     "iopub.status.idle": "2024-09-03T16:11:48.362803Z",
     "shell.execute_reply": "2024-09-03T16:11:48.361614Z"
    },
    "papermill": {
     "duration": 0.807115,
     "end_time": "2024-09-03T16:11:48.365263",
     "exception": false,
     "start_time": "2024-09-03T16:11:47.558148",
     "status": "completed"
    },
    "tags": []
   },
   "outputs": [
    {
     "data": {
      "text/plain": [
       "2024-10-28 17:30:00    4.400000\n",
       "2024-10-28 17:45:00    4.452911\n",
       "2024-10-28 18:00:00    4.605113\n",
       "2024-10-28 18:15:00    4.829758\n",
       "2024-10-28 18:30:00    5.100000\n",
       "2024-10-28 18:45:00    5.388992\n",
       "2024-10-28 19:00:00    5.669887\n",
       "2024-10-28 19:15:00    5.915839\n",
       "2024-10-28 19:30:00    6.100000\n",
       "2024-10-28 19:45:00    6.203621\n",
       "Freq: 15min, dtype: float64"
      ]
     },
     "execution_count": 31,
     "metadata": {},
     "output_type": "execute_result"
    }
   ],
   "source": [
    "temp_series_freq_15min = temp_series.resample(\"15min\").interpolate(method=\"cubic\")\n",
    "temp_series_freq_15min.head(n=10)\n",
    "                                                                   "
   ]
  },
  {
   "cell_type": "code",
   "execution_count": 32,
   "id": "095c3d6e",
   "metadata": {
    "execution": {
     "iopub.execute_input": "2024-09-03T16:11:48.467507Z",
     "iopub.status.busy": "2024-09-03T16:11:48.466242Z",
     "iopub.status.idle": "2024-09-03T16:11:48.769574Z",
     "shell.execute_reply": "2024-09-03T16:11:48.768634Z"
    },
    "papermill": {
     "duration": 0.356996,
     "end_time": "2024-09-03T16:11:48.772089",
     "exception": false,
     "start_time": "2024-09-03T16:11:48.415093",
     "status": "completed"
    },
    "tags": []
   },
   "outputs": [
    {
     "data": {
      "image/png": "[encoded data removed]",
      "text/plain": [
       "<Figure size 640x480 with 1 Axes>"
      ]
     },
     "metadata": {},
     "output_type": "display_data"
    }
   ],
   "source": [
    "temp_series.plot(label=\"Period : 1 hour\")\n",
    "temp_series_freq_15min.plot(label=\"Period : 15 minutes\")\n",
    "plt.legend()\n",
    "plt.show()"
   ]
  },
  {
   "cell_type": "markdown",
   "id": "b715de5d",
   "metadata": {
    "papermill": {
     "duration": 0.051611,
     "end_time": "2024-09-03T16:11:48.873979",
     "exception": false,
     "start_time": "2024-09-03T16:11:48.822368",
     "status": "completed"
    },
    "tags": []
   },
   "source": [
    "## Timezones\n",
    "By default, datetimes are *naive*: they are not aware of timezones, so 2016-10-30 02:30 might mean October 30th 2016 at 2:30am in Paris or in New York. We can make datetimes timezone *aware* by calling the `tz_localize()` method:"
   ]
  },
  {
   "cell_type": "code",
   "execution_count": 33,
   "id": "f7489af2",
   "metadata": {
    "execution": {
     "iopub.execute_input": "2024-09-03T16:11:48.975697Z",
     "iopub.status.busy": "2024-09-03T16:11:48.975259Z",
     "iopub.status.idle": "2024-09-03T16:11:49.027658Z",
     "shell.execute_reply": "2024-09-03T16:11:49.026504Z"
    },
    "papermill": {
     "duration": 0.106416,
     "end_time": "2024-09-03T16:11:49.030210",
     "exception": false,
     "start_time": "2024-09-03T16:11:48.923794",
     "status": "completed"
    },
    "tags": []
   },
   "outputs": [
    {
     "data": {
      "text/plain": [
       "2024-10-28 17:30:00-04:00    4.4\n",
       "2024-10-28 18:30:00-04:00    5.1\n",
       "2024-10-28 19:30:00-04:00    6.1\n",
       "2024-10-28 20:30:00-04:00    6.2\n",
       "2024-10-28 21:30:00-04:00    6.1\n",
       "2024-10-28 22:30:00-04:00    6.1\n",
       "2024-10-28 23:30:00-04:00    5.7\n",
       "2024-10-29 00:30:00-04:00    5.2\n",
       "2024-10-29 01:30:00-04:00    4.7\n",
       "2024-10-29 02:30:00-04:00    4.1\n",
       "2024-10-29 03:30:00-04:00    3.9\n",
       "2024-10-29 04:30:00-04:00    3.5\n",
       "dtype: float64"
      ]
     },
     "execution_count": 33,
     "metadata": {},
     "output_type": "execute_result"
    }
   ],
   "source": [
    "temp_series_ny = temp_series.tz_localize(\"America/New_York\")\n",
    "temp_series_ny"
   ]
  },
  {
   "cell_type": "markdown",
   "id": "1e0f04d3",
   "metadata": {
    "papermill": {
     "duration": 0.049901,
     "end_time": "2024-09-03T16:11:49.131160",
     "exception": false,
     "start_time": "2024-09-03T16:11:49.081259",
     "status": "completed"
    },
    "tags": []
   },
   "source": [
    "Note that `-04:00` is now appended to all the datetimes. It means that these datetimes refer to [UTC](https://en.wikipedia.org/wiki/Coordinated_Universal_Time) - 4 hours.\n",
    "\n",
    "We can convert these datetimes to Paris time like this:"
   ]
  },
  {
   "cell_type": "code",
   "execution_count": 34,
   "id": "5b8037d4",
   "metadata": {
    "execution": {
     "iopub.execute_input": "2024-09-03T16:11:49.232953Z",
     "iopub.status.busy": "2024-09-03T16:11:49.232496Z",
     "iopub.status.idle": "2024-09-03T16:11:49.244154Z",
     "shell.execute_reply": "2024-09-03T16:11:49.243062Z"
    },
    "papermill": {
     "duration": 0.065655,
     "end_time": "2024-09-03T16:11:49.246597",
     "exception": false,
     "start_time": "2024-09-03T16:11:49.180942",
     "status": "completed"
    },
    "tags": []
   },
   "outputs": [
    {
     "data": {
      "text/plain": [
       "2024-10-28 22:30:00+01:00    4.4\n",
       "2024-10-28 23:30:00+01:00    5.1\n",
       "2024-10-29 00:30:00+01:00    6.1\n",
       "2024-10-29 01:30:00+01:00    6.2\n",
       "2024-10-29 02:30:00+01:00    6.1\n",
       "2024-10-29 03:30:00+01:00    6.1\n",
       "2024-10-29 04:30:00+01:00    5.7\n",
       "2024-10-29 05:30:00+01:00    5.2\n",
       "2024-10-29 06:30:00+01:00    4.7\n",
       "2024-10-29 07:30:00+01:00    4.1\n",
       "2024-10-29 08:30:00+01:00    3.9\n",
       "2024-10-29 09:30:00+01:00    3.5\n",
       "dtype: float64"
      ]
     },
     "execution_count": 34,
     "metadata": {},
     "output_type": "execute_result"
    }
   ],
   "source": [
    "temp_series_paris = temp_series_ny.tz_convert(\"Europe/Paris\")\n",
    "temp_series_paris"
   ]
  },
  {
   "cell_type": "markdown",
   "id": "878219f4",
   "metadata": {
    "papermill": {
     "duration": 0.049512,
     "end_time": "2024-09-03T16:11:49.346853",
     "exception": false,
     "start_time": "2024-09-03T16:11:49.297341",
     "status": "completed"
    },
    "tags": []
   },
   "source": [
    "### You may have noticed that the UTC offset changes from `+02:00` to `+01:00`: this is because France switches to winter time at 3am that particular night (time goes back to 2am). Notice that 2:30am occurs twice! Let's go back to a naive representation (if you log some data hourly using local time, without storing the timezone, you might get something like this):"
   ]
  },
  {
   "cell_type": "code",
   "execution_count": 35,
   "id": "b3d7a356",
   "metadata": {
    "execution": {
     "iopub.execute_input": "2024-09-03T16:11:49.448108Z",
     "iopub.status.busy": "2024-09-03T16:11:49.447681Z",
     "iopub.status.idle": "2024-09-03T16:11:49.456697Z",
     "shell.execute_reply": "2024-09-03T16:11:49.455550Z"
    },
    "papermill": {
     "duration": 0.062586,
     "end_time": "2024-09-03T16:11:49.459087",
     "exception": false,
     "start_time": "2024-09-03T16:11:49.396501",
     "status": "completed"
    },
    "tags": []
   },
   "outputs": [
    {
     "data": {
      "text/plain": [
       "2024-10-28 22:30:00    4.4\n",
       "2024-10-28 23:30:00    5.1\n",
       "2024-10-29 00:30:00    6.1\n",
       "2024-10-29 01:30:00    6.2\n",
       "2024-10-29 02:30:00    6.1\n",
       "2024-10-29 03:30:00    6.1\n",
       "2024-10-29 04:30:00    5.7\n",
       "2024-10-29 05:30:00    5.2\n",
       "2024-10-29 06:30:00    4.7\n",
       "2024-10-29 07:30:00    4.1\n",
       "2024-10-29 08:30:00    3.9\n",
       "2024-10-29 09:30:00    3.5\n",
       "dtype: float64"
      ]
     },
     "execution_count": 35,
     "metadata": {},
     "output_type": "execute_result"
    }
   ],
   "source": [
    "temp_series_paris_naive = temp_series_paris.tz_localize(None)\n",
    "temp_series_paris_naive"
   ]
  },
  {
   "cell_type": "markdown",
   "id": "47589b7d",
   "metadata": {
    "papermill": {
     "duration": 0.05011,
     "end_time": "2024-09-03T16:11:49.559264",
     "exception": false,
     "start_time": "2024-09-03T16:11:49.509154",
     "status": "completed"
    },
    "tags": []
   },
   "source": [
    "Now `02:30` is really ambiguous. If we try to localize these naive datetimes to the Paris timezone, we get an error:"
   ]
  },
  {
   "cell_type": "code",
   "execution_count": 36,
   "id": "0a6a7e7f",
   "metadata": {
    "execution": {
     "iopub.execute_input": "2024-09-03T16:11:49.661800Z",
     "iopub.status.busy": "2024-09-03T16:11:49.661374Z",
     "iopub.status.idle": "2024-09-03T16:11:49.667096Z",
     "shell.execute_reply": "2024-09-03T16:11:49.665939Z"
    },
    "papermill": {
     "duration": 0.059366,
     "end_time": "2024-09-03T16:11:49.669242",
     "exception": false,
     "start_time": "2024-09-03T16:11:49.609876",
     "status": "completed"
    },
    "tags": []
   },
   "outputs": [],
   "source": [
    "try :\n",
    "    temp_series_paris_naive.tz_localize(\"Europe/Paris\")\n",
    "except Exception as e:\n",
    "    print(type(e))\n",
    "    print(e)"
   ]
  },
  {
   "cell_type": "markdown",
   "id": "ee60403a",
   "metadata": {
    "papermill": {
     "duration": 0.049895,
     "end_time": "2024-09-03T16:11:49.768846",
     "exception": false,
     "start_time": "2024-09-03T16:11:49.718951",
     "status": "completed"
    },
    "tags": []
   },
   "source": [
    "Fortunately, by using the `ambiguous` argument we can tell pandas to infer the right DST (Daylight Saving Time) based on the order of the ambiguous timestamps:"
   ]
  },
  {
   "cell_type": "code",
   "execution_count": 37,
   "id": "9f4e0e68",
   "metadata": {
    "execution": {
     "iopub.execute_input": "2024-09-03T16:11:49.872647Z",
     "iopub.status.busy": "2024-09-03T16:11:49.872207Z",
     "iopub.status.idle": "2024-09-03T16:11:49.881521Z",
     "shell.execute_reply": "2024-09-03T16:11:49.880332Z"
    },
    "papermill": {
     "duration": 0.064871,
     "end_time": "2024-09-03T16:11:49.883640",
     "exception": false,
     "start_time": "2024-09-03T16:11:49.818769",
     "status": "completed"
    },
    "tags": []
   },
   "outputs": [
    {
     "data": {
      "text/plain": [
       "2024-10-28 22:30:00+01:00    4.4\n",
       "2024-10-28 23:30:00+01:00    5.1\n",
       "2024-10-29 00:30:00+01:00    6.1\n",
       "2024-10-29 01:30:00+01:00    6.2\n",
       "2024-10-29 02:30:00+01:00    6.1\n",
       "2024-10-29 03:30:00+01:00    6.1\n",
       "2024-10-29 04:30:00+01:00    5.7\n",
       "2024-10-29 05:30:00+01:00    5.2\n",
       "2024-10-29 06:30:00+01:00    4.7\n",
       "2024-10-29 07:30:00+01:00    4.1\n",
       "2024-10-29 08:30:00+01:00    3.9\n",
       "2024-10-29 09:30:00+01:00    3.5\n",
       "dtype: float64"
      ]
     },
     "execution_count": 37,
     "metadata": {},
     "output_type": "execute_result"
    }
   ],
   "source": [
    "temp_series_paris_naive.tz_localize(\"Europe/Paris\", ambiguous=\"infer\")"
   ]
  },
  {
   "cell_type": "markdown",
   "id": "4fc58ba2",
   "metadata": {
    "papermill": {
     "duration": 0.050419,
     "end_time": "2024-09-03T16:11:49.984316",
     "exception": false,
     "start_time": "2024-09-03T16:11:49.933897",
     "status": "completed"
    },
    "tags": []
   },
   "source": [
    "## Periods\n",
    "The `pd.period_range()` function returns a `PeriodIndex` instead of a `DatetimeIndex`. For example, let's get all quarters in 2016 and 2017:"
   ]
  },
  {
   "cell_type": "code",
   "execution_count": 38,
   "id": "e5293c56",
   "metadata": {
    "execution": {
     "iopub.execute_input": "2024-09-03T16:11:50.088494Z",
     "iopub.status.busy": "2024-09-03T16:11:50.088079Z",
     "iopub.status.idle": "2024-09-03T16:11:50.096064Z",
     "shell.execute_reply": "2024-09-03T16:11:50.094932Z"
    },
    "papermill": {
     "duration": 0.063095,
     "end_time": "2024-09-03T16:11:50.098396",
     "exception": false,
     "start_time": "2024-09-03T16:11:50.035301",
     "status": "completed"
    },
    "tags": []
   },
   "outputs": [
    {
     "data": {
      "text/plain": [
       "PeriodIndex(['2024Q1', '2024Q2', '2024Q3', '2024Q4', '2025Q1', '2025Q2',\n",
       "             '2025Q3', '2025Q4'],\n",
       "            dtype='period[Q-DEC]')"
      ]
     },
     "execution_count": 38,
     "metadata": {},
     "output_type": "execute_result"
    }
   ],
   "source": [
    "quarters = pd.period_range('2024Q1', periods=8, freq='Q')\n",
    "quarters"
   ]
  },
  {
   "cell_type": "markdown",
   "id": "b71218a7",
   "metadata": {
    "papermill": {
     "duration": 0.054231,
     "end_time": "2024-09-03T16:11:50.204470",
     "exception": false,
     "start_time": "2024-09-03T16:11:50.150239",
     "status": "completed"
    },
    "tags": []
   },
   "source": [
    "Adding a number `N` to a `PeriodIndex` shifts the periods by `N` times the `PeriodIndex`'s frequency:"
   ]
  },
  {
   "cell_type": "code",
   "execution_count": 39,
   "id": "085fb947",
   "metadata": {
    "execution": {
     "iopub.execute_input": "2024-09-03T16:11:50.309231Z",
     "iopub.status.busy": "2024-09-03T16:11:50.308437Z",
     "iopub.status.idle": "2024-09-03T16:11:50.316098Z",
     "shell.execute_reply": "2024-09-03T16:11:50.314969Z"
    },
    "papermill": {
     "duration": 0.061683,
     "end_time": "2024-09-03T16:11:50.318332",
     "exception": false,
     "start_time": "2024-09-03T16:11:50.256649",
     "status": "completed"
    },
    "tags": []
   },
   "outputs": [
    {
     "data": {
      "text/plain": [
       "PeriodIndex(['2024Q4', '2025Q1', '2025Q2', '2025Q3', '2025Q4', '2026Q1',\n",
       "             '2026Q2', '2026Q3'],\n",
       "            dtype='period[Q-DEC]')"
      ]
     },
     "execution_count": 39,
     "metadata": {},
     "output_type": "execute_result"
    }
   ],
   "source": [
    "quarters + 3"
   ]
  },
  {
   "cell_type": "markdown",
   "id": "6ad9d241",
   "metadata": {
    "papermill": {
     "duration": 0.053762,
     "end_time": "2024-09-03T16:11:50.423389",
     "exception": false,
     "start_time": "2024-09-03T16:11:50.369627",
     "status": "completed"
    },
    "tags": []
   },
   "source": [
    "The `asfreq()` method lets us change the frequency of the `PeriodIndex`. All periods are lengthened or shortened accordingly. For example, let's convert all the quarterly periods to monthly periods (zooming in):"
   ]
  },
  {
   "cell_type": "code",
   "execution_count": 40,
   "id": "19817adf",
   "metadata": {
    "execution": {
     "iopub.execute_input": "2024-09-03T16:11:50.525772Z",
     "iopub.status.busy": "2024-09-03T16:11:50.525328Z",
     "iopub.status.idle": "2024-09-03T16:11:50.532911Z",
     "shell.execute_reply": "2024-09-03T16:11:50.531941Z"
    },
    "papermill": {
     "duration": 0.061083,
     "end_time": "2024-09-03T16:11:50.534981",
     "exception": false,
     "start_time": "2024-09-03T16:11:50.473898",
     "status": "completed"
    },
    "tags": []
   },
   "outputs": [
    {
     "data": {
      "text/plain": [
       "PeriodIndex(['2024-03', '2024-06', '2024-09', '2024-12', '2025-03', '2025-06',\n",
       "             '2025-09', '2025-12'],\n",
       "            dtype='period[M]')"
      ]
     },
     "execution_count": 40,
     "metadata": {},
     "output_type": "execute_result"
    }
   ],
   "source": [
    "quarters.asfreq(\"M\")"
   ]
  },
  {
   "cell_type": "markdown",
   "id": "6ba6a982",
   "metadata": {
    "papermill": {
     "duration": 0.050536,
     "end_time": "2024-09-03T16:11:50.636277",
     "exception": false,
     "start_time": "2024-09-03T16:11:50.585741",
     "status": "completed"
    },
    "tags": []
   },
   "source": [
    "By default, the `asfreq` zooms on the end of each period. We can tell it to zoom on the start of each period instead:"
   ]
  },
  {
   "cell_type": "code",
   "execution_count": 41,
   "id": "206cfc82",
   "metadata": {
    "execution": {
     "iopub.execute_input": "2024-09-03T16:11:50.739227Z",
     "iopub.status.busy": "2024-09-03T16:11:50.738812Z",
     "iopub.status.idle": "2024-09-03T16:11:50.746129Z",
     "shell.execute_reply": "2024-09-03T16:11:50.745164Z"
    },
    "papermill": {
     "duration": 0.060969,
     "end_time": "2024-09-03T16:11:50.748303",
     "exception": false,
     "start_time": "2024-09-03T16:11:50.687334",
     "status": "completed"
    },
    "tags": []
   },
   "outputs": [
    {
     "data": {
      "text/plain": [
       "PeriodIndex(['2024-01', '2024-04', '2024-07', '2024-10', '2025-01', '2025-04',\n",
       "             '2025-07', '2025-10'],\n",
       "            dtype='period[M]')"
      ]
     },
     "execution_count": 41,
     "metadata": {},
     "output_type": "execute_result"
    }
   ],
   "source": [
    "quarters.asfreq(\"M\", how=\"start\")"
   ]
  },
  {
   "cell_type": "markdown",
   "id": "3fa2f81d",
   "metadata": {
    "papermill": {
     "duration": 0.05271,
     "end_time": "2024-09-03T16:11:50.852840",
     "exception": false,
     "start_time": "2024-09-03T16:11:50.800130",
     "status": "completed"
    },
    "tags": []
   },
   "source": [
    "And we can zoom out:"
   ]
  },
  {
   "cell_type": "code",
   "execution_count": 42,
   "id": "2de90908",
   "metadata": {
    "execution": {
     "iopub.execute_input": "2024-09-03T16:11:50.956553Z",
     "iopub.status.busy": "2024-09-03T16:11:50.956116Z",
     "iopub.status.idle": "2024-09-03T16:11:50.963730Z",
     "shell.execute_reply": "2024-09-03T16:11:50.962781Z"
    },
    "papermill": {
     "duration": 0.061815,
     "end_time": "2024-09-03T16:11:50.965801",
     "exception": false,
     "start_time": "2024-09-03T16:11:50.903986",
     "status": "completed"
    },
    "tags": []
   },
   "outputs": [
    {
     "data": {
      "text/plain": [
       "PeriodIndex(['2024', '2024', '2024', '2024', '2025', '2025', '2025', '2025'], dtype='period[Y-DEC]')"
      ]
     },
     "execution_count": 42,
     "metadata": {},
     "output_type": "execute_result"
    }
   ],
   "source": [
    "quarters.asfreq('Y')"
   ]
  },
  {
   "cell_type": "markdown",
   "id": "5986f896",
   "metadata": {
    "papermill": {
     "duration": 0.05047,
     "end_time": "2024-09-03T16:11:51.068373",
     "exception": false,
     "start_time": "2024-09-03T16:11:51.017903",
     "status": "completed"
    },
    "tags": []
   },
   "source": [
    "### Of course, we can create a `Series` with a `PeriodIndex`:"
   ]
  },
  {
   "cell_type": "code",
   "execution_count": 43,
   "id": "44fa44da",
   "metadata": {
    "execution": {
     "iopub.execute_input": "2024-09-03T16:11:51.174330Z",
     "iopub.status.busy": "2024-09-03T16:11:51.173902Z",
     "iopub.status.idle": "2024-09-03T16:11:51.182852Z",
     "shell.execute_reply": "2024-09-03T16:11:51.181765Z"
    },
    "papermill": {
     "duration": 0.06528,
     "end_time": "2024-09-03T16:11:51.184999",
     "exception": false,
     "start_time": "2024-09-03T16:11:51.119719",
     "status": "completed"
    },
    "tags": []
   },
   "outputs": [
    {
     "data": {
      "text/plain": [
       "2024Q1    300\n",
       "2024Q2    320\n",
       "2024Q3    290\n",
       "2024Q4    390\n",
       "2025Q1    320\n",
       "2025Q2    360\n",
       "2025Q3    310\n",
       "2025Q4    410\n",
       "Freq: Q-DEC, dtype: int64"
      ]
     },
     "execution_count": 43,
     "metadata": {},
     "output_type": "execute_result"
    }
   ],
   "source": [
    "quarterly_revenue = pd.Series([300, 320, 290, 390, 320, 360, 310, 410], index=quarters)\n",
    "quarterly_revenue"
   ]
  },
  {
   "cell_type": "code",
   "execution_count": 44,
   "id": "3104a8bb",
   "metadata": {
    "execution": {
     "iopub.execute_input": "2024-09-03T16:11:51.291549Z",
     "iopub.status.busy": "2024-09-03T16:11:51.290395Z",
     "iopub.status.idle": "2024-09-03T16:11:51.474636Z",
     "shell.execute_reply": "2024-09-03T16:11:51.473448Z"
    },
    "papermill": {
     "duration": 0.239692,
     "end_time": "2024-09-03T16:11:51.476942",
     "exception": false,
     "start_time": "2024-09-03T16:11:51.237250",
     "status": "completed"
    },
    "tags": []
   },
   "outputs": [
    {
     "data": {
      "image/png": "[encoded data removed]",
      "text/plain": [
       "<Figure size 640x480 with 1 Axes>"
      ]
     },
     "metadata": {},
     "output_type": "display_data"
    }
   ],
   "source": [
    "quarterly_revenue.plot(kind=\"line\")\n",
    "plt.show()"
   ]
  },
  {
   "cell_type": "markdown",
   "id": "8de55867",
   "metadata": {
    "papermill": {
     "duration": 0.051826,
     "end_time": "2024-09-03T16:11:51.581246",
     "exception": false,
     "start_time": "2024-09-03T16:11:51.529420",
     "status": "completed"
    },
    "tags": []
   },
   "source": [
    "We can convert periods to timestamps by calling `to_timestamp`. By default, it will give us the first day of each period, but by setting `how` and `freq`, we can get the last hour of each period:"
   ]
  },
  {
   "cell_type": "code",
   "execution_count": 45,
   "id": "ee5afd62",
   "metadata": {
    "execution": {
     "iopub.execute_input": "2024-09-03T16:11:51.685625Z",
     "iopub.status.busy": "2024-09-03T16:11:51.685189Z",
     "iopub.status.idle": "2024-09-03T16:11:51.695214Z",
     "shell.execute_reply": "2024-09-03T16:11:51.694221Z"
    },
    "papermill": {
     "duration": 0.065088,
     "end_time": "2024-09-03T16:11:51.697577",
     "exception": false,
     "start_time": "2024-09-03T16:11:51.632489",
     "status": "completed"
    },
    "tags": []
   },
   "outputs": [
    {
     "data": {
      "text/plain": [
       "2024-03-31 23:59:59.999999999    300\n",
       "2024-06-30 23:59:59.999999999    320\n",
       "2024-09-30 23:59:59.999999999    290\n",
       "2024-12-31 23:59:59.999999999    390\n",
       "2025-03-31 23:59:59.999999999    320\n",
       "2025-06-30 23:59:59.999999999    360\n",
       "2025-09-30 23:59:59.999999999    310\n",
       "2025-12-31 23:59:59.999999999    410\n",
       "dtype: int64"
      ]
     },
     "execution_count": 45,
     "metadata": {},
     "output_type": "execute_result"
    }
   ],
   "source": [
    "last_hours = quarterly_revenue.to_timestamp(how=\"end\", freq=\"h\")\n",
    "last_hours"
   ]
  },
  {
   "cell_type": "code",
   "execution_count": 46,
   "id": "3abec08b",
   "metadata": {
    "execution": {
     "iopub.execute_input": "2024-09-03T16:11:51.802607Z",
     "iopub.status.busy": "2024-09-03T16:11:51.802177Z",
     "iopub.status.idle": "2024-09-03T16:11:51.811160Z",
     "shell.execute_reply": "2024-09-03T16:11:51.810111Z"
    },
    "papermill": {
     "duration": 0.064071,
     "end_time": "2024-09-03T16:11:51.813390",
     "exception": false,
     "start_time": "2024-09-03T16:11:51.749319",
     "status": "completed"
    },
    "tags": []
   },
   "outputs": [
    {
     "data": {
      "text/plain": [
       "2024Q1    300\n",
       "2024Q2    320\n",
       "2024Q3    290\n",
       "2024Q4    390\n",
       "2025Q1    320\n",
       "2025Q2    360\n",
       "2025Q3    310\n",
       "2025Q4    410\n",
       "Freq: Q-DEC, dtype: int64"
      ]
     },
     "execution_count": 46,
     "metadata": {},
     "output_type": "execute_result"
    }
   ],
   "source": [
    "last_hours.to_period()"
   ]
  },
  {
   "cell_type": "markdown",
   "id": "fe14da66",
   "metadata": {
    "papermill": {
     "duration": 0.054088,
     "end_time": "2024-09-03T16:11:51.921683",
     "exception": false,
     "start_time": "2024-09-03T16:11:51.867595",
     "status": "completed"
    },
    "tags": []
   },
   "source": [
    "Pandas also provides many other time-related functions that we recommend you check out in the [documentation](https://pandas.pydata.org/pandas-docs/stable/user_guide/timeseries.html). To whet your appetite, here is one way to get the last business day of each month in 2016, at 9am:"
   ]
  },
  {
   "cell_type": "code",
   "execution_count": 47,
   "id": "6f966d18",
   "metadata": {
    "execution": {
     "iopub.execute_input": "2024-09-03T16:11:52.028606Z",
     "iopub.status.busy": "2024-09-03T16:11:52.028170Z",
     "iopub.status.idle": "2024-09-03T16:11:52.039231Z",
     "shell.execute_reply": "2024-09-03T16:11:52.038191Z"
    },
    "papermill": {
     "duration": 0.06797,
     "end_time": "2024-09-03T16:11:52.041447",
     "exception": false,
     "start_time": "2024-09-03T16:11:51.973477",
     "status": "completed"
    },
    "tags": []
   },
   "outputs": [
    {
     "data": {
      "text/plain": [
       "PeriodIndex(['2016-01-29 09:00', '2016-02-29 09:00', '2016-03-31 09:00',\n",
       "             '2016-04-29 09:00', '2016-05-31 09:00', '2016-06-30 09:00',\n",
       "             '2016-07-29 09:00', '2016-08-31 09:00', '2016-09-30 09:00',\n",
       "             '2016-10-31 09:00', '2016-11-30 09:00', '2016-12-30 09:00'],\n",
       "            dtype='period[h]')"
      ]
     },
     "execution_count": 47,
     "metadata": {},
     "output_type": "execute_result"
    }
   ],
   "source": [
    "months_2016 = pd.period_range(\"2016\", periods=12, freq=\"M\")\n",
    "one_day_after_last_days = months_2016.asfreq(\"D\") + 1\n",
    "last_bdays = one_day_after_last_days.to_timestamp() - pd.tseries.offsets.BDay()\n",
    "last_bdays.to_period(\"h\") + 9"
   ]
  },
  {
   "cell_type": "markdown",
   "id": "5af5da51",
   "metadata": {
    "papermill": {
     "duration": 0.051901,
     "end_time": "2024-09-03T16:11:52.145915",
     "exception": false,
     "start_time": "2024-09-03T16:11:52.094014",
     "status": "completed"
    },
    "tags": []
   },
   "source": [
    "# `DataFrame` objects\n",
    "A DataFrame object represents a spreadsheet, with cell values, column names and row index labels. You can define expressions to compute columns based on other columns, create pivot-tables, group rows, draw graphs, etc. You can see `DataFrame`s as dictionaries of `Series`.\n",
    "\n",
    "## Creating a `DataFrame`\n",
    "You can create a DataFrame by passing a dictionary of `Series` objects:"
   ]
  },
  {
   "cell_type": "code",
   "execution_count": 48,
   "id": "8649c728",
   "metadata": {
    "execution": {
     "iopub.execute_input": "2024-09-03T16:11:52.251667Z",
     "iopub.status.busy": "2024-09-03T16:11:52.251180Z",
     "iopub.status.idle": "2024-09-03T16:11:52.276300Z",
     "shell.execute_reply": "2024-09-03T16:11:52.275103Z"
    },
    "papermill": {
     "duration": 0.08064,
     "end_time": "2024-09-03T16:11:52.278529",
     "exception": false,
     "start_time": "2024-09-03T16:11:52.197889",
     "status": "completed"
    },
    "tags": []
   },
   "outputs": [
    {
     "data": {
      "text/html": [
       "<div>\n",
       "<style scoped>\n",
       "    .dataframe tbody tr th:only-of-type {\n",
       "        vertical-align: middle;\n",
       "    }\n",
       "\n",
       "    .dataframe tbody tr th {\n",
       "        vertical-align: top;\n",
       "    }\n",
       "\n",
       "    .dataframe thead th {\n",
       "        text-align: right;\n",
       "    }\n",
       "</style>\n",
       "<table border=\"1\" class=\"dataframe\">\n",
       "  <thead>\n",
       "    <tr style=\"text-align: right;\">\n",
       "      <th></th>\n",
       "      <th>weight</th>\n",
       "      <th>birthyear</th>\n",
       "      <th>children</th>\n",
       "      <th>hobby</th>\n",
       "    </tr>\n",
       "  </thead>\n",
       "  <tbody>\n",
       "    <tr>\n",
       "      <th>alice</th>\n",
       "      <td>68</td>\n",
       "      <td>1985</td>\n",
       "      <td>NaN</td>\n",
       "      <td>Biking</td>\n",
       "    </tr>\n",
       "    <tr>\n",
       "      <th>bob</th>\n",
       "      <td>83</td>\n",
       "      <td>1984</td>\n",
       "      <td>3.0</td>\n",
       "      <td>Dancing</td>\n",
       "    </tr>\n",
       "    <tr>\n",
       "      <th>charles</th>\n",
       "      <td>112</td>\n",
       "      <td>1992</td>\n",
       "      <td>0.0</td>\n",
       "      <td>NaN</td>\n",
       "    </tr>\n",
       "  </tbody>\n",
       "</table>\n",
       "</div>"
      ],
      "text/plain": [
       "         weight  birthyear  children    hobby\n",
       "alice        68       1985       NaN   Biking\n",
       "bob          83       1984       3.0  Dancing\n",
       "charles     112       1992       0.0      NaN"
      ]
     },
     "execution_count": 48,
     "metadata": {},
     "output_type": "execute_result"
    }
   ],
   "source": [
    "people_dict = {\n",
    "    \"weight\" : pd.Series([68,83,112], index=[\"alice\", \"bob\", \"charles\"]),\n",
    "    \"birthyear\" : pd.Series([1984,1985,1992], index = [\"bob\",\"alice\",\"charles\" ], name=\"year\"),\n",
    "    \"children\" : pd.Series([0,3], index=[\"charles\", \"bob\"]),\n",
    "    \"hobby\" : pd.Series([\"Biking\",\"Dancing\"], index=[\"alice\",\"bob\"]),\n",
    "}\n",
    "\n",
    "people = pd.DataFrame(people_dict)\n",
    "people"
   ]
  },
  {
   "cell_type": "markdown",
   "id": "f58d7b2b",
   "metadata": {
    "papermill": {
     "duration": 0.052051,
     "end_time": "2024-09-03T16:11:52.383845",
     "exception": false,
     "start_time": "2024-09-03T16:11:52.331794",
     "status": "completed"
    },
    "tags": []
   },
   "source": [
    "A few things to note:\n",
    "* the `Series` were automatically aligned based on their index,\n",
    "* missing values are represented as `NaN`,\n",
    "* `Series` names are ignored (the name `\"year\"` was dropped),\n",
    "* `DataFrame`s are displayed nicely in Jupyter notebooks, woohoo!"
   ]
  },
  {
   "cell_type": "code",
   "execution_count": 49,
   "id": "f7216232",
   "metadata": {
    "execution": {
     "iopub.execute_input": "2024-09-03T16:11:52.491233Z",
     "iopub.status.busy": "2024-09-03T16:11:52.490798Z",
     "iopub.status.idle": "2024-09-03T16:11:52.498991Z",
     "shell.execute_reply": "2024-09-03T16:11:52.497869Z"
    },
    "papermill": {
     "duration": 0.064182,
     "end_time": "2024-09-03T16:11:52.501231",
     "exception": false,
     "start_time": "2024-09-03T16:11:52.437049",
     "status": "completed"
    },
    "tags": []
   },
   "outputs": [
    {
     "data": {
      "text/plain": [
       "alice      1985\n",
       "bob        1984\n",
       "charles    1992\n",
       "Name: birthyear, dtype: int64"
      ]
     },
     "execution_count": 49,
     "metadata": {},
     "output_type": "execute_result"
    }
   ],
   "source": [
    "people[\"birthyear\"]"
   ]
  },
  {
   "cell_type": "code",
   "execution_count": 50,
   "id": "a4c2cd3e",
   "metadata": {
    "execution": {
     "iopub.execute_input": "2024-09-03T16:11:52.608429Z",
     "iopub.status.busy": "2024-09-03T16:11:52.608010Z",
     "iopub.status.idle": "2024-09-03T16:11:52.619907Z",
     "shell.execute_reply": "2024-09-03T16:11:52.618574Z"
    },
    "papermill": {
     "duration": 0.068048,
     "end_time": "2024-09-03T16:11:52.622181",
     "exception": false,
     "start_time": "2024-09-03T16:11:52.554133",
     "status": "completed"
    },
    "tags": []
   },
   "outputs": [
    {
     "data": {
      "text/html": [
       "<div>\n",
       "<style scoped>\n",
       "    .dataframe tbody tr th:only-of-type {\n",
       "        vertical-align: middle;\n",
       "    }\n",
       "\n",
       "    .dataframe tbody tr th {\n",
       "        vertical-align: top;\n",
       "    }\n",
       "\n",
       "    .dataframe thead th {\n",
       "        text-align: right;\n",
       "    }\n",
       "</style>\n",
       "<table border=\"1\" class=\"dataframe\">\n",
       "  <thead>\n",
       "    <tr style=\"text-align: right;\">\n",
       "      <th></th>\n",
       "      <th>birthyear</th>\n",
       "      <th>hobby</th>\n",
       "    </tr>\n",
       "  </thead>\n",
       "  <tbody>\n",
       "    <tr>\n",
       "      <th>alice</th>\n",
       "      <td>1985</td>\n",
       "      <td>Biking</td>\n",
       "    </tr>\n",
       "    <tr>\n",
       "      <th>bob</th>\n",
       "      <td>1984</td>\n",
       "      <td>Dancing</td>\n",
       "    </tr>\n",
       "    <tr>\n",
       "      <th>charles</th>\n",
       "      <td>1992</td>\n",
       "      <td>NaN</td>\n",
       "    </tr>\n",
       "  </tbody>\n",
       "</table>\n",
       "</div>"
      ],
      "text/plain": [
       "         birthyear    hobby\n",
       "alice         1985   Biking\n",
       "bob           1984  Dancing\n",
       "charles       1992      NaN"
      ]
     },
     "execution_count": 50,
     "metadata": {},
     "output_type": "execute_result"
    }
   ],
   "source": [
    "people[[\"birthyear\", \"hobby\"]]"
   ]
  },
  {
   "cell_type": "markdown",
   "id": "6b766b23",
   "metadata": {
    "papermill": {
     "duration": 0.052838,
     "end_time": "2024-09-03T16:11:52.727346",
     "exception": false,
     "start_time": "2024-09-03T16:11:52.674508",
     "status": "completed"
    },
    "tags": []
   },
   "source": [
    "If you pass a list of columns and/or index row labels to the `DataFrame` constructor, it will guarantee that these columns and/or rows will exist, in that order, and no other column/row will exist. For example:"
   ]
  },
  {
   "cell_type": "code",
   "execution_count": 51,
   "id": "7f8de7de",
   "metadata": {
    "execution": {
     "iopub.execute_input": "2024-09-03T16:11:52.833664Z",
     "iopub.status.busy": "2024-09-03T16:11:52.833216Z",
     "iopub.status.idle": "2024-09-03T16:11:52.848405Z",
     "shell.execute_reply": "2024-09-03T16:11:52.846720Z"
    },
    "papermill": {
     "duration": 0.071094,
     "end_time": "2024-09-03T16:11:52.850788",
     "exception": false,
     "start_time": "2024-09-03T16:11:52.779694",
     "status": "completed"
    },
    "tags": []
   },
   "outputs": [
    {
     "data": {
      "text/html": [
       "<div>\n",
       "<style scoped>\n",
       "    .dataframe tbody tr th:only-of-type {\n",
       "        vertical-align: middle;\n",
       "    }\n",
       "\n",
       "    .dataframe tbody tr th {\n",
       "        vertical-align: top;\n",
       "    }\n",
       "\n",
       "    .dataframe thead th {\n",
       "        text-align: right;\n",
       "    }\n",
       "</style>\n",
       "<table border=\"1\" class=\"dataframe\">\n",
       "  <thead>\n",
       "    <tr style=\"text-align: right;\">\n",
       "      <th></th>\n",
       "      <th>birthyear</th>\n",
       "      <th>weight</th>\n",
       "      <th>height</th>\n",
       "    </tr>\n",
       "  </thead>\n",
       "  <tbody>\n",
       "    <tr>\n",
       "      <th>bob</th>\n",
       "      <td>1984.0</td>\n",
       "      <td>83.0</td>\n",
       "      <td>NaN</td>\n",
       "    </tr>\n",
       "    <tr>\n",
       "      <th>alice</th>\n",
       "      <td>1985.0</td>\n",
       "      <td>68.0</td>\n",
       "      <td>NaN</td>\n",
       "    </tr>\n",
       "    <tr>\n",
       "      <th>eugene</th>\n",
       "      <td>NaN</td>\n",
       "      <td>NaN</td>\n",
       "      <td>NaN</td>\n",
       "    </tr>\n",
       "  </tbody>\n",
       "</table>\n",
       "</div>"
      ],
      "text/plain": [
       "        birthyear  weight height\n",
       "bob        1984.0    83.0    NaN\n",
       "alice      1985.0    68.0    NaN\n",
       "eugene        NaN     NaN    NaN"
      ]
     },
     "execution_count": 51,
     "metadata": {},
     "output_type": "execute_result"
    }
   ],
   "source": [
    "d2 = pd.DataFrame(\n",
    "    people_dict, \n",
    "    columns = [\"birthyear\", \"weight\", \"height\"],\n",
    "    index = [\"bob\", \"alice\", \"eugene\"]\n",
    ")\n",
    "d2"
   ]
  },
  {
   "cell_type": "markdown",
   "id": "08d676cb",
   "metadata": {
    "papermill": {
     "duration": 0.052911,
     "end_time": "2024-09-03T16:11:52.956897",
     "exception": false,
     "start_time": "2024-09-03T16:11:52.903986",
     "status": "completed"
    },
    "tags": []
   },
   "source": [
    "Another convenient way to create a `DataFrame` is to pass all the values to the constructor as an `ndarray`, or a list of lists, and specify the column names and row index labels separately:"
   ]
  },
  {
   "cell_type": "code",
   "execution_count": 52,
   "id": "8f02fe24",
   "metadata": {
    "execution": {
     "iopub.execute_input": "2024-09-03T16:11:53.065070Z",
     "iopub.status.busy": "2024-09-03T16:11:53.064620Z",
     "iopub.status.idle": "2024-09-03T16:11:53.078592Z",
     "shell.execute_reply": "2024-09-03T16:11:53.077597Z"
    },
    "papermill": {
     "duration": 0.071479,
     "end_time": "2024-09-03T16:11:53.080828",
     "exception": false,
     "start_time": "2024-09-03T16:11:53.009349",
     "status": "completed"
    },
    "tags": []
   },
   "outputs": [
    {
     "data": {
      "text/html": [
       "<div>\n",
       "<style scoped>\n",
       "    .dataframe tbody tr th:only-of-type {\n",
       "        vertical-align: middle;\n",
       "    }\n",
       "\n",
       "    .dataframe tbody tr th {\n",
       "        vertical-align: top;\n",
       "    }\n",
       "\n",
       "    .dataframe thead th {\n",
       "        text-align: right;\n",
       "    }\n",
       "</style>\n",
       "<table border=\"1\" class=\"dataframe\">\n",
       "  <thead>\n",
       "    <tr style=\"text-align: right;\">\n",
       "      <th></th>\n",
       "      <th>birthyear</th>\n",
       "      <th>children</th>\n",
       "      <th>hobby</th>\n",
       "      <th>weight</th>\n",
       "    </tr>\n",
       "  </thead>\n",
       "  <tbody>\n",
       "    <tr>\n",
       "      <th>alice</th>\n",
       "      <td>1985</td>\n",
       "      <td>NaN</td>\n",
       "      <td>Biking</td>\n",
       "      <td>68</td>\n",
       "    </tr>\n",
       "    <tr>\n",
       "      <th>bob</th>\n",
       "      <td>1984</td>\n",
       "      <td>3.0</td>\n",
       "      <td>Dancing</td>\n",
       "      <td>83</td>\n",
       "    </tr>\n",
       "    <tr>\n",
       "      <th>charles</th>\n",
       "      <td>1992</td>\n",
       "      <td>0.0</td>\n",
       "      <td>NaN</td>\n",
       "      <td>112</td>\n",
       "    </tr>\n",
       "  </tbody>\n",
       "</table>\n",
       "</div>"
      ],
      "text/plain": [
       "         birthyear  children    hobby  weight\n",
       "alice         1985       NaN   Biking      68\n",
       "bob           1984       3.0  Dancing      83\n",
       "charles       1992       0.0      NaN     112"
      ]
     },
     "execution_count": 52,
     "metadata": {},
     "output_type": "execute_result"
    }
   ],
   "source": [
    "values = [\n",
    "    [1985, np.nan, \"Biking\", 68],\n",
    "    [1984, 3, \"Dancing\", 83],\n",
    "    [1992, 0, np.nan, 112]\n",
    "]\n",
    "\n",
    "d3 = pd.DataFrame(\n",
    "    values, \n",
    "    columns = [\"birthyear\", \"children\",\"hobby\", \"weight\"],\n",
    "    index = [\"alice\", \"bob\", \"charles\"]\n",
    ")\n",
    "d3"
   ]
  },
  {
   "cell_type": "markdown",
   "id": "33aee996",
   "metadata": {
    "papermill": {
     "duration": 0.053271,
     "end_time": "2024-09-03T16:11:53.186524",
     "exception": false,
     "start_time": "2024-09-03T16:11:53.133253",
     "status": "completed"
    },
    "tags": []
   },
   "source": [
    "To specify missing values, you can use either np.nan or NumPy's masked arrays:\n",
    "\n",
    "\n"
   ]
  },
  {
   "cell_type": "code",
   "execution_count": 53,
   "id": "4fe27005",
   "metadata": {
    "execution": {
     "iopub.execute_input": "2024-09-03T16:11:53.294719Z",
     "iopub.status.busy": "2024-09-03T16:11:53.293644Z",
     "iopub.status.idle": "2024-09-03T16:11:53.308794Z",
     "shell.execute_reply": "2024-09-03T16:11:53.307783Z"
    },
    "papermill": {
     "duration": 0.071861,
     "end_time": "2024-09-03T16:11:53.310934",
     "exception": false,
     "start_time": "2024-09-03T16:11:53.239073",
     "status": "completed"
    },
    "tags": []
   },
   "outputs": [
    {
     "data": {
      "text/html": [
       "<div>\n",
       "<style scoped>\n",
       "    .dataframe tbody tr th:only-of-type {\n",
       "        vertical-align: middle;\n",
       "    }\n",
       "\n",
       "    .dataframe tbody tr th {\n",
       "        vertical-align: top;\n",
       "    }\n",
       "\n",
       "    .dataframe thead th {\n",
       "        text-align: right;\n",
       "    }\n",
       "</style>\n",
       "<table border=\"1\" class=\"dataframe\">\n",
       "  <thead>\n",
       "    <tr style=\"text-align: right;\">\n",
       "      <th></th>\n",
       "      <th>birthyear</th>\n",
       "      <th>children</th>\n",
       "      <th>hobby</th>\n",
       "      <th>weight</th>\n",
       "    </tr>\n",
       "  </thead>\n",
       "  <tbody>\n",
       "    <tr>\n",
       "      <th>alice</th>\n",
       "      <td>1985</td>\n",
       "      <td>NaN</td>\n",
       "      <td>Biking</td>\n",
       "      <td>68</td>\n",
       "    </tr>\n",
       "    <tr>\n",
       "      <th>bob</th>\n",
       "      <td>1984</td>\n",
       "      <td>3</td>\n",
       "      <td>Dancing</td>\n",
       "      <td>83</td>\n",
       "    </tr>\n",
       "    <tr>\n",
       "      <th>charles</th>\n",
       "      <td>1992</td>\n",
       "      <td>0</td>\n",
       "      <td>NaN</td>\n",
       "      <td>112</td>\n",
       "    </tr>\n",
       "  </tbody>\n",
       "</table>\n",
       "</div>"
      ],
      "text/plain": [
       "        birthyear children    hobby weight\n",
       "alice        1985      NaN   Biking     68\n",
       "bob          1984        3  Dancing     83\n",
       "charles      1992        0      NaN    112"
      ]
     },
     "execution_count": 53,
     "metadata": {},
     "output_type": "execute_result"
    }
   ],
   "source": [
    "masked_array = np.ma.asarray(values, dtype=object)\n",
    "masked_array[(0, 2), (1, 2)] = np.ma.masked\n",
    "d3 = pd.DataFrame(\n",
    "        masked_array,\n",
    "        columns=[\"birthyear\", \"children\", \"hobby\", \"weight\"],\n",
    "        index=[\"alice\", \"bob\", \"charles\"]\n",
    "     )\n",
    "d3"
   ]
  },
  {
   "cell_type": "markdown",
   "id": "b600bb21",
   "metadata": {
    "papermill": {
     "duration": 0.055041,
     "end_time": "2024-09-03T16:11:53.419205",
     "exception": false,
     "start_time": "2024-09-03T16:11:53.364164",
     "status": "completed"
    },
    "tags": []
   },
   "source": [
    "Instead of an `ndarray`, you can also pass a `DataFrame` object:"
   ]
  },
  {
   "cell_type": "code",
   "execution_count": 54,
   "id": "092dea4f",
   "metadata": {
    "execution": {
     "iopub.execute_input": "2024-09-03T16:11:53.527886Z",
     "iopub.status.busy": "2024-09-03T16:11:53.526863Z",
     "iopub.status.idle": "2024-09-03T16:11:53.539814Z",
     "shell.execute_reply": "2024-09-03T16:11:53.538717Z"
    },
    "papermill": {
     "duration": 0.069694,
     "end_time": "2024-09-03T16:11:53.542109",
     "exception": false,
     "start_time": "2024-09-03T16:11:53.472415",
     "status": "completed"
    },
    "tags": []
   },
   "outputs": [
    {
     "data": {
      "text/html": [
       "<div>\n",
       "<style scoped>\n",
       "    .dataframe tbody tr th:only-of-type {\n",
       "        vertical-align: middle;\n",
       "    }\n",
       "\n",
       "    .dataframe tbody tr th {\n",
       "        vertical-align: top;\n",
       "    }\n",
       "\n",
       "    .dataframe thead th {\n",
       "        text-align: right;\n",
       "    }\n",
       "</style>\n",
       "<table border=\"1\" class=\"dataframe\">\n",
       "  <thead>\n",
       "    <tr style=\"text-align: right;\">\n",
       "      <th></th>\n",
       "      <th>hobby</th>\n",
       "      <th>children</th>\n",
       "    </tr>\n",
       "  </thead>\n",
       "  <tbody>\n",
       "    <tr>\n",
       "      <th>alice</th>\n",
       "      <td>Biking</td>\n",
       "      <td>NaN</td>\n",
       "    </tr>\n",
       "    <tr>\n",
       "      <th>bob</th>\n",
       "      <td>Dancing</td>\n",
       "      <td>3</td>\n",
       "    </tr>\n",
       "  </tbody>\n",
       "</table>\n",
       "</div>"
      ],
      "text/plain": [
       "         hobby children\n",
       "alice   Biking      NaN\n",
       "bob    Dancing        3"
      ]
     },
     "execution_count": 54,
     "metadata": {},
     "output_type": "execute_result"
    }
   ],
   "source": [
    "d4 = pd.DataFrame(\n",
    "    d3,\n",
    "    columns = [\"hobby\", \"children\"],\n",
    "    index = [\"alice\", \"bob\"]  \n",
    "    )\n",
    "\n",
    "d4"
   ]
  },
  {
   "cell_type": "markdown",
   "id": "dc43c9db",
   "metadata": {
    "papermill": {
     "duration": 0.052971,
     "end_time": "2024-09-03T16:11:53.648645",
     "exception": false,
     "start_time": "2024-09-03T16:11:53.595674",
     "status": "completed"
    },
    "tags": []
   },
   "source": [
    "It is also possible to create a `DataFrame` with a dictionary (or list) of dictionaries (or lists):"
   ]
  },
  {
   "cell_type": "code",
   "execution_count": 55,
   "id": "7c915e1e",
   "metadata": {
    "execution": {
     "iopub.execute_input": "2024-09-03T16:11:53.756566Z",
     "iopub.status.busy": "2024-09-03T16:11:53.755741Z",
     "iopub.status.idle": "2024-09-03T16:11:53.769569Z",
     "shell.execute_reply": "2024-09-03T16:11:53.768543Z"
    },
    "papermill": {
     "duration": 0.070584,
     "end_time": "2024-09-03T16:11:53.771770",
     "exception": false,
     "start_time": "2024-09-03T16:11:53.701186",
     "status": "completed"
    },
    "tags": []
   },
   "outputs": [
    {
     "data": {
      "text/html": [
       "<div>\n",
       "<style scoped>\n",
       "    .dataframe tbody tr th:only-of-type {\n",
       "        vertical-align: middle;\n",
       "    }\n",
       "\n",
       "    .dataframe tbody tr th {\n",
       "        vertical-align: top;\n",
       "    }\n",
       "\n",
       "    .dataframe thead th {\n",
       "        text-align: right;\n",
       "    }\n",
       "</style>\n",
       "<table border=\"1\" class=\"dataframe\">\n",
       "  <thead>\n",
       "    <tr style=\"text-align: right;\">\n",
       "      <th></th>\n",
       "      <th>birthyear</th>\n",
       "      <th>hobby</th>\n",
       "      <th>weight</th>\n",
       "      <th>children</th>\n",
       "    </tr>\n",
       "  </thead>\n",
       "  <tbody>\n",
       "    <tr>\n",
       "      <th>alice</th>\n",
       "      <td>1985</td>\n",
       "      <td>Biking</td>\n",
       "      <td>68</td>\n",
       "      <td>NaN</td>\n",
       "    </tr>\n",
       "    <tr>\n",
       "      <th>bob</th>\n",
       "      <td>1984</td>\n",
       "      <td>Dancing</td>\n",
       "      <td>83</td>\n",
       "      <td>3.0</td>\n",
       "    </tr>\n",
       "    <tr>\n",
       "      <th>charles</th>\n",
       "      <td>1992</td>\n",
       "      <td>NaN</td>\n",
       "      <td>112</td>\n",
       "      <td>0.0</td>\n",
       "    </tr>\n",
       "  </tbody>\n",
       "</table>\n",
       "</div>"
      ],
      "text/plain": [
       "         birthyear    hobby  weight  children\n",
       "alice         1985   Biking      68       NaN\n",
       "bob           1984  Dancing      83       3.0\n",
       "charles       1992      NaN     112       0.0"
      ]
     },
     "execution_count": 55,
     "metadata": {},
     "output_type": "execute_result"
    }
   ],
   "source": [
    "people = pd.DataFrame({\n",
    "    \"birthyear\": {\"alice\": 1985, \"bob\": 1984, \"charles\": 1992},\n",
    "    \"hobby\": {\"alice\": \"Biking\", \"bob\": \"Dancing\"},\n",
    "    \"weight\": {\"alice\": 68, \"bob\": 83, \"charles\": 112},\n",
    "    \"children\": {\"bob\": 3, \"charles\": 0}\n",
    "})\n",
    "people"
   ]
  },
  {
   "cell_type": "markdown",
   "id": "15fb47b9",
   "metadata": {
    "papermill": {
     "duration": 0.055193,
     "end_time": "2024-09-03T16:11:53.880454",
     "exception": false,
     "start_time": "2024-09-03T16:11:53.825261",
     "status": "completed"
    },
    "tags": []
   },
   "source": [
    "## Multi-indexing\n",
    "If all columns are tuples of the same size, then they are understood as a multi-index. The same goes for row index labels. For example:"
   ]
  },
  {
   "cell_type": "code",
   "execution_count": 56,
   "id": "288a4d81",
   "metadata": {
    "execution": {
     "iopub.execute_input": "2024-09-03T16:11:53.989470Z",
     "iopub.status.busy": "2024-09-03T16:11:53.988483Z",
     "iopub.status.idle": "2024-09-03T16:11:54.009904Z",
     "shell.execute_reply": "2024-09-03T16:11:54.008526Z"
    },
    "papermill": {
     "duration": 0.078154,
     "end_time": "2024-09-03T16:11:54.012264",
     "exception": false,
     "start_time": "2024-09-03T16:11:53.934110",
     "status": "completed"
    },
    "tags": []
   },
   "outputs": [
    {
     "data": {
      "text/html": [
       "<div>\n",
       "<style scoped>\n",
       "    .dataframe tbody tr th:only-of-type {\n",
       "        vertical-align: middle;\n",
       "    }\n",
       "\n",
       "    .dataframe tbody tr th {\n",
       "        vertical-align: top;\n",
       "    }\n",
       "\n",
       "    .dataframe thead tr th {\n",
       "        text-align: left;\n",
       "    }\n",
       "</style>\n",
       "<table border=\"1\" class=\"dataframe\">\n",
       "  <thead>\n",
       "    <tr>\n",
       "      <th></th>\n",
       "      <th></th>\n",
       "      <th colspan=\"2\" halign=\"left\">public</th>\n",
       "      <th colspan=\"2\" halign=\"left\">private</th>\n",
       "    </tr>\n",
       "    <tr>\n",
       "      <th></th>\n",
       "      <th></th>\n",
       "      <th>birthyear</th>\n",
       "      <th>hobby</th>\n",
       "      <th>weight</th>\n",
       "      <th>children</th>\n",
       "    </tr>\n",
       "  </thead>\n",
       "  <tbody>\n",
       "    <tr>\n",
       "      <th rowspan=\"2\" valign=\"top\">Paris</th>\n",
       "      <th>alice</th>\n",
       "      <td>1985</td>\n",
       "      <td>Biking</td>\n",
       "      <td>68</td>\n",
       "      <td>NaN</td>\n",
       "    </tr>\n",
       "    <tr>\n",
       "      <th>bob</th>\n",
       "      <td>1984</td>\n",
       "      <td>Dancing</td>\n",
       "      <td>83</td>\n",
       "      <td>3.0</td>\n",
       "    </tr>\n",
       "    <tr>\n",
       "      <th>London</th>\n",
       "      <th>charles</th>\n",
       "      <td>1992</td>\n",
       "      <td>NaN</td>\n",
       "      <td>112</td>\n",
       "      <td>0.0</td>\n",
       "    </tr>\n",
       "  </tbody>\n",
       "</table>\n",
       "</div>"
      ],
      "text/plain": [
       "                  public          private         \n",
       "               birthyear    hobby  weight children\n",
       "Paris  alice        1985   Biking      68      NaN\n",
       "       bob          1984  Dancing      83      3.0\n",
       "London charles      1992      NaN     112      0.0"
      ]
     },
     "execution_count": 56,
     "metadata": {},
     "output_type": "execute_result"
    }
   ],
   "source": [
    "d5 = pd.DataFrame(\n",
    "  {\n",
    "    (\"public\", \"birthyear\"):\n",
    "        {(\"Paris\",\"alice\"): 1985, (\"Paris\",\"bob\"): 1984, (\"London\",\"charles\"): 1992},\n",
    "    (\"public\", \"hobby\"):\n",
    "        {(\"Paris\",\"alice\"): \"Biking\", (\"Paris\",\"bob\"): \"Dancing\"},\n",
    "    (\"private\", \"weight\"):\n",
    "        {(\"Paris\",\"alice\"): 68, (\"Paris\",\"bob\"): 83, (\"London\",\"charles\"): 112},\n",
    "    (\"private\", \"children\"):\n",
    "        {(\"Paris\", \"alice\"): np.nan, (\"Paris\",\"bob\"): 3, (\"London\",\"charles\"): 0}\n",
    "  }\n",
    ")\n",
    "d5"
   ]
  },
  {
   "cell_type": "code",
   "execution_count": 57,
   "id": "02d9f34a",
   "metadata": {
    "execution": {
     "iopub.execute_input": "2024-09-03T16:11:54.124103Z",
     "iopub.status.busy": "2024-09-03T16:11:54.123002Z",
     "iopub.status.idle": "2024-09-03T16:11:54.135530Z",
     "shell.execute_reply": "2024-09-03T16:11:54.134498Z"
    },
    "papermill": {
     "duration": 0.07001,
     "end_time": "2024-09-03T16:11:54.137918",
     "exception": false,
     "start_time": "2024-09-03T16:11:54.067908",
     "status": "completed"
    },
    "tags": []
   },
   "outputs": [
    {
     "data": {
      "text/html": [
       "<div>\n",
       "<style scoped>\n",
       "    .dataframe tbody tr th:only-of-type {\n",
       "        vertical-align: middle;\n",
       "    }\n",
       "\n",
       "    .dataframe tbody tr th {\n",
       "        vertical-align: top;\n",
       "    }\n",
       "\n",
       "    .dataframe thead th {\n",
       "        text-align: right;\n",
       "    }\n",
       "</style>\n",
       "<table border=\"1\" class=\"dataframe\">\n",
       "  <thead>\n",
       "    <tr style=\"text-align: right;\">\n",
       "      <th></th>\n",
       "      <th></th>\n",
       "      <th>birthyear</th>\n",
       "      <th>hobby</th>\n",
       "    </tr>\n",
       "  </thead>\n",
       "  <tbody>\n",
       "    <tr>\n",
       "      <th rowspan=\"2\" valign=\"top\">Paris</th>\n",
       "      <th>alice</th>\n",
       "      <td>1985</td>\n",
       "      <td>Biking</td>\n",
       "    </tr>\n",
       "    <tr>\n",
       "      <th>bob</th>\n",
       "      <td>1984</td>\n",
       "      <td>Dancing</td>\n",
       "    </tr>\n",
       "    <tr>\n",
       "      <th>London</th>\n",
       "      <th>charles</th>\n",
       "      <td>1992</td>\n",
       "      <td>NaN</td>\n",
       "    </tr>\n",
       "  </tbody>\n",
       "</table>\n",
       "</div>"
      ],
      "text/plain": [
       "                birthyear    hobby\n",
       "Paris  alice         1985   Biking\n",
       "       bob           1984  Dancing\n",
       "London charles       1992      NaN"
      ]
     },
     "execution_count": 57,
     "metadata": {},
     "output_type": "execute_result"
    }
   ],
   "source": [
    "d5[\"public\"]"
   ]
  },
  {
   "cell_type": "code",
   "execution_count": 58,
   "id": "0f3c0c4e",
   "metadata": {
    "execution": {
     "iopub.execute_input": "2024-09-03T16:11:54.246887Z",
     "iopub.status.busy": "2024-09-03T16:11:54.246450Z",
     "iopub.status.idle": "2024-09-03T16:11:54.257558Z",
     "shell.execute_reply": "2024-09-03T16:11:54.256547Z"
    },
    "papermill": {
     "duration": 0.068496,
     "end_time": "2024-09-03T16:11:54.259926",
     "exception": false,
     "start_time": "2024-09-03T16:11:54.191430",
     "status": "completed"
    },
    "tags": []
   },
   "outputs": [
    {
     "data": {
      "text/plain": [
       "Paris   alice       Biking\n",
       "        bob        Dancing\n",
       "London  charles        NaN\n",
       "Name: (public, hobby), dtype: object"
      ]
     },
     "execution_count": 58,
     "metadata": {},
     "output_type": "execute_result"
    }
   ],
   "source": [
    "d5[\"public\" , \"hobby\"]"
   ]
  },
  {
   "cell_type": "markdown",
   "id": "974f1f55",
   "metadata": {
    "papermill": {
     "duration": 0.053587,
     "end_time": "2024-09-03T16:11:54.367231",
     "exception": false,
     "start_time": "2024-09-03T16:11:54.313644",
     "status": "completed"
    },
    "tags": []
   },
   "source": [
    "# Dropping a level"
   ]
  },
  {
   "cell_type": "markdown",
   "id": "a1b638e0",
   "metadata": {
    "papermill": {
     "duration": 0.053987,
     "end_time": "2024-09-03T16:11:54.474870",
     "exception": false,
     "start_time": "2024-09-03T16:11:54.420883",
     "status": "completed"
    },
    "tags": []
   },
   "source": [
    "### Let's look at `d5` again :"
   ]
  },
  {
   "cell_type": "code",
   "execution_count": 59,
   "id": "72a87116",
   "metadata": {
    "execution": {
     "iopub.execute_input": "2024-09-03T16:11:54.584000Z",
     "iopub.status.busy": "2024-09-03T16:11:54.583506Z",
     "iopub.status.idle": "2024-09-03T16:11:54.597029Z",
     "shell.execute_reply": "2024-09-03T16:11:54.595980Z"
    },
    "papermill": {
     "duration": 0.070763,
     "end_time": "2024-09-03T16:11:54.599143",
     "exception": false,
     "start_time": "2024-09-03T16:11:54.528380",
     "status": "completed"
    },
    "tags": []
   },
   "outputs": [
    {
     "data": {
      "text/html": [
       "<div>\n",
       "<style scoped>\n",
       "    .dataframe tbody tr th:only-of-type {\n",
       "        vertical-align: middle;\n",
       "    }\n",
       "\n",
       "    .dataframe tbody tr th {\n",
       "        vertical-align: top;\n",
       "    }\n",
       "\n",
       "    .dataframe thead tr th {\n",
       "        text-align: left;\n",
       "    }\n",
       "</style>\n",
       "<table border=\"1\" class=\"dataframe\">\n",
       "  <thead>\n",
       "    <tr>\n",
       "      <th></th>\n",
       "      <th></th>\n",
       "      <th colspan=\"2\" halign=\"left\">public</th>\n",
       "      <th colspan=\"2\" halign=\"left\">private</th>\n",
       "    </tr>\n",
       "    <tr>\n",
       "      <th></th>\n",
       "      <th></th>\n",
       "      <th>birthyear</th>\n",
       "      <th>hobby</th>\n",
       "      <th>weight</th>\n",
       "      <th>children</th>\n",
       "    </tr>\n",
       "  </thead>\n",
       "  <tbody>\n",
       "    <tr>\n",
       "      <th rowspan=\"2\" valign=\"top\">Paris</th>\n",
       "      <th>alice</th>\n",
       "      <td>1985</td>\n",
       "      <td>Biking</td>\n",
       "      <td>68</td>\n",
       "      <td>NaN</td>\n",
       "    </tr>\n",
       "    <tr>\n",
       "      <th>bob</th>\n",
       "      <td>1984</td>\n",
       "      <td>Dancing</td>\n",
       "      <td>83</td>\n",
       "      <td>3.0</td>\n",
       "    </tr>\n",
       "    <tr>\n",
       "      <th>London</th>\n",
       "      <th>charles</th>\n",
       "      <td>1992</td>\n",
       "      <td>NaN</td>\n",
       "      <td>112</td>\n",
       "      <td>0.0</td>\n",
       "    </tr>\n",
       "  </tbody>\n",
       "</table>\n",
       "</div>"
      ],
      "text/plain": [
       "                  public          private         \n",
       "               birthyear    hobby  weight children\n",
       "Paris  alice        1985   Biking      68      NaN\n",
       "       bob          1984  Dancing      83      3.0\n",
       "London charles      1992      NaN     112      0.0"
      ]
     },
     "execution_count": 59,
     "metadata": {},
     "output_type": "execute_result"
    }
   ],
   "source": [
    "d5"
   ]
  },
  {
   "cell_type": "markdown",
   "id": "bc276a94",
   "metadata": {
    "papermill": {
     "duration": 0.053742,
     "end_time": "2024-09-03T16:11:54.706650",
     "exception": false,
     "start_time": "2024-09-03T16:11:54.652908",
     "status": "completed"
    },
    "tags": []
   },
   "source": [
    "There are two levels of columns, and two levels of indices. We can drop a column level by calling `droplevel()` (the same goes for indices):"
   ]
  },
  {
   "cell_type": "code",
   "execution_count": 60,
   "id": "82887067",
   "metadata": {
    "execution": {
     "iopub.execute_input": "2024-09-03T16:11:54.817617Z",
     "iopub.status.busy": "2024-09-03T16:11:54.816568Z",
     "iopub.status.idle": "2024-09-03T16:11:54.829469Z",
     "shell.execute_reply": "2024-09-03T16:11:54.828413Z"
    },
    "papermill": {
     "duration": 0.071286,
     "end_time": "2024-09-03T16:11:54.831680",
     "exception": false,
     "start_time": "2024-09-03T16:11:54.760394",
     "status": "completed"
    },
    "tags": []
   },
   "outputs": [
    {
     "data": {
      "text/html": [
       "<div>\n",
       "<style scoped>\n",
       "    .dataframe tbody tr th:only-of-type {\n",
       "        vertical-align: middle;\n",
       "    }\n",
       "\n",
       "    .dataframe tbody tr th {\n",
       "        vertical-align: top;\n",
       "    }\n",
       "\n",
       "    .dataframe thead th {\n",
       "        text-align: right;\n",
       "    }\n",
       "</style>\n",
       "<table border=\"1\" class=\"dataframe\">\n",
       "  <thead>\n",
       "    <tr style=\"text-align: right;\">\n",
       "      <th></th>\n",
       "      <th></th>\n",
       "      <th>birthyear</th>\n",
       "      <th>hobby</th>\n",
       "      <th>weight</th>\n",
       "      <th>children</th>\n",
       "    </tr>\n",
       "  </thead>\n",
       "  <tbody>\n",
       "    <tr>\n",
       "      <th rowspan=\"2\" valign=\"top\">Paris</th>\n",
       "      <th>alice</th>\n",
       "      <td>1985</td>\n",
       "      <td>Biking</td>\n",
       "      <td>68</td>\n",
       "      <td>NaN</td>\n",
       "    </tr>\n",
       "    <tr>\n",
       "      <th>bob</th>\n",
       "      <td>1984</td>\n",
       "      <td>Dancing</td>\n",
       "      <td>83</td>\n",
       "      <td>3.0</td>\n",
       "    </tr>\n",
       "    <tr>\n",
       "      <th>London</th>\n",
       "      <th>charles</th>\n",
       "      <td>1992</td>\n",
       "      <td>NaN</td>\n",
       "      <td>112</td>\n",
       "      <td>0.0</td>\n",
       "    </tr>\n",
       "  </tbody>\n",
       "</table>\n",
       "</div>"
      ],
      "text/plain": [
       "                birthyear    hobby  weight  children\n",
       "Paris  alice         1985   Biking      68       NaN\n",
       "       bob           1984  Dancing      83       3.0\n",
       "London charles       1992      NaN     112       0.0"
      ]
     },
     "execution_count": 60,
     "metadata": {},
     "output_type": "execute_result"
    }
   ],
   "source": [
    "d5.columns = d5.columns.droplevel(level = 0)\n",
    "d5"
   ]
  },
  {
   "cell_type": "markdown",
   "id": "402b1fbf",
   "metadata": {
    "papermill": {
     "duration": 0.054569,
     "end_time": "2024-09-03T16:11:54.942634",
     "exception": false,
     "start_time": "2024-09-03T16:11:54.888065",
     "status": "completed"
    },
    "tags": []
   },
   "source": [
    "## Transposing\n",
    "You can swap columns and indices using the `T` attribute:"
   ]
  },
  {
   "cell_type": "code",
   "execution_count": 61,
   "id": "940fb3e3",
   "metadata": {
    "execution": {
     "iopub.execute_input": "2024-09-03T16:11:55.055042Z",
     "iopub.status.busy": "2024-09-03T16:11:55.054299Z",
     "iopub.status.idle": "2024-09-03T16:11:55.066832Z",
     "shell.execute_reply": "2024-09-03T16:11:55.065779Z"
    },
    "papermill": {
     "duration": 0.07119,
     "end_time": "2024-09-03T16:11:55.069140",
     "exception": false,
     "start_time": "2024-09-03T16:11:54.997950",
     "status": "completed"
    },
    "tags": []
   },
   "outputs": [
    {
     "data": {
      "text/html": [
       "<div>\n",
       "<style scoped>\n",
       "    .dataframe tbody tr th:only-of-type {\n",
       "        vertical-align: middle;\n",
       "    }\n",
       "\n",
       "    .dataframe tbody tr th {\n",
       "        vertical-align: top;\n",
       "    }\n",
       "\n",
       "    .dataframe thead tr th {\n",
       "        text-align: left;\n",
       "    }\n",
       "</style>\n",
       "<table border=\"1\" class=\"dataframe\">\n",
       "  <thead>\n",
       "    <tr>\n",
       "      <th></th>\n",
       "      <th colspan=\"2\" halign=\"left\">Paris</th>\n",
       "      <th>London</th>\n",
       "    </tr>\n",
       "    <tr>\n",
       "      <th></th>\n",
       "      <th>alice</th>\n",
       "      <th>bob</th>\n",
       "      <th>charles</th>\n",
       "    </tr>\n",
       "  </thead>\n",
       "  <tbody>\n",
       "    <tr>\n",
       "      <th>birthyear</th>\n",
       "      <td>1985</td>\n",
       "      <td>1984</td>\n",
       "      <td>1992</td>\n",
       "    </tr>\n",
       "    <tr>\n",
       "      <th>hobby</th>\n",
       "      <td>Biking</td>\n",
       "      <td>Dancing</td>\n",
       "      <td>NaN</td>\n",
       "    </tr>\n",
       "    <tr>\n",
       "      <th>weight</th>\n",
       "      <td>68</td>\n",
       "      <td>83</td>\n",
       "      <td>112</td>\n",
       "    </tr>\n",
       "    <tr>\n",
       "      <th>children</th>\n",
       "      <td>NaN</td>\n",
       "      <td>3.0</td>\n",
       "      <td>0.0</td>\n",
       "    </tr>\n",
       "  </tbody>\n",
       "</table>\n",
       "</div>"
      ],
      "text/plain": [
       "            Paris           London\n",
       "            alice      bob charles\n",
       "birthyear    1985     1984    1992\n",
       "hobby      Biking  Dancing     NaN\n",
       "weight         68       83     112\n",
       "children      NaN      3.0     0.0"
      ]
     },
     "execution_count": 61,
     "metadata": {},
     "output_type": "execute_result"
    }
   ],
   "source": [
    "d6 = d5.T\n",
    "d6"
   ]
  },
  {
   "cell_type": "markdown",
   "id": "4fd532ea",
   "metadata": {
    "papermill": {
     "duration": 0.055065,
     "end_time": "2024-09-03T16:11:55.179186",
     "exception": false,
     "start_time": "2024-09-03T16:11:55.124121",
     "status": "completed"
    },
    "tags": []
   },
   "source": [
    "## Stacking and unstacking levels\n",
    "Calling the `stack()` method will push the lowest column level after the lowest index:"
   ]
  },
  {
   "cell_type": "code",
   "execution_count": 62,
   "id": "14263526",
   "metadata": {
    "execution": {
     "iopub.execute_input": "2024-09-03T16:11:55.290028Z",
     "iopub.status.busy": "2024-09-03T16:11:55.289630Z",
     "iopub.status.idle": "2024-09-03T16:11:55.312845Z",
     "shell.execute_reply": "2024-09-03T16:11:55.311478Z"
    },
    "papermill": {
     "duration": 0.081422,
     "end_time": "2024-09-03T16:11:55.315374",
     "exception": false,
     "start_time": "2024-09-03T16:11:55.233952",
     "status": "completed"
    },
    "tags": []
   },
   "outputs": [
    {
     "name": "stderr",
     "output_type": "stream",
     "text": [
      "/tmp/ipykernel_17/3230766657.py:1: FutureWarning: The previous implementation of stack is deprecated and will be removed in a future version of pandas. See the What's New notes for pandas 2.1.0 for details. Specify future_stack=True to adopt the new implementation and silence this warning.\n",
      "  d7 = d6.stack()\n"
     ]
    },
    {
     "data": {
      "text/html": [
       "<div>\n",
       "<style scoped>\n",
       "    .dataframe tbody tr th:only-of-type {\n",
       "        vertical-align: middle;\n",
       "    }\n",
       "\n",
       "    .dataframe tbody tr th {\n",
       "        vertical-align: top;\n",
       "    }\n",
       "\n",
       "    .dataframe thead th {\n",
       "        text-align: right;\n",
       "    }\n",
       "</style>\n",
       "<table border=\"1\" class=\"dataframe\">\n",
       "  <thead>\n",
       "    <tr style=\"text-align: right;\">\n",
       "      <th></th>\n",
       "      <th></th>\n",
       "      <th>Paris</th>\n",
       "      <th>London</th>\n",
       "    </tr>\n",
       "  </thead>\n",
       "  <tbody>\n",
       "    <tr>\n",
       "      <th rowspan=\"3\" valign=\"top\">birthyear</th>\n",
       "      <th>alice</th>\n",
       "      <td>1985</td>\n",
       "      <td>NaN</td>\n",
       "    </tr>\n",
       "    <tr>\n",
       "      <th>bob</th>\n",
       "      <td>1984</td>\n",
       "      <td>NaN</td>\n",
       "    </tr>\n",
       "    <tr>\n",
       "      <th>charles</th>\n",
       "      <td>NaN</td>\n",
       "      <td>1992</td>\n",
       "    </tr>\n",
       "    <tr>\n",
       "      <th rowspan=\"2\" valign=\"top\">hobby</th>\n",
       "      <th>alice</th>\n",
       "      <td>Biking</td>\n",
       "      <td>NaN</td>\n",
       "    </tr>\n",
       "    <tr>\n",
       "      <th>bob</th>\n",
       "      <td>Dancing</td>\n",
       "      <td>NaN</td>\n",
       "    </tr>\n",
       "    <tr>\n",
       "      <th rowspan=\"3\" valign=\"top\">weight</th>\n",
       "      <th>alice</th>\n",
       "      <td>68</td>\n",
       "      <td>NaN</td>\n",
       "    </tr>\n",
       "    <tr>\n",
       "      <th>bob</th>\n",
       "      <td>83</td>\n",
       "      <td>NaN</td>\n",
       "    </tr>\n",
       "    <tr>\n",
       "      <th>charles</th>\n",
       "      <td>NaN</td>\n",
       "      <td>112</td>\n",
       "    </tr>\n",
       "    <tr>\n",
       "      <th rowspan=\"2\" valign=\"top\">children</th>\n",
       "      <th>bob</th>\n",
       "      <td>3.0</td>\n",
       "      <td>NaN</td>\n",
       "    </tr>\n",
       "    <tr>\n",
       "      <th>charles</th>\n",
       "      <td>NaN</td>\n",
       "      <td>0.0</td>\n",
       "    </tr>\n",
       "  </tbody>\n",
       "</table>\n",
       "</div>"
      ],
      "text/plain": [
       "                     Paris London\n",
       "birthyear alice       1985    NaN\n",
       "          bob         1984    NaN\n",
       "          charles      NaN   1992\n",
       "hobby     alice     Biking    NaN\n",
       "          bob      Dancing    NaN\n",
       "weight    alice         68    NaN\n",
       "          bob           83    NaN\n",
       "          charles      NaN    112\n",
       "children  bob          3.0    NaN\n",
       "          charles      NaN    0.0"
      ]
     },
     "execution_count": 62,
     "metadata": {},
     "output_type": "execute_result"
    }
   ],
   "source": [
    "d7 = d6.stack()\n",
    "d7"
   ]
  },
  {
   "cell_type": "markdown",
   "id": "57183210",
   "metadata": {
    "papermill": {
     "duration": 0.056979,
     "end_time": "2024-09-03T16:11:55.427487",
     "exception": false,
     "start_time": "2024-09-03T16:11:55.370508",
     "status": "completed"
    },
    "tags": []
   },
   "source": [
    "### Note that many `NaN` values appeared. This makes sense because many new combinations did not exist before (e.g. there was no `bob` in `London`).\n",
    "\n",
    "### Calling `unstack()` will do the reverse, once again creating many `NaN` values."
   ]
  },
  {
   "cell_type": "code",
   "execution_count": 63,
   "id": "d6774323",
   "metadata": {
    "execution": {
     "iopub.execute_input": "2024-09-03T16:11:55.538290Z",
     "iopub.status.busy": "2024-09-03T16:11:55.537880Z",
     "iopub.status.idle": "2024-09-03T16:11:55.554864Z",
     "shell.execute_reply": "2024-09-03T16:11:55.553753Z"
    },
    "papermill": {
     "duration": 0.07534,
     "end_time": "2024-09-03T16:11:55.557275",
     "exception": false,
     "start_time": "2024-09-03T16:11:55.481935",
     "status": "completed"
    },
    "tags": []
   },
   "outputs": [
    {
     "data": {
      "text/html": [
       "<div>\n",
       "<style scoped>\n",
       "    .dataframe tbody tr th:only-of-type {\n",
       "        vertical-align: middle;\n",
       "    }\n",
       "\n",
       "    .dataframe tbody tr th {\n",
       "        vertical-align: top;\n",
       "    }\n",
       "\n",
       "    .dataframe thead tr th {\n",
       "        text-align: left;\n",
       "    }\n",
       "</style>\n",
       "<table border=\"1\" class=\"dataframe\">\n",
       "  <thead>\n",
       "    <tr>\n",
       "      <th></th>\n",
       "      <th colspan=\"3\" halign=\"left\">Paris</th>\n",
       "      <th colspan=\"3\" halign=\"left\">London</th>\n",
       "    </tr>\n",
       "    <tr>\n",
       "      <th></th>\n",
       "      <th>alice</th>\n",
       "      <th>bob</th>\n",
       "      <th>charles</th>\n",
       "      <th>alice</th>\n",
       "      <th>bob</th>\n",
       "      <th>charles</th>\n",
       "    </tr>\n",
       "  </thead>\n",
       "  <tbody>\n",
       "    <tr>\n",
       "      <th>birthyear</th>\n",
       "      <td>1985</td>\n",
       "      <td>1984</td>\n",
       "      <td>NaN</td>\n",
       "      <td>NaN</td>\n",
       "      <td>NaN</td>\n",
       "      <td>1992</td>\n",
       "    </tr>\n",
       "    <tr>\n",
       "      <th>children</th>\n",
       "      <td>NaN</td>\n",
       "      <td>3.0</td>\n",
       "      <td>NaN</td>\n",
       "      <td>NaN</td>\n",
       "      <td>NaN</td>\n",
       "      <td>0.0</td>\n",
       "    </tr>\n",
       "    <tr>\n",
       "      <th>hobby</th>\n",
       "      <td>Biking</td>\n",
       "      <td>Dancing</td>\n",
       "      <td>NaN</td>\n",
       "      <td>NaN</td>\n",
       "      <td>NaN</td>\n",
       "      <td>NaN</td>\n",
       "    </tr>\n",
       "    <tr>\n",
       "      <th>weight</th>\n",
       "      <td>68</td>\n",
       "      <td>83</td>\n",
       "      <td>NaN</td>\n",
       "      <td>NaN</td>\n",
       "      <td>NaN</td>\n",
       "      <td>112</td>\n",
       "    </tr>\n",
       "  </tbody>\n",
       "</table>\n",
       "</div>"
      ],
      "text/plain": [
       "            Paris                  London             \n",
       "            alice      bob charles  alice  bob charles\n",
       "birthyear    1985     1984     NaN    NaN  NaN    1992\n",
       "children      NaN      3.0     NaN    NaN  NaN     0.0\n",
       "hobby      Biking  Dancing     NaN    NaN  NaN     NaN\n",
       "weight         68       83     NaN    NaN  NaN     112"
      ]
     },
     "execution_count": 63,
     "metadata": {},
     "output_type": "execute_result"
    }
   ],
   "source": [
    "d8 = d7.unstack()\n",
    "d8"
   ]
  },
  {
   "cell_type": "markdown",
   "id": "059fbd9e",
   "metadata": {
    "papermill": {
     "duration": 0.05471,
     "end_time": "2024-09-03T16:11:55.666427",
     "exception": false,
     "start_time": "2024-09-03T16:11:55.611717",
     "status": "completed"
    },
    "tags": []
   },
   "source": [
    "### If we call `unstack` again, we end up with a `Series` object:"
   ]
  },
  {
   "cell_type": "code",
   "execution_count": 64,
   "id": "2975cd93",
   "metadata": {
    "execution": {
     "iopub.execute_input": "2024-09-03T16:11:55.777487Z",
     "iopub.status.busy": "2024-09-03T16:11:55.776637Z",
     "iopub.status.idle": "2024-09-03T16:11:55.790544Z",
     "shell.execute_reply": "2024-09-03T16:11:55.789460Z"
    },
    "papermill": {
     "duration": 0.071905,
     "end_time": "2024-09-03T16:11:55.792831",
     "exception": false,
     "start_time": "2024-09-03T16:11:55.720926",
     "status": "completed"
    },
    "tags": []
   },
   "outputs": [
    {
     "data": {
      "text/plain": [
       "Paris   alice    birthyear       1985\n",
       "                 children         NaN\n",
       "                 hobby         Biking\n",
       "                 weight            68\n",
       "        bob      birthyear       1984\n",
       "                 children         3.0\n",
       "                 hobby        Dancing\n",
       "                 weight            83\n",
       "        charles  birthyear        NaN\n",
       "                 children         NaN\n",
       "                 hobby            NaN\n",
       "                 weight           NaN\n",
       "London  alice    birthyear        NaN\n",
       "                 children         NaN\n",
       "                 hobby            NaN\n",
       "                 weight           NaN\n",
       "        bob      birthyear        NaN\n",
       "                 children         NaN\n",
       "                 hobby            NaN\n",
       "                 weight           NaN\n",
       "        charles  birthyear       1992\n",
       "                 children         0.0\n",
       "                 hobby            NaN\n",
       "                 weight           112\n",
       "dtype: object"
      ]
     },
     "execution_count": 64,
     "metadata": {},
     "output_type": "execute_result"
    }
   ],
   "source": [
    "d9 = d8.unstack()\n",
    "d9"
   ]
  },
  {
   "cell_type": "markdown",
   "id": "4bc8aa2f",
   "metadata": {
    "papermill": {
     "duration": 0.109675,
     "end_time": "2024-09-03T16:11:55.957112",
     "exception": false,
     "start_time": "2024-09-03T16:11:55.847437",
     "status": "completed"
    },
    "tags": []
   },
   "source": [
    "### The `stack()` and `unstack()` methods let you select the `level` to stack/unstack. You can even stack/unstack multiple levels at once:"
   ]
  },
  {
   "cell_type": "code",
   "execution_count": 65,
   "id": "bd88ca10",
   "metadata": {
    "execution": {
     "iopub.execute_input": "2024-09-03T16:11:56.069627Z",
     "iopub.status.busy": "2024-09-03T16:11:56.069200Z",
     "iopub.status.idle": "2024-09-03T16:11:56.086094Z",
     "shell.execute_reply": "2024-09-03T16:11:56.085061Z"
    },
    "papermill": {
     "duration": 0.076717,
     "end_time": "2024-09-03T16:11:56.088407",
     "exception": false,
     "start_time": "2024-09-03T16:11:56.011690",
     "status": "completed"
    },
    "tags": []
   },
   "outputs": [
    {
     "data": {
      "text/html": [
       "<div>\n",
       "<style scoped>\n",
       "    .dataframe tbody tr th:only-of-type {\n",
       "        vertical-align: middle;\n",
       "    }\n",
       "\n",
       "    .dataframe tbody tr th {\n",
       "        vertical-align: top;\n",
       "    }\n",
       "\n",
       "    .dataframe thead tr th {\n",
       "        text-align: left;\n",
       "    }\n",
       "</style>\n",
       "<table border=\"1\" class=\"dataframe\">\n",
       "  <thead>\n",
       "    <tr>\n",
       "      <th></th>\n",
       "      <th colspan=\"3\" halign=\"left\">Paris</th>\n",
       "      <th colspan=\"3\" halign=\"left\">London</th>\n",
       "    </tr>\n",
       "    <tr>\n",
       "      <th></th>\n",
       "      <th>alice</th>\n",
       "      <th>bob</th>\n",
       "      <th>charles</th>\n",
       "      <th>alice</th>\n",
       "      <th>bob</th>\n",
       "      <th>charles</th>\n",
       "    </tr>\n",
       "  </thead>\n",
       "  <tbody>\n",
       "    <tr>\n",
       "      <th>birthyear</th>\n",
       "      <td>1985</td>\n",
       "      <td>1984</td>\n",
       "      <td>NaN</td>\n",
       "      <td>NaN</td>\n",
       "      <td>NaN</td>\n",
       "      <td>1992</td>\n",
       "    </tr>\n",
       "    <tr>\n",
       "      <th>children</th>\n",
       "      <td>NaN</td>\n",
       "      <td>3.0</td>\n",
       "      <td>NaN</td>\n",
       "      <td>NaN</td>\n",
       "      <td>NaN</td>\n",
       "      <td>0.0</td>\n",
       "    </tr>\n",
       "    <tr>\n",
       "      <th>hobby</th>\n",
       "      <td>Biking</td>\n",
       "      <td>Dancing</td>\n",
       "      <td>NaN</td>\n",
       "      <td>NaN</td>\n",
       "      <td>NaN</td>\n",
       "      <td>NaN</td>\n",
       "    </tr>\n",
       "    <tr>\n",
       "      <th>weight</th>\n",
       "      <td>68</td>\n",
       "      <td>83</td>\n",
       "      <td>NaN</td>\n",
       "      <td>NaN</td>\n",
       "      <td>NaN</td>\n",
       "      <td>112</td>\n",
       "    </tr>\n",
       "  </tbody>\n",
       "</table>\n",
       "</div>"
      ],
      "text/plain": [
       "            Paris                  London             \n",
       "            alice      bob charles  alice  bob charles\n",
       "birthyear    1985     1984     NaN    NaN  NaN    1992\n",
       "children      NaN      3.0     NaN    NaN  NaN     0.0\n",
       "hobby      Biking  Dancing     NaN    NaN  NaN     NaN\n",
       "weight         68       83     NaN    NaN  NaN     112"
      ]
     },
     "execution_count": 65,
     "metadata": {},
     "output_type": "execute_result"
    }
   ],
   "source": [
    "d10 = d9.unstack(level= (0,1))\n",
    "d10"
   ]
  },
  {
   "cell_type": "markdown",
   "id": "5bc0cedd",
   "metadata": {
    "papermill": {
     "duration": 0.05644,
     "end_time": "2024-09-03T16:11:56.200588",
     "exception": false,
     "start_time": "2024-09-03T16:11:56.144148",
     "status": "completed"
    },
    "tags": []
   },
   "source": [
    "## Most methods return modified copies\n",
    "As you may have noticed, the `stack()` and `unstack()` methods do not modify the object they are called on. Instead, they work on a copy and return that copy. This is true of most methods in pandas."
   ]
  },
  {
   "cell_type": "markdown",
   "id": "e7a4a304",
   "metadata": {
    "papermill": {
     "duration": 0.055274,
     "end_time": "2024-09-03T16:11:56.311118",
     "exception": false,
     "start_time": "2024-09-03T16:11:56.255844",
     "status": "completed"
    },
    "tags": []
   },
   "source": [
    "## Accessing rows\n",
    "Let's go back to the `people` `DataFrame`:"
   ]
  },
  {
   "cell_type": "code",
   "execution_count": 66,
   "id": "a6d2917a",
   "metadata": {
    "execution": {
     "iopub.execute_input": "2024-09-03T16:11:56.423975Z",
     "iopub.status.busy": "2024-09-03T16:11:56.423554Z",
     "iopub.status.idle": "2024-09-03T16:11:56.435597Z",
     "shell.execute_reply": "2024-09-03T16:11:56.434433Z"
    },
    "papermill": {
     "duration": 0.071366,
     "end_time": "2024-09-03T16:11:56.438196",
     "exception": false,
     "start_time": "2024-09-03T16:11:56.366830",
     "status": "completed"
    },
    "tags": []
   },
   "outputs": [
    {
     "data": {
      "text/html": [
       "<div>\n",
       "<style scoped>\n",
       "    .dataframe tbody tr th:only-of-type {\n",
       "        vertical-align: middle;\n",
       "    }\n",
       "\n",
       "    .dataframe tbody tr th {\n",
       "        vertical-align: top;\n",
       "    }\n",
       "\n",
       "    .dataframe thead th {\n",
       "        text-align: right;\n",
       "    }\n",
       "</style>\n",
       "<table border=\"1\" class=\"dataframe\">\n",
       "  <thead>\n",
       "    <tr style=\"text-align: right;\">\n",
       "      <th></th>\n",
       "      <th>birthyear</th>\n",
       "      <th>hobby</th>\n",
       "      <th>weight</th>\n",
       "      <th>children</th>\n",
       "    </tr>\n",
       "  </thead>\n",
       "  <tbody>\n",
       "    <tr>\n",
       "      <th>alice</th>\n",
       "      <td>1985</td>\n",
       "      <td>Biking</td>\n",
       "      <td>68</td>\n",
       "      <td>NaN</td>\n",
       "    </tr>\n",
       "    <tr>\n",
       "      <th>bob</th>\n",
       "      <td>1984</td>\n",
       "      <td>Dancing</td>\n",
       "      <td>83</td>\n",
       "      <td>3.0</td>\n",
       "    </tr>\n",
       "    <tr>\n",
       "      <th>charles</th>\n",
       "      <td>1992</td>\n",
       "      <td>NaN</td>\n",
       "      <td>112</td>\n",
       "      <td>0.0</td>\n",
       "    </tr>\n",
       "  </tbody>\n",
       "</table>\n",
       "</div>"
      ],
      "text/plain": [
       "         birthyear    hobby  weight  children\n",
       "alice         1985   Biking      68       NaN\n",
       "bob           1984  Dancing      83       3.0\n",
       "charles       1992      NaN     112       0.0"
      ]
     },
     "execution_count": 66,
     "metadata": {},
     "output_type": "execute_result"
    }
   ],
   "source": [
    "people"
   ]
  },
  {
   "cell_type": "markdown",
   "id": "b2c5ad1e",
   "metadata": {
    "papermill": {
     "duration": 0.055817,
     "end_time": "2024-09-03T16:11:56.549456",
     "exception": false,
     "start_time": "2024-09-03T16:11:56.493639",
     "status": "completed"
    },
    "tags": []
   },
   "source": [
    "### The `loc` attribute lets you access rows instead of columns. The result is a `Series` object in which the `DataFrame`'s column names are mapped to row index labels:"
   ]
  },
  {
   "cell_type": "code",
   "execution_count": 67,
   "id": "670a3ed1",
   "metadata": {
    "execution": {
     "iopub.execute_input": "2024-09-03T16:11:56.663144Z",
     "iopub.status.busy": "2024-09-03T16:11:56.662212Z",
     "iopub.status.idle": "2024-09-03T16:11:56.670960Z",
     "shell.execute_reply": "2024-09-03T16:11:56.669715Z"
    },
    "papermill": {
     "duration": 0.067703,
     "end_time": "2024-09-03T16:11:56.673307",
     "exception": false,
     "start_time": "2024-09-03T16:11:56.605604",
     "status": "completed"
    },
    "tags": []
   },
   "outputs": [
    {
     "data": {
      "text/plain": [
       "birthyear    1992\n",
       "hobby         NaN\n",
       "weight        112\n",
       "children      0.0\n",
       "Name: charles, dtype: object"
      ]
     },
     "execution_count": 67,
     "metadata": {},
     "output_type": "execute_result"
    }
   ],
   "source": [
    "people.loc[\"charles\"]"
   ]
  },
  {
   "cell_type": "markdown",
   "id": "ead4bb97",
   "metadata": {
    "papermill": {
     "duration": 0.057156,
     "end_time": "2024-09-03T16:11:56.786098",
     "exception": false,
     "start_time": "2024-09-03T16:11:56.728942",
     "status": "completed"
    },
    "tags": []
   },
   "source": [
    "### You can also access rows by integer location using the `iloc` attribute:"
   ]
  },
  {
   "cell_type": "code",
   "execution_count": 68,
   "id": "69b15390",
   "metadata": {
    "execution": {
     "iopub.execute_input": "2024-09-03T16:11:56.912787Z",
     "iopub.status.busy": "2024-09-03T16:11:56.912238Z",
     "iopub.status.idle": "2024-09-03T16:11:56.921696Z",
     "shell.execute_reply": "2024-09-03T16:11:56.920565Z"
    },
    "papermill": {
     "duration": 0.07752,
     "end_time": "2024-09-03T16:11:56.924027",
     "exception": false,
     "start_time": "2024-09-03T16:11:56.846507",
     "status": "completed"
    },
    "tags": []
   },
   "outputs": [
    {
     "data": {
      "text/plain": [
       "birthyear    1992\n",
       "hobby         NaN\n",
       "weight        112\n",
       "children      0.0\n",
       "Name: charles, dtype: object"
      ]
     },
     "execution_count": 68,
     "metadata": {},
     "output_type": "execute_result"
    }
   ],
   "source": [
    "people.iloc[2]"
   ]
  },
  {
   "cell_type": "code",
   "execution_count": 69,
   "id": "52cc1cad",
   "metadata": {
    "execution": {
     "iopub.execute_input": "2024-09-03T16:11:57.052178Z",
     "iopub.status.busy": "2024-09-03T16:11:57.051776Z",
     "iopub.status.idle": "2024-09-03T16:11:57.063409Z",
     "shell.execute_reply": "2024-09-03T16:11:57.062291Z"
    },
    "papermill": {
     "duration": 0.071034,
     "end_time": "2024-09-03T16:11:57.065896",
     "exception": false,
     "start_time": "2024-09-03T16:11:56.994862",
     "status": "completed"
    },
    "tags": []
   },
   "outputs": [
    {
     "data": {
      "text/html": [
       "<div>\n",
       "<style scoped>\n",
       "    .dataframe tbody tr th:only-of-type {\n",
       "        vertical-align: middle;\n",
       "    }\n",
       "\n",
       "    .dataframe tbody tr th {\n",
       "        vertical-align: top;\n",
       "    }\n",
       "\n",
       "    .dataframe thead th {\n",
       "        text-align: right;\n",
       "    }\n",
       "</style>\n",
       "<table border=\"1\" class=\"dataframe\">\n",
       "  <thead>\n",
       "    <tr style=\"text-align: right;\">\n",
       "      <th></th>\n",
       "      <th>birthyear</th>\n",
       "      <th>hobby</th>\n",
       "      <th>weight</th>\n",
       "      <th>children</th>\n",
       "    </tr>\n",
       "  </thead>\n",
       "  <tbody>\n",
       "    <tr>\n",
       "      <th>bob</th>\n",
       "      <td>1984</td>\n",
       "      <td>Dancing</td>\n",
       "      <td>83</td>\n",
       "      <td>3.0</td>\n",
       "    </tr>\n",
       "    <tr>\n",
       "      <th>charles</th>\n",
       "      <td>1992</td>\n",
       "      <td>NaN</td>\n",
       "      <td>112</td>\n",
       "      <td>0.0</td>\n",
       "    </tr>\n",
       "  </tbody>\n",
       "</table>\n",
       "</div>"
      ],
      "text/plain": [
       "         birthyear    hobby  weight  children\n",
       "bob           1984  Dancing      83       3.0\n",
       "charles       1992      NaN     112       0.0"
      ]
     },
     "execution_count": 69,
     "metadata": {},
     "output_type": "execute_result"
    }
   ],
   "source": [
    "people.iloc[1:3]"
   ]
  },
  {
   "cell_type": "code",
   "execution_count": 70,
   "id": "5ccf4737",
   "metadata": {
    "execution": {
     "iopub.execute_input": "2024-09-03T16:11:57.179600Z",
     "iopub.status.busy": "2024-09-03T16:11:57.179184Z",
     "iopub.status.idle": "2024-09-03T16:11:57.190880Z",
     "shell.execute_reply": "2024-09-03T16:11:57.189627Z"
    },
    "papermill": {
     "duration": 0.071201,
     "end_time": "2024-09-03T16:11:57.193153",
     "exception": false,
     "start_time": "2024-09-03T16:11:57.121952",
     "status": "completed"
    },
    "tags": []
   },
   "outputs": [
    {
     "data": {
      "text/html": [
       "<div>\n",
       "<style scoped>\n",
       "    .dataframe tbody tr th:only-of-type {\n",
       "        vertical-align: middle;\n",
       "    }\n",
       "\n",
       "    .dataframe tbody tr th {\n",
       "        vertical-align: top;\n",
       "    }\n",
       "\n",
       "    .dataframe thead th {\n",
       "        text-align: right;\n",
       "    }\n",
       "</style>\n",
       "<table border=\"1\" class=\"dataframe\">\n",
       "  <thead>\n",
       "    <tr style=\"text-align: right;\">\n",
       "      <th></th>\n",
       "      <th>birthyear</th>\n",
       "      <th>hobby</th>\n",
       "      <th>weight</th>\n",
       "      <th>children</th>\n",
       "    </tr>\n",
       "  </thead>\n",
       "  <tbody>\n",
       "    <tr>\n",
       "      <th>alice</th>\n",
       "      <td>1985</td>\n",
       "      <td>Biking</td>\n",
       "      <td>68</td>\n",
       "      <td>NaN</td>\n",
       "    </tr>\n",
       "    <tr>\n",
       "      <th>charles</th>\n",
       "      <td>1992</td>\n",
       "      <td>NaN</td>\n",
       "      <td>112</td>\n",
       "      <td>0.0</td>\n",
       "    </tr>\n",
       "  </tbody>\n",
       "</table>\n",
       "</div>"
      ],
      "text/plain": [
       "         birthyear   hobby  weight  children\n",
       "alice         1985  Biking      68       NaN\n",
       "charles       1992     NaN     112       0.0"
      ]
     },
     "execution_count": 70,
     "metadata": {},
     "output_type": "execute_result"
    }
   ],
   "source": [
    "people[np.array([True, False, True])]"
   ]
  },
  {
   "cell_type": "markdown",
   "id": "774a29ab",
   "metadata": {
    "papermill": {
     "duration": 0.055811,
     "end_time": "2024-09-03T16:11:57.305651",
     "exception": false,
     "start_time": "2024-09-03T16:11:57.249840",
     "status": "completed"
    },
    "tags": []
   },
   "source": [
    "### This is most useful when combined with boolean expressions:"
   ]
  },
  {
   "cell_type": "code",
   "execution_count": 71,
   "id": "d0bbebca",
   "metadata": {
    "execution": {
     "iopub.execute_input": "2024-09-03T16:11:57.419657Z",
     "iopub.status.busy": "2024-09-03T16:11:57.418903Z",
     "iopub.status.idle": "2024-09-03T16:11:57.430629Z",
     "shell.execute_reply": "2024-09-03T16:11:57.429601Z"
    },
    "papermill": {
     "duration": 0.071111,
     "end_time": "2024-09-03T16:11:57.432888",
     "exception": false,
     "start_time": "2024-09-03T16:11:57.361777",
     "status": "completed"
    },
    "tags": []
   },
   "outputs": [
    {
     "data": {
      "text/html": [
       "<div>\n",
       "<style scoped>\n",
       "    .dataframe tbody tr th:only-of-type {\n",
       "        vertical-align: middle;\n",
       "    }\n",
       "\n",
       "    .dataframe tbody tr th {\n",
       "        vertical-align: top;\n",
       "    }\n",
       "\n",
       "    .dataframe thead th {\n",
       "        text-align: right;\n",
       "    }\n",
       "</style>\n",
       "<table border=\"1\" class=\"dataframe\">\n",
       "  <thead>\n",
       "    <tr style=\"text-align: right;\">\n",
       "      <th></th>\n",
       "      <th>birthyear</th>\n",
       "      <th>hobby</th>\n",
       "      <th>weight</th>\n",
       "      <th>children</th>\n",
       "    </tr>\n",
       "  </thead>\n",
       "  <tbody>\n",
       "    <tr>\n",
       "      <th>alice</th>\n",
       "      <td>1985</td>\n",
       "      <td>Biking</td>\n",
       "      <td>68</td>\n",
       "      <td>NaN</td>\n",
       "    </tr>\n",
       "    <tr>\n",
       "      <th>bob</th>\n",
       "      <td>1984</td>\n",
       "      <td>Dancing</td>\n",
       "      <td>83</td>\n",
       "      <td>3.0</td>\n",
       "    </tr>\n",
       "  </tbody>\n",
       "</table>\n",
       "</div>"
      ],
      "text/plain": [
       "       birthyear    hobby  weight  children\n",
       "alice       1985   Biking      68       NaN\n",
       "bob         1984  Dancing      83       3.0"
      ]
     },
     "execution_count": 71,
     "metadata": {},
     "output_type": "execute_result"
    }
   ],
   "source": [
    "people[people[\"birthyear\"]< 1990 ]"
   ]
  },
  {
   "cell_type": "markdown",
   "id": "9ec6f3d1",
   "metadata": {
    "papermill": {
     "duration": 0.055483,
     "end_time": "2024-09-03T16:11:57.545262",
     "exception": false,
     "start_time": "2024-09-03T16:11:57.489779",
     "status": "completed"
    },
    "tags": []
   },
   "source": [
    "## Adding and removing columns\n",
    "You can generally treat `DataFrame` objects like dictionaries of `Series`, so the following works fine:"
   ]
  },
  {
   "cell_type": "code",
   "execution_count": 72,
   "id": "512d6972",
   "metadata": {
    "execution": {
     "iopub.execute_input": "2024-09-03T16:11:57.659094Z",
     "iopub.status.busy": "2024-09-03T16:11:57.658618Z",
     "iopub.status.idle": "2024-09-03T16:11:57.671056Z",
     "shell.execute_reply": "2024-09-03T16:11:57.669980Z"
    },
    "papermill": {
     "duration": 0.072044,
     "end_time": "2024-09-03T16:11:57.673376",
     "exception": false,
     "start_time": "2024-09-03T16:11:57.601332",
     "status": "completed"
    },
    "tags": []
   },
   "outputs": [
    {
     "data": {
      "text/html": [
       "<div>\n",
       "<style scoped>\n",
       "    .dataframe tbody tr th:only-of-type {\n",
       "        vertical-align: middle;\n",
       "    }\n",
       "\n",
       "    .dataframe tbody tr th {\n",
       "        vertical-align: top;\n",
       "    }\n",
       "\n",
       "    .dataframe thead th {\n",
       "        text-align: right;\n",
       "    }\n",
       "</style>\n",
       "<table border=\"1\" class=\"dataframe\">\n",
       "  <thead>\n",
       "    <tr style=\"text-align: right;\">\n",
       "      <th></th>\n",
       "      <th>birthyear</th>\n",
       "      <th>hobby</th>\n",
       "      <th>weight</th>\n",
       "      <th>children</th>\n",
       "    </tr>\n",
       "  </thead>\n",
       "  <tbody>\n",
       "    <tr>\n",
       "      <th>alice</th>\n",
       "      <td>1985</td>\n",
       "      <td>Biking</td>\n",
       "      <td>68</td>\n",
       "      <td>NaN</td>\n",
       "    </tr>\n",
       "    <tr>\n",
       "      <th>bob</th>\n",
       "      <td>1984</td>\n",
       "      <td>Dancing</td>\n",
       "      <td>83</td>\n",
       "      <td>3.0</td>\n",
       "    </tr>\n",
       "    <tr>\n",
       "      <th>charles</th>\n",
       "      <td>1992</td>\n",
       "      <td>NaN</td>\n",
       "      <td>112</td>\n",
       "      <td>0.0</td>\n",
       "    </tr>\n",
       "  </tbody>\n",
       "</table>\n",
       "</div>"
      ],
      "text/plain": [
       "         birthyear    hobby  weight  children\n",
       "alice         1985   Biking      68       NaN\n",
       "bob           1984  Dancing      83       3.0\n",
       "charles       1992      NaN     112       0.0"
      ]
     },
     "execution_count": 72,
     "metadata": {},
     "output_type": "execute_result"
    }
   ],
   "source": [
    "people"
   ]
  },
  {
   "cell_type": "code",
   "execution_count": 73,
   "id": "0f9538fd",
   "metadata": {
    "execution": {
     "iopub.execute_input": "2024-09-03T16:11:57.787393Z",
     "iopub.status.busy": "2024-09-03T16:11:57.787013Z",
     "iopub.status.idle": "2024-09-03T16:11:57.801188Z",
     "shell.execute_reply": "2024-09-03T16:11:57.800008Z"
    },
    "papermill": {
     "duration": 0.074025,
     "end_time": "2024-09-03T16:11:57.803328",
     "exception": false,
     "start_time": "2024-09-03T16:11:57.729303",
     "status": "completed"
    },
    "tags": []
   },
   "outputs": [
    {
     "data": {
      "text/html": [
       "<div>\n",
       "<style scoped>\n",
       "    .dataframe tbody tr th:only-of-type {\n",
       "        vertical-align: middle;\n",
       "    }\n",
       "\n",
       "    .dataframe tbody tr th {\n",
       "        vertical-align: top;\n",
       "    }\n",
       "\n",
       "    .dataframe thead th {\n",
       "        text-align: right;\n",
       "    }\n",
       "</style>\n",
       "<table border=\"1\" class=\"dataframe\">\n",
       "  <thead>\n",
       "    <tr style=\"text-align: right;\">\n",
       "      <th></th>\n",
       "      <th>hobby</th>\n",
       "      <th>weight</th>\n",
       "      <th>age</th>\n",
       "      <th>over 30</th>\n",
       "    </tr>\n",
       "  </thead>\n",
       "  <tbody>\n",
       "    <tr>\n",
       "      <th>alice</th>\n",
       "      <td>Biking</td>\n",
       "      <td>68</td>\n",
       "      <td>33</td>\n",
       "      <td>True</td>\n",
       "    </tr>\n",
       "    <tr>\n",
       "      <th>bob</th>\n",
       "      <td>Dancing</td>\n",
       "      <td>83</td>\n",
       "      <td>34</td>\n",
       "      <td>True</td>\n",
       "    </tr>\n",
       "    <tr>\n",
       "      <th>charles</th>\n",
       "      <td>NaN</td>\n",
       "      <td>112</td>\n",
       "      <td>26</td>\n",
       "      <td>False</td>\n",
       "    </tr>\n",
       "  </tbody>\n",
       "</table>\n",
       "</div>"
      ],
      "text/plain": [
       "           hobby  weight  age  over 30\n",
       "alice     Biking      68   33     True\n",
       "bob      Dancing      83   34     True\n",
       "charles      NaN     112   26    False"
      ]
     },
     "execution_count": 73,
     "metadata": {},
     "output_type": "execute_result"
    }
   ],
   "source": [
    "people[\"age\"] = 2018 - people[\"birthyear\"]\n",
    "people[\"over 30\"] = people[\"age\"] > 30\n",
    "birthyear = people.pop(\"birthyear\")\n",
    "del people[\"children\"]\n",
    "\n",
    "people"
   ]
  },
  {
   "cell_type": "code",
   "execution_count": 74,
   "id": "a6db6de1",
   "metadata": {
    "execution": {
     "iopub.execute_input": "2024-09-03T16:11:57.919603Z",
     "iopub.status.busy": "2024-09-03T16:11:57.919161Z",
     "iopub.status.idle": "2024-09-03T16:11:57.926891Z",
     "shell.execute_reply": "2024-09-03T16:11:57.925824Z"
    },
    "papermill": {
     "duration": 0.069783,
     "end_time": "2024-09-03T16:11:57.929277",
     "exception": false,
     "start_time": "2024-09-03T16:11:57.859494",
     "status": "completed"
    },
    "tags": []
   },
   "outputs": [
    {
     "data": {
      "text/plain": [
       "alice      1985\n",
       "bob        1984\n",
       "charles    1992\n",
       "Name: birthyear, dtype: int64"
      ]
     },
     "execution_count": 74,
     "metadata": {},
     "output_type": "execute_result"
    }
   ],
   "source": [
    "birthyear"
   ]
  },
  {
   "cell_type": "markdown",
   "id": "02de2191",
   "metadata": {
    "papermill": {
     "duration": 0.05636,
     "end_time": "2024-09-03T16:11:58.042631",
     "exception": false,
     "start_time": "2024-09-03T16:11:57.986271",
     "status": "completed"
    },
    "tags": []
   },
   "source": [
    "When you add a new column, it must have the same number of rows. Missing rows are filled with NaN, and extra rows are ignored:"
   ]
  },
  {
   "cell_type": "code",
   "execution_count": 75,
   "id": "0691cd5a",
   "metadata": {
    "execution": {
     "iopub.execute_input": "2024-09-03T16:11:58.159111Z",
     "iopub.status.busy": "2024-09-03T16:11:58.158182Z",
     "iopub.status.idle": "2024-09-03T16:11:58.171561Z",
     "shell.execute_reply": "2024-09-03T16:11:58.170332Z"
    },
    "papermill": {
     "duration": 0.07356,
     "end_time": "2024-09-03T16:11:58.173661",
     "exception": false,
     "start_time": "2024-09-03T16:11:58.100101",
     "status": "completed"
    },
    "tags": []
   },
   "outputs": [
    {
     "data": {
      "text/html": [
       "<div>\n",
       "<style scoped>\n",
       "    .dataframe tbody tr th:only-of-type {\n",
       "        vertical-align: middle;\n",
       "    }\n",
       "\n",
       "    .dataframe tbody tr th {\n",
       "        vertical-align: top;\n",
       "    }\n",
       "\n",
       "    .dataframe thead th {\n",
       "        text-align: right;\n",
       "    }\n",
       "</style>\n",
       "<table border=\"1\" class=\"dataframe\">\n",
       "  <thead>\n",
       "    <tr style=\"text-align: right;\">\n",
       "      <th></th>\n",
       "      <th>hobby</th>\n",
       "      <th>weight</th>\n",
       "      <th>age</th>\n",
       "      <th>over 30</th>\n",
       "      <th>pets</th>\n",
       "    </tr>\n",
       "  </thead>\n",
       "  <tbody>\n",
       "    <tr>\n",
       "      <th>alice</th>\n",
       "      <td>Biking</td>\n",
       "      <td>68</td>\n",
       "      <td>33</td>\n",
       "      <td>True</td>\n",
       "      <td>NaN</td>\n",
       "    </tr>\n",
       "    <tr>\n",
       "      <th>bob</th>\n",
       "      <td>Dancing</td>\n",
       "      <td>83</td>\n",
       "      <td>34</td>\n",
       "      <td>True</td>\n",
       "      <td>0.0</td>\n",
       "    </tr>\n",
       "    <tr>\n",
       "      <th>charles</th>\n",
       "      <td>NaN</td>\n",
       "      <td>112</td>\n",
       "      <td>26</td>\n",
       "      <td>False</td>\n",
       "      <td>5.0</td>\n",
       "    </tr>\n",
       "  </tbody>\n",
       "</table>\n",
       "</div>"
      ],
      "text/plain": [
       "           hobby  weight  age  over 30  pets\n",
       "alice     Biking      68   33     True   NaN\n",
       "bob      Dancing      83   34     True   0.0\n",
       "charles      NaN     112   26    False   5.0"
      ]
     },
     "execution_count": 75,
     "metadata": {},
     "output_type": "execute_result"
    }
   ],
   "source": [
    "people[\"pets\"] = pd.Series({\"bob\":0, \"charles\":5, \"eugene\":1})\n",
    "people"
   ]
  },
  {
   "cell_type": "markdown",
   "id": "7305d414",
   "metadata": {
    "papermill": {
     "duration": 0.056524,
     "end_time": "2024-09-03T16:11:58.286967",
     "exception": false,
     "start_time": "2024-09-03T16:11:58.230443",
     "status": "completed"
    },
    "tags": []
   },
   "source": [
    "### When adding a new column, it is added at the end (on the right) by default. You can also insert a column anywhere else using the `insert()` method:"
   ]
  },
  {
   "cell_type": "code",
   "execution_count": 76,
   "id": "fc12b779",
   "metadata": {
    "execution": {
     "iopub.execute_input": "2024-09-03T16:11:58.403922Z",
     "iopub.status.busy": "2024-09-03T16:11:58.402934Z",
     "iopub.status.idle": "2024-09-03T16:11:58.416254Z",
     "shell.execute_reply": "2024-09-03T16:11:58.415148Z"
    },
    "papermill": {
     "duration": 0.074492,
     "end_time": "2024-09-03T16:11:58.418517",
     "exception": false,
     "start_time": "2024-09-03T16:11:58.344025",
     "status": "completed"
    },
    "tags": []
   },
   "outputs": [
    {
     "data": {
      "text/html": [
       "<div>\n",
       "<style scoped>\n",
       "    .dataframe tbody tr th:only-of-type {\n",
       "        vertical-align: middle;\n",
       "    }\n",
       "\n",
       "    .dataframe tbody tr th {\n",
       "        vertical-align: top;\n",
       "    }\n",
       "\n",
       "    .dataframe thead th {\n",
       "        text-align: right;\n",
       "    }\n",
       "</style>\n",
       "<table border=\"1\" class=\"dataframe\">\n",
       "  <thead>\n",
       "    <tr style=\"text-align: right;\">\n",
       "      <th></th>\n",
       "      <th>hobby</th>\n",
       "      <th>height</th>\n",
       "      <th>weight</th>\n",
       "      <th>age</th>\n",
       "      <th>over 30</th>\n",
       "      <th>pets</th>\n",
       "    </tr>\n",
       "  </thead>\n",
       "  <tbody>\n",
       "    <tr>\n",
       "      <th>alice</th>\n",
       "      <td>Biking</td>\n",
       "      <td>172</td>\n",
       "      <td>68</td>\n",
       "      <td>33</td>\n",
       "      <td>True</td>\n",
       "      <td>NaN</td>\n",
       "    </tr>\n",
       "    <tr>\n",
       "      <th>bob</th>\n",
       "      <td>Dancing</td>\n",
       "      <td>181</td>\n",
       "      <td>83</td>\n",
       "      <td>34</td>\n",
       "      <td>True</td>\n",
       "      <td>0.0</td>\n",
       "    </tr>\n",
       "    <tr>\n",
       "      <th>charles</th>\n",
       "      <td>NaN</td>\n",
       "      <td>185</td>\n",
       "      <td>112</td>\n",
       "      <td>26</td>\n",
       "      <td>False</td>\n",
       "      <td>5.0</td>\n",
       "    </tr>\n",
       "  </tbody>\n",
       "</table>\n",
       "</div>"
      ],
      "text/plain": [
       "           hobby  height  weight  age  over 30  pets\n",
       "alice     Biking     172      68   33     True   NaN\n",
       "bob      Dancing     181      83   34     True   0.0\n",
       "charles      NaN     185     112   26    False   5.0"
      ]
     },
     "execution_count": 76,
     "metadata": {},
     "output_type": "execute_result"
    }
   ],
   "source": [
    "people.insert(1, \"height\", [172,181,185])\n",
    "people"
   ]
  },
  {
   "cell_type": "markdown",
   "id": "c0a69cd0",
   "metadata": {
    "papermill": {
     "duration": 0.056434,
     "end_time": "2024-09-03T16:11:58.531511",
     "exception": false,
     "start_time": "2024-09-03T16:11:58.475077",
     "status": "completed"
    },
    "tags": []
   },
   "source": [
    "## Assigning new columns\n",
    "You can also create new columns by calling the `assign()` method. Note that this returns a new `DataFrame` object, the original is not modified:"
   ]
  },
  {
   "cell_type": "code",
   "execution_count": 77,
   "id": "8653520a",
   "metadata": {
    "execution": {
     "iopub.execute_input": "2024-09-03T16:11:58.648183Z",
     "iopub.status.busy": "2024-09-03T16:11:58.647779Z",
     "iopub.status.idle": "2024-09-03T16:11:58.664297Z",
     "shell.execute_reply": "2024-09-03T16:11:58.663015Z"
    },
    "papermill": {
     "duration": 0.078085,
     "end_time": "2024-09-03T16:11:58.666724",
     "exception": false,
     "start_time": "2024-09-03T16:11:58.588639",
     "status": "completed"
    },
    "tags": []
   },
   "outputs": [
    {
     "data": {
      "text/html": [
       "<div>\n",
       "<style scoped>\n",
       "    .dataframe tbody tr th:only-of-type {\n",
       "        vertical-align: middle;\n",
       "    }\n",
       "\n",
       "    .dataframe tbody tr th {\n",
       "        vertical-align: top;\n",
       "    }\n",
       "\n",
       "    .dataframe thead th {\n",
       "        text-align: right;\n",
       "    }\n",
       "</style>\n",
       "<table border=\"1\" class=\"dataframe\">\n",
       "  <thead>\n",
       "    <tr style=\"text-align: right;\">\n",
       "      <th></th>\n",
       "      <th>hobby</th>\n",
       "      <th>height</th>\n",
       "      <th>weight</th>\n",
       "      <th>age</th>\n",
       "      <th>over 30</th>\n",
       "      <th>pets</th>\n",
       "      <th>body_mass_index</th>\n",
       "      <th>has_pets</th>\n",
       "    </tr>\n",
       "  </thead>\n",
       "  <tbody>\n",
       "    <tr>\n",
       "      <th>alice</th>\n",
       "      <td>Biking</td>\n",
       "      <td>172</td>\n",
       "      <td>68</td>\n",
       "      <td>33</td>\n",
       "      <td>True</td>\n",
       "      <td>NaN</td>\n",
       "      <td>22.985398</td>\n",
       "      <td>False</td>\n",
       "    </tr>\n",
       "    <tr>\n",
       "      <th>bob</th>\n",
       "      <td>Dancing</td>\n",
       "      <td>181</td>\n",
       "      <td>83</td>\n",
       "      <td>34</td>\n",
       "      <td>True</td>\n",
       "      <td>0.0</td>\n",
       "      <td>25.335002</td>\n",
       "      <td>False</td>\n",
       "    </tr>\n",
       "    <tr>\n",
       "      <th>charles</th>\n",
       "      <td>NaN</td>\n",
       "      <td>185</td>\n",
       "      <td>112</td>\n",
       "      <td>26</td>\n",
       "      <td>False</td>\n",
       "      <td>5.0</td>\n",
       "      <td>32.724617</td>\n",
       "      <td>True</td>\n",
       "    </tr>\n",
       "  </tbody>\n",
       "</table>\n",
       "</div>"
      ],
      "text/plain": [
       "           hobby  height  weight  age  over 30  pets  body_mass_index  \\\n",
       "alice     Biking     172      68   33     True   NaN        22.985398   \n",
       "bob      Dancing     181      83   34     True   0.0        25.335002   \n",
       "charles      NaN     185     112   26    False   5.0        32.724617   \n",
       "\n",
       "         has_pets  \n",
       "alice       False  \n",
       "bob         False  \n",
       "charles      True  "
      ]
     },
     "execution_count": 77,
     "metadata": {},
     "output_type": "execute_result"
    }
   ],
   "source": [
    "people.assign(\n",
    "    body_mass_index = people[\"weight\"] / (people[\"height\"] / 100) ** 2,\n",
    "    has_pets = people[\"pets\"] > 0\n",
    ")"
   ]
  },
  {
   "cell_type": "markdown",
   "id": "4e0423fe",
   "metadata": {
    "papermill": {
     "duration": 0.056884,
     "end_time": "2024-09-03T16:11:58.781007",
     "exception": false,
     "start_time": "2024-09-03T16:11:58.724123",
     "status": "completed"
    },
    "tags": []
   },
   "source": [
    "### Note that you cannot access columns created within the same assignment:"
   ]
  },
  {
   "cell_type": "code",
   "execution_count": 78,
   "id": "b7900ace",
   "metadata": {
    "execution": {
     "iopub.execute_input": "2024-09-03T16:11:58.898600Z",
     "iopub.status.busy": "2024-09-03T16:11:58.898170Z",
     "iopub.status.idle": "2024-09-03T16:11:58.905128Z",
     "shell.execute_reply": "2024-09-03T16:11:58.904036Z"
    },
    "papermill": {
     "duration": 0.070081,
     "end_time": "2024-09-03T16:11:58.907790",
     "exception": false,
     "start_time": "2024-09-03T16:11:58.837709",
     "status": "completed"
    },
    "tags": []
   },
   "outputs": [
    {
     "name": "stdout",
     "output_type": "stream",
     "text": [
      "Key error :  'body_mass_index'\n"
     ]
    }
   ],
   "source": [
    "try :\n",
    "    people.assign(\n",
    "        body_mass_index = people[\"weight\"] / (people[\"height\"] / 100) ** 2,\n",
    "        overwight = people[\"body_mass_index\"] > 25\n",
    "    )\n",
    "except KeyError as e:\n",
    "    print(\"Key error : \", e)"
   ]
  },
  {
   "cell_type": "markdown",
   "id": "77faeb81",
   "metadata": {
    "papermill": {
     "duration": 0.057047,
     "end_time": "2024-09-03T16:11:59.022338",
     "exception": false,
     "start_time": "2024-09-03T16:11:58.965291",
     "status": "completed"
    },
    "tags": []
   },
   "source": [
    "### The solution is to split this assignment in two consecutive assignments:"
   ]
  },
  {
   "cell_type": "code",
   "execution_count": 79,
   "id": "031988fa",
   "metadata": {
    "execution": {
     "iopub.execute_input": "2024-09-03T16:11:59.142676Z",
     "iopub.status.busy": "2024-09-03T16:11:59.141229Z",
     "iopub.status.idle": "2024-09-03T16:11:59.158436Z",
     "shell.execute_reply": "2024-09-03T16:11:59.157351Z"
    },
    "papermill": {
     "duration": 0.08087,
     "end_time": "2024-09-03T16:11:59.160738",
     "exception": false,
     "start_time": "2024-09-03T16:11:59.079868",
     "status": "completed"
    },
    "tags": []
   },
   "outputs": [
    {
     "data": {
      "text/html": [
       "<div>\n",
       "<style scoped>\n",
       "    .dataframe tbody tr th:only-of-type {\n",
       "        vertical-align: middle;\n",
       "    }\n",
       "\n",
       "    .dataframe tbody tr th {\n",
       "        vertical-align: top;\n",
       "    }\n",
       "\n",
       "    .dataframe thead th {\n",
       "        text-align: right;\n",
       "    }\n",
       "</style>\n",
       "<table border=\"1\" class=\"dataframe\">\n",
       "  <thead>\n",
       "    <tr style=\"text-align: right;\">\n",
       "      <th></th>\n",
       "      <th>hobby</th>\n",
       "      <th>height</th>\n",
       "      <th>weight</th>\n",
       "      <th>age</th>\n",
       "      <th>over 30</th>\n",
       "      <th>pets</th>\n",
       "      <th>body_mass_index</th>\n",
       "      <th>overweight</th>\n",
       "    </tr>\n",
       "  </thead>\n",
       "  <tbody>\n",
       "    <tr>\n",
       "      <th>alice</th>\n",
       "      <td>Biking</td>\n",
       "      <td>172</td>\n",
       "      <td>68</td>\n",
       "      <td>33</td>\n",
       "      <td>True</td>\n",
       "      <td>NaN</td>\n",
       "      <td>22.985398</td>\n",
       "      <td>False</td>\n",
       "    </tr>\n",
       "    <tr>\n",
       "      <th>bob</th>\n",
       "      <td>Dancing</td>\n",
       "      <td>181</td>\n",
       "      <td>83</td>\n",
       "      <td>34</td>\n",
       "      <td>True</td>\n",
       "      <td>0.0</td>\n",
       "      <td>25.335002</td>\n",
       "      <td>True</td>\n",
       "    </tr>\n",
       "    <tr>\n",
       "      <th>charles</th>\n",
       "      <td>NaN</td>\n",
       "      <td>185</td>\n",
       "      <td>112</td>\n",
       "      <td>26</td>\n",
       "      <td>False</td>\n",
       "      <td>5.0</td>\n",
       "      <td>32.724617</td>\n",
       "      <td>True</td>\n",
       "    </tr>\n",
       "  </tbody>\n",
       "</table>\n",
       "</div>"
      ],
      "text/plain": [
       "           hobby  height  weight  age  over 30  pets  body_mass_index  \\\n",
       "alice     Biking     172      68   33     True   NaN        22.985398   \n",
       "bob      Dancing     181      83   34     True   0.0        25.335002   \n",
       "charles      NaN     185     112   26    False   5.0        32.724617   \n",
       "\n",
       "         overweight  \n",
       "alice         False  \n",
       "bob            True  \n",
       "charles        True  "
      ]
     },
     "execution_count": 79,
     "metadata": {},
     "output_type": "execute_result"
    }
   ],
   "source": [
    "d6 = people.assign(body_mass_index = people[\"weight\"] / (people[\"height\"] / 100) ** 2)\n",
    "d6.assign(overweight = d6[\"body_mass_index\"] > 25)"
   ]
  },
  {
   "cell_type": "markdown",
   "id": "c57e64e2",
   "metadata": {
    "papermill": {
     "duration": 0.05796,
     "end_time": "2024-09-03T16:11:59.277350",
     "exception": false,
     "start_time": "2024-09-03T16:11:59.219390",
     "status": "completed"
    },
    "tags": []
   },
   "source": [
    "### Having to create a temporary variable `d6` is not very convenient. You may want to just chain the assignment calls, but it does not work because the `people` object is not actually modified by the first assignment:"
   ]
  },
  {
   "cell_type": "code",
   "execution_count": 80,
   "id": "da81f6a9",
   "metadata": {
    "execution": {
     "iopub.execute_input": "2024-09-03T16:11:59.393947Z",
     "iopub.status.busy": "2024-09-03T16:11:59.393438Z",
     "iopub.status.idle": "2024-09-03T16:11:59.402305Z",
     "shell.execute_reply": "2024-09-03T16:11:59.401182Z"
    },
    "papermill": {
     "duration": 0.069884,
     "end_time": "2024-09-03T16:11:59.404676",
     "exception": false,
     "start_time": "2024-09-03T16:11:59.334792",
     "status": "completed"
    },
    "tags": []
   },
   "outputs": [
    {
     "name": "stdout",
     "output_type": "stream",
     "text": [
      "key Error : 'body_mass_index'\n"
     ]
    }
   ],
   "source": [
    "try : \n",
    "    (people\n",
    "            .assign(body_mass_index = people[\"weight\"] / (people[\"height\"] / 100) ** 2)\n",
    "            .assign(overweight = people[\"body_mass_index\"] > 25)\n",
    "    )\n",
    "except KeyError as e:\n",
    "    print(\"key Error :\", e )"
   ]
  },
  {
   "cell_type": "markdown",
   "id": "4421e2b1",
   "metadata": {
    "papermill": {
     "duration": 0.057034,
     "end_time": "2024-09-03T16:11:59.519958",
     "exception": false,
     "start_time": "2024-09-03T16:11:59.462924",
     "status": "completed"
    },
    "tags": []
   },
   "source": [
    "### But fear not, there is a simple solution. You can pass a function to the `assign()` method (typically a `lambda` function), and this function will be called with the `DataFrame` as a parameter:"
   ]
  },
  {
   "cell_type": "code",
   "execution_count": 81,
   "id": "ffa1a20d",
   "metadata": {
    "execution": {
     "iopub.execute_input": "2024-09-03T16:11:59.636362Z",
     "iopub.status.busy": "2024-09-03T16:11:59.635352Z",
     "iopub.status.idle": "2024-09-03T16:11:59.651719Z",
     "shell.execute_reply": "2024-09-03T16:11:59.650660Z"
    },
    "papermill": {
     "duration": 0.077045,
     "end_time": "2024-09-03T16:11:59.653878",
     "exception": false,
     "start_time": "2024-09-03T16:11:59.576833",
     "status": "completed"
    },
    "tags": []
   },
   "outputs": [
    {
     "data": {
      "text/html": [
       "<div>\n",
       "<style scoped>\n",
       "    .dataframe tbody tr th:only-of-type {\n",
       "        vertical-align: middle;\n",
       "    }\n",
       "\n",
       "    .dataframe tbody tr th {\n",
       "        vertical-align: top;\n",
       "    }\n",
       "\n",
       "    .dataframe thead th {\n",
       "        text-align: right;\n",
       "    }\n",
       "</style>\n",
       "<table border=\"1\" class=\"dataframe\">\n",
       "  <thead>\n",
       "    <tr style=\"text-align: right;\">\n",
       "      <th></th>\n",
       "      <th>hobby</th>\n",
       "      <th>height</th>\n",
       "      <th>weight</th>\n",
       "      <th>age</th>\n",
       "      <th>over 30</th>\n",
       "      <th>pets</th>\n",
       "      <th>body_mass_index</th>\n",
       "      <th>overweight</th>\n",
       "    </tr>\n",
       "  </thead>\n",
       "  <tbody>\n",
       "    <tr>\n",
       "      <th>alice</th>\n",
       "      <td>Biking</td>\n",
       "      <td>172</td>\n",
       "      <td>68</td>\n",
       "      <td>33</td>\n",
       "      <td>True</td>\n",
       "      <td>NaN</td>\n",
       "      <td>22.985398</td>\n",
       "      <td>False</td>\n",
       "    </tr>\n",
       "    <tr>\n",
       "      <th>bob</th>\n",
       "      <td>Dancing</td>\n",
       "      <td>181</td>\n",
       "      <td>83</td>\n",
       "      <td>34</td>\n",
       "      <td>True</td>\n",
       "      <td>0.0</td>\n",
       "      <td>25.335002</td>\n",
       "      <td>True</td>\n",
       "    </tr>\n",
       "    <tr>\n",
       "      <th>charles</th>\n",
       "      <td>NaN</td>\n",
       "      <td>185</td>\n",
       "      <td>112</td>\n",
       "      <td>26</td>\n",
       "      <td>False</td>\n",
       "      <td>5.0</td>\n",
       "      <td>32.724617</td>\n",
       "      <td>True</td>\n",
       "    </tr>\n",
       "  </tbody>\n",
       "</table>\n",
       "</div>"
      ],
      "text/plain": [
       "           hobby  height  weight  age  over 30  pets  body_mass_index  \\\n",
       "alice     Biking     172      68   33     True   NaN        22.985398   \n",
       "bob      Dancing     181      83   34     True   0.0        25.335002   \n",
       "charles      NaN     185     112   26    False   5.0        32.724617   \n",
       "\n",
       "         overweight  \n",
       "alice         False  \n",
       "bob            True  \n",
       "charles        True  "
      ]
     },
     "execution_count": 81,
     "metadata": {},
     "output_type": "execute_result"
    }
   ],
   "source": [
    "(people\n",
    "    .assign(body_mass_index = lambda df: df[\"weight\"] / (df[\"height\"]/100) ** 2)\n",
    "    .assign(overweight = lambda df: df[\"body_mass_index\"] > 25)\n",
    ")\n"
   ]
  },
  {
   "cell_type": "markdown",
   "id": "7e8f4975",
   "metadata": {
    "papermill": {
     "duration": 0.058409,
     "end_time": "2024-09-03T16:11:59.770205",
     "exception": false,
     "start_time": "2024-09-03T16:11:59.711796",
     "status": "completed"
    },
    "tags": []
   },
   "source": [
    "## Evaluating an expression\n",
    "A great feature supported by pandas is expression evaluation. It relies on the `numexpr` library which must be installed."
   ]
  },
  {
   "cell_type": "code",
   "execution_count": 82,
   "id": "73beb6dd",
   "metadata": {
    "execution": {
     "iopub.execute_input": "2024-09-03T16:11:59.889414Z",
     "iopub.status.busy": "2024-09-03T16:11:59.889009Z",
     "iopub.status.idle": "2024-09-03T16:11:59.902829Z",
     "shell.execute_reply": "2024-09-03T16:11:59.901726Z"
    },
    "papermill": {
     "duration": 0.076889,
     "end_time": "2024-09-03T16:11:59.904993",
     "exception": false,
     "start_time": "2024-09-03T16:11:59.828104",
     "status": "completed"
    },
    "tags": []
   },
   "outputs": [
    {
     "data": {
      "text/plain": [
       "alice      False\n",
       "bob         True\n",
       "charles     True\n",
       "dtype: bool"
      ]
     },
     "execution_count": 82,
     "metadata": {},
     "output_type": "execute_result"
    }
   ],
   "source": [
    "people.eval(\"weight / (height/100) ** 2 > 25\")\n"
   ]
  },
  {
   "cell_type": "markdown",
   "id": "b4118ba2",
   "metadata": {
    "papermill": {
     "duration": 0.057376,
     "end_time": "2024-09-03T16:12:00.019723",
     "exception": false,
     "start_time": "2024-09-03T16:11:59.962347",
     "status": "completed"
    },
    "tags": []
   },
   "source": [
    "### Assignment expressions are also supported. Let's set `inplace=True` to directly modify the `DataFrame` rather than getting a modified copy:"
   ]
  },
  {
   "cell_type": "code",
   "execution_count": 83,
   "id": "48aed5da",
   "metadata": {
    "execution": {
     "iopub.execute_input": "2024-09-03T16:12:00.137518Z",
     "iopub.status.busy": "2024-09-03T16:12:00.137076Z",
     "iopub.status.idle": "2024-09-03T16:12:00.155281Z",
     "shell.execute_reply": "2024-09-03T16:12:00.154214Z"
    },
    "papermill": {
     "duration": 0.080133,
     "end_time": "2024-09-03T16:12:00.157436",
     "exception": false,
     "start_time": "2024-09-03T16:12:00.077303",
     "status": "completed"
    },
    "tags": []
   },
   "outputs": [
    {
     "data": {
      "text/html": [
       "<div>\n",
       "<style scoped>\n",
       "    .dataframe tbody tr th:only-of-type {\n",
       "        vertical-align: middle;\n",
       "    }\n",
       "\n",
       "    .dataframe tbody tr th {\n",
       "        vertical-align: top;\n",
       "    }\n",
       "\n",
       "    .dataframe thead th {\n",
       "        text-align: right;\n",
       "    }\n",
       "</style>\n",
       "<table border=\"1\" class=\"dataframe\">\n",
       "  <thead>\n",
       "    <tr style=\"text-align: right;\">\n",
       "      <th></th>\n",
       "      <th>hobby</th>\n",
       "      <th>height</th>\n",
       "      <th>weight</th>\n",
       "      <th>age</th>\n",
       "      <th>over 30</th>\n",
       "      <th>pets</th>\n",
       "      <th>body_mass_index</th>\n",
       "    </tr>\n",
       "  </thead>\n",
       "  <tbody>\n",
       "    <tr>\n",
       "      <th>alice</th>\n",
       "      <td>Biking</td>\n",
       "      <td>172</td>\n",
       "      <td>68</td>\n",
       "      <td>33</td>\n",
       "      <td>True</td>\n",
       "      <td>NaN</td>\n",
       "      <td>22.985398</td>\n",
       "    </tr>\n",
       "    <tr>\n",
       "      <th>bob</th>\n",
       "      <td>Dancing</td>\n",
       "      <td>181</td>\n",
       "      <td>83</td>\n",
       "      <td>34</td>\n",
       "      <td>True</td>\n",
       "      <td>0.0</td>\n",
       "      <td>25.335002</td>\n",
       "    </tr>\n",
       "    <tr>\n",
       "      <th>charles</th>\n",
       "      <td>NaN</td>\n",
       "      <td>185</td>\n",
       "      <td>112</td>\n",
       "      <td>26</td>\n",
       "      <td>False</td>\n",
       "      <td>5.0</td>\n",
       "      <td>32.724617</td>\n",
       "    </tr>\n",
       "  </tbody>\n",
       "</table>\n",
       "</div>"
      ],
      "text/plain": [
       "           hobby  height  weight  age  over 30  pets  body_mass_index\n",
       "alice     Biking     172      68   33     True   NaN        22.985398\n",
       "bob      Dancing     181      83   34     True   0.0        25.335002\n",
       "charles      NaN     185     112   26    False   5.0        32.724617"
      ]
     },
     "execution_count": 83,
     "metadata": {},
     "output_type": "execute_result"
    }
   ],
   "source": [
    "people.eval(\" body_mass_index = weight / (height/100) ** 2 \", inplace= True)\n",
    "people\n"
   ]
  },
  {
   "cell_type": "markdown",
   "id": "72aebf15",
   "metadata": {
    "papermill": {
     "duration": 0.058104,
     "end_time": "2024-09-03T16:12:00.274103",
     "exception": false,
     "start_time": "2024-09-03T16:12:00.215999",
     "status": "completed"
    },
    "tags": []
   },
   "source": [
    "### You can use a local or global variable in an expression by prefixing it with `'@'`:"
   ]
  },
  {
   "cell_type": "code",
   "execution_count": 84,
   "id": "dcf96c1b",
   "metadata": {
    "execution": {
     "iopub.execute_input": "2024-09-03T16:12:00.392235Z",
     "iopub.status.busy": "2024-09-03T16:12:00.391771Z",
     "iopub.status.idle": "2024-09-03T16:12:00.412747Z",
     "shell.execute_reply": "2024-09-03T16:12:00.411594Z"
    },
    "papermill": {
     "duration": 0.083249,
     "end_time": "2024-09-03T16:12:00.415340",
     "exception": false,
     "start_time": "2024-09-03T16:12:00.332091",
     "status": "completed"
    },
    "tags": []
   },
   "outputs": [
    {
     "data": {
      "text/html": [
       "<div>\n",
       "<style scoped>\n",
       "    .dataframe tbody tr th:only-of-type {\n",
       "        vertical-align: middle;\n",
       "    }\n",
       "\n",
       "    .dataframe tbody tr th {\n",
       "        vertical-align: top;\n",
       "    }\n",
       "\n",
       "    .dataframe thead th {\n",
       "        text-align: right;\n",
       "    }\n",
       "</style>\n",
       "<table border=\"1\" class=\"dataframe\">\n",
       "  <thead>\n",
       "    <tr style=\"text-align: right;\">\n",
       "      <th></th>\n",
       "      <th>hobby</th>\n",
       "      <th>height</th>\n",
       "      <th>weight</th>\n",
       "      <th>age</th>\n",
       "      <th>over 30</th>\n",
       "      <th>pets</th>\n",
       "      <th>body_mass_index</th>\n",
       "      <th>overweight</th>\n",
       "    </tr>\n",
       "  </thead>\n",
       "  <tbody>\n",
       "    <tr>\n",
       "      <th>alice</th>\n",
       "      <td>Biking</td>\n",
       "      <td>172</td>\n",
       "      <td>68</td>\n",
       "      <td>33</td>\n",
       "      <td>True</td>\n",
       "      <td>NaN</td>\n",
       "      <td>22.985398</td>\n",
       "      <td>False</td>\n",
       "    </tr>\n",
       "    <tr>\n",
       "      <th>bob</th>\n",
       "      <td>Dancing</td>\n",
       "      <td>181</td>\n",
       "      <td>83</td>\n",
       "      <td>34</td>\n",
       "      <td>True</td>\n",
       "      <td>0.0</td>\n",
       "      <td>25.335002</td>\n",
       "      <td>False</td>\n",
       "    </tr>\n",
       "    <tr>\n",
       "      <th>charles</th>\n",
       "      <td>NaN</td>\n",
       "      <td>185</td>\n",
       "      <td>112</td>\n",
       "      <td>26</td>\n",
       "      <td>False</td>\n",
       "      <td>5.0</td>\n",
       "      <td>32.724617</td>\n",
       "      <td>True</td>\n",
       "    </tr>\n",
       "  </tbody>\n",
       "</table>\n",
       "</div>"
      ],
      "text/plain": [
       "           hobby  height  weight  age  over 30  pets  body_mass_index  \\\n",
       "alice     Biking     172      68   33     True   NaN        22.985398   \n",
       "bob      Dancing     181      83   34     True   0.0        25.335002   \n",
       "charles      NaN     185     112   26    False   5.0        32.724617   \n",
       "\n",
       "         overweight  \n",
       "alice         False  \n",
       "bob           False  \n",
       "charles        True  "
      ]
     },
     "execution_count": 84,
     "metadata": {},
     "output_type": "execute_result"
    }
   ],
   "source": [
    "overweight_threshold = 30\n",
    "people.eval(\"overweight = body_mass_index > @overweight_threshold\", inplace=True)\n",
    "people"
   ]
  },
  {
   "cell_type": "markdown",
   "id": "0aae9080",
   "metadata": {
    "papermill": {
     "duration": 0.057504,
     "end_time": "2024-09-03T16:12:00.531945",
     "exception": false,
     "start_time": "2024-09-03T16:12:00.474441",
     "status": "completed"
    },
    "tags": []
   },
   "source": [
    "## Querying a `DataFrame`\n",
    "\n",
    "The `query()` method lets you filter a `DataFrame` based on a query expression:"
   ]
  },
  {
   "cell_type": "code",
   "execution_count": 85,
   "id": "833324fe",
   "metadata": {
    "execution": {
     "iopub.execute_input": "2024-09-03T16:12:00.649947Z",
     "iopub.status.busy": "2024-09-03T16:12:00.649497Z",
     "iopub.status.idle": "2024-09-03T16:12:00.666855Z",
     "shell.execute_reply": "2024-09-03T16:12:00.665843Z"
    },
    "papermill": {
     "duration": 0.079107,
     "end_time": "2024-09-03T16:12:00.668946",
     "exception": false,
     "start_time": "2024-09-03T16:12:00.589839",
     "status": "completed"
    },
    "tags": []
   },
   "outputs": [
    {
     "data": {
      "text/html": [
       "<div>\n",
       "<style scoped>\n",
       "    .dataframe tbody tr th:only-of-type {\n",
       "        vertical-align: middle;\n",
       "    }\n",
       "\n",
       "    .dataframe tbody tr th {\n",
       "        vertical-align: top;\n",
       "    }\n",
       "\n",
       "    .dataframe thead th {\n",
       "        text-align: right;\n",
       "    }\n",
       "</style>\n",
       "<table border=\"1\" class=\"dataframe\">\n",
       "  <thead>\n",
       "    <tr style=\"text-align: right;\">\n",
       "      <th></th>\n",
       "      <th>hobby</th>\n",
       "      <th>height</th>\n",
       "      <th>weight</th>\n",
       "      <th>age</th>\n",
       "      <th>over 30</th>\n",
       "      <th>pets</th>\n",
       "      <th>body_mass_index</th>\n",
       "      <th>overweight</th>\n",
       "    </tr>\n",
       "  </thead>\n",
       "  <tbody>\n",
       "    <tr>\n",
       "      <th>bob</th>\n",
       "      <td>Dancing</td>\n",
       "      <td>181</td>\n",
       "      <td>83</td>\n",
       "      <td>34</td>\n",
       "      <td>True</td>\n",
       "      <td>0.0</td>\n",
       "      <td>25.335002</td>\n",
       "      <td>False</td>\n",
       "    </tr>\n",
       "  </tbody>\n",
       "</table>\n",
       "</div>"
      ],
      "text/plain": [
       "       hobby  height  weight  age  over 30  pets  body_mass_index  overweight\n",
       "bob  Dancing     181      83   34     True   0.0        25.335002       False"
      ]
     },
     "execution_count": 85,
     "metadata": {},
     "output_type": "execute_result"
    }
   ],
   "source": [
    "people.query(\"age > 30 and pets == 0\")"
   ]
  },
  {
   "cell_type": "markdown",
   "id": "e31cf244",
   "metadata": {
    "papermill": {
     "duration": 0.058118,
     "end_time": "2024-09-03T16:12:00.785508",
     "exception": false,
     "start_time": "2024-09-03T16:12:00.727390",
     "status": "completed"
    },
    "tags": []
   },
   "source": [
    "## Sorting a `DataFrame`\n",
    "You can sort a `DataFrame` by calling its `sort_index` method. By default, it sorts the rows by their index label, in ascending order, but let's reverse the order:"
   ]
  },
  {
   "cell_type": "code",
   "execution_count": 86,
   "id": "60aab924",
   "metadata": {
    "execution": {
     "iopub.execute_input": "2024-09-03T16:12:00.905095Z",
     "iopub.status.busy": "2024-09-03T16:12:00.904570Z",
     "iopub.status.idle": "2024-09-03T16:12:00.919482Z",
     "shell.execute_reply": "2024-09-03T16:12:00.918381Z"
    },
    "papermill": {
     "duration": 0.078111,
     "end_time": "2024-09-03T16:12:00.921681",
     "exception": false,
     "start_time": "2024-09-03T16:12:00.843570",
     "status": "completed"
    },
    "tags": []
   },
   "outputs": [
    {
     "data": {
      "text/html": [
       "<div>\n",
       "<style scoped>\n",
       "    .dataframe tbody tr th:only-of-type {\n",
       "        vertical-align: middle;\n",
       "    }\n",
       "\n",
       "    .dataframe tbody tr th {\n",
       "        vertical-align: top;\n",
       "    }\n",
       "\n",
       "    .dataframe thead th {\n",
       "        text-align: right;\n",
       "    }\n",
       "</style>\n",
       "<table border=\"1\" class=\"dataframe\">\n",
       "  <thead>\n",
       "    <tr style=\"text-align: right;\">\n",
       "      <th></th>\n",
       "      <th>hobby</th>\n",
       "      <th>height</th>\n",
       "      <th>weight</th>\n",
       "      <th>age</th>\n",
       "      <th>over 30</th>\n",
       "      <th>pets</th>\n",
       "      <th>body_mass_index</th>\n",
       "      <th>overweight</th>\n",
       "    </tr>\n",
       "  </thead>\n",
       "  <tbody>\n",
       "    <tr>\n",
       "      <th>charles</th>\n",
       "      <td>NaN</td>\n",
       "      <td>185</td>\n",
       "      <td>112</td>\n",
       "      <td>26</td>\n",
       "      <td>False</td>\n",
       "      <td>5.0</td>\n",
       "      <td>32.724617</td>\n",
       "      <td>True</td>\n",
       "    </tr>\n",
       "    <tr>\n",
       "      <th>bob</th>\n",
       "      <td>Dancing</td>\n",
       "      <td>181</td>\n",
       "      <td>83</td>\n",
       "      <td>34</td>\n",
       "      <td>True</td>\n",
       "      <td>0.0</td>\n",
       "      <td>25.335002</td>\n",
       "      <td>False</td>\n",
       "    </tr>\n",
       "    <tr>\n",
       "      <th>alice</th>\n",
       "      <td>Biking</td>\n",
       "      <td>172</td>\n",
       "      <td>68</td>\n",
       "      <td>33</td>\n",
       "      <td>True</td>\n",
       "      <td>NaN</td>\n",
       "      <td>22.985398</td>\n",
       "      <td>False</td>\n",
       "    </tr>\n",
       "  </tbody>\n",
       "</table>\n",
       "</div>"
      ],
      "text/plain": [
       "           hobby  height  weight  age  over 30  pets  body_mass_index  \\\n",
       "charles      NaN     185     112   26    False   5.0        32.724617   \n",
       "bob      Dancing     181      83   34     True   0.0        25.335002   \n",
       "alice     Biking     172      68   33     True   NaN        22.985398   \n",
       "\n",
       "         overweight  \n",
       "charles        True  \n",
       "bob           False  \n",
       "alice         False  "
      ]
     },
     "execution_count": 86,
     "metadata": {},
     "output_type": "execute_result"
    }
   ],
   "source": [
    "people.sort_index(ascending = False)"
   ]
  },
  {
   "cell_type": "markdown",
   "id": "860a6d1e",
   "metadata": {
    "papermill": {
     "duration": 0.057931,
     "end_time": "2024-09-03T16:12:01.037767",
     "exception": false,
     "start_time": "2024-09-03T16:12:00.979836",
     "status": "completed"
    },
    "tags": []
   },
   "source": [
    "### Note that `sort_index` returned a sorted *copy* of the `DataFrame`. To modify `people` directly, we can set the `inplace` argument to `True`. Also, we can sort the columns instead of the rows by setting `axis=1`:"
   ]
  },
  {
   "cell_type": "code",
   "execution_count": 87,
   "id": "ddc54b05",
   "metadata": {
    "execution": {
     "iopub.execute_input": "2024-09-03T16:12:01.157844Z",
     "iopub.status.busy": "2024-09-03T16:12:01.157408Z",
     "iopub.status.idle": "2024-09-03T16:12:01.172786Z",
     "shell.execute_reply": "2024-09-03T16:12:01.171241Z"
    },
    "papermill": {
     "duration": 0.079151,
     "end_time": "2024-09-03T16:12:01.174968",
     "exception": false,
     "start_time": "2024-09-03T16:12:01.095817",
     "status": "completed"
    },
    "tags": []
   },
   "outputs": [
    {
     "data": {
      "text/html": [
       "<div>\n",
       "<style scoped>\n",
       "    .dataframe tbody tr th:only-of-type {\n",
       "        vertical-align: middle;\n",
       "    }\n",
       "\n",
       "    .dataframe tbody tr th {\n",
       "        vertical-align: top;\n",
       "    }\n",
       "\n",
       "    .dataframe thead th {\n",
       "        text-align: right;\n",
       "    }\n",
       "</style>\n",
       "<table border=\"1\" class=\"dataframe\">\n",
       "  <thead>\n",
       "    <tr style=\"text-align: right;\">\n",
       "      <th></th>\n",
       "      <th>age</th>\n",
       "      <th>body_mass_index</th>\n",
       "      <th>height</th>\n",
       "      <th>hobby</th>\n",
       "      <th>over 30</th>\n",
       "      <th>overweight</th>\n",
       "      <th>pets</th>\n",
       "      <th>weight</th>\n",
       "    </tr>\n",
       "  </thead>\n",
       "  <tbody>\n",
       "    <tr>\n",
       "      <th>alice</th>\n",
       "      <td>33</td>\n",
       "      <td>22.985398</td>\n",
       "      <td>172</td>\n",
       "      <td>Biking</td>\n",
       "      <td>True</td>\n",
       "      <td>False</td>\n",
       "      <td>NaN</td>\n",
       "      <td>68</td>\n",
       "    </tr>\n",
       "    <tr>\n",
       "      <th>bob</th>\n",
       "      <td>34</td>\n",
       "      <td>25.335002</td>\n",
       "      <td>181</td>\n",
       "      <td>Dancing</td>\n",
       "      <td>True</td>\n",
       "      <td>False</td>\n",
       "      <td>0.0</td>\n",
       "      <td>83</td>\n",
       "    </tr>\n",
       "    <tr>\n",
       "      <th>charles</th>\n",
       "      <td>26</td>\n",
       "      <td>32.724617</td>\n",
       "      <td>185</td>\n",
       "      <td>NaN</td>\n",
       "      <td>False</td>\n",
       "      <td>True</td>\n",
       "      <td>5.0</td>\n",
       "      <td>112</td>\n",
       "    </tr>\n",
       "  </tbody>\n",
       "</table>\n",
       "</div>"
      ],
      "text/plain": [
       "         age  body_mass_index  height    hobby  over 30  overweight  pets  \\\n",
       "alice     33        22.985398     172   Biking     True       False   NaN   \n",
       "bob       34        25.335002     181  Dancing     True       False   0.0   \n",
       "charles   26        32.724617     185      NaN    False        True   5.0   \n",
       "\n",
       "         weight  \n",
       "alice        68  \n",
       "bob          83  \n",
       "charles     112  "
      ]
     },
     "execution_count": 87,
     "metadata": {},
     "output_type": "execute_result"
    }
   ],
   "source": [
    "people.sort_index(axis=1, inplace=True)\n",
    "people"
   ]
  },
  {
   "cell_type": "markdown",
   "id": "6c5ca2f5",
   "metadata": {
    "papermill": {
     "duration": 0.058171,
     "end_time": "2024-09-03T16:12:01.291652",
     "exception": false,
     "start_time": "2024-09-03T16:12:01.233481",
     "status": "completed"
    },
    "tags": []
   },
   "source": [
    "### To sort the `DataFrame` by the values instead of the labels, we can use `sort_values` and specify the column to sort by:"
   ]
  },
  {
   "cell_type": "code",
   "execution_count": 88,
   "id": "93cb8afb",
   "metadata": {
    "execution": {
     "iopub.execute_input": "2024-09-03T16:12:01.411456Z",
     "iopub.status.busy": "2024-09-03T16:12:01.411012Z",
     "iopub.status.idle": "2024-09-03T16:12:01.426815Z",
     "shell.execute_reply": "2024-09-03T16:12:01.425755Z"
    },
    "papermill": {
     "duration": 0.078855,
     "end_time": "2024-09-03T16:12:01.429010",
     "exception": false,
     "start_time": "2024-09-03T16:12:01.350155",
     "status": "completed"
    },
    "tags": []
   },
   "outputs": [
    {
     "data": {
      "text/html": [
       "<div>\n",
       "<style scoped>\n",
       "    .dataframe tbody tr th:only-of-type {\n",
       "        vertical-align: middle;\n",
       "    }\n",
       "\n",
       "    .dataframe tbody tr th {\n",
       "        vertical-align: top;\n",
       "    }\n",
       "\n",
       "    .dataframe thead th {\n",
       "        text-align: right;\n",
       "    }\n",
       "</style>\n",
       "<table border=\"1\" class=\"dataframe\">\n",
       "  <thead>\n",
       "    <tr style=\"text-align: right;\">\n",
       "      <th></th>\n",
       "      <th>age</th>\n",
       "      <th>body_mass_index</th>\n",
       "      <th>height</th>\n",
       "      <th>hobby</th>\n",
       "      <th>over 30</th>\n",
       "      <th>overweight</th>\n",
       "      <th>pets</th>\n",
       "      <th>weight</th>\n",
       "    </tr>\n",
       "  </thead>\n",
       "  <tbody>\n",
       "    <tr>\n",
       "      <th>charles</th>\n",
       "      <td>26</td>\n",
       "      <td>32.724617</td>\n",
       "      <td>185</td>\n",
       "      <td>NaN</td>\n",
       "      <td>False</td>\n",
       "      <td>True</td>\n",
       "      <td>5.0</td>\n",
       "      <td>112</td>\n",
       "    </tr>\n",
       "    <tr>\n",
       "      <th>alice</th>\n",
       "      <td>33</td>\n",
       "      <td>22.985398</td>\n",
       "      <td>172</td>\n",
       "      <td>Biking</td>\n",
       "      <td>True</td>\n",
       "      <td>False</td>\n",
       "      <td>NaN</td>\n",
       "      <td>68</td>\n",
       "    </tr>\n",
       "    <tr>\n",
       "      <th>bob</th>\n",
       "      <td>34</td>\n",
       "      <td>25.335002</td>\n",
       "      <td>181</td>\n",
       "      <td>Dancing</td>\n",
       "      <td>True</td>\n",
       "      <td>False</td>\n",
       "      <td>0.0</td>\n",
       "      <td>83</td>\n",
       "    </tr>\n",
       "  </tbody>\n",
       "</table>\n",
       "</div>"
      ],
      "text/plain": [
       "         age  body_mass_index  height    hobby  over 30  overweight  pets  \\\n",
       "charles   26        32.724617     185      NaN    False        True   5.0   \n",
       "alice     33        22.985398     172   Biking     True       False   NaN   \n",
       "bob       34        25.335002     181  Dancing     True       False   0.0   \n",
       "\n",
       "         weight  \n",
       "charles     112  \n",
       "alice        68  \n",
       "bob          83  "
      ]
     },
     "execution_count": 88,
     "metadata": {},
     "output_type": "execute_result"
    }
   ],
   "source": [
    "people.sort_values(by=\"age\", inplace=True)\n",
    "people"
   ]
  },
  {
   "cell_type": "markdown",
   "id": "5df2e523",
   "metadata": {
    "papermill": {
     "duration": 0.058085,
     "end_time": "2024-09-03T16:12:01.545690",
     "exception": false,
     "start_time": "2024-09-03T16:12:01.487605",
     "status": "completed"
    },
    "tags": []
   },
   "source": [
    "## Plotting a `DataFrame`\n",
    "Just like for `Series`, pandas makes it easy to draw nice graphs based on a `DataFrame`.\n",
    "\n",
    "For example, it is trivial to create a line plot from a `DataFrame`'s data by calling its `plot` method:"
   ]
  },
  {
   "cell_type": "code",
   "execution_count": 89,
   "id": "47579a3e",
   "metadata": {
    "execution": {
     "iopub.execute_input": "2024-09-03T16:12:01.664666Z",
     "iopub.status.busy": "2024-09-03T16:12:01.663870Z",
     "iopub.status.idle": "2024-09-03T16:12:01.864934Z",
     "shell.execute_reply": "2024-09-03T16:12:01.863603Z"
    },
    "papermill": {
     "duration": 0.263142,
     "end_time": "2024-09-03T16:12:01.867212",
     "exception": false,
     "start_time": "2024-09-03T16:12:01.604070",
     "status": "completed"
    },
    "tags": []
   },
   "outputs": [
    {
     "data": {
      "image/png": "[encoded data removed]",
      "text/plain": [
       "<Figure size 640x480 with 1 Axes>"
      ]
     },
     "metadata": {},
     "output_type": "display_data"
    }
   ],
   "source": [
    "people.sort_values(by=\"body_mass_index\", inplace=True)\n",
    "people.plot(kind=\"line\", x=\"body_mass_index\", y=[\"height\", \"weight\"])\n",
    "plt.show()"
   ]
  },
  {
   "cell_type": "markdown",
   "id": "6d2b3300",
   "metadata": {
    "papermill": {
     "duration": 0.059664,
     "end_time": "2024-09-03T16:12:01.987870",
     "exception": false,
     "start_time": "2024-09-03T16:12:01.928206",
     "status": "completed"
    },
    "tags": []
   },
   "source": [
    "### You can pass extra arguments supported by matplotlib's functions. For example, we can create scatterplot and pass it a list of sizes using the `s` argument of matplotlib's `scatter()` function:"
   ]
  },
  {
   "cell_type": "code",
   "execution_count": 90,
   "id": "9cb6c4e6",
   "metadata": {
    "execution": {
     "iopub.execute_input": "2024-09-03T16:12:02.108202Z",
     "iopub.status.busy": "2024-09-03T16:12:02.107782Z",
     "iopub.status.idle": "2024-09-03T16:12:02.323481Z",
     "shell.execute_reply": "2024-09-03T16:12:02.322386Z"
    },
    "papermill": {
     "duration": 0.278626,
     "end_time": "2024-09-03T16:12:02.325890",
     "exception": false,
     "start_time": "2024-09-03T16:12:02.047264",
     "status": "completed"
    },
    "tags": []
   },
   "outputs": [
    {
     "data": {
      "image/png": "[encoded data removed]",
      "text/plain": [
       "<Figure size 640x480 with 1 Axes>"
      ]
     },
     "metadata": {},
     "output_type": "display_data"
    }
   ],
   "source": [
    "people.plot(kind=\"scatter\", x=\"height\", y=\"weight\", s=[40,120,200])\n",
    "plt.show()"
   ]
  },
  {
   "cell_type": "markdown",
   "id": "d481066c",
   "metadata": {
    "papermill": {
     "duration": 0.059513,
     "end_time": "2024-09-03T16:12:02.444813",
     "exception": false,
     "start_time": "2024-09-03T16:12:02.385300",
     "status": "completed"
    },
    "tags": []
   },
   "source": [
    "## Operations on `DataFrame`s\n",
    "Although `DataFrame`s do not try to mimic NumPy arrays, there are a few similarities. Let's create a `DataFrame` to demonstrate this:"
   ]
  },
  {
   "cell_type": "code",
   "execution_count": 91,
   "id": "f4dc69b3",
   "metadata": {
    "execution": {
     "iopub.execute_input": "2024-09-03T16:12:02.565848Z",
     "iopub.status.busy": "2024-09-03T16:12:02.564808Z",
     "iopub.status.idle": "2024-09-03T16:12:02.576740Z",
     "shell.execute_reply": "2024-09-03T16:12:02.575677Z"
    },
    "papermill": {
     "duration": 0.074841,
     "end_time": "2024-09-03T16:12:02.578942",
     "exception": false,
     "start_time": "2024-09-03T16:12:02.504101",
     "status": "completed"
    },
    "tags": []
   },
   "outputs": [
    {
     "data": {
      "text/html": [
       "<div>\n",
       "<style scoped>\n",
       "    .dataframe tbody tr th:only-of-type {\n",
       "        vertical-align: middle;\n",
       "    }\n",
       "\n",
       "    .dataframe tbody tr th {\n",
       "        vertical-align: top;\n",
       "    }\n",
       "\n",
       "    .dataframe thead th {\n",
       "        text-align: right;\n",
       "    }\n",
       "</style>\n",
       "<table border=\"1\" class=\"dataframe\">\n",
       "  <thead>\n",
       "    <tr style=\"text-align: right;\">\n",
       "      <th></th>\n",
       "      <th>sep</th>\n",
       "      <th>oct</th>\n",
       "      <th>nov</th>\n",
       "    </tr>\n",
       "  </thead>\n",
       "  <tbody>\n",
       "    <tr>\n",
       "      <th>alice</th>\n",
       "      <td>8</td>\n",
       "      <td>8</td>\n",
       "      <td>9</td>\n",
       "    </tr>\n",
       "    <tr>\n",
       "      <th>bob</th>\n",
       "      <td>10</td>\n",
       "      <td>9</td>\n",
       "      <td>9</td>\n",
       "    </tr>\n",
       "    <tr>\n",
       "      <th>charles</th>\n",
       "      <td>4</td>\n",
       "      <td>8</td>\n",
       "      <td>2</td>\n",
       "    </tr>\n",
       "    <tr>\n",
       "      <th>darwin</th>\n",
       "      <td>9</td>\n",
       "      <td>10</td>\n",
       "      <td>9</td>\n",
       "    </tr>\n",
       "  </tbody>\n",
       "</table>\n",
       "</div>"
      ],
      "text/plain": [
       "         sep  oct  nov\n",
       "alice      8    8    9\n",
       "bob       10    9    9\n",
       "charles    4    8    2\n",
       "darwin     9   10    9"
      ]
     },
     "execution_count": 91,
     "metadata": {},
     "output_type": "execute_result"
    }
   ],
   "source": [
    "grades_array = np.array([[8, 8, 9], [10,9,9], [4,8,2], [9,10,9]])\n",
    "grades = pd.DataFrame(grades_array, columns=[\"sep\", \"oct\", \"nov\"], index =[\"alice\", \"bob\", \"charles\", \"darwin\"])\n",
    "grades"
   ]
  },
  {
   "cell_type": "code",
   "execution_count": 92,
   "id": "dda752a8",
   "metadata": {
    "execution": {
     "iopub.execute_input": "2024-09-03T16:12:02.699739Z",
     "iopub.status.busy": "2024-09-03T16:12:02.699324Z",
     "iopub.status.idle": "2024-09-03T16:12:02.711046Z",
     "shell.execute_reply": "2024-09-03T16:12:02.709898Z"
    },
    "papermill": {
     "duration": 0.074799,
     "end_time": "2024-09-03T16:12:02.713154",
     "exception": false,
     "start_time": "2024-09-03T16:12:02.638355",
     "status": "completed"
    },
    "tags": []
   },
   "outputs": [
    {
     "data": {
      "text/html": [
       "<div>\n",
       "<style scoped>\n",
       "    .dataframe tbody tr th:only-of-type {\n",
       "        vertical-align: middle;\n",
       "    }\n",
       "\n",
       "    .dataframe tbody tr th {\n",
       "        vertical-align: top;\n",
       "    }\n",
       "\n",
       "    .dataframe thead th {\n",
       "        text-align: right;\n",
       "    }\n",
       "</style>\n",
       "<table border=\"1\" class=\"dataframe\">\n",
       "  <thead>\n",
       "    <tr style=\"text-align: right;\">\n",
       "      <th></th>\n",
       "      <th>sep</th>\n",
       "      <th>oct</th>\n",
       "      <th>nov</th>\n",
       "    </tr>\n",
       "  </thead>\n",
       "  <tbody>\n",
       "    <tr>\n",
       "      <th>alice</th>\n",
       "      <td>2.828427</td>\n",
       "      <td>2.828427</td>\n",
       "      <td>3.000000</td>\n",
       "    </tr>\n",
       "    <tr>\n",
       "      <th>bob</th>\n",
       "      <td>3.162278</td>\n",
       "      <td>3.000000</td>\n",
       "      <td>3.000000</td>\n",
       "    </tr>\n",
       "    <tr>\n",
       "      <th>charles</th>\n",
       "      <td>2.000000</td>\n",
       "      <td>2.828427</td>\n",
       "      <td>1.414214</td>\n",
       "    </tr>\n",
       "    <tr>\n",
       "      <th>darwin</th>\n",
       "      <td>3.000000</td>\n",
       "      <td>3.162278</td>\n",
       "      <td>3.000000</td>\n",
       "    </tr>\n",
       "  </tbody>\n",
       "</table>\n",
       "</div>"
      ],
      "text/plain": [
       "              sep       oct       nov\n",
       "alice    2.828427  2.828427  3.000000\n",
       "bob      3.162278  3.000000  3.000000\n",
       "charles  2.000000  2.828427  1.414214\n",
       "darwin   3.000000  3.162278  3.000000"
      ]
     },
     "execution_count": 92,
     "metadata": {},
     "output_type": "execute_result"
    }
   ],
   "source": [
    "np.sqrt(grades)"
   ]
  },
  {
   "cell_type": "markdown",
   "id": "c7737ba3",
   "metadata": {
    "papermill": {
     "duration": 0.059434,
     "end_time": "2024-09-03T16:12:02.832384",
     "exception": false,
     "start_time": "2024-09-03T16:12:02.772950",
     "status": "completed"
    },
    "tags": []
   },
   "source": [
    "Similarly, adding a single value to a DataFrame will add that value to all elements in the DataFrame. This is called broadcasting:"
   ]
  },
  {
   "cell_type": "code",
   "execution_count": 93,
   "id": "dde1cb65",
   "metadata": {
    "execution": {
     "iopub.execute_input": "2024-09-03T16:12:02.955582Z",
     "iopub.status.busy": "2024-09-03T16:12:02.955140Z",
     "iopub.status.idle": "2024-09-03T16:12:02.966005Z",
     "shell.execute_reply": "2024-09-03T16:12:02.964749Z"
    },
    "papermill": {
     "duration": 0.074281,
     "end_time": "2024-09-03T16:12:02.968304",
     "exception": false,
     "start_time": "2024-09-03T16:12:02.894023",
     "status": "completed"
    },
    "tags": []
   },
   "outputs": [
    {
     "data": {
      "text/html": [
       "<div>\n",
       "<style scoped>\n",
       "    .dataframe tbody tr th:only-of-type {\n",
       "        vertical-align: middle;\n",
       "    }\n",
       "\n",
       "    .dataframe tbody tr th {\n",
       "        vertical-align: top;\n",
       "    }\n",
       "\n",
       "    .dataframe thead th {\n",
       "        text-align: right;\n",
       "    }\n",
       "</style>\n",
       "<table border=\"1\" class=\"dataframe\">\n",
       "  <thead>\n",
       "    <tr style=\"text-align: right;\">\n",
       "      <th></th>\n",
       "      <th>sep</th>\n",
       "      <th>oct</th>\n",
       "      <th>nov</th>\n",
       "    </tr>\n",
       "  </thead>\n",
       "  <tbody>\n",
       "    <tr>\n",
       "      <th>alice</th>\n",
       "      <td>9</td>\n",
       "      <td>9</td>\n",
       "      <td>10</td>\n",
       "    </tr>\n",
       "    <tr>\n",
       "      <th>bob</th>\n",
       "      <td>11</td>\n",
       "      <td>10</td>\n",
       "      <td>10</td>\n",
       "    </tr>\n",
       "    <tr>\n",
       "      <th>charles</th>\n",
       "      <td>5</td>\n",
       "      <td>9</td>\n",
       "      <td>3</td>\n",
       "    </tr>\n",
       "    <tr>\n",
       "      <th>darwin</th>\n",
       "      <td>10</td>\n",
       "      <td>11</td>\n",
       "      <td>10</td>\n",
       "    </tr>\n",
       "  </tbody>\n",
       "</table>\n",
       "</div>"
      ],
      "text/plain": [
       "         sep  oct  nov\n",
       "alice      9    9   10\n",
       "bob       11   10   10\n",
       "charles    5    9    3\n",
       "darwin    10   11   10"
      ]
     },
     "execution_count": 93,
     "metadata": {},
     "output_type": "execute_result"
    }
   ],
   "source": [
    "grades + 1"
   ]
  },
  {
   "cell_type": "markdown",
   "id": "83274be9",
   "metadata": {
    "papermill": {
     "duration": 0.059673,
     "end_time": "2024-09-03T16:12:03.087788",
     "exception": false,
     "start_time": "2024-09-03T16:12:03.028115",
     "status": "completed"
    },
    "tags": []
   },
   "source": [
    "### Of course, the same is true for all other binary operations, including arithmetic (`*`,`/`,`**`...) and conditional (`>`, `==`...) operations:"
   ]
  },
  {
   "cell_type": "code",
   "execution_count": 94,
   "id": "5a8e4e1d",
   "metadata": {
    "execution": {
     "iopub.execute_input": "2024-09-03T16:12:03.209763Z",
     "iopub.status.busy": "2024-09-03T16:12:03.209320Z",
     "iopub.status.idle": "2024-09-03T16:12:03.220778Z",
     "shell.execute_reply": "2024-09-03T16:12:03.219693Z"
    },
    "papermill": {
     "duration": 0.074939,
     "end_time": "2024-09-03T16:12:03.223043",
     "exception": false,
     "start_time": "2024-09-03T16:12:03.148104",
     "status": "completed"
    },
    "tags": []
   },
   "outputs": [
    {
     "data": {
      "text/html": [
       "<div>\n",
       "<style scoped>\n",
       "    .dataframe tbody tr th:only-of-type {\n",
       "        vertical-align: middle;\n",
       "    }\n",
       "\n",
       "    .dataframe tbody tr th {\n",
       "        vertical-align: top;\n",
       "    }\n",
       "\n",
       "    .dataframe thead th {\n",
       "        text-align: right;\n",
       "    }\n",
       "</style>\n",
       "<table border=\"1\" class=\"dataframe\">\n",
       "  <thead>\n",
       "    <tr style=\"text-align: right;\">\n",
       "      <th></th>\n",
       "      <th>sep</th>\n",
       "      <th>oct</th>\n",
       "      <th>nov</th>\n",
       "    </tr>\n",
       "  </thead>\n",
       "  <tbody>\n",
       "    <tr>\n",
       "      <th>alice</th>\n",
       "      <td>True</td>\n",
       "      <td>True</td>\n",
       "      <td>True</td>\n",
       "    </tr>\n",
       "    <tr>\n",
       "      <th>bob</th>\n",
       "      <td>True</td>\n",
       "      <td>True</td>\n",
       "      <td>True</td>\n",
       "    </tr>\n",
       "    <tr>\n",
       "      <th>charles</th>\n",
       "      <td>False</td>\n",
       "      <td>True</td>\n",
       "      <td>False</td>\n",
       "    </tr>\n",
       "    <tr>\n",
       "      <th>darwin</th>\n",
       "      <td>True</td>\n",
       "      <td>True</td>\n",
       "      <td>True</td>\n",
       "    </tr>\n",
       "  </tbody>\n",
       "</table>\n",
       "</div>"
      ],
      "text/plain": [
       "           sep   oct    nov\n",
       "alice     True  True   True\n",
       "bob       True  True   True\n",
       "charles  False  True  False\n",
       "darwin    True  True   True"
      ]
     },
     "execution_count": 94,
     "metadata": {},
     "output_type": "execute_result"
    }
   ],
   "source": [
    "grades >= 5"
   ]
  },
  {
   "cell_type": "markdown",
   "id": "4648ca0d",
   "metadata": {
    "papermill": {
     "duration": 0.06028,
     "end_time": "2024-09-03T16:12:03.344576",
     "exception": false,
     "start_time": "2024-09-03T16:12:03.284296",
     "status": "completed"
    },
    "tags": []
   },
   "source": [
    "### Aggregation operations, such as computing the max, the sum or the mean of a DataFrame, apply to each column, and you get back a Series object:"
   ]
  },
  {
   "cell_type": "code",
   "execution_count": 95,
   "id": "2cf9992c",
   "metadata": {
    "execution": {
     "iopub.execute_input": "2024-09-03T16:12:03.466691Z",
     "iopub.status.busy": "2024-09-03T16:12:03.466251Z",
     "iopub.status.idle": "2024-09-03T16:12:03.474828Z",
     "shell.execute_reply": "2024-09-03T16:12:03.473731Z"
    },
    "papermill": {
     "duration": 0.072664,
     "end_time": "2024-09-03T16:12:03.476954",
     "exception": false,
     "start_time": "2024-09-03T16:12:03.404290",
     "status": "completed"
    },
    "tags": []
   },
   "outputs": [
    {
     "data": {
      "text/plain": [
       "sep    7.75\n",
       "oct    8.75\n",
       "nov    7.25\n",
       "dtype: float64"
      ]
     },
     "execution_count": 95,
     "metadata": {},
     "output_type": "execute_result"
    }
   ],
   "source": [
    "grades.mean()"
   ]
  },
  {
   "cell_type": "markdown",
   "id": "09057151",
   "metadata": {
    "papermill": {
     "duration": 0.060241,
     "end_time": "2024-09-03T16:12:03.597139",
     "exception": false,
     "start_time": "2024-09-03T16:12:03.536898",
     "status": "completed"
    },
    "tags": []
   },
   "source": [
    "### The all method is also an aggregation operation: it checks whether all values are True or not. Let's see during which months all students got a grade greater than 5:"
   ]
  },
  {
   "cell_type": "code",
   "execution_count": 96,
   "id": "5da921ac",
   "metadata": {
    "execution": {
     "iopub.execute_input": "2024-09-03T16:12:03.722217Z",
     "iopub.status.busy": "2024-09-03T16:12:03.721783Z",
     "iopub.status.idle": "2024-09-03T16:12:03.730804Z",
     "shell.execute_reply": "2024-09-03T16:12:03.729708Z"
    },
    "papermill": {
     "duration": 0.074816,
     "end_time": "2024-09-03T16:12:03.732972",
     "exception": false,
     "start_time": "2024-09-03T16:12:03.658156",
     "status": "completed"
    },
    "tags": []
   },
   "outputs": [
    {
     "data": {
      "text/plain": [
       "sep    False\n",
       "oct     True\n",
       "nov    False\n",
       "dtype: bool"
      ]
     },
     "execution_count": 96,
     "metadata": {},
     "output_type": "execute_result"
    }
   ],
   "source": [
    "(grades > 5).all()"
   ]
  },
  {
   "cell_type": "markdown",
   "id": "44cd1437",
   "metadata": {
    "papermill": {
     "duration": 0.060725,
     "end_time": "2024-09-03T16:12:03.854120",
     "exception": false,
     "start_time": "2024-09-03T16:12:03.793395",
     "status": "completed"
    },
    "tags": []
   },
   "source": [
    "### Most of these functions take an optional axis parameter which lets you specify along which axis of the DataFrame you want the operation executed. The default is axis=0, meaning that the operation is executed vertically (on each column). You can set axis=1 to execute the operation horizontally (on each row). For example, let's find out which students had all grades greater than 5:"
   ]
  },
  {
   "cell_type": "code",
   "execution_count": 97,
   "id": "f3509175",
   "metadata": {
    "execution": {
     "iopub.execute_input": "2024-09-03T16:12:03.978418Z",
     "iopub.status.busy": "2024-09-03T16:12:03.977968Z",
     "iopub.status.idle": "2024-09-03T16:12:03.987656Z",
     "shell.execute_reply": "2024-09-03T16:12:03.986552Z"
    },
    "papermill": {
     "duration": 0.073563,
     "end_time": "2024-09-03T16:12:03.989793",
     "exception": false,
     "start_time": "2024-09-03T16:12:03.916230",
     "status": "completed"
    },
    "tags": []
   },
   "outputs": [
    {
     "data": {
      "text/plain": [
       "alice       True\n",
       "bob         True\n",
       "charles    False\n",
       "darwin      True\n",
       "dtype: bool"
      ]
     },
     "execution_count": 97,
     "metadata": {},
     "output_type": "execute_result"
    }
   ],
   "source": [
    "(grades > 5).all(axis=1)"
   ]
  },
  {
   "cell_type": "markdown",
   "id": "1af41968",
   "metadata": {
    "papermill": {
     "duration": 0.060598,
     "end_time": "2024-09-03T16:12:04.112516",
     "exception": false,
     "start_time": "2024-09-03T16:12:04.051918",
     "status": "completed"
    },
    "tags": []
   },
   "source": [
    "### The any method returns True if any value is True. Let's see who got at least one grade 10:\n",
    "\n",
    "\n"
   ]
  },
  {
   "cell_type": "code",
   "execution_count": 98,
   "id": "0a03666b",
   "metadata": {
    "execution": {
     "iopub.execute_input": "2024-09-03T16:12:04.237336Z",
     "iopub.status.busy": "2024-09-03T16:12:04.236918Z",
     "iopub.status.idle": "2024-09-03T16:12:04.246314Z",
     "shell.execute_reply": "2024-09-03T16:12:04.245226Z"
    },
    "papermill": {
     "duration": 0.073952,
     "end_time": "2024-09-03T16:12:04.248581",
     "exception": false,
     "start_time": "2024-09-03T16:12:04.174629",
     "status": "completed"
    },
    "tags": []
   },
   "outputs": [
    {
     "data": {
      "text/plain": [
       "alice      False\n",
       "bob         True\n",
       "charles    False\n",
       "darwin      True\n",
       "dtype: bool"
      ]
     },
     "execution_count": 98,
     "metadata": {},
     "output_type": "execute_result"
    }
   ],
   "source": [
    "(grades == 10).any(axis=1)"
   ]
  },
  {
   "cell_type": "markdown",
   "id": "2197e9fe",
   "metadata": {
    "papermill": {
     "duration": 0.060732,
     "end_time": "2024-09-03T16:12:04.369788",
     "exception": false,
     "start_time": "2024-09-03T16:12:04.309056",
     "status": "completed"
    },
    "tags": []
   },
   "source": [
    "### If you add a Series object to a DataFrame (or execute any other binary operation), pandas attempts to broadcast the operation to all rows in the DataFrame. This only works if the Series has the same size as the DataFrames rows. For example, let's subtract the mean of the DataFrame (a Series object) from the DataFrame:"
   ]
  },
  {
   "cell_type": "code",
   "execution_count": 99,
   "id": "64ce8f9b",
   "metadata": {
    "execution": {
     "iopub.execute_input": "2024-09-03T16:12:04.493094Z",
     "iopub.status.busy": "2024-09-03T16:12:04.492671Z",
     "iopub.status.idle": "2024-09-03T16:12:04.505446Z",
     "shell.execute_reply": "2024-09-03T16:12:04.504424Z"
    },
    "papermill": {
     "duration": 0.076777,
     "end_time": "2024-09-03T16:12:04.507664",
     "exception": false,
     "start_time": "2024-09-03T16:12:04.430887",
     "status": "completed"
    },
    "tags": []
   },
   "outputs": [
    {
     "data": {
      "text/html": [
       "<div>\n",
       "<style scoped>\n",
       "    .dataframe tbody tr th:only-of-type {\n",
       "        vertical-align: middle;\n",
       "    }\n",
       "\n",
       "    .dataframe tbody tr th {\n",
       "        vertical-align: top;\n",
       "    }\n",
       "\n",
       "    .dataframe thead th {\n",
       "        text-align: right;\n",
       "    }\n",
       "</style>\n",
       "<table border=\"1\" class=\"dataframe\">\n",
       "  <thead>\n",
       "    <tr style=\"text-align: right;\">\n",
       "      <th></th>\n",
       "      <th>sep</th>\n",
       "      <th>oct</th>\n",
       "      <th>nov</th>\n",
       "    </tr>\n",
       "  </thead>\n",
       "  <tbody>\n",
       "    <tr>\n",
       "      <th>alice</th>\n",
       "      <td>0.25</td>\n",
       "      <td>-0.75</td>\n",
       "      <td>1.75</td>\n",
       "    </tr>\n",
       "    <tr>\n",
       "      <th>bob</th>\n",
       "      <td>2.25</td>\n",
       "      <td>0.25</td>\n",
       "      <td>1.75</td>\n",
       "    </tr>\n",
       "    <tr>\n",
       "      <th>charles</th>\n",
       "      <td>-3.75</td>\n",
       "      <td>-0.75</td>\n",
       "      <td>-5.25</td>\n",
       "    </tr>\n",
       "    <tr>\n",
       "      <th>darwin</th>\n",
       "      <td>1.25</td>\n",
       "      <td>1.25</td>\n",
       "      <td>1.75</td>\n",
       "    </tr>\n",
       "  </tbody>\n",
       "</table>\n",
       "</div>"
      ],
      "text/plain": [
       "          sep   oct   nov\n",
       "alice    0.25 -0.75  1.75\n",
       "bob      2.25  0.25  1.75\n",
       "charles -3.75 -0.75 -5.25\n",
       "darwin   1.25  1.25  1.75"
      ]
     },
     "execution_count": 99,
     "metadata": {},
     "output_type": "execute_result"
    }
   ],
   "source": [
    "grades - grades.mean()"
   ]
  },
  {
   "cell_type": "markdown",
   "id": "2caebf25",
   "metadata": {
    "papermill": {
     "duration": 0.060397,
     "end_time": "2024-09-03T16:12:04.628757",
     "exception": false,
     "start_time": "2024-09-03T16:12:04.568360",
     "status": "completed"
    },
    "tags": []
   },
   "source": [
    "### We subtracted 7.75 from all September grades, 8.75 from October grades and 7.50 from November grades. It is equivalent to subtracting this DataFrame:"
   ]
  },
  {
   "cell_type": "code",
   "execution_count": 100,
   "id": "fbc49277",
   "metadata": {
    "execution": {
     "iopub.execute_input": "2024-09-03T16:12:04.755381Z",
     "iopub.status.busy": "2024-09-03T16:12:04.754964Z",
     "iopub.status.idle": "2024-09-03T16:12:04.768120Z",
     "shell.execute_reply": "2024-09-03T16:12:04.766961Z"
    },
    "papermill": {
     "duration": 0.0789,
     "end_time": "2024-09-03T16:12:04.770486",
     "exception": false,
     "start_time": "2024-09-03T16:12:04.691586",
     "status": "completed"
    },
    "tags": []
   },
   "outputs": [
    {
     "data": {
      "text/html": [
       "<div>\n",
       "<style scoped>\n",
       "    .dataframe tbody tr th:only-of-type {\n",
       "        vertical-align: middle;\n",
       "    }\n",
       "\n",
       "    .dataframe tbody tr th {\n",
       "        vertical-align: top;\n",
       "    }\n",
       "\n",
       "    .dataframe thead th {\n",
       "        text-align: right;\n",
       "    }\n",
       "</style>\n",
       "<table border=\"1\" class=\"dataframe\">\n",
       "  <thead>\n",
       "    <tr style=\"text-align: right;\">\n",
       "      <th></th>\n",
       "      <th>sep</th>\n",
       "      <th>oct</th>\n",
       "      <th>nov</th>\n",
       "    </tr>\n",
       "  </thead>\n",
       "  <tbody>\n",
       "    <tr>\n",
       "      <th>alice</th>\n",
       "      <td>7.75</td>\n",
       "      <td>8.75</td>\n",
       "      <td>7.5</td>\n",
       "    </tr>\n",
       "    <tr>\n",
       "      <th>bob</th>\n",
       "      <td>7.75</td>\n",
       "      <td>8.75</td>\n",
       "      <td>7.5</td>\n",
       "    </tr>\n",
       "    <tr>\n",
       "      <th>charles</th>\n",
       "      <td>7.75</td>\n",
       "      <td>8.75</td>\n",
       "      <td>7.5</td>\n",
       "    </tr>\n",
       "    <tr>\n",
       "      <th>darwin</th>\n",
       "      <td>7.75</td>\n",
       "      <td>8.75</td>\n",
       "      <td>7.5</td>\n",
       "    </tr>\n",
       "  </tbody>\n",
       "</table>\n",
       "</div>"
      ],
      "text/plain": [
       "          sep   oct  nov\n",
       "alice    7.75  8.75  7.5\n",
       "bob      7.75  8.75  7.5\n",
       "charles  7.75  8.75  7.5\n",
       "darwin   7.75  8.75  7.5"
      ]
     },
     "execution_count": 100,
     "metadata": {},
     "output_type": "execute_result"
    }
   ],
   "source": [
    "pd.DataFrame([[7.75,8.75,7.50]]*4, index = grades.index, columns=grades.columns)"
   ]
  },
  {
   "cell_type": "code",
   "execution_count": 101,
   "id": "4bd40b34",
   "metadata": {
    "execution": {
     "iopub.execute_input": "2024-09-03T16:12:04.897645Z",
     "iopub.status.busy": "2024-09-03T16:12:04.897194Z",
     "iopub.status.idle": "2024-09-03T16:12:04.909379Z",
     "shell.execute_reply": "2024-09-03T16:12:04.908203Z"
    },
    "papermill": {
     "duration": 0.078806,
     "end_time": "2024-09-03T16:12:04.911744",
     "exception": false,
     "start_time": "2024-09-03T16:12:04.832938",
     "status": "completed"
    },
    "tags": []
   },
   "outputs": [
    {
     "data": {
      "text/html": [
       "<div>\n",
       "<style scoped>\n",
       "    .dataframe tbody tr th:only-of-type {\n",
       "        vertical-align: middle;\n",
       "    }\n",
       "\n",
       "    .dataframe tbody tr th {\n",
       "        vertical-align: top;\n",
       "    }\n",
       "\n",
       "    .dataframe thead th {\n",
       "        text-align: right;\n",
       "    }\n",
       "</style>\n",
       "<table border=\"1\" class=\"dataframe\">\n",
       "  <thead>\n",
       "    <tr style=\"text-align: right;\">\n",
       "      <th></th>\n",
       "      <th>sep</th>\n",
       "      <th>oct</th>\n",
       "      <th>nov</th>\n",
       "    </tr>\n",
       "  </thead>\n",
       "  <tbody>\n",
       "    <tr>\n",
       "      <th>alice</th>\n",
       "      <td>0.083333</td>\n",
       "      <td>0.083333</td>\n",
       "      <td>1.083333</td>\n",
       "    </tr>\n",
       "    <tr>\n",
       "      <th>bob</th>\n",
       "      <td>2.083333</td>\n",
       "      <td>1.083333</td>\n",
       "      <td>1.083333</td>\n",
       "    </tr>\n",
       "    <tr>\n",
       "      <th>charles</th>\n",
       "      <td>-3.916667</td>\n",
       "      <td>0.083333</td>\n",
       "      <td>-5.916667</td>\n",
       "    </tr>\n",
       "    <tr>\n",
       "      <th>darwin</th>\n",
       "      <td>1.083333</td>\n",
       "      <td>2.083333</td>\n",
       "      <td>1.083333</td>\n",
       "    </tr>\n",
       "  </tbody>\n",
       "</table>\n",
       "</div>"
      ],
      "text/plain": [
       "              sep       oct       nov\n",
       "alice    0.083333  0.083333  1.083333\n",
       "bob      2.083333  1.083333  1.083333\n",
       "charles -3.916667  0.083333 -5.916667\n",
       "darwin   1.083333  2.083333  1.083333"
      ]
     },
     "execution_count": 101,
     "metadata": {},
     "output_type": "execute_result"
    }
   ],
   "source": [
    "grades - grades.values.mean()"
   ]
  },
  {
   "cell_type": "markdown",
   "id": "df469e86",
   "metadata": {
    "papermill": {
     "duration": 0.061212,
     "end_time": "2024-09-03T16:12:05.034297",
     "exception": false,
     "start_time": "2024-09-03T16:12:04.973085",
     "status": "completed"
    },
    "tags": []
   },
   "source": [
    "## Automatic alignment\n",
    "Similar to `Series`, when operating on multiple `DataFrame`s, pandas automatically aligns them by row index label, but also by column names. Let's create a `DataFrame` with bonus points for each person from October to December:"
   ]
  },
  {
   "cell_type": "code",
   "execution_count": 102,
   "id": "5aa211db",
   "metadata": {
    "execution": {
     "iopub.execute_input": "2024-09-03T16:12:05.160162Z",
     "iopub.status.busy": "2024-09-03T16:12:05.159737Z",
     "iopub.status.idle": "2024-09-03T16:12:05.173358Z",
     "shell.execute_reply": "2024-09-03T16:12:05.172308Z"
    },
    "papermill": {
     "duration": 0.079142,
     "end_time": "2024-09-03T16:12:05.175439",
     "exception": false,
     "start_time": "2024-09-03T16:12:05.096297",
     "status": "completed"
    },
    "tags": []
   },
   "outputs": [
    {
     "data": {
      "text/html": [
       "<div>\n",
       "<style scoped>\n",
       "    .dataframe tbody tr th:only-of-type {\n",
       "        vertical-align: middle;\n",
       "    }\n",
       "\n",
       "    .dataframe tbody tr th {\n",
       "        vertical-align: top;\n",
       "    }\n",
       "\n",
       "    .dataframe thead th {\n",
       "        text-align: right;\n",
       "    }\n",
       "</style>\n",
       "<table border=\"1\" class=\"dataframe\">\n",
       "  <thead>\n",
       "    <tr style=\"text-align: right;\">\n",
       "      <th></th>\n",
       "      <th>oct</th>\n",
       "      <th>nov</th>\n",
       "      <th>dec</th>\n",
       "    </tr>\n",
       "  </thead>\n",
       "  <tbody>\n",
       "    <tr>\n",
       "      <th>bob</th>\n",
       "      <td>0.0</td>\n",
       "      <td>NaN</td>\n",
       "      <td>2.0</td>\n",
       "    </tr>\n",
       "    <tr>\n",
       "      <th>colin</th>\n",
       "      <td>NaN</td>\n",
       "      <td>1.0</td>\n",
       "      <td>0.0</td>\n",
       "    </tr>\n",
       "    <tr>\n",
       "      <th>darwin</th>\n",
       "      <td>0.0</td>\n",
       "      <td>1.0</td>\n",
       "      <td>0.0</td>\n",
       "    </tr>\n",
       "    <tr>\n",
       "      <th>charles</th>\n",
       "      <td>3.0</td>\n",
       "      <td>3.0</td>\n",
       "      <td>0.0</td>\n",
       "    </tr>\n",
       "  </tbody>\n",
       "</table>\n",
       "</div>"
      ],
      "text/plain": [
       "         oct  nov  dec\n",
       "bob      0.0  NaN  2.0\n",
       "colin    NaN  1.0  0.0\n",
       "darwin   0.0  1.0  0.0\n",
       "charles  3.0  3.0  0.0"
      ]
     },
     "execution_count": 102,
     "metadata": {},
     "output_type": "execute_result"
    }
   ],
   "source": [
    "bonus_array = np.array([[0,np.nan,2], [np.nan, 1,0], [0,1,0], [3,3,0]])\n",
    "bonus_points = pd.DataFrame(bonus_array, columns=[\"oct\",\"nov\", \"dec\"], index=[\"bob\", \"colin\", \"darwin\", \"charles\"])\n",
    "bonus_points"
   ]
  },
  {
   "cell_type": "code",
   "execution_count": 103,
   "id": "414291c7",
   "metadata": {
    "execution": {
     "iopub.execute_input": "2024-09-03T16:12:05.301898Z",
     "iopub.status.busy": "2024-09-03T16:12:05.301443Z",
     "iopub.status.idle": "2024-09-03T16:12:05.316505Z",
     "shell.execute_reply": "2024-09-03T16:12:05.315525Z"
    },
    "papermill": {
     "duration": 0.080307,
     "end_time": "2024-09-03T16:12:05.318807",
     "exception": false,
     "start_time": "2024-09-03T16:12:05.238500",
     "status": "completed"
    },
    "tags": []
   },
   "outputs": [
    {
     "data": {
      "text/html": [
       "<div>\n",
       "<style scoped>\n",
       "    .dataframe tbody tr th:only-of-type {\n",
       "        vertical-align: middle;\n",
       "    }\n",
       "\n",
       "    .dataframe tbody tr th {\n",
       "        vertical-align: top;\n",
       "    }\n",
       "\n",
       "    .dataframe thead th {\n",
       "        text-align: right;\n",
       "    }\n",
       "</style>\n",
       "<table border=\"1\" class=\"dataframe\">\n",
       "  <thead>\n",
       "    <tr style=\"text-align: right;\">\n",
       "      <th></th>\n",
       "      <th>dec</th>\n",
       "      <th>nov</th>\n",
       "      <th>oct</th>\n",
       "      <th>sep</th>\n",
       "    </tr>\n",
       "  </thead>\n",
       "  <tbody>\n",
       "    <tr>\n",
       "      <th>alice</th>\n",
       "      <td>NaN</td>\n",
       "      <td>NaN</td>\n",
       "      <td>NaN</td>\n",
       "      <td>NaN</td>\n",
       "    </tr>\n",
       "    <tr>\n",
       "      <th>bob</th>\n",
       "      <td>NaN</td>\n",
       "      <td>NaN</td>\n",
       "      <td>9.0</td>\n",
       "      <td>NaN</td>\n",
       "    </tr>\n",
       "    <tr>\n",
       "      <th>charles</th>\n",
       "      <td>NaN</td>\n",
       "      <td>5.0</td>\n",
       "      <td>11.0</td>\n",
       "      <td>NaN</td>\n",
       "    </tr>\n",
       "    <tr>\n",
       "      <th>colin</th>\n",
       "      <td>NaN</td>\n",
       "      <td>NaN</td>\n",
       "      <td>NaN</td>\n",
       "      <td>NaN</td>\n",
       "    </tr>\n",
       "    <tr>\n",
       "      <th>darwin</th>\n",
       "      <td>NaN</td>\n",
       "      <td>10.0</td>\n",
       "      <td>10.0</td>\n",
       "      <td>NaN</td>\n",
       "    </tr>\n",
       "  </tbody>\n",
       "</table>\n",
       "</div>"
      ],
      "text/plain": [
       "         dec   nov   oct  sep\n",
       "alice    NaN   NaN   NaN  NaN\n",
       "bob      NaN   NaN   9.0  NaN\n",
       "charles  NaN   5.0  11.0  NaN\n",
       "colin    NaN   NaN   NaN  NaN\n",
       "darwin   NaN  10.0  10.0  NaN"
      ]
     },
     "execution_count": 103,
     "metadata": {},
     "output_type": "execute_result"
    }
   ],
   "source": [
    "grades + bonus_points"
   ]
  },
  {
   "cell_type": "markdown",
   "id": "5a3ed803",
   "metadata": {
    "papermill": {
     "duration": 0.062262,
     "end_time": "2024-09-03T16:12:05.443114",
     "exception": false,
     "start_time": "2024-09-03T16:12:05.380852",
     "status": "completed"
    },
    "tags": []
   },
   "source": [
    "Looks like the addition worked in some cases but way too many elements are now empty. That's because when aligning the `DataFrame`s, some columns and rows were only present on one side, and thus they were considered missing on the other side (`NaN`). Then adding `NaN` to a number results in `NaN`, hence the result.\n",
    "\n",
    "## Handling missing data\n",
    "Dealing with missing data is a frequent task when working with real life data. Pandas offers a few tools to handle missing data.\n",
    " \n",
    "Let's try to fix the problem above. For example, we can decide that missing data should result in a zero, instead of `NaN`. We can replace all `NaN` values by any value using the `fillna()` method:"
   ]
  },
  {
   "cell_type": "code",
   "execution_count": 104,
   "id": "8b3c7b74",
   "metadata": {
    "execution": {
     "iopub.execute_input": "2024-09-03T16:12:05.571951Z",
     "iopub.status.busy": "2024-09-03T16:12:05.571486Z",
     "iopub.status.idle": "2024-09-03T16:12:05.588026Z",
     "shell.execute_reply": "2024-09-03T16:12:05.586906Z"
    },
    "papermill": {
     "duration": 0.0822,
     "end_time": "2024-09-03T16:12:05.590458",
     "exception": false,
     "start_time": "2024-09-03T16:12:05.508258",
     "status": "completed"
    },
    "tags": []
   },
   "outputs": [
    {
     "data": {
      "text/html": [
       "<div>\n",
       "<style scoped>\n",
       "    .dataframe tbody tr th:only-of-type {\n",
       "        vertical-align: middle;\n",
       "    }\n",
       "\n",
       "    .dataframe tbody tr th {\n",
       "        vertical-align: top;\n",
       "    }\n",
       "\n",
       "    .dataframe thead th {\n",
       "        text-align: right;\n",
       "    }\n",
       "</style>\n",
       "<table border=\"1\" class=\"dataframe\">\n",
       "  <thead>\n",
       "    <tr style=\"text-align: right;\">\n",
       "      <th></th>\n",
       "      <th>dec</th>\n",
       "      <th>nov</th>\n",
       "      <th>oct</th>\n",
       "      <th>sep</th>\n",
       "    </tr>\n",
       "  </thead>\n",
       "  <tbody>\n",
       "    <tr>\n",
       "      <th>alice</th>\n",
       "      <td>0.0</td>\n",
       "      <td>0.0</td>\n",
       "      <td>0.0</td>\n",
       "      <td>0.0</td>\n",
       "    </tr>\n",
       "    <tr>\n",
       "      <th>bob</th>\n",
       "      <td>0.0</td>\n",
       "      <td>0.0</td>\n",
       "      <td>9.0</td>\n",
       "      <td>0.0</td>\n",
       "    </tr>\n",
       "    <tr>\n",
       "      <th>charles</th>\n",
       "      <td>0.0</td>\n",
       "      <td>5.0</td>\n",
       "      <td>11.0</td>\n",
       "      <td>0.0</td>\n",
       "    </tr>\n",
       "    <tr>\n",
       "      <th>colin</th>\n",
       "      <td>0.0</td>\n",
       "      <td>0.0</td>\n",
       "      <td>0.0</td>\n",
       "      <td>0.0</td>\n",
       "    </tr>\n",
       "    <tr>\n",
       "      <th>darwin</th>\n",
       "      <td>0.0</td>\n",
       "      <td>10.0</td>\n",
       "      <td>10.0</td>\n",
       "      <td>0.0</td>\n",
       "    </tr>\n",
       "  </tbody>\n",
       "</table>\n",
       "</div>"
      ],
      "text/plain": [
       "         dec   nov   oct  sep\n",
       "alice    0.0   0.0   0.0  0.0\n",
       "bob      0.0   0.0   9.0  0.0\n",
       "charles  0.0   5.0  11.0  0.0\n",
       "colin    0.0   0.0   0.0  0.0\n",
       "darwin   0.0  10.0  10.0  0.0"
      ]
     },
     "execution_count": 104,
     "metadata": {},
     "output_type": "execute_result"
    }
   ],
   "source": [
    "(grades + bonus_points).fillna(0)"
   ]
  },
  {
   "cell_type": "markdown",
   "id": "077ff736",
   "metadata": {
    "papermill": {
     "duration": 0.061334,
     "end_time": "2024-09-03T16:12:05.713406",
     "exception": false,
     "start_time": "2024-09-03T16:12:05.652072",
     "status": "completed"
    },
    "tags": []
   },
   "source": [
    "### It's a bit unfair that we're setting grades to zero in September, though. Perhaps we should decide that missing grades are missing grades, but missing bonus points should be replaced by zeros:"
   ]
  },
  {
   "cell_type": "code",
   "execution_count": 105,
   "id": "c9bdeb69",
   "metadata": {
    "execution": {
     "iopub.execute_input": "2024-09-03T16:12:05.839220Z",
     "iopub.status.busy": "2024-09-03T16:12:05.838788Z",
     "iopub.status.idle": "2024-09-03T16:12:05.857130Z",
     "shell.execute_reply": "2024-09-03T16:12:05.856114Z"
    },
    "papermill": {
     "duration": 0.083502,
     "end_time": "2024-09-03T16:12:05.859249",
     "exception": false,
     "start_time": "2024-09-03T16:12:05.775747",
     "status": "completed"
    },
    "tags": []
   },
   "outputs": [
    {
     "data": {
      "text/html": [
       "<div>\n",
       "<style scoped>\n",
       "    .dataframe tbody tr th:only-of-type {\n",
       "        vertical-align: middle;\n",
       "    }\n",
       "\n",
       "    .dataframe tbody tr th {\n",
       "        vertical-align: top;\n",
       "    }\n",
       "\n",
       "    .dataframe thead th {\n",
       "        text-align: right;\n",
       "    }\n",
       "</style>\n",
       "<table border=\"1\" class=\"dataframe\">\n",
       "  <thead>\n",
       "    <tr style=\"text-align: right;\">\n",
       "      <th></th>\n",
       "      <th>dec</th>\n",
       "      <th>nov</th>\n",
       "      <th>oct</th>\n",
       "      <th>sep</th>\n",
       "    </tr>\n",
       "  </thead>\n",
       "  <tbody>\n",
       "    <tr>\n",
       "      <th>alice</th>\n",
       "      <td>NaN</td>\n",
       "      <td>9.0</td>\n",
       "      <td>8.0</td>\n",
       "      <td>8.0</td>\n",
       "    </tr>\n",
       "    <tr>\n",
       "      <th>bob</th>\n",
       "      <td>NaN</td>\n",
       "      <td>9.0</td>\n",
       "      <td>9.0</td>\n",
       "      <td>10.0</td>\n",
       "    </tr>\n",
       "    <tr>\n",
       "      <th>charles</th>\n",
       "      <td>NaN</td>\n",
       "      <td>5.0</td>\n",
       "      <td>11.0</td>\n",
       "      <td>4.0</td>\n",
       "    </tr>\n",
       "    <tr>\n",
       "      <th>colin</th>\n",
       "      <td>NaN</td>\n",
       "      <td>NaN</td>\n",
       "      <td>NaN</td>\n",
       "      <td>NaN</td>\n",
       "    </tr>\n",
       "    <tr>\n",
       "      <th>darwin</th>\n",
       "      <td>NaN</td>\n",
       "      <td>10.0</td>\n",
       "      <td>10.0</td>\n",
       "      <td>9.0</td>\n",
       "    </tr>\n",
       "  </tbody>\n",
       "</table>\n",
       "</div>"
      ],
      "text/plain": [
       "         dec   nov   oct   sep\n",
       "alice    NaN   9.0   8.0   8.0\n",
       "bob      NaN   9.0   9.0  10.0\n",
       "charles  NaN   5.0  11.0   4.0\n",
       "colin    NaN   NaN   NaN   NaN\n",
       "darwin   NaN  10.0  10.0   9.0"
      ]
     },
     "execution_count": 105,
     "metadata": {},
     "output_type": "execute_result"
    }
   ],
   "source": [
    "fixed_bonus_points = bonus_points.fillna(0)\n",
    "fixed_bonus_points.insert(0, \"sep\", 0)\n",
    "fixed_bonus_points.loc[\"alice\"] = 0\n",
    "grades + fixed_bonus_points"
   ]
  },
  {
   "cell_type": "markdown",
   "id": "6c8e6a91",
   "metadata": {
    "papermill": {
     "duration": 0.061726,
     "end_time": "2024-09-03T16:12:05.984910",
     "exception": false,
     "start_time": "2024-09-03T16:12:05.923184",
     "status": "completed"
    },
    "tags": []
   },
   "source": [
    "That's much better: although we made up some data, we have not been too unfair.\n",
    "\n",
    "Another way to handle missing data is to interpolate. Let's look at the bonus_points DataFrame again"
   ]
  },
  {
   "cell_type": "code",
   "execution_count": 106,
   "id": "254ec110",
   "metadata": {
    "execution": {
     "iopub.execute_input": "2024-09-03T16:12:06.110089Z",
     "iopub.status.busy": "2024-09-03T16:12:06.109644Z",
     "iopub.status.idle": "2024-09-03T16:12:06.121790Z",
     "shell.execute_reply": "2024-09-03T16:12:06.120674Z"
    },
    "papermill": {
     "duration": 0.077473,
     "end_time": "2024-09-03T16:12:06.123972",
     "exception": false,
     "start_time": "2024-09-03T16:12:06.046499",
     "status": "completed"
    },
    "tags": []
   },
   "outputs": [
    {
     "data": {
      "text/html": [
       "<div>\n",
       "<style scoped>\n",
       "    .dataframe tbody tr th:only-of-type {\n",
       "        vertical-align: middle;\n",
       "    }\n",
       "\n",
       "    .dataframe tbody tr th {\n",
       "        vertical-align: top;\n",
       "    }\n",
       "\n",
       "    .dataframe thead th {\n",
       "        text-align: right;\n",
       "    }\n",
       "</style>\n",
       "<table border=\"1\" class=\"dataframe\">\n",
       "  <thead>\n",
       "    <tr style=\"text-align: right;\">\n",
       "      <th></th>\n",
       "      <th>oct</th>\n",
       "      <th>nov</th>\n",
       "      <th>dec</th>\n",
       "    </tr>\n",
       "  </thead>\n",
       "  <tbody>\n",
       "    <tr>\n",
       "      <th>bob</th>\n",
       "      <td>0.0</td>\n",
       "      <td>NaN</td>\n",
       "      <td>2.0</td>\n",
       "    </tr>\n",
       "    <tr>\n",
       "      <th>colin</th>\n",
       "      <td>NaN</td>\n",
       "      <td>1.0</td>\n",
       "      <td>0.0</td>\n",
       "    </tr>\n",
       "    <tr>\n",
       "      <th>darwin</th>\n",
       "      <td>0.0</td>\n",
       "      <td>1.0</td>\n",
       "      <td>0.0</td>\n",
       "    </tr>\n",
       "    <tr>\n",
       "      <th>charles</th>\n",
       "      <td>3.0</td>\n",
       "      <td>3.0</td>\n",
       "      <td>0.0</td>\n",
       "    </tr>\n",
       "  </tbody>\n",
       "</table>\n",
       "</div>"
      ],
      "text/plain": [
       "         oct  nov  dec\n",
       "bob      0.0  NaN  2.0\n",
       "colin    NaN  1.0  0.0\n",
       "darwin   0.0  1.0  0.0\n",
       "charles  3.0  3.0  0.0"
      ]
     },
     "execution_count": 106,
     "metadata": {},
     "output_type": "execute_result"
    }
   ],
   "source": [
    "bonus_points"
   ]
  },
  {
   "cell_type": "markdown",
   "id": "211f1cd4",
   "metadata": {
    "papermill": {
     "duration": 0.063857,
     "end_time": "2024-09-03T16:12:06.252547",
     "exception": false,
     "start_time": "2024-09-03T16:12:06.188690",
     "status": "completed"
    },
    "tags": []
   },
   "source": [
    "### Now let's call the interpolate method. By default, it interpolates vertically (axis=0), so let's tell it to interpolate horizontally (axis=1)"
   ]
  },
  {
   "cell_type": "code",
   "execution_count": 107,
   "id": "dbb82796",
   "metadata": {
    "execution": {
     "iopub.execute_input": "2024-09-03T16:12:06.381569Z",
     "iopub.status.busy": "2024-09-03T16:12:06.381111Z",
     "iopub.status.idle": "2024-09-03T16:12:06.396401Z",
     "shell.execute_reply": "2024-09-03T16:12:06.395101Z"
    },
    "papermill": {
     "duration": 0.084106,
     "end_time": "2024-09-03T16:12:06.398803",
     "exception": false,
     "start_time": "2024-09-03T16:12:06.314697",
     "status": "completed"
    },
    "tags": []
   },
   "outputs": [
    {
     "data": {
      "text/html": [
       "<div>\n",
       "<style scoped>\n",
       "    .dataframe tbody tr th:only-of-type {\n",
       "        vertical-align: middle;\n",
       "    }\n",
       "\n",
       "    .dataframe tbody tr th {\n",
       "        vertical-align: top;\n",
       "    }\n",
       "\n",
       "    .dataframe thead th {\n",
       "        text-align: right;\n",
       "    }\n",
       "</style>\n",
       "<table border=\"1\" class=\"dataframe\">\n",
       "  <thead>\n",
       "    <tr style=\"text-align: right;\">\n",
       "      <th></th>\n",
       "      <th>oct</th>\n",
       "      <th>nov</th>\n",
       "      <th>dec</th>\n",
       "    </tr>\n",
       "  </thead>\n",
       "  <tbody>\n",
       "    <tr>\n",
       "      <th>bob</th>\n",
       "      <td>0.0</td>\n",
       "      <td>1.0</td>\n",
       "      <td>2.0</td>\n",
       "    </tr>\n",
       "    <tr>\n",
       "      <th>colin</th>\n",
       "      <td>NaN</td>\n",
       "      <td>1.0</td>\n",
       "      <td>0.0</td>\n",
       "    </tr>\n",
       "    <tr>\n",
       "      <th>darwin</th>\n",
       "      <td>0.0</td>\n",
       "      <td>1.0</td>\n",
       "      <td>0.0</td>\n",
       "    </tr>\n",
       "    <tr>\n",
       "      <th>charles</th>\n",
       "      <td>3.0</td>\n",
       "      <td>3.0</td>\n",
       "      <td>0.0</td>\n",
       "    </tr>\n",
       "  </tbody>\n",
       "</table>\n",
       "</div>"
      ],
      "text/plain": [
       "         oct  nov  dec\n",
       "bob      0.0  1.0  2.0\n",
       "colin    NaN  1.0  0.0\n",
       "darwin   0.0  1.0  0.0\n",
       "charles  3.0  3.0  0.0"
      ]
     },
     "execution_count": 107,
     "metadata": {},
     "output_type": "execute_result"
    }
   ],
   "source": [
    "bonus_points.interpolate(axis=1)"
   ]
  },
  {
   "cell_type": "markdown",
   "id": "a7cec792",
   "metadata": {
    "papermill": {
     "duration": 0.062437,
     "end_time": "2024-09-03T16:12:06.523614",
     "exception": false,
     "start_time": "2024-09-03T16:12:06.461177",
     "status": "completed"
    },
    "tags": []
   },
   "source": [
    "### Bob had 0 bonus points in October, and 2 in December. When we interpolate for November, we get the mean: 1 bonus point. Colin had 1 bonus point in November, but we do not know how many bonus points he had in September, so we cannot interpolate, this is why there is still a missing value in October after interpolation. To fix this, we can set the September bonus points to 0 before interpolation."
   ]
  },
  {
   "cell_type": "code",
   "execution_count": 108,
   "id": "55a8c9a2",
   "metadata": {
    "execution": {
     "iopub.execute_input": "2024-09-03T16:12:06.649749Z",
     "iopub.status.busy": "2024-09-03T16:12:06.649306Z",
     "iopub.status.idle": "2024-09-03T16:12:06.667816Z",
     "shell.execute_reply": "2024-09-03T16:12:06.666788Z"
    },
    "papermill": {
     "duration": 0.084173,
     "end_time": "2024-09-03T16:12:06.670029",
     "exception": false,
     "start_time": "2024-09-03T16:12:06.585856",
     "status": "completed"
    },
    "tags": []
   },
   "outputs": [
    {
     "data": {
      "text/html": [
       "<div>\n",
       "<style scoped>\n",
       "    .dataframe tbody tr th:only-of-type {\n",
       "        vertical-align: middle;\n",
       "    }\n",
       "\n",
       "    .dataframe tbody tr th {\n",
       "        vertical-align: top;\n",
       "    }\n",
       "\n",
       "    .dataframe thead th {\n",
       "        text-align: right;\n",
       "    }\n",
       "</style>\n",
       "<table border=\"1\" class=\"dataframe\">\n",
       "  <thead>\n",
       "    <tr style=\"text-align: right;\">\n",
       "      <th></th>\n",
       "      <th>sep</th>\n",
       "      <th>oct</th>\n",
       "      <th>nov</th>\n",
       "      <th>dec</th>\n",
       "    </tr>\n",
       "  </thead>\n",
       "  <tbody>\n",
       "    <tr>\n",
       "      <th>bob</th>\n",
       "      <td>0.0</td>\n",
       "      <td>0.0</td>\n",
       "      <td>1.0</td>\n",
       "      <td>2.0</td>\n",
       "    </tr>\n",
       "    <tr>\n",
       "      <th>colin</th>\n",
       "      <td>0.0</td>\n",
       "      <td>0.5</td>\n",
       "      <td>1.0</td>\n",
       "      <td>0.0</td>\n",
       "    </tr>\n",
       "    <tr>\n",
       "      <th>darwin</th>\n",
       "      <td>0.0</td>\n",
       "      <td>0.0</td>\n",
       "      <td>1.0</td>\n",
       "      <td>0.0</td>\n",
       "    </tr>\n",
       "    <tr>\n",
       "      <th>charles</th>\n",
       "      <td>0.0</td>\n",
       "      <td>3.0</td>\n",
       "      <td>3.0</td>\n",
       "      <td>0.0</td>\n",
       "    </tr>\n",
       "    <tr>\n",
       "      <th>alice</th>\n",
       "      <td>0.0</td>\n",
       "      <td>0.0</td>\n",
       "      <td>0.0</td>\n",
       "      <td>0.0</td>\n",
       "    </tr>\n",
       "  </tbody>\n",
       "</table>\n",
       "</div>"
      ],
      "text/plain": [
       "         sep  oct  nov  dec\n",
       "bob      0.0  0.0  1.0  2.0\n",
       "colin    0.0  0.5  1.0  0.0\n",
       "darwin   0.0  0.0  1.0  0.0\n",
       "charles  0.0  3.0  3.0  0.0\n",
       "alice    0.0  0.0  0.0  0.0"
      ]
     },
     "execution_count": 108,
     "metadata": {},
     "output_type": "execute_result"
    }
   ],
   "source": [
    "better_bonus_points = bonus_points.copy()\n",
    "better_bonus_points.insert(0, \"sep\", 0)\n",
    "better_bonus_points.loc[\"alice\"] = 0\n",
    "better_bonus_points = better_bonus_points.interpolate(axis=1)\n",
    "better_bonus_points"
   ]
  },
  {
   "cell_type": "markdown",
   "id": "09bf7648",
   "metadata": {
    "papermill": {
     "duration": 0.067765,
     "end_time": "2024-09-03T16:12:06.799912",
     "exception": false,
     "start_time": "2024-09-03T16:12:06.732147",
     "status": "completed"
    },
    "tags": []
   },
   "source": [
    "### Great, now we have reasonable bonus points everywhere. Let's find out the final grades:"
   ]
  },
  {
   "cell_type": "code",
   "execution_count": 109,
   "id": "4e8656c0",
   "metadata": {
    "execution": {
     "iopub.execute_input": "2024-09-03T16:12:06.939843Z",
     "iopub.status.busy": "2024-09-03T16:12:06.938614Z",
     "iopub.status.idle": "2024-09-03T16:12:06.957018Z",
     "shell.execute_reply": "2024-09-03T16:12:06.955614Z"
    },
    "papermill": {
     "duration": 0.094726,
     "end_time": "2024-09-03T16:12:06.959509",
     "exception": false,
     "start_time": "2024-09-03T16:12:06.864783",
     "status": "completed"
    },
    "tags": []
   },
   "outputs": [
    {
     "data": {
      "text/html": [
       "<div>\n",
       "<style scoped>\n",
       "    .dataframe tbody tr th:only-of-type {\n",
       "        vertical-align: middle;\n",
       "    }\n",
       "\n",
       "    .dataframe tbody tr th {\n",
       "        vertical-align: top;\n",
       "    }\n",
       "\n",
       "    .dataframe thead th {\n",
       "        text-align: right;\n",
       "    }\n",
       "</style>\n",
       "<table border=\"1\" class=\"dataframe\">\n",
       "  <thead>\n",
       "    <tr style=\"text-align: right;\">\n",
       "      <th></th>\n",
       "      <th>dec</th>\n",
       "      <th>nov</th>\n",
       "      <th>oct</th>\n",
       "      <th>sep</th>\n",
       "    </tr>\n",
       "  </thead>\n",
       "  <tbody>\n",
       "    <tr>\n",
       "      <th>alice</th>\n",
       "      <td>NaN</td>\n",
       "      <td>9.0</td>\n",
       "      <td>8.0</td>\n",
       "      <td>8.0</td>\n",
       "    </tr>\n",
       "    <tr>\n",
       "      <th>bob</th>\n",
       "      <td>NaN</td>\n",
       "      <td>10.0</td>\n",
       "      <td>9.0</td>\n",
       "      <td>10.0</td>\n",
       "    </tr>\n",
       "    <tr>\n",
       "      <th>charles</th>\n",
       "      <td>NaN</td>\n",
       "      <td>5.0</td>\n",
       "      <td>11.0</td>\n",
       "      <td>4.0</td>\n",
       "    </tr>\n",
       "    <tr>\n",
       "      <th>colin</th>\n",
       "      <td>NaN</td>\n",
       "      <td>NaN</td>\n",
       "      <td>NaN</td>\n",
       "      <td>NaN</td>\n",
       "    </tr>\n",
       "    <tr>\n",
       "      <th>darwin</th>\n",
       "      <td>NaN</td>\n",
       "      <td>10.0</td>\n",
       "      <td>10.0</td>\n",
       "      <td>9.0</td>\n",
       "    </tr>\n",
       "  </tbody>\n",
       "</table>\n",
       "</div>"
      ],
      "text/plain": [
       "         dec   nov   oct   sep\n",
       "alice    NaN   9.0   8.0   8.0\n",
       "bob      NaN  10.0   9.0  10.0\n",
       "charles  NaN   5.0  11.0   4.0\n",
       "colin    NaN   NaN   NaN   NaN\n",
       "darwin   NaN  10.0  10.0   9.0"
      ]
     },
     "execution_count": 109,
     "metadata": {},
     "output_type": "execute_result"
    }
   ],
   "source": [
    "grades + better_bonus_points"
   ]
  },
  {
   "cell_type": "markdown",
   "id": "eff4e757",
   "metadata": {
    "papermill": {
     "duration": 0.064209,
     "end_time": "2024-09-03T16:12:07.092702",
     "exception": false,
     "start_time": "2024-09-03T16:12:07.028493",
     "status": "completed"
    },
    "tags": []
   },
   "source": [
    "### It is slightly annoying that the September column ends up on the right. This is because the DataFrames we are adding do not have the exact same columns (the grades DataFrame is missing the \"dec\" column), so to make things predictable, pandas orders the final columns alphabetically. To fix this, we can simply add the missing column before adding:\n",
    "\n",
    "\n"
   ]
  },
  {
   "cell_type": "code",
   "execution_count": 110,
   "id": "a39447e4",
   "metadata": {
    "execution": {
     "iopub.execute_input": "2024-09-03T16:12:07.221609Z",
     "iopub.status.busy": "2024-09-03T16:12:07.221178Z",
     "iopub.status.idle": "2024-09-03T16:12:07.236324Z",
     "shell.execute_reply": "2024-09-03T16:12:07.235128Z"
    },
    "papermill": {
     "duration": 0.083125,
     "end_time": "2024-09-03T16:12:07.238793",
     "exception": false,
     "start_time": "2024-09-03T16:12:07.155668",
     "status": "completed"
    },
    "tags": []
   },
   "outputs": [
    {
     "data": {
      "text/html": [
       "<div>\n",
       "<style scoped>\n",
       "    .dataframe tbody tr th:only-of-type {\n",
       "        vertical-align: middle;\n",
       "    }\n",
       "\n",
       "    .dataframe tbody tr th {\n",
       "        vertical-align: top;\n",
       "    }\n",
       "\n",
       "    .dataframe thead th {\n",
       "        text-align: right;\n",
       "    }\n",
       "</style>\n",
       "<table border=\"1\" class=\"dataframe\">\n",
       "  <thead>\n",
       "    <tr style=\"text-align: right;\">\n",
       "      <th></th>\n",
       "      <th>sep</th>\n",
       "      <th>oct</th>\n",
       "      <th>nov</th>\n",
       "      <th>dec</th>\n",
       "    </tr>\n",
       "  </thead>\n",
       "  <tbody>\n",
       "    <tr>\n",
       "      <th>alice</th>\n",
       "      <td>8.0</td>\n",
       "      <td>8.0</td>\n",
       "      <td>9.0</td>\n",
       "      <td>NaN</td>\n",
       "    </tr>\n",
       "    <tr>\n",
       "      <th>bob</th>\n",
       "      <td>10.0</td>\n",
       "      <td>9.0</td>\n",
       "      <td>10.0</td>\n",
       "      <td>NaN</td>\n",
       "    </tr>\n",
       "    <tr>\n",
       "      <th>charles</th>\n",
       "      <td>4.0</td>\n",
       "      <td>11.0</td>\n",
       "      <td>5.0</td>\n",
       "      <td>NaN</td>\n",
       "    </tr>\n",
       "    <tr>\n",
       "      <th>colin</th>\n",
       "      <td>NaN</td>\n",
       "      <td>NaN</td>\n",
       "      <td>NaN</td>\n",
       "      <td>NaN</td>\n",
       "    </tr>\n",
       "    <tr>\n",
       "      <th>darwin</th>\n",
       "      <td>9.0</td>\n",
       "      <td>10.0</td>\n",
       "      <td>10.0</td>\n",
       "      <td>NaN</td>\n",
       "    </tr>\n",
       "  </tbody>\n",
       "</table>\n",
       "</div>"
      ],
      "text/plain": [
       "          sep   oct   nov  dec\n",
       "alice     8.0   8.0   9.0  NaN\n",
       "bob      10.0   9.0  10.0  NaN\n",
       "charles   4.0  11.0   5.0  NaN\n",
       "colin     NaN   NaN   NaN  NaN\n",
       "darwin    9.0  10.0  10.0  NaN"
      ]
     },
     "execution_count": 110,
     "metadata": {},
     "output_type": "execute_result"
    }
   ],
   "source": [
    "grades[\"dec\"] = np.nan\n",
    "final_grades = grades + better_bonus_points\n",
    "final_grades"
   ]
  },
  {
   "cell_type": "markdown",
   "id": "4ad4ecc3",
   "metadata": {
    "papermill": {
     "duration": 0.062921,
     "end_time": "2024-09-03T16:12:07.365174",
     "exception": false,
     "start_time": "2024-09-03T16:12:07.302253",
     "status": "completed"
    },
    "tags": []
   },
   "source": [
    "### There's not much we can do about December and Colin: it's bad enough that we are making up bonus points, but we can't reasonably make up grades (well, I guess some teachers probably do). So let's call the dropna() method to get rid of rows that are full of NaNs:"
   ]
  },
  {
   "cell_type": "code",
   "execution_count": 111,
   "id": "f469a61e",
   "metadata": {
    "execution": {
     "iopub.execute_input": "2024-09-03T16:12:07.494371Z",
     "iopub.status.busy": "2024-09-03T16:12:07.493598Z",
     "iopub.status.idle": "2024-09-03T16:12:07.507222Z",
     "shell.execute_reply": "2024-09-03T16:12:07.505940Z"
    },
    "papermill": {
     "duration": 0.080408,
     "end_time": "2024-09-03T16:12:07.509417",
     "exception": false,
     "start_time": "2024-09-03T16:12:07.429009",
     "status": "completed"
    },
    "tags": []
   },
   "outputs": [
    {
     "data": {
      "text/html": [
       "<div>\n",
       "<style scoped>\n",
       "    .dataframe tbody tr th:only-of-type {\n",
       "        vertical-align: middle;\n",
       "    }\n",
       "\n",
       "    .dataframe tbody tr th {\n",
       "        vertical-align: top;\n",
       "    }\n",
       "\n",
       "    .dataframe thead th {\n",
       "        text-align: right;\n",
       "    }\n",
       "</style>\n",
       "<table border=\"1\" class=\"dataframe\">\n",
       "  <thead>\n",
       "    <tr style=\"text-align: right;\">\n",
       "      <th></th>\n",
       "      <th>sep</th>\n",
       "      <th>oct</th>\n",
       "      <th>nov</th>\n",
       "      <th>dec</th>\n",
       "    </tr>\n",
       "  </thead>\n",
       "  <tbody>\n",
       "    <tr>\n",
       "      <th>alice</th>\n",
       "      <td>8.0</td>\n",
       "      <td>8.0</td>\n",
       "      <td>9.0</td>\n",
       "      <td>NaN</td>\n",
       "    </tr>\n",
       "    <tr>\n",
       "      <th>bob</th>\n",
       "      <td>10.0</td>\n",
       "      <td>9.0</td>\n",
       "      <td>10.0</td>\n",
       "      <td>NaN</td>\n",
       "    </tr>\n",
       "    <tr>\n",
       "      <th>charles</th>\n",
       "      <td>4.0</td>\n",
       "      <td>11.0</td>\n",
       "      <td>5.0</td>\n",
       "      <td>NaN</td>\n",
       "    </tr>\n",
       "    <tr>\n",
       "      <th>darwin</th>\n",
       "      <td>9.0</td>\n",
       "      <td>10.0</td>\n",
       "      <td>10.0</td>\n",
       "      <td>NaN</td>\n",
       "    </tr>\n",
       "  </tbody>\n",
       "</table>\n",
       "</div>"
      ],
      "text/plain": [
       "          sep   oct   nov  dec\n",
       "alice     8.0   8.0   9.0  NaN\n",
       "bob      10.0   9.0  10.0  NaN\n",
       "charles   4.0  11.0   5.0  NaN\n",
       "darwin    9.0  10.0  10.0  NaN"
      ]
     },
     "execution_count": 111,
     "metadata": {},
     "output_type": "execute_result"
    }
   ],
   "source": [
    "final_grades_clean = final_grades.dropna(how=\"all\")\n",
    "final_grades_clean"
   ]
  },
  {
   "cell_type": "markdown",
   "id": "561d9af1",
   "metadata": {
    "papermill": {
     "duration": 0.062788,
     "end_time": "2024-09-03T16:12:07.635971",
     "exception": false,
     "start_time": "2024-09-03T16:12:07.573183",
     "status": "completed"
    },
    "tags": []
   },
   "source": [
    "### Now let's remove columns that are full of `NaN`s by setting the `axis` argument to `1`:"
   ]
  },
  {
   "cell_type": "code",
   "execution_count": 112,
   "id": "7787a88a",
   "metadata": {
    "execution": {
     "iopub.execute_input": "2024-09-03T16:12:07.766360Z",
     "iopub.status.busy": "2024-09-03T16:12:07.765383Z",
     "iopub.status.idle": "2024-09-03T16:12:07.778884Z",
     "shell.execute_reply": "2024-09-03T16:12:07.777871Z"
    },
    "papermill": {
     "duration": 0.080954,
     "end_time": "2024-09-03T16:12:07.781038",
     "exception": false,
     "start_time": "2024-09-03T16:12:07.700084",
     "status": "completed"
    },
    "tags": []
   },
   "outputs": [
    {
     "data": {
      "text/html": [
       "<div>\n",
       "<style scoped>\n",
       "    .dataframe tbody tr th:only-of-type {\n",
       "        vertical-align: middle;\n",
       "    }\n",
       "\n",
       "    .dataframe tbody tr th {\n",
       "        vertical-align: top;\n",
       "    }\n",
       "\n",
       "    .dataframe thead th {\n",
       "        text-align: right;\n",
       "    }\n",
       "</style>\n",
       "<table border=\"1\" class=\"dataframe\">\n",
       "  <thead>\n",
       "    <tr style=\"text-align: right;\">\n",
       "      <th></th>\n",
       "      <th>sep</th>\n",
       "      <th>oct</th>\n",
       "      <th>nov</th>\n",
       "    </tr>\n",
       "  </thead>\n",
       "  <tbody>\n",
       "    <tr>\n",
       "      <th>alice</th>\n",
       "      <td>8.0</td>\n",
       "      <td>8.0</td>\n",
       "      <td>9.0</td>\n",
       "    </tr>\n",
       "    <tr>\n",
       "      <th>bob</th>\n",
       "      <td>10.0</td>\n",
       "      <td>9.0</td>\n",
       "      <td>10.0</td>\n",
       "    </tr>\n",
       "    <tr>\n",
       "      <th>charles</th>\n",
       "      <td>4.0</td>\n",
       "      <td>11.0</td>\n",
       "      <td>5.0</td>\n",
       "    </tr>\n",
       "    <tr>\n",
       "      <th>darwin</th>\n",
       "      <td>9.0</td>\n",
       "      <td>10.0</td>\n",
       "      <td>10.0</td>\n",
       "    </tr>\n",
       "  </tbody>\n",
       "</table>\n",
       "</div>"
      ],
      "text/plain": [
       "          sep   oct   nov\n",
       "alice     8.0   8.0   9.0\n",
       "bob      10.0   9.0  10.0\n",
       "charles   4.0  11.0   5.0\n",
       "darwin    9.0  10.0  10.0"
      ]
     },
     "execution_count": 112,
     "metadata": {},
     "output_type": "execute_result"
    }
   ],
   "source": [
    "final_grades_clean = final_grades_clean.dropna(axis=1, how=\"all\")\n",
    "final_grades_clean"
   ]
  },
  {
   "cell_type": "markdown",
   "id": "613e9707",
   "metadata": {
    "papermill": {
     "duration": 0.064317,
     "end_time": "2024-09-03T16:12:07.909199",
     "exception": false,
     "start_time": "2024-09-03T16:12:07.844882",
     "status": "completed"
    },
    "tags": []
   },
   "source": [
    "## Aggregating with `groupby`\n",
    "Similar to the SQL language, pandas allows grouping your data into groups to run calculations over each group.\n",
    "\n",
    "First, let's add some extra data about each person so we can group them, and let's go back to the `final_grades` `DataFrame` so we can see how `NaN` values are handled:"
   ]
  },
  {
   "cell_type": "code",
   "execution_count": 113,
   "id": "604368d0",
   "metadata": {
    "execution": {
     "iopub.execute_input": "2024-09-03T16:12:08.037466Z",
     "iopub.status.busy": "2024-09-03T16:12:08.037085Z",
     "iopub.status.idle": "2024-09-03T16:12:08.051121Z",
     "shell.execute_reply": "2024-09-03T16:12:08.049966Z"
    },
    "papermill": {
     "duration": 0.081006,
     "end_time": "2024-09-03T16:12:08.053274",
     "exception": false,
     "start_time": "2024-09-03T16:12:07.972268",
     "status": "completed"
    },
    "tags": []
   },
   "outputs": [
    {
     "data": {
      "text/html": [
       "<div>\n",
       "<style scoped>\n",
       "    .dataframe tbody tr th:only-of-type {\n",
       "        vertical-align: middle;\n",
       "    }\n",
       "\n",
       "    .dataframe tbody tr th {\n",
       "        vertical-align: top;\n",
       "    }\n",
       "\n",
       "    .dataframe thead th {\n",
       "        text-align: right;\n",
       "    }\n",
       "</style>\n",
       "<table border=\"1\" class=\"dataframe\">\n",
       "  <thead>\n",
       "    <tr style=\"text-align: right;\">\n",
       "      <th></th>\n",
       "      <th>sep</th>\n",
       "      <th>oct</th>\n",
       "      <th>nov</th>\n",
       "      <th>dec</th>\n",
       "      <th>hobby</th>\n",
       "    </tr>\n",
       "  </thead>\n",
       "  <tbody>\n",
       "    <tr>\n",
       "      <th>alice</th>\n",
       "      <td>8.0</td>\n",
       "      <td>8.0</td>\n",
       "      <td>9.0</td>\n",
       "      <td>NaN</td>\n",
       "      <td>Biking</td>\n",
       "    </tr>\n",
       "    <tr>\n",
       "      <th>bob</th>\n",
       "      <td>10.0</td>\n",
       "      <td>9.0</td>\n",
       "      <td>10.0</td>\n",
       "      <td>NaN</td>\n",
       "      <td>Dancing</td>\n",
       "    </tr>\n",
       "    <tr>\n",
       "      <th>charles</th>\n",
       "      <td>4.0</td>\n",
       "      <td>11.0</td>\n",
       "      <td>5.0</td>\n",
       "      <td>NaN</td>\n",
       "      <td>NaN</td>\n",
       "    </tr>\n",
       "    <tr>\n",
       "      <th>colin</th>\n",
       "      <td>NaN</td>\n",
       "      <td>NaN</td>\n",
       "      <td>NaN</td>\n",
       "      <td>NaN</td>\n",
       "      <td>Dancing</td>\n",
       "    </tr>\n",
       "    <tr>\n",
       "      <th>darwin</th>\n",
       "      <td>9.0</td>\n",
       "      <td>10.0</td>\n",
       "      <td>10.0</td>\n",
       "      <td>NaN</td>\n",
       "      <td>Biking</td>\n",
       "    </tr>\n",
       "  </tbody>\n",
       "</table>\n",
       "</div>"
      ],
      "text/plain": [
       "          sep   oct   nov  dec    hobby\n",
       "alice     8.0   8.0   9.0  NaN   Biking\n",
       "bob      10.0   9.0  10.0  NaN  Dancing\n",
       "charles   4.0  11.0   5.0  NaN      NaN\n",
       "colin     NaN   NaN   NaN  NaN  Dancing\n",
       "darwin    9.0  10.0  10.0  NaN   Biking"
      ]
     },
     "execution_count": 113,
     "metadata": {},
     "output_type": "execute_result"
    }
   ],
   "source": [
    "final_grades[\"hobby\"] = [\"Biking\", \"Dancing\", np.nan, \"Dancing\", \"Biking\"]\n",
    "final_grades"
   ]
  },
  {
   "cell_type": "code",
   "execution_count": 114,
   "id": "f76df338",
   "metadata": {
    "execution": {
     "iopub.execute_input": "2024-09-03T16:12:08.182284Z",
     "iopub.status.busy": "2024-09-03T16:12:08.181857Z",
     "iopub.status.idle": "2024-09-03T16:12:08.191134Z",
     "shell.execute_reply": "2024-09-03T16:12:08.190166Z"
    },
    "papermill": {
     "duration": 0.076832,
     "end_time": "2024-09-03T16:12:08.193570",
     "exception": false,
     "start_time": "2024-09-03T16:12:08.116738",
     "status": "completed"
    },
    "tags": []
   },
   "outputs": [
    {
     "data": {
      "text/plain": [
       "<pandas.core.groupby.generic.DataFrameGroupBy object at 0x7ecdd5dbd630>"
      ]
     },
     "execution_count": 114,
     "metadata": {},
     "output_type": "execute_result"
    }
   ],
   "source": [
    "grouped_grades = final_grades.groupby(\"hobby\")\n",
    "grouped_grades"
   ]
  },
  {
   "cell_type": "code",
   "execution_count": 115,
   "id": "69efcab1",
   "metadata": {
    "execution": {
     "iopub.execute_input": "2024-09-03T16:12:08.325569Z",
     "iopub.status.busy": "2024-09-03T16:12:08.324525Z",
     "iopub.status.idle": "2024-09-03T16:12:08.338330Z",
     "shell.execute_reply": "2024-09-03T16:12:08.337215Z"
    },
    "papermill": {
     "duration": 0.081064,
     "end_time": "2024-09-03T16:12:08.340558",
     "exception": false,
     "start_time": "2024-09-03T16:12:08.259494",
     "status": "completed"
    },
    "tags": []
   },
   "outputs": [
    {
     "data": {
      "text/html": [
       "<div>\n",
       "<style scoped>\n",
       "    .dataframe tbody tr th:only-of-type {\n",
       "        vertical-align: middle;\n",
       "    }\n",
       "\n",
       "    .dataframe tbody tr th {\n",
       "        vertical-align: top;\n",
       "    }\n",
       "\n",
       "    .dataframe thead th {\n",
       "        text-align: right;\n",
       "    }\n",
       "</style>\n",
       "<table border=\"1\" class=\"dataframe\">\n",
       "  <thead>\n",
       "    <tr style=\"text-align: right;\">\n",
       "      <th></th>\n",
       "      <th>sep</th>\n",
       "      <th>oct</th>\n",
       "      <th>nov</th>\n",
       "      <th>dec</th>\n",
       "    </tr>\n",
       "    <tr>\n",
       "      <th>hobby</th>\n",
       "      <th></th>\n",
       "      <th></th>\n",
       "      <th></th>\n",
       "      <th></th>\n",
       "    </tr>\n",
       "  </thead>\n",
       "  <tbody>\n",
       "    <tr>\n",
       "      <th>Biking</th>\n",
       "      <td>8.5</td>\n",
       "      <td>9.0</td>\n",
       "      <td>9.5</td>\n",
       "      <td>NaN</td>\n",
       "    </tr>\n",
       "    <tr>\n",
       "      <th>Dancing</th>\n",
       "      <td>10.0</td>\n",
       "      <td>9.0</td>\n",
       "      <td>10.0</td>\n",
       "      <td>NaN</td>\n",
       "    </tr>\n",
       "  </tbody>\n",
       "</table>\n",
       "</div>"
      ],
      "text/plain": [
       "          sep  oct   nov  dec\n",
       "hobby                        \n",
       "Biking    8.5  9.0   9.5  NaN\n",
       "Dancing  10.0  9.0  10.0  NaN"
      ]
     },
     "execution_count": 115,
     "metadata": {},
     "output_type": "execute_result"
    }
   ],
   "source": [
    "grouped_grades.mean()"
   ]
  },
  {
   "cell_type": "markdown",
   "id": "e99f8493",
   "metadata": {
    "papermill": {
     "duration": 0.0639,
     "end_time": "2024-09-03T16:12:08.469106",
     "exception": false,
     "start_time": "2024-09-03T16:12:08.405206",
     "status": "completed"
    },
    "tags": []
   },
   "source": [
    "## Pivot tables\n",
    "Pandas supports spreadsheet-like [pivot tables](https://en.wikipedia.org/wiki/Pivot_table) that allow quick data summarization. To illustrate this, let's create a simple `DataFrame`:"
   ]
  },
  {
   "cell_type": "code",
   "execution_count": 116,
   "id": "37354deb",
   "metadata": {
    "execution": {
     "iopub.execute_input": "2024-09-03T16:12:08.600247Z",
     "iopub.status.busy": "2024-09-03T16:12:08.599817Z",
     "iopub.status.idle": "2024-09-03T16:12:08.612588Z",
     "shell.execute_reply": "2024-09-03T16:12:08.611433Z"
    },
    "papermill": {
     "duration": 0.080373,
     "end_time": "2024-09-03T16:12:08.614960",
     "exception": false,
     "start_time": "2024-09-03T16:12:08.534587",
     "status": "completed"
    },
    "tags": []
   },
   "outputs": [
    {
     "data": {
      "text/html": [
       "<div>\n",
       "<style scoped>\n",
       "    .dataframe tbody tr th:only-of-type {\n",
       "        vertical-align: middle;\n",
       "    }\n",
       "\n",
       "    .dataframe tbody tr th {\n",
       "        vertical-align: top;\n",
       "    }\n",
       "\n",
       "    .dataframe thead th {\n",
       "        text-align: right;\n",
       "    }\n",
       "</style>\n",
       "<table border=\"1\" class=\"dataframe\">\n",
       "  <thead>\n",
       "    <tr style=\"text-align: right;\">\n",
       "      <th></th>\n",
       "      <th>oct</th>\n",
       "      <th>nov</th>\n",
       "      <th>dec</th>\n",
       "    </tr>\n",
       "  </thead>\n",
       "  <tbody>\n",
       "    <tr>\n",
       "      <th>bob</th>\n",
       "      <td>0.0</td>\n",
       "      <td>NaN</td>\n",
       "      <td>2.0</td>\n",
       "    </tr>\n",
       "    <tr>\n",
       "      <th>colin</th>\n",
       "      <td>NaN</td>\n",
       "      <td>1.0</td>\n",
       "      <td>0.0</td>\n",
       "    </tr>\n",
       "    <tr>\n",
       "      <th>darwin</th>\n",
       "      <td>0.0</td>\n",
       "      <td>1.0</td>\n",
       "      <td>0.0</td>\n",
       "    </tr>\n",
       "    <tr>\n",
       "      <th>charles</th>\n",
       "      <td>3.0</td>\n",
       "      <td>3.0</td>\n",
       "      <td>0.0</td>\n",
       "    </tr>\n",
       "  </tbody>\n",
       "</table>\n",
       "</div>"
      ],
      "text/plain": [
       "         oct  nov  dec\n",
       "bob      0.0  NaN  2.0\n",
       "colin    NaN  1.0  0.0\n",
       "darwin   0.0  1.0  0.0\n",
       "charles  3.0  3.0  0.0"
      ]
     },
     "execution_count": 116,
     "metadata": {},
     "output_type": "execute_result"
    }
   ],
   "source": [
    "bonus_points"
   ]
  },
  {
   "cell_type": "code",
   "execution_count": 117,
   "id": "9645d84d",
   "metadata": {
    "execution": {
     "iopub.execute_input": "2024-09-03T16:12:08.745692Z",
     "iopub.status.busy": "2024-09-03T16:12:08.744821Z",
     "iopub.status.idle": "2024-09-03T16:12:08.762805Z",
     "shell.execute_reply": "2024-09-03T16:12:08.761567Z"
    },
    "papermill": {
     "duration": 0.085882,
     "end_time": "2024-09-03T16:12:08.765094",
     "exception": false,
     "start_time": "2024-09-03T16:12:08.679212",
     "status": "completed"
    },
    "tags": []
   },
   "outputs": [
    {
     "data": {
      "text/html": [
       "<div>\n",
       "<style scoped>\n",
       "    .dataframe tbody tr th:only-of-type {\n",
       "        vertical-align: middle;\n",
       "    }\n",
       "\n",
       "    .dataframe tbody tr th {\n",
       "        vertical-align: top;\n",
       "    }\n",
       "\n",
       "    .dataframe thead th {\n",
       "        text-align: right;\n",
       "    }\n",
       "</style>\n",
       "<table border=\"1\" class=\"dataframe\">\n",
       "  <thead>\n",
       "    <tr style=\"text-align: right;\">\n",
       "      <th></th>\n",
       "      <th>name</th>\n",
       "      <th>month</th>\n",
       "      <th>grade</th>\n",
       "      <th>bonus</th>\n",
       "    </tr>\n",
       "  </thead>\n",
       "  <tbody>\n",
       "    <tr>\n",
       "      <th>0</th>\n",
       "      <td>alice</td>\n",
       "      <td>sep</td>\n",
       "      <td>8.0</td>\n",
       "      <td>NaN</td>\n",
       "    </tr>\n",
       "    <tr>\n",
       "      <th>1</th>\n",
       "      <td>alice</td>\n",
       "      <td>oct</td>\n",
       "      <td>8.0</td>\n",
       "      <td>NaN</td>\n",
       "    </tr>\n",
       "    <tr>\n",
       "      <th>2</th>\n",
       "      <td>alice</td>\n",
       "      <td>nov</td>\n",
       "      <td>9.0</td>\n",
       "      <td>NaN</td>\n",
       "    </tr>\n",
       "    <tr>\n",
       "      <th>3</th>\n",
       "      <td>bob</td>\n",
       "      <td>sep</td>\n",
       "      <td>10.0</td>\n",
       "      <td>0.0</td>\n",
       "    </tr>\n",
       "    <tr>\n",
       "      <th>4</th>\n",
       "      <td>bob</td>\n",
       "      <td>oct</td>\n",
       "      <td>9.0</td>\n",
       "      <td>NaN</td>\n",
       "    </tr>\n",
       "    <tr>\n",
       "      <th>5</th>\n",
       "      <td>bob</td>\n",
       "      <td>nov</td>\n",
       "      <td>10.0</td>\n",
       "      <td>2.0</td>\n",
       "    </tr>\n",
       "    <tr>\n",
       "      <th>6</th>\n",
       "      <td>charles</td>\n",
       "      <td>sep</td>\n",
       "      <td>4.0</td>\n",
       "      <td>3.0</td>\n",
       "    </tr>\n",
       "    <tr>\n",
       "      <th>7</th>\n",
       "      <td>charles</td>\n",
       "      <td>oct</td>\n",
       "      <td>11.0</td>\n",
       "      <td>3.0</td>\n",
       "    </tr>\n",
       "    <tr>\n",
       "      <th>8</th>\n",
       "      <td>charles</td>\n",
       "      <td>nov</td>\n",
       "      <td>5.0</td>\n",
       "      <td>0.0</td>\n",
       "    </tr>\n",
       "    <tr>\n",
       "      <th>9</th>\n",
       "      <td>darwin</td>\n",
       "      <td>sep</td>\n",
       "      <td>9.0</td>\n",
       "      <td>0.0</td>\n",
       "    </tr>\n",
       "    <tr>\n",
       "      <th>10</th>\n",
       "      <td>darwin</td>\n",
       "      <td>oct</td>\n",
       "      <td>10.0</td>\n",
       "      <td>1.0</td>\n",
       "    </tr>\n",
       "    <tr>\n",
       "      <th>11</th>\n",
       "      <td>darwin</td>\n",
       "      <td>nov</td>\n",
       "      <td>10.0</td>\n",
       "      <td>0.0</td>\n",
       "    </tr>\n",
       "  </tbody>\n",
       "</table>\n",
       "</div>"
      ],
      "text/plain": [
       "       name month  grade  bonus\n",
       "0     alice   sep    8.0    NaN\n",
       "1     alice   oct    8.0    NaN\n",
       "2     alice   nov    9.0    NaN\n",
       "3       bob   sep   10.0    0.0\n",
       "4       bob   oct    9.0    NaN\n",
       "5       bob   nov   10.0    2.0\n",
       "6   charles   sep    4.0    3.0\n",
       "7   charles   oct   11.0    3.0\n",
       "8   charles   nov    5.0    0.0\n",
       "9    darwin   sep    9.0    0.0\n",
       "10   darwin   oct   10.0    1.0\n",
       "11   darwin   nov   10.0    0.0"
      ]
     },
     "execution_count": 117,
     "metadata": {},
     "output_type": "execute_result"
    }
   ],
   "source": [
    "more_grades = final_grades_clean.stack().reset_index()\n",
    "more_grades.columns = [\"name\", \"month\", \"grade\"]\n",
    "more_grades[\"bonus\"] = [np.nan, np.nan, np.nan, 0, np.nan, 2, 3, 3, 0, 0, 1, 0]\n",
    "more_grades"
   ]
  },
  {
   "cell_type": "markdown",
   "id": "a400317d",
   "metadata": {
    "papermill": {
     "duration": 0.063707,
     "end_time": "2024-09-03T16:12:08.893072",
     "exception": false,
     "start_time": "2024-09-03T16:12:08.829365",
     "status": "completed"
    },
    "tags": []
   },
   "source": [
    "### Now we can call the `pd.pivot_table()` function for this `DataFrame`, asking to group by the `name` column. By default, `pivot_table()` computes the mean of each numeric column:"
   ]
  },
  {
   "cell_type": "code",
   "execution_count": 118,
   "id": "7ffccdea",
   "metadata": {
    "execution": {
     "iopub.execute_input": "2024-09-03T16:12:09.027077Z",
     "iopub.status.busy": "2024-09-03T16:12:09.026051Z",
     "iopub.status.idle": "2024-09-03T16:12:09.041323Z",
     "shell.execute_reply": "2024-09-03T16:12:09.040198Z"
    },
    "papermill": {
     "duration": 0.084118,
     "end_time": "2024-09-03T16:12:09.043629",
     "exception": false,
     "start_time": "2024-09-03T16:12:08.959511",
     "status": "completed"
    },
    "tags": []
   },
   "outputs": [
    {
     "data": {
      "text/html": [
       "<div>\n",
       "<style scoped>\n",
       "    .dataframe tbody tr th:only-of-type {\n",
       "        vertical-align: middle;\n",
       "    }\n",
       "\n",
       "    .dataframe tbody tr th {\n",
       "        vertical-align: top;\n",
       "    }\n",
       "\n",
       "    .dataframe thead th {\n",
       "        text-align: right;\n",
       "    }\n",
       "</style>\n",
       "<table border=\"1\" class=\"dataframe\">\n",
       "  <thead>\n",
       "    <tr style=\"text-align: right;\">\n",
       "      <th></th>\n",
       "      <th>bonus</th>\n",
       "      <th>grade</th>\n",
       "    </tr>\n",
       "    <tr>\n",
       "      <th>name</th>\n",
       "      <th></th>\n",
       "      <th></th>\n",
       "    </tr>\n",
       "  </thead>\n",
       "  <tbody>\n",
       "    <tr>\n",
       "      <th>alice</th>\n",
       "      <td>NaN</td>\n",
       "      <td>8.333333</td>\n",
       "    </tr>\n",
       "    <tr>\n",
       "      <th>bob</th>\n",
       "      <td>1.000000</td>\n",
       "      <td>9.666667</td>\n",
       "    </tr>\n",
       "    <tr>\n",
       "      <th>charles</th>\n",
       "      <td>2.000000</td>\n",
       "      <td>6.666667</td>\n",
       "    </tr>\n",
       "    <tr>\n",
       "      <th>darwin</th>\n",
       "      <td>0.333333</td>\n",
       "      <td>9.666667</td>\n",
       "    </tr>\n",
       "  </tbody>\n",
       "</table>\n",
       "</div>"
      ],
      "text/plain": [
       "            bonus     grade\n",
       "name                       \n",
       "alice         NaN  8.333333\n",
       "bob      1.000000  9.666667\n",
       "charles  2.000000  6.666667\n",
       "darwin   0.333333  9.666667"
      ]
     },
     "execution_count": 118,
     "metadata": {},
     "output_type": "execute_result"
    }
   ],
   "source": [
    "pd.pivot_table(more_grades[[\"name\", \"grade\", \"bonus\"]], index=\"name\")"
   ]
  },
  {
   "cell_type": "markdown",
   "id": "dc5d07db",
   "metadata": {
    "papermill": {
     "duration": 0.064055,
     "end_time": "2024-09-03T16:12:09.172300",
     "exception": false,
     "start_time": "2024-09-03T16:12:09.108245",
     "status": "completed"
    },
    "tags": []
   },
   "source": [
    "### We can change the aggregation function by setting the aggfunc argument, and we can also specify the list of columns whose values will be aggregated:"
   ]
  },
  {
   "cell_type": "code",
   "execution_count": 119,
   "id": "95b68c04",
   "metadata": {
    "execution": {
     "iopub.execute_input": "2024-09-03T16:12:09.360035Z",
     "iopub.status.busy": "2024-09-03T16:12:09.359373Z",
     "iopub.status.idle": "2024-09-03T16:12:09.378196Z",
     "shell.execute_reply": "2024-09-03T16:12:09.376883Z"
    },
    "papermill": {
     "duration": 0.1431,
     "end_time": "2024-09-03T16:12:09.380711",
     "exception": false,
     "start_time": "2024-09-03T16:12:09.237611",
     "status": "completed"
    },
    "tags": []
   },
   "outputs": [
    {
     "data": {
      "text/html": [
       "<div>\n",
       "<style scoped>\n",
       "    .dataframe tbody tr th:only-of-type {\n",
       "        vertical-align: middle;\n",
       "    }\n",
       "\n",
       "    .dataframe tbody tr th {\n",
       "        vertical-align: top;\n",
       "    }\n",
       "\n",
       "    .dataframe thead th {\n",
       "        text-align: right;\n",
       "    }\n",
       "</style>\n",
       "<table border=\"1\" class=\"dataframe\">\n",
       "  <thead>\n",
       "    <tr style=\"text-align: right;\">\n",
       "      <th></th>\n",
       "      <th>bonus</th>\n",
       "      <th>grade</th>\n",
       "    </tr>\n",
       "    <tr>\n",
       "      <th>name</th>\n",
       "      <th></th>\n",
       "      <th></th>\n",
       "    </tr>\n",
       "  </thead>\n",
       "  <tbody>\n",
       "    <tr>\n",
       "      <th>alice</th>\n",
       "      <td>NaN</td>\n",
       "      <td>9.0</td>\n",
       "    </tr>\n",
       "    <tr>\n",
       "      <th>bob</th>\n",
       "      <td>2.0</td>\n",
       "      <td>10.0</td>\n",
       "    </tr>\n",
       "    <tr>\n",
       "      <th>charles</th>\n",
       "      <td>3.0</td>\n",
       "      <td>11.0</td>\n",
       "    </tr>\n",
       "    <tr>\n",
       "      <th>darwin</th>\n",
       "      <td>1.0</td>\n",
       "      <td>10.0</td>\n",
       "    </tr>\n",
       "  </tbody>\n",
       "</table>\n",
       "</div>"
      ],
      "text/plain": [
       "         bonus  grade\n",
       "name                 \n",
       "alice      NaN    9.0\n",
       "bob        2.0   10.0\n",
       "charles    3.0   11.0\n",
       "darwin     1.0   10.0"
      ]
     },
     "execution_count": 119,
     "metadata": {},
     "output_type": "execute_result"
    }
   ],
   "source": [
    "pd.pivot_table(more_grades, index=\"name\", values=[\"grade\", \"bonus\"], aggfunc=\"max\")"
   ]
  },
  {
   "cell_type": "markdown",
   "id": "a57ba71a",
   "metadata": {
    "papermill": {
     "duration": 0.063987,
     "end_time": "2024-09-03T16:12:09.509246",
     "exception": false,
     "start_time": "2024-09-03T16:12:09.445259",
     "status": "completed"
    },
    "tags": []
   },
   "source": [
    "### We can also specify the `columns` to aggregate over horizontally, and request the grand totals for each row and column by setting `margins=True`:"
   ]
  },
  {
   "cell_type": "code",
   "execution_count": 120,
   "id": "244a2cf6",
   "metadata": {
    "execution": {
     "iopub.execute_input": "2024-09-03T16:12:09.640162Z",
     "iopub.status.busy": "2024-09-03T16:12:09.639364Z",
     "iopub.status.idle": "2024-09-03T16:12:09.672872Z",
     "shell.execute_reply": "2024-09-03T16:12:09.671852Z"
    },
    "papermill": {
     "duration": 0.101343,
     "end_time": "2024-09-03T16:12:09.675394",
     "exception": false,
     "start_time": "2024-09-03T16:12:09.574051",
     "status": "completed"
    },
    "tags": []
   },
   "outputs": [
    {
     "data": {
      "text/html": [
       "<div>\n",
       "<style scoped>\n",
       "    .dataframe tbody tr th:only-of-type {\n",
       "        vertical-align: middle;\n",
       "    }\n",
       "\n",
       "    .dataframe tbody tr th {\n",
       "        vertical-align: top;\n",
       "    }\n",
       "\n",
       "    .dataframe thead th {\n",
       "        text-align: right;\n",
       "    }\n",
       "</style>\n",
       "<table border=\"1\" class=\"dataframe\">\n",
       "  <thead>\n",
       "    <tr style=\"text-align: right;\">\n",
       "      <th>month</th>\n",
       "      <th>nov</th>\n",
       "      <th>oct</th>\n",
       "      <th>sep</th>\n",
       "      <th>All</th>\n",
       "    </tr>\n",
       "    <tr>\n",
       "      <th>name</th>\n",
       "      <th></th>\n",
       "      <th></th>\n",
       "      <th></th>\n",
       "      <th></th>\n",
       "    </tr>\n",
       "  </thead>\n",
       "  <tbody>\n",
       "    <tr>\n",
       "      <th>alice</th>\n",
       "      <td>9.0</td>\n",
       "      <td>8.0</td>\n",
       "      <td>8.00</td>\n",
       "      <td>8.333333</td>\n",
       "    </tr>\n",
       "    <tr>\n",
       "      <th>bob</th>\n",
       "      <td>10.0</td>\n",
       "      <td>9.0</td>\n",
       "      <td>10.00</td>\n",
       "      <td>9.666667</td>\n",
       "    </tr>\n",
       "    <tr>\n",
       "      <th>charles</th>\n",
       "      <td>5.0</td>\n",
       "      <td>11.0</td>\n",
       "      <td>4.00</td>\n",
       "      <td>6.666667</td>\n",
       "    </tr>\n",
       "    <tr>\n",
       "      <th>darwin</th>\n",
       "      <td>10.0</td>\n",
       "      <td>10.0</td>\n",
       "      <td>9.00</td>\n",
       "      <td>9.666667</td>\n",
       "    </tr>\n",
       "    <tr>\n",
       "      <th>All</th>\n",
       "      <td>8.5</td>\n",
       "      <td>9.5</td>\n",
       "      <td>7.75</td>\n",
       "      <td>8.583333</td>\n",
       "    </tr>\n",
       "  </tbody>\n",
       "</table>\n",
       "</div>"
      ],
      "text/plain": [
       "month     nov   oct    sep       All\n",
       "name                                \n",
       "alice     9.0   8.0   8.00  8.333333\n",
       "bob      10.0   9.0  10.00  9.666667\n",
       "charles   5.0  11.0   4.00  6.666667\n",
       "darwin   10.0  10.0   9.00  9.666667\n",
       "All       8.5   9.5   7.75  8.583333"
      ]
     },
     "execution_count": 120,
     "metadata": {},
     "output_type": "execute_result"
    }
   ],
   "source": [
    "pd.pivot_table(more_grades, index=\"name\", values=\"grade\", columns=\"month\", margins=True)"
   ]
  },
  {
   "cell_type": "markdown",
   "id": "c3cd0a89",
   "metadata": {
    "papermill": {
     "duration": 0.06424,
     "end_time": "2024-09-03T16:12:09.804123",
     "exception": false,
     "start_time": "2024-09-03T16:12:09.739883",
     "status": "completed"
    },
    "tags": []
   },
   "source": [
    "Finally, we can specify multiple index or column names, and pandas will create multi-level indices:"
   ]
  },
  {
   "cell_type": "code",
   "execution_count": 121,
   "id": "64b6e515",
   "metadata": {
    "execution": {
     "iopub.execute_input": "2024-09-03T16:12:09.935965Z",
     "iopub.status.busy": "2024-09-03T16:12:09.935503Z",
     "iopub.status.idle": "2024-09-03T16:12:09.959869Z",
     "shell.execute_reply": "2024-09-03T16:12:09.958895Z"
    },
    "papermill": {
     "duration": 0.093425,
     "end_time": "2024-09-03T16:12:09.962072",
     "exception": false,
     "start_time": "2024-09-03T16:12:09.868647",
     "status": "completed"
    },
    "tags": []
   },
   "outputs": [
    {
     "data": {
      "text/html": [
       "<div>\n",
       "<style scoped>\n",
       "    .dataframe tbody tr th:only-of-type {\n",
       "        vertical-align: middle;\n",
       "    }\n",
       "\n",
       "    .dataframe tbody tr th {\n",
       "        vertical-align: top;\n",
       "    }\n",
       "\n",
       "    .dataframe thead th {\n",
       "        text-align: right;\n",
       "    }\n",
       "</style>\n",
       "<table border=\"1\" class=\"dataframe\">\n",
       "  <thead>\n",
       "    <tr style=\"text-align: right;\">\n",
       "      <th></th>\n",
       "      <th></th>\n",
       "      <th>bonus</th>\n",
       "      <th>grade</th>\n",
       "    </tr>\n",
       "    <tr>\n",
       "      <th>name</th>\n",
       "      <th>month</th>\n",
       "      <th></th>\n",
       "      <th></th>\n",
       "    </tr>\n",
       "  </thead>\n",
       "  <tbody>\n",
       "    <tr>\n",
       "      <th rowspan=\"3\" valign=\"top\">alice</th>\n",
       "      <th>nov</th>\n",
       "      <td>NaN</td>\n",
       "      <td>9.000</td>\n",
       "    </tr>\n",
       "    <tr>\n",
       "      <th>oct</th>\n",
       "      <td>NaN</td>\n",
       "      <td>8.000</td>\n",
       "    </tr>\n",
       "    <tr>\n",
       "      <th>sep</th>\n",
       "      <td>NaN</td>\n",
       "      <td>8.000</td>\n",
       "    </tr>\n",
       "    <tr>\n",
       "      <th rowspan=\"3\" valign=\"top\">bob</th>\n",
       "      <th>nov</th>\n",
       "      <td>2.000</td>\n",
       "      <td>10.000</td>\n",
       "    </tr>\n",
       "    <tr>\n",
       "      <th>oct</th>\n",
       "      <td>NaN</td>\n",
       "      <td>9.000</td>\n",
       "    </tr>\n",
       "    <tr>\n",
       "      <th>sep</th>\n",
       "      <td>0.000</td>\n",
       "      <td>10.000</td>\n",
       "    </tr>\n",
       "    <tr>\n",
       "      <th rowspan=\"3\" valign=\"top\">charles</th>\n",
       "      <th>nov</th>\n",
       "      <td>0.000</td>\n",
       "      <td>5.000</td>\n",
       "    </tr>\n",
       "    <tr>\n",
       "      <th>oct</th>\n",
       "      <td>3.000</td>\n",
       "      <td>11.000</td>\n",
       "    </tr>\n",
       "    <tr>\n",
       "      <th>sep</th>\n",
       "      <td>3.000</td>\n",
       "      <td>4.000</td>\n",
       "    </tr>\n",
       "    <tr>\n",
       "      <th rowspan=\"3\" valign=\"top\">darwin</th>\n",
       "      <th>nov</th>\n",
       "      <td>0.000</td>\n",
       "      <td>10.000</td>\n",
       "    </tr>\n",
       "    <tr>\n",
       "      <th>oct</th>\n",
       "      <td>1.000</td>\n",
       "      <td>10.000</td>\n",
       "    </tr>\n",
       "    <tr>\n",
       "      <th>sep</th>\n",
       "      <td>0.000</td>\n",
       "      <td>9.000</td>\n",
       "    </tr>\n",
       "    <tr>\n",
       "      <th>All</th>\n",
       "      <th></th>\n",
       "      <td>1.125</td>\n",
       "      <td>8.625</td>\n",
       "    </tr>\n",
       "  </tbody>\n",
       "</table>\n",
       "</div>"
      ],
      "text/plain": [
       "               bonus   grade\n",
       "name    month               \n",
       "alice   nov      NaN   9.000\n",
       "        oct      NaN   8.000\n",
       "        sep      NaN   8.000\n",
       "bob     nov    2.000  10.000\n",
       "        oct      NaN   9.000\n",
       "        sep    0.000  10.000\n",
       "charles nov    0.000   5.000\n",
       "        oct    3.000  11.000\n",
       "        sep    3.000   4.000\n",
       "darwin  nov    0.000  10.000\n",
       "        oct    1.000  10.000\n",
       "        sep    0.000   9.000\n",
       "All            1.125   8.625"
      ]
     },
     "execution_count": 121,
     "metadata": {},
     "output_type": "execute_result"
    }
   ],
   "source": [
    "pd.pivot_table(more_grades, index=(\"name\", \"month\"), margins=True)\n"
   ]
  },
  {
   "cell_type": "markdown",
   "id": "c3535415",
   "metadata": {
    "papermill": {
     "duration": 0.064568,
     "end_time": "2024-09-03T16:12:10.091676",
     "exception": false,
     "start_time": "2024-09-03T16:12:10.027108",
     "status": "completed"
    },
    "tags": []
   },
   "source": [
    "## Overview functions\n",
    "When dealing with large `DataFrames`, it is useful to get a quick overview of its content. Pandas offers a few functions for this. First, let's create a large `DataFrame` with a mix of numeric values, missing values and text values. Notice how Jupyter displays only the corners of the `DataFrame`:"
   ]
  },
  {
   "cell_type": "code",
   "execution_count": 122,
   "id": "155ec4dd",
   "metadata": {
    "execution": {
     "iopub.execute_input": "2024-09-03T16:12:10.224417Z",
     "iopub.status.busy": "2024-09-03T16:12:10.224010Z",
     "iopub.status.idle": "2024-09-03T16:12:10.290408Z",
     "shell.execute_reply": "2024-09-03T16:12:10.289373Z"
    },
    "papermill": {
     "duration": 0.135885,
     "end_time": "2024-09-03T16:12:10.292715",
     "exception": false,
     "start_time": "2024-09-03T16:12:10.156830",
     "status": "completed"
    },
    "tags": []
   },
   "outputs": [
    {
     "data": {
      "text/html": [
       "<div>\n",
       "<style scoped>\n",
       "    .dataframe tbody tr th:only-of-type {\n",
       "        vertical-align: middle;\n",
       "    }\n",
       "\n",
       "    .dataframe tbody tr th {\n",
       "        vertical-align: top;\n",
       "    }\n",
       "\n",
       "    .dataframe thead th {\n",
       "        text-align: right;\n",
       "    }\n",
       "</style>\n",
       "<table border=\"1\" class=\"dataframe\">\n",
       "  <thead>\n",
       "    <tr style=\"text-align: right;\">\n",
       "      <th></th>\n",
       "      <th>A</th>\n",
       "      <th>B</th>\n",
       "      <th>C</th>\n",
       "      <th>some_text</th>\n",
       "      <th>D</th>\n",
       "      <th>E</th>\n",
       "      <th>F</th>\n",
       "      <th>G</th>\n",
       "      <th>H</th>\n",
       "      <th>I</th>\n",
       "      <th>...</th>\n",
       "      <th>Q</th>\n",
       "      <th>R</th>\n",
       "      <th>S</th>\n",
       "      <th>T</th>\n",
       "      <th>U</th>\n",
       "      <th>V</th>\n",
       "      <th>W</th>\n",
       "      <th>X</th>\n",
       "      <th>Y</th>\n",
       "      <th>S</th>\n",
       "    </tr>\n",
       "  </thead>\n",
       "  <tbody>\n",
       "    <tr>\n",
       "      <th>0</th>\n",
       "      <td>NaN</td>\n",
       "      <td>11.0</td>\n",
       "      <td>44.0</td>\n",
       "      <td>BlaBla</td>\n",
       "      <td>99.0</td>\n",
       "      <td>NaN</td>\n",
       "      <td>88.0</td>\n",
       "      <td>22.0</td>\n",
       "      <td>165.0</td>\n",
       "      <td>143.0</td>\n",
       "      <td>...</td>\n",
       "      <td>11.0</td>\n",
       "      <td>NaN</td>\n",
       "      <td>11.0</td>\n",
       "      <td>44.0</td>\n",
       "      <td>99.0</td>\n",
       "      <td>NaN</td>\n",
       "      <td>88.0</td>\n",
       "      <td>22.0</td>\n",
       "      <td>165.0</td>\n",
       "      <td>143.0</td>\n",
       "    </tr>\n",
       "    <tr>\n",
       "      <th>1</th>\n",
       "      <td>11.0</td>\n",
       "      <td>22.0</td>\n",
       "      <td>55.0</td>\n",
       "      <td>BlaBla</td>\n",
       "      <td>110.0</td>\n",
       "      <td>NaN</td>\n",
       "      <td>99.0</td>\n",
       "      <td>33.0</td>\n",
       "      <td>NaN</td>\n",
       "      <td>154.0</td>\n",
       "      <td>...</td>\n",
       "      <td>22.0</td>\n",
       "      <td>11.0</td>\n",
       "      <td>22.0</td>\n",
       "      <td>55.0</td>\n",
       "      <td>110.0</td>\n",
       "      <td>NaN</td>\n",
       "      <td>99.0</td>\n",
       "      <td>33.0</td>\n",
       "      <td>NaN</td>\n",
       "      <td>154.0</td>\n",
       "    </tr>\n",
       "    <tr>\n",
       "      <th>2</th>\n",
       "      <td>22.0</td>\n",
       "      <td>33.0</td>\n",
       "      <td>66.0</td>\n",
       "      <td>BlaBla</td>\n",
       "      <td>121.0</td>\n",
       "      <td>11.0</td>\n",
       "      <td>110.0</td>\n",
       "      <td>44.0</td>\n",
       "      <td>NaN</td>\n",
       "      <td>165.0</td>\n",
       "      <td>...</td>\n",
       "      <td>33.0</td>\n",
       "      <td>22.0</td>\n",
       "      <td>33.0</td>\n",
       "      <td>66.0</td>\n",
       "      <td>121.0</td>\n",
       "      <td>11.0</td>\n",
       "      <td>110.0</td>\n",
       "      <td>44.0</td>\n",
       "      <td>NaN</td>\n",
       "      <td>165.0</td>\n",
       "    </tr>\n",
       "    <tr>\n",
       "      <th>3</th>\n",
       "      <td>33.0</td>\n",
       "      <td>44.0</td>\n",
       "      <td>77.0</td>\n",
       "      <td>BlaBla</td>\n",
       "      <td>132.0</td>\n",
       "      <td>22.0</td>\n",
       "      <td>121.0</td>\n",
       "      <td>55.0</td>\n",
       "      <td>11.0</td>\n",
       "      <td>NaN</td>\n",
       "      <td>...</td>\n",
       "      <td>44.0</td>\n",
       "      <td>33.0</td>\n",
       "      <td>44.0</td>\n",
       "      <td>77.0</td>\n",
       "      <td>132.0</td>\n",
       "      <td>22.0</td>\n",
       "      <td>121.0</td>\n",
       "      <td>55.0</td>\n",
       "      <td>11.0</td>\n",
       "      <td>NaN</td>\n",
       "    </tr>\n",
       "    <tr>\n",
       "      <th>4</th>\n",
       "      <td>44.0</td>\n",
       "      <td>55.0</td>\n",
       "      <td>88.0</td>\n",
       "      <td>BlaBla</td>\n",
       "      <td>143.0</td>\n",
       "      <td>33.0</td>\n",
       "      <td>132.0</td>\n",
       "      <td>66.0</td>\n",
       "      <td>22.0</td>\n",
       "      <td>NaN</td>\n",
       "      <td>...</td>\n",
       "      <td>55.0</td>\n",
       "      <td>44.0</td>\n",
       "      <td>55.0</td>\n",
       "      <td>88.0</td>\n",
       "      <td>143.0</td>\n",
       "      <td>33.0</td>\n",
       "      <td>132.0</td>\n",
       "      <td>66.0</td>\n",
       "      <td>22.0</td>\n",
       "      <td>NaN</td>\n",
       "    </tr>\n",
       "    <tr>\n",
       "      <th>...</th>\n",
       "      <td>...</td>\n",
       "      <td>...</td>\n",
       "      <td>...</td>\n",
       "      <td>...</td>\n",
       "      <td>...</td>\n",
       "      <td>...</td>\n",
       "      <td>...</td>\n",
       "      <td>...</td>\n",
       "      <td>...</td>\n",
       "      <td>...</td>\n",
       "      <td>...</td>\n",
       "      <td>...</td>\n",
       "      <td>...</td>\n",
       "      <td>...</td>\n",
       "      <td>...</td>\n",
       "      <td>...</td>\n",
       "      <td>...</td>\n",
       "      <td>...</td>\n",
       "      <td>...</td>\n",
       "      <td>...</td>\n",
       "      <td>...</td>\n",
       "    </tr>\n",
       "    <tr>\n",
       "      <th>9995</th>\n",
       "      <td>NaN</td>\n",
       "      <td>NaN</td>\n",
       "      <td>33.0</td>\n",
       "      <td>BlaBla</td>\n",
       "      <td>88.0</td>\n",
       "      <td>165.0</td>\n",
       "      <td>77.0</td>\n",
       "      <td>11.0</td>\n",
       "      <td>154.0</td>\n",
       "      <td>132.0</td>\n",
       "      <td>...</td>\n",
       "      <td>NaN</td>\n",
       "      <td>NaN</td>\n",
       "      <td>NaN</td>\n",
       "      <td>33.0</td>\n",
       "      <td>88.0</td>\n",
       "      <td>165.0</td>\n",
       "      <td>77.0</td>\n",
       "      <td>11.0</td>\n",
       "      <td>154.0</td>\n",
       "      <td>132.0</td>\n",
       "    </tr>\n",
       "    <tr>\n",
       "      <th>9996</th>\n",
       "      <td>NaN</td>\n",
       "      <td>11.0</td>\n",
       "      <td>44.0</td>\n",
       "      <td>BlaBla</td>\n",
       "      <td>99.0</td>\n",
       "      <td>NaN</td>\n",
       "      <td>88.0</td>\n",
       "      <td>22.0</td>\n",
       "      <td>165.0</td>\n",
       "      <td>143.0</td>\n",
       "      <td>...</td>\n",
       "      <td>11.0</td>\n",
       "      <td>NaN</td>\n",
       "      <td>11.0</td>\n",
       "      <td>44.0</td>\n",
       "      <td>99.0</td>\n",
       "      <td>NaN</td>\n",
       "      <td>88.0</td>\n",
       "      <td>22.0</td>\n",
       "      <td>165.0</td>\n",
       "      <td>143.0</td>\n",
       "    </tr>\n",
       "    <tr>\n",
       "      <th>9997</th>\n",
       "      <td>11.0</td>\n",
       "      <td>22.0</td>\n",
       "      <td>55.0</td>\n",
       "      <td>BlaBla</td>\n",
       "      <td>110.0</td>\n",
       "      <td>NaN</td>\n",
       "      <td>99.0</td>\n",
       "      <td>33.0</td>\n",
       "      <td>NaN</td>\n",
       "      <td>154.0</td>\n",
       "      <td>...</td>\n",
       "      <td>22.0</td>\n",
       "      <td>11.0</td>\n",
       "      <td>22.0</td>\n",
       "      <td>55.0</td>\n",
       "      <td>110.0</td>\n",
       "      <td>NaN</td>\n",
       "      <td>99.0</td>\n",
       "      <td>33.0</td>\n",
       "      <td>NaN</td>\n",
       "      <td>154.0</td>\n",
       "    </tr>\n",
       "    <tr>\n",
       "      <th>9998</th>\n",
       "      <td>22.0</td>\n",
       "      <td>33.0</td>\n",
       "      <td>66.0</td>\n",
       "      <td>BlaBla</td>\n",
       "      <td>121.0</td>\n",
       "      <td>11.0</td>\n",
       "      <td>110.0</td>\n",
       "      <td>44.0</td>\n",
       "      <td>NaN</td>\n",
       "      <td>165.0</td>\n",
       "      <td>...</td>\n",
       "      <td>33.0</td>\n",
       "      <td>22.0</td>\n",
       "      <td>33.0</td>\n",
       "      <td>66.0</td>\n",
       "      <td>121.0</td>\n",
       "      <td>11.0</td>\n",
       "      <td>110.0</td>\n",
       "      <td>44.0</td>\n",
       "      <td>NaN</td>\n",
       "      <td>165.0</td>\n",
       "    </tr>\n",
       "    <tr>\n",
       "      <th>9999</th>\n",
       "      <td>33.0</td>\n",
       "      <td>44.0</td>\n",
       "      <td>77.0</td>\n",
       "      <td>BlaBla</td>\n",
       "      <td>132.0</td>\n",
       "      <td>22.0</td>\n",
       "      <td>121.0</td>\n",
       "      <td>55.0</td>\n",
       "      <td>11.0</td>\n",
       "      <td>NaN</td>\n",
       "      <td>...</td>\n",
       "      <td>44.0</td>\n",
       "      <td>33.0</td>\n",
       "      <td>44.0</td>\n",
       "      <td>77.0</td>\n",
       "      <td>132.0</td>\n",
       "      <td>22.0</td>\n",
       "      <td>121.0</td>\n",
       "      <td>55.0</td>\n",
       "      <td>11.0</td>\n",
       "      <td>NaN</td>\n",
       "    </tr>\n",
       "  </tbody>\n",
       "</table>\n",
       "<p>10000 rows × 27 columns</p>\n",
       "</div>"
      ],
      "text/plain": [
       "         A     B     C some_text      D      E      F     G      H      I  \\\n",
       "0      NaN  11.0  44.0    BlaBla   99.0    NaN   88.0  22.0  165.0  143.0   \n",
       "1     11.0  22.0  55.0    BlaBla  110.0    NaN   99.0  33.0    NaN  154.0   \n",
       "2     22.0  33.0  66.0    BlaBla  121.0   11.0  110.0  44.0    NaN  165.0   \n",
       "3     33.0  44.0  77.0    BlaBla  132.0   22.0  121.0  55.0   11.0    NaN   \n",
       "4     44.0  55.0  88.0    BlaBla  143.0   33.0  132.0  66.0   22.0    NaN   \n",
       "...    ...   ...   ...       ...    ...    ...    ...   ...    ...    ...   \n",
       "9995   NaN   NaN  33.0    BlaBla   88.0  165.0   77.0  11.0  154.0  132.0   \n",
       "9996   NaN  11.0  44.0    BlaBla   99.0    NaN   88.0  22.0  165.0  143.0   \n",
       "9997  11.0  22.0  55.0    BlaBla  110.0    NaN   99.0  33.0    NaN  154.0   \n",
       "9998  22.0  33.0  66.0    BlaBla  121.0   11.0  110.0  44.0    NaN  165.0   \n",
       "9999  33.0  44.0  77.0    BlaBla  132.0   22.0  121.0  55.0   11.0    NaN   \n",
       "\n",
       "      ...     Q     R     S     T      U      V      W     X      Y      S  \n",
       "0     ...  11.0   NaN  11.0  44.0   99.0    NaN   88.0  22.0  165.0  143.0  \n",
       "1     ...  22.0  11.0  22.0  55.0  110.0    NaN   99.0  33.0    NaN  154.0  \n",
       "2     ...  33.0  22.0  33.0  66.0  121.0   11.0  110.0  44.0    NaN  165.0  \n",
       "3     ...  44.0  33.0  44.0  77.0  132.0   22.0  121.0  55.0   11.0    NaN  \n",
       "4     ...  55.0  44.0  55.0  88.0  143.0   33.0  132.0  66.0   22.0    NaN  \n",
       "...   ...   ...   ...   ...   ...    ...    ...    ...   ...    ...    ...  \n",
       "9995  ...   NaN   NaN   NaN  33.0   88.0  165.0   77.0  11.0  154.0  132.0  \n",
       "9996  ...  11.0   NaN  11.0  44.0   99.0    NaN   88.0  22.0  165.0  143.0  \n",
       "9997  ...  22.0  11.0  22.0  55.0  110.0    NaN   99.0  33.0    NaN  154.0  \n",
       "9998  ...  33.0  22.0  33.0  66.0  121.0   11.0  110.0  44.0    NaN  165.0  \n",
       "9999  ...  44.0  33.0  44.0  77.0  132.0   22.0  121.0  55.0   11.0    NaN  \n",
       "\n",
       "[10000 rows x 27 columns]"
      ]
     },
     "execution_count": 122,
     "metadata": {},
     "output_type": "execute_result"
    }
   ],
   "source": [
    "much_data = np.fromfunction(lambda x,y: (x+y*y)%17*11, (10000,26))\n",
    "large_df = pd.DataFrame(much_data, columns=list(\"ABCDEFGHIJKLMNOPQRSTUVWXYS\"))\n",
    "large_df[large_df % 16 == 0] = np.nan\n",
    "large_df.insert(3, \"some_text\", \"BlaBla\")\n",
    "large_df"
   ]
  },
  {
   "cell_type": "code",
   "execution_count": 123,
   "id": "073e48a0",
   "metadata": {
    "execution": {
     "iopub.execute_input": "2024-09-03T16:12:10.426898Z",
     "iopub.status.busy": "2024-09-03T16:12:10.425802Z",
     "iopub.status.idle": "2024-09-03T16:12:10.456279Z",
     "shell.execute_reply": "2024-09-03T16:12:10.455152Z"
    },
    "papermill": {
     "duration": 0.099642,
     "end_time": "2024-09-03T16:12:10.458596",
     "exception": false,
     "start_time": "2024-09-03T16:12:10.358954",
     "status": "completed"
    },
    "tags": []
   },
   "outputs": [
    {
     "data": {
      "text/html": [
       "<div>\n",
       "<style scoped>\n",
       "    .dataframe tbody tr th:only-of-type {\n",
       "        vertical-align: middle;\n",
       "    }\n",
       "\n",
       "    .dataframe tbody tr th {\n",
       "        vertical-align: top;\n",
       "    }\n",
       "\n",
       "    .dataframe thead th {\n",
       "        text-align: right;\n",
       "    }\n",
       "</style>\n",
       "<table border=\"1\" class=\"dataframe\">\n",
       "  <thead>\n",
       "    <tr style=\"text-align: right;\">\n",
       "      <th></th>\n",
       "      <th>A</th>\n",
       "      <th>B</th>\n",
       "      <th>C</th>\n",
       "      <th>some_text</th>\n",
       "      <th>D</th>\n",
       "      <th>E</th>\n",
       "      <th>F</th>\n",
       "      <th>G</th>\n",
       "      <th>H</th>\n",
       "      <th>I</th>\n",
       "      <th>...</th>\n",
       "      <th>Q</th>\n",
       "      <th>R</th>\n",
       "      <th>S</th>\n",
       "      <th>T</th>\n",
       "      <th>U</th>\n",
       "      <th>V</th>\n",
       "      <th>W</th>\n",
       "      <th>X</th>\n",
       "      <th>Y</th>\n",
       "      <th>S</th>\n",
       "    </tr>\n",
       "  </thead>\n",
       "  <tbody>\n",
       "    <tr>\n",
       "      <th>0</th>\n",
       "      <td>NaN</td>\n",
       "      <td>11.0</td>\n",
       "      <td>44.0</td>\n",
       "      <td>BlaBla</td>\n",
       "      <td>99.0</td>\n",
       "      <td>NaN</td>\n",
       "      <td>88.0</td>\n",
       "      <td>22.0</td>\n",
       "      <td>165.0</td>\n",
       "      <td>143.0</td>\n",
       "      <td>...</td>\n",
       "      <td>11.0</td>\n",
       "      <td>NaN</td>\n",
       "      <td>11.0</td>\n",
       "      <td>44.0</td>\n",
       "      <td>99.0</td>\n",
       "      <td>NaN</td>\n",
       "      <td>88.0</td>\n",
       "      <td>22.0</td>\n",
       "      <td>165.0</td>\n",
       "      <td>143.0</td>\n",
       "    </tr>\n",
       "    <tr>\n",
       "      <th>1</th>\n",
       "      <td>11.0</td>\n",
       "      <td>22.0</td>\n",
       "      <td>55.0</td>\n",
       "      <td>BlaBla</td>\n",
       "      <td>110.0</td>\n",
       "      <td>NaN</td>\n",
       "      <td>99.0</td>\n",
       "      <td>33.0</td>\n",
       "      <td>NaN</td>\n",
       "      <td>154.0</td>\n",
       "      <td>...</td>\n",
       "      <td>22.0</td>\n",
       "      <td>11.0</td>\n",
       "      <td>22.0</td>\n",
       "      <td>55.0</td>\n",
       "      <td>110.0</td>\n",
       "      <td>NaN</td>\n",
       "      <td>99.0</td>\n",
       "      <td>33.0</td>\n",
       "      <td>NaN</td>\n",
       "      <td>154.0</td>\n",
       "    </tr>\n",
       "    <tr>\n",
       "      <th>2</th>\n",
       "      <td>22.0</td>\n",
       "      <td>33.0</td>\n",
       "      <td>66.0</td>\n",
       "      <td>BlaBla</td>\n",
       "      <td>121.0</td>\n",
       "      <td>11.0</td>\n",
       "      <td>110.0</td>\n",
       "      <td>44.0</td>\n",
       "      <td>NaN</td>\n",
       "      <td>165.0</td>\n",
       "      <td>...</td>\n",
       "      <td>33.0</td>\n",
       "      <td>22.0</td>\n",
       "      <td>33.0</td>\n",
       "      <td>66.0</td>\n",
       "      <td>121.0</td>\n",
       "      <td>11.0</td>\n",
       "      <td>110.0</td>\n",
       "      <td>44.0</td>\n",
       "      <td>NaN</td>\n",
       "      <td>165.0</td>\n",
       "    </tr>\n",
       "    <tr>\n",
       "      <th>3</th>\n",
       "      <td>33.0</td>\n",
       "      <td>44.0</td>\n",
       "      <td>77.0</td>\n",
       "      <td>BlaBla</td>\n",
       "      <td>132.0</td>\n",
       "      <td>22.0</td>\n",
       "      <td>121.0</td>\n",
       "      <td>55.0</td>\n",
       "      <td>11.0</td>\n",
       "      <td>NaN</td>\n",
       "      <td>...</td>\n",
       "      <td>44.0</td>\n",
       "      <td>33.0</td>\n",
       "      <td>44.0</td>\n",
       "      <td>77.0</td>\n",
       "      <td>132.0</td>\n",
       "      <td>22.0</td>\n",
       "      <td>121.0</td>\n",
       "      <td>55.0</td>\n",
       "      <td>11.0</td>\n",
       "      <td>NaN</td>\n",
       "    </tr>\n",
       "    <tr>\n",
       "      <th>4</th>\n",
       "      <td>44.0</td>\n",
       "      <td>55.0</td>\n",
       "      <td>88.0</td>\n",
       "      <td>BlaBla</td>\n",
       "      <td>143.0</td>\n",
       "      <td>33.0</td>\n",
       "      <td>132.0</td>\n",
       "      <td>66.0</td>\n",
       "      <td>22.0</td>\n",
       "      <td>NaN</td>\n",
       "      <td>...</td>\n",
       "      <td>55.0</td>\n",
       "      <td>44.0</td>\n",
       "      <td>55.0</td>\n",
       "      <td>88.0</td>\n",
       "      <td>143.0</td>\n",
       "      <td>33.0</td>\n",
       "      <td>132.0</td>\n",
       "      <td>66.0</td>\n",
       "      <td>22.0</td>\n",
       "      <td>NaN</td>\n",
       "    </tr>\n",
       "  </tbody>\n",
       "</table>\n",
       "<p>5 rows × 27 columns</p>\n",
       "</div>"
      ],
      "text/plain": [
       "      A     B     C some_text      D     E      F     G      H      I  ...  \\\n",
       "0   NaN  11.0  44.0    BlaBla   99.0   NaN   88.0  22.0  165.0  143.0  ...   \n",
       "1  11.0  22.0  55.0    BlaBla  110.0   NaN   99.0  33.0    NaN  154.0  ...   \n",
       "2  22.0  33.0  66.0    BlaBla  121.0  11.0  110.0  44.0    NaN  165.0  ...   \n",
       "3  33.0  44.0  77.0    BlaBla  132.0  22.0  121.0  55.0   11.0    NaN  ...   \n",
       "4  44.0  55.0  88.0    BlaBla  143.0  33.0  132.0  66.0   22.0    NaN  ...   \n",
       "\n",
       "      Q     R     S     T      U     V      W     X      Y      S  \n",
       "0  11.0   NaN  11.0  44.0   99.0   NaN   88.0  22.0  165.0  143.0  \n",
       "1  22.0  11.0  22.0  55.0  110.0   NaN   99.0  33.0    NaN  154.0  \n",
       "2  33.0  22.0  33.0  66.0  121.0  11.0  110.0  44.0    NaN  165.0  \n",
       "3  44.0  33.0  44.0  77.0  132.0  22.0  121.0  55.0   11.0    NaN  \n",
       "4  55.0  44.0  55.0  88.0  143.0  33.0  132.0  66.0   22.0    NaN  \n",
       "\n",
       "[5 rows x 27 columns]"
      ]
     },
     "execution_count": 123,
     "metadata": {},
     "output_type": "execute_result"
    }
   ],
   "source": [
    "large_df.head()"
   ]
  },
  {
   "cell_type": "code",
   "execution_count": 124,
   "id": "3d99c962",
   "metadata": {
    "execution": {
     "iopub.execute_input": "2024-09-03T16:12:10.596312Z",
     "iopub.status.busy": "2024-09-03T16:12:10.595888Z",
     "iopub.status.idle": "2024-09-03T16:12:10.623263Z",
     "shell.execute_reply": "2024-09-03T16:12:10.622266Z"
    },
    "papermill": {
     "duration": 0.099872,
     "end_time": "2024-09-03T16:12:10.625463",
     "exception": false,
     "start_time": "2024-09-03T16:12:10.525591",
     "status": "completed"
    },
    "tags": []
   },
   "outputs": [
    {
     "data": {
      "text/html": [
       "<div>\n",
       "<style scoped>\n",
       "    .dataframe tbody tr th:only-of-type {\n",
       "        vertical-align: middle;\n",
       "    }\n",
       "\n",
       "    .dataframe tbody tr th {\n",
       "        vertical-align: top;\n",
       "    }\n",
       "\n",
       "    .dataframe thead th {\n",
       "        text-align: right;\n",
       "    }\n",
       "</style>\n",
       "<table border=\"1\" class=\"dataframe\">\n",
       "  <thead>\n",
       "    <tr style=\"text-align: right;\">\n",
       "      <th></th>\n",
       "      <th>A</th>\n",
       "      <th>B</th>\n",
       "      <th>C</th>\n",
       "      <th>some_text</th>\n",
       "      <th>D</th>\n",
       "      <th>E</th>\n",
       "      <th>F</th>\n",
       "      <th>G</th>\n",
       "      <th>H</th>\n",
       "      <th>I</th>\n",
       "      <th>...</th>\n",
       "      <th>Q</th>\n",
       "      <th>R</th>\n",
       "      <th>S</th>\n",
       "      <th>T</th>\n",
       "      <th>U</th>\n",
       "      <th>V</th>\n",
       "      <th>W</th>\n",
       "      <th>X</th>\n",
       "      <th>Y</th>\n",
       "      <th>S</th>\n",
       "    </tr>\n",
       "  </thead>\n",
       "  <tbody>\n",
       "    <tr>\n",
       "      <th>9998</th>\n",
       "      <td>22.0</td>\n",
       "      <td>33.0</td>\n",
       "      <td>66.0</td>\n",
       "      <td>BlaBla</td>\n",
       "      <td>121.0</td>\n",
       "      <td>11.0</td>\n",
       "      <td>110.0</td>\n",
       "      <td>44.0</td>\n",
       "      <td>NaN</td>\n",
       "      <td>165.0</td>\n",
       "      <td>...</td>\n",
       "      <td>33.0</td>\n",
       "      <td>22.0</td>\n",
       "      <td>33.0</td>\n",
       "      <td>66.0</td>\n",
       "      <td>121.0</td>\n",
       "      <td>11.0</td>\n",
       "      <td>110.0</td>\n",
       "      <td>44.0</td>\n",
       "      <td>NaN</td>\n",
       "      <td>165.0</td>\n",
       "    </tr>\n",
       "    <tr>\n",
       "      <th>9999</th>\n",
       "      <td>33.0</td>\n",
       "      <td>44.0</td>\n",
       "      <td>77.0</td>\n",
       "      <td>BlaBla</td>\n",
       "      <td>132.0</td>\n",
       "      <td>22.0</td>\n",
       "      <td>121.0</td>\n",
       "      <td>55.0</td>\n",
       "      <td>11.0</td>\n",
       "      <td>NaN</td>\n",
       "      <td>...</td>\n",
       "      <td>44.0</td>\n",
       "      <td>33.0</td>\n",
       "      <td>44.0</td>\n",
       "      <td>77.0</td>\n",
       "      <td>132.0</td>\n",
       "      <td>22.0</td>\n",
       "      <td>121.0</td>\n",
       "      <td>55.0</td>\n",
       "      <td>11.0</td>\n",
       "      <td>NaN</td>\n",
       "    </tr>\n",
       "  </tbody>\n",
       "</table>\n",
       "<p>2 rows × 27 columns</p>\n",
       "</div>"
      ],
      "text/plain": [
       "         A     B     C some_text      D     E      F     G     H      I  ...  \\\n",
       "9998  22.0  33.0  66.0    BlaBla  121.0  11.0  110.0  44.0   NaN  165.0  ...   \n",
       "9999  33.0  44.0  77.0    BlaBla  132.0  22.0  121.0  55.0  11.0    NaN  ...   \n",
       "\n",
       "         Q     R     S     T      U     V      W     X     Y      S  \n",
       "9998  33.0  22.0  33.0  66.0  121.0  11.0  110.0  44.0   NaN  165.0  \n",
       "9999  44.0  33.0  44.0  77.0  132.0  22.0  121.0  55.0  11.0    NaN  \n",
       "\n",
       "[2 rows x 27 columns]"
      ]
     },
     "execution_count": 124,
     "metadata": {},
     "output_type": "execute_result"
    }
   ],
   "source": [
    "large_df.tail(n=2)"
   ]
  },
  {
   "cell_type": "code",
   "execution_count": 125,
   "id": "027caed6",
   "metadata": {
    "execution": {
     "iopub.execute_input": "2024-09-03T16:12:10.760168Z",
     "iopub.status.busy": "2024-09-03T16:12:10.759234Z",
     "iopub.status.idle": "2024-09-03T16:12:10.773554Z",
     "shell.execute_reply": "2024-09-03T16:12:10.772546Z"
    },
    "papermill": {
     "duration": 0.083441,
     "end_time": "2024-09-03T16:12:10.775771",
     "exception": false,
     "start_time": "2024-09-03T16:12:10.692330",
     "status": "completed"
    },
    "tags": []
   },
   "outputs": [
    {
     "name": "stdout",
     "output_type": "stream",
     "text": [
      "<class 'pandas.core.frame.DataFrame'>\n",
      "RangeIndex: 10000 entries, 0 to 9999\n",
      "Data columns (total 27 columns):\n",
      " #   Column     Non-Null Count  Dtype  \n",
      "---  ------     --------------  -----  \n",
      " 0   A          8823 non-null   float64\n",
      " 1   B          8824 non-null   float64\n",
      " 2   C          8824 non-null   float64\n",
      " 3   some_text  10000 non-null  object \n",
      " 4   D          8824 non-null   float64\n",
      " 5   E          8822 non-null   float64\n",
      " 6   F          8824 non-null   float64\n",
      " 7   G          8824 non-null   float64\n",
      " 8   H          8822 non-null   float64\n",
      " 9   I          8823 non-null   float64\n",
      " 10  J          8823 non-null   float64\n",
      " 11  K          8822 non-null   float64\n",
      " 12  L          8824 non-null   float64\n",
      " 13  M          8824 non-null   float64\n",
      " 14  N          8822 non-null   float64\n",
      " 15  O          8824 non-null   float64\n",
      " 16  P          8824 non-null   float64\n",
      " 17  Q          8824 non-null   float64\n",
      " 18  R          8823 non-null   float64\n",
      " 19  S          8824 non-null   float64\n",
      " 20  T          8824 non-null   float64\n",
      " 21  U          8824 non-null   float64\n",
      " 22  V          8822 non-null   float64\n",
      " 23  W          8824 non-null   float64\n",
      " 24  X          8824 non-null   float64\n",
      " 25  Y          8822 non-null   float64\n",
      " 26  S          8823 non-null   float64\n",
      "dtypes: float64(26), object(1)\n",
      "memory usage: 2.1+ MB\n"
     ]
    }
   ],
   "source": [
    "large_df.info()"
   ]
  },
  {
   "cell_type": "markdown",
   "id": "c0ab0e66",
   "metadata": {
    "papermill": {
     "duration": 0.067153,
     "end_time": "2024-09-03T16:12:10.909123",
     "exception": false,
     "start_time": "2024-09-03T16:12:10.841970",
     "status": "completed"
    },
    "tags": []
   },
   "source": [
    "## Finally, the `describe()` method gives a nice overview of the main aggregated values over each column:\n",
    "* `count`: number of non-null (not NaN) values\n",
    "* `mean`: mean of non-null values\n",
    "* `std`: [standard deviation](https://en.wikipedia.org/wiki/Standard_deviation) of non-null values\n",
    "* `min`: minimum of non-null values\n",
    "* `25%`, `50%`, `75%`: 25th, 50th and 75th [percentile](https://en.wikipedia.org/wiki/Percentile) of non-null values\n",
    "* `max`: maximum of non-null values"
   ]
  },
  {
   "cell_type": "code",
   "execution_count": 126,
   "id": "c71b890e",
   "metadata": {
    "execution": {
     "iopub.execute_input": "2024-09-03T16:12:11.045607Z",
     "iopub.status.busy": "2024-09-03T16:12:11.045187Z",
     "iopub.status.idle": "2024-09-03T16:12:11.205747Z",
     "shell.execute_reply": "2024-09-03T16:12:11.204629Z"
    },
    "papermill": {
     "duration": 0.230877,
     "end_time": "2024-09-03T16:12:11.208254",
     "exception": false,
     "start_time": "2024-09-03T16:12:10.977377",
     "status": "completed"
    },
    "tags": []
   },
   "outputs": [
    {
     "data": {
      "text/html": [
       "<div>\n",
       "<style scoped>\n",
       "    .dataframe tbody tr th:only-of-type {\n",
       "        vertical-align: middle;\n",
       "    }\n",
       "\n",
       "    .dataframe tbody tr th {\n",
       "        vertical-align: top;\n",
       "    }\n",
       "\n",
       "    .dataframe thead th {\n",
       "        text-align: right;\n",
       "    }\n",
       "</style>\n",
       "<table border=\"1\" class=\"dataframe\">\n",
       "  <thead>\n",
       "    <tr style=\"text-align: right;\">\n",
       "      <th></th>\n",
       "      <th>A</th>\n",
       "      <th>B</th>\n",
       "      <th>C</th>\n",
       "      <th>D</th>\n",
       "      <th>E</th>\n",
       "      <th>F</th>\n",
       "      <th>G</th>\n",
       "      <th>H</th>\n",
       "      <th>I</th>\n",
       "      <th>J</th>\n",
       "      <th>...</th>\n",
       "      <th>Q</th>\n",
       "      <th>R</th>\n",
       "      <th>S</th>\n",
       "      <th>T</th>\n",
       "      <th>U</th>\n",
       "      <th>V</th>\n",
       "      <th>W</th>\n",
       "      <th>X</th>\n",
       "      <th>Y</th>\n",
       "      <th>S</th>\n",
       "    </tr>\n",
       "  </thead>\n",
       "  <tbody>\n",
       "    <tr>\n",
       "      <th>count</th>\n",
       "      <td>8823.000000</td>\n",
       "      <td>8824.000000</td>\n",
       "      <td>8824.000000</td>\n",
       "      <td>8824.000000</td>\n",
       "      <td>8822.000000</td>\n",
       "      <td>8824.000000</td>\n",
       "      <td>8824.000000</td>\n",
       "      <td>8822.000000</td>\n",
       "      <td>8823.000000</td>\n",
       "      <td>8823.000000</td>\n",
       "      <td>...</td>\n",
       "      <td>8824.000000</td>\n",
       "      <td>8823.000000</td>\n",
       "      <td>8824.000000</td>\n",
       "      <td>8824.000000</td>\n",
       "      <td>8824.000000</td>\n",
       "      <td>8822.000000</td>\n",
       "      <td>8824.000000</td>\n",
       "      <td>8824.000000</td>\n",
       "      <td>8822.000000</td>\n",
       "      <td>8823.000000</td>\n",
       "    </tr>\n",
       "    <tr>\n",
       "      <th>mean</th>\n",
       "      <td>87.977559</td>\n",
       "      <td>87.972575</td>\n",
       "      <td>87.987534</td>\n",
       "      <td>88.012466</td>\n",
       "      <td>87.983791</td>\n",
       "      <td>88.007480</td>\n",
       "      <td>87.977561</td>\n",
       "      <td>88.000000</td>\n",
       "      <td>88.022441</td>\n",
       "      <td>88.022441</td>\n",
       "      <td>...</td>\n",
       "      <td>87.972575</td>\n",
       "      <td>87.977559</td>\n",
       "      <td>87.972575</td>\n",
       "      <td>87.987534</td>\n",
       "      <td>88.012466</td>\n",
       "      <td>87.983791</td>\n",
       "      <td>88.007480</td>\n",
       "      <td>87.977561</td>\n",
       "      <td>88.000000</td>\n",
       "      <td>88.022441</td>\n",
       "    </tr>\n",
       "    <tr>\n",
       "      <th>std</th>\n",
       "      <td>47.535911</td>\n",
       "      <td>47.535523</td>\n",
       "      <td>47.521679</td>\n",
       "      <td>47.521679</td>\n",
       "      <td>47.535001</td>\n",
       "      <td>47.519371</td>\n",
       "      <td>47.529755</td>\n",
       "      <td>47.536879</td>\n",
       "      <td>47.535911</td>\n",
       "      <td>47.535911</td>\n",
       "      <td>...</td>\n",
       "      <td>47.535523</td>\n",
       "      <td>47.535911</td>\n",
       "      <td>47.535523</td>\n",
       "      <td>47.521679</td>\n",
       "      <td>47.521679</td>\n",
       "      <td>47.535001</td>\n",
       "      <td>47.519371</td>\n",
       "      <td>47.529755</td>\n",
       "      <td>47.536879</td>\n",
       "      <td>47.535911</td>\n",
       "    </tr>\n",
       "    <tr>\n",
       "      <th>min</th>\n",
       "      <td>11.000000</td>\n",
       "      <td>11.000000</td>\n",
       "      <td>11.000000</td>\n",
       "      <td>11.000000</td>\n",
       "      <td>11.000000</td>\n",
       "      <td>11.000000</td>\n",
       "      <td>11.000000</td>\n",
       "      <td>11.000000</td>\n",
       "      <td>11.000000</td>\n",
       "      <td>11.000000</td>\n",
       "      <td>...</td>\n",
       "      <td>11.000000</td>\n",
       "      <td>11.000000</td>\n",
       "      <td>11.000000</td>\n",
       "      <td>11.000000</td>\n",
       "      <td>11.000000</td>\n",
       "      <td>11.000000</td>\n",
       "      <td>11.000000</td>\n",
       "      <td>11.000000</td>\n",
       "      <td>11.000000</td>\n",
       "      <td>11.000000</td>\n",
       "    </tr>\n",
       "    <tr>\n",
       "      <th>25%</th>\n",
       "      <td>44.000000</td>\n",
       "      <td>44.000000</td>\n",
       "      <td>44.000000</td>\n",
       "      <td>44.000000</td>\n",
       "      <td>44.000000</td>\n",
       "      <td>44.000000</td>\n",
       "      <td>44.000000</td>\n",
       "      <td>44.000000</td>\n",
       "      <td>44.000000</td>\n",
       "      <td>44.000000</td>\n",
       "      <td>...</td>\n",
       "      <td>44.000000</td>\n",
       "      <td>44.000000</td>\n",
       "      <td>44.000000</td>\n",
       "      <td>44.000000</td>\n",
       "      <td>44.000000</td>\n",
       "      <td>44.000000</td>\n",
       "      <td>44.000000</td>\n",
       "      <td>44.000000</td>\n",
       "      <td>44.000000</td>\n",
       "      <td>44.000000</td>\n",
       "    </tr>\n",
       "    <tr>\n",
       "      <th>50%</th>\n",
       "      <td>88.000000</td>\n",
       "      <td>88.000000</td>\n",
       "      <td>88.000000</td>\n",
       "      <td>88.000000</td>\n",
       "      <td>88.000000</td>\n",
       "      <td>88.000000</td>\n",
       "      <td>88.000000</td>\n",
       "      <td>88.000000</td>\n",
       "      <td>88.000000</td>\n",
       "      <td>88.000000</td>\n",
       "      <td>...</td>\n",
       "      <td>88.000000</td>\n",
       "      <td>88.000000</td>\n",
       "      <td>88.000000</td>\n",
       "      <td>88.000000</td>\n",
       "      <td>88.000000</td>\n",
       "      <td>88.000000</td>\n",
       "      <td>88.000000</td>\n",
       "      <td>88.000000</td>\n",
       "      <td>88.000000</td>\n",
       "      <td>88.000000</td>\n",
       "    </tr>\n",
       "    <tr>\n",
       "      <th>75%</th>\n",
       "      <td>132.000000</td>\n",
       "      <td>132.000000</td>\n",
       "      <td>132.000000</td>\n",
       "      <td>132.000000</td>\n",
       "      <td>132.000000</td>\n",
       "      <td>132.000000</td>\n",
       "      <td>132.000000</td>\n",
       "      <td>132.000000</td>\n",
       "      <td>132.000000</td>\n",
       "      <td>132.000000</td>\n",
       "      <td>...</td>\n",
       "      <td>132.000000</td>\n",
       "      <td>132.000000</td>\n",
       "      <td>132.000000</td>\n",
       "      <td>132.000000</td>\n",
       "      <td>132.000000</td>\n",
       "      <td>132.000000</td>\n",
       "      <td>132.000000</td>\n",
       "      <td>132.000000</td>\n",
       "      <td>132.000000</td>\n",
       "      <td>132.000000</td>\n",
       "    </tr>\n",
       "    <tr>\n",
       "      <th>max</th>\n",
       "      <td>165.000000</td>\n",
       "      <td>165.000000</td>\n",
       "      <td>165.000000</td>\n",
       "      <td>165.000000</td>\n",
       "      <td>165.000000</td>\n",
       "      <td>165.000000</td>\n",
       "      <td>165.000000</td>\n",
       "      <td>165.000000</td>\n",
       "      <td>165.000000</td>\n",
       "      <td>165.000000</td>\n",
       "      <td>...</td>\n",
       "      <td>165.000000</td>\n",
       "      <td>165.000000</td>\n",
       "      <td>165.000000</td>\n",
       "      <td>165.000000</td>\n",
       "      <td>165.000000</td>\n",
       "      <td>165.000000</td>\n",
       "      <td>165.000000</td>\n",
       "      <td>165.000000</td>\n",
       "      <td>165.000000</td>\n",
       "      <td>165.000000</td>\n",
       "    </tr>\n",
       "  </tbody>\n",
       "</table>\n",
       "<p>8 rows × 26 columns</p>\n",
       "</div>"
      ],
      "text/plain": [
       "                 A            B            C            D            E  \\\n",
       "count  8823.000000  8824.000000  8824.000000  8824.000000  8822.000000   \n",
       "mean     87.977559    87.972575    87.987534    88.012466    87.983791   \n",
       "std      47.535911    47.535523    47.521679    47.521679    47.535001   \n",
       "min      11.000000    11.000000    11.000000    11.000000    11.000000   \n",
       "25%      44.000000    44.000000    44.000000    44.000000    44.000000   \n",
       "50%      88.000000    88.000000    88.000000    88.000000    88.000000   \n",
       "75%     132.000000   132.000000   132.000000   132.000000   132.000000   \n",
       "max     165.000000   165.000000   165.000000   165.000000   165.000000   \n",
       "\n",
       "                 F            G            H            I            J  ...  \\\n",
       "count  8824.000000  8824.000000  8822.000000  8823.000000  8823.000000  ...   \n",
       "mean     88.007480    87.977561    88.000000    88.022441    88.022441  ...   \n",
       "std      47.519371    47.529755    47.536879    47.535911    47.535911  ...   \n",
       "min      11.000000    11.000000    11.000000    11.000000    11.000000  ...   \n",
       "25%      44.000000    44.000000    44.000000    44.000000    44.000000  ...   \n",
       "50%      88.000000    88.000000    88.000000    88.000000    88.000000  ...   \n",
       "75%     132.000000   132.000000   132.000000   132.000000   132.000000  ...   \n",
       "max     165.000000   165.000000   165.000000   165.000000   165.000000  ...   \n",
       "\n",
       "                 Q            R            S            T            U  \\\n",
       "count  8824.000000  8823.000000  8824.000000  8824.000000  8824.000000   \n",
       "mean     87.972575    87.977559    87.972575    87.987534    88.012466   \n",
       "std      47.535523    47.535911    47.535523    47.521679    47.521679   \n",
       "min      11.000000    11.000000    11.000000    11.000000    11.000000   \n",
       "25%      44.000000    44.000000    44.000000    44.000000    44.000000   \n",
       "50%      88.000000    88.000000    88.000000    88.000000    88.000000   \n",
       "75%     132.000000   132.000000   132.000000   132.000000   132.000000   \n",
       "max     165.000000   165.000000   165.000000   165.000000   165.000000   \n",
       "\n",
       "                 V            W            X            Y            S  \n",
       "count  8822.000000  8824.000000  8824.000000  8822.000000  8823.000000  \n",
       "mean     87.983791    88.007480    87.977561    88.000000    88.022441  \n",
       "std      47.535001    47.519371    47.529755    47.536879    47.535911  \n",
       "min      11.000000    11.000000    11.000000    11.000000    11.000000  \n",
       "25%      44.000000    44.000000    44.000000    44.000000    44.000000  \n",
       "50%      88.000000    88.000000    88.000000    88.000000    88.000000  \n",
       "75%     132.000000   132.000000   132.000000   132.000000   132.000000  \n",
       "max     165.000000   165.000000   165.000000   165.000000   165.000000  \n",
       "\n",
       "[8 rows x 26 columns]"
      ]
     },
     "execution_count": 126,
     "metadata": {},
     "output_type": "execute_result"
    }
   ],
   "source": [
    "large_df.describe()"
   ]
  },
  {
   "cell_type": "markdown",
   "id": "ef2d9ec3",
   "metadata": {
    "papermill": {
     "duration": 0.067308,
     "end_time": "2024-09-03T16:12:11.344190",
     "exception": false,
     "start_time": "2024-09-03T16:12:11.276882",
     "status": "completed"
    },
    "tags": []
   },
   "source": [
    "# Saving & loading\n",
    "Pandas can save `DataFrame`s to various backends, including file formats such as CSV, Excel, JSON, HTML and HDF5, or to a SQL database. Let's create a `DataFrame` to demonstrate this:"
   ]
  },
  {
   "cell_type": "code",
   "execution_count": 127,
   "id": "e30a00ea",
   "metadata": {
    "execution": {
     "iopub.execute_input": "2024-09-03T16:12:11.481302Z",
     "iopub.status.busy": "2024-09-03T16:12:11.480432Z",
     "iopub.status.idle": "2024-09-03T16:12:11.493587Z",
     "shell.execute_reply": "2024-09-03T16:12:11.492442Z"
    },
    "papermill": {
     "duration": 0.084463,
     "end_time": "2024-09-03T16:12:11.495916",
     "exception": false,
     "start_time": "2024-09-03T16:12:11.411453",
     "status": "completed"
    },
    "tags": []
   },
   "outputs": [
    {
     "data": {
      "text/html": [
       "<div>\n",
       "<style scoped>\n",
       "    .dataframe tbody tr th:only-of-type {\n",
       "        vertical-align: middle;\n",
       "    }\n",
       "\n",
       "    .dataframe tbody tr th {\n",
       "        vertical-align: top;\n",
       "    }\n",
       "\n",
       "    .dataframe thead th {\n",
       "        text-align: right;\n",
       "    }\n",
       "</style>\n",
       "<table border=\"1\" class=\"dataframe\">\n",
       "  <thead>\n",
       "    <tr style=\"text-align: right;\">\n",
       "      <th></th>\n",
       "      <th>hobby</th>\n",
       "      <th>weight</th>\n",
       "      <th>birthyear</th>\n",
       "      <th>children</th>\n",
       "    </tr>\n",
       "  </thead>\n",
       "  <tbody>\n",
       "    <tr>\n",
       "      <th>alice</th>\n",
       "      <td>Biking</td>\n",
       "      <td>68.5</td>\n",
       "      <td>1985</td>\n",
       "      <td>NaN</td>\n",
       "    </tr>\n",
       "    <tr>\n",
       "      <th>bob</th>\n",
       "      <td>Dancing</td>\n",
       "      <td>83.1</td>\n",
       "      <td>1984</td>\n",
       "      <td>3.0</td>\n",
       "    </tr>\n",
       "  </tbody>\n",
       "</table>\n",
       "</div>"
      ],
      "text/plain": [
       "         hobby  weight  birthyear  children\n",
       "alice   Biking    68.5       1985       NaN\n",
       "bob    Dancing    83.1       1984       3.0"
      ]
     },
     "execution_count": 127,
     "metadata": {},
     "output_type": "execute_result"
    }
   ],
   "source": [
    "my_df = pd.DataFrame(\n",
    "    [[\"Biking\", 68.5, 1985, np.nan], [\"Dancing\", 83.1, 1984, 3]],\n",
    "    columns = [\"hobby\", \"weight\", \"birthyear\", \"children\"],\n",
    "    index = [\"alice\",\"bob\"]\n",
    ")\n",
    "my_df"
   ]
  },
  {
   "cell_type": "markdown",
   "id": "05788d30",
   "metadata": {
    "papermill": {
     "duration": 0.065997,
     "end_time": "2024-09-03T16:12:11.629648",
     "exception": false,
     "start_time": "2024-09-03T16:12:11.563651",
     "status": "completed"
    },
    "tags": []
   },
   "source": [
    "# Saving"
   ]
  },
  {
   "cell_type": "code",
   "execution_count": 128,
   "id": "1086ddcc",
   "metadata": {
    "execution": {
     "iopub.execute_input": "2024-09-03T16:12:11.765795Z",
     "iopub.status.busy": "2024-09-03T16:12:11.764944Z",
     "iopub.status.idle": "2024-09-03T16:12:11.776662Z",
     "shell.execute_reply": "2024-09-03T16:12:11.775801Z"
    },
    "papermill": {
     "duration": 0.081986,
     "end_time": "2024-09-03T16:12:11.778856",
     "exception": false,
     "start_time": "2024-09-03T16:12:11.696870",
     "status": "completed"
    },
    "tags": []
   },
   "outputs": [],
   "source": [
    "my_df.to_csv(\"my_df.csv\")\n",
    "my_df.to_html(\"my_df.html\")\n",
    "my_df.to_json(\"my_df.json\")"
   ]
  },
  {
   "cell_type": "code",
   "execution_count": 129,
   "id": "04b08337",
   "metadata": {
    "execution": {
     "iopub.execute_input": "2024-09-03T16:12:11.916010Z",
     "iopub.status.busy": "2024-09-03T16:12:11.915344Z",
     "iopub.status.idle": "2024-09-03T16:12:11.923653Z",
     "shell.execute_reply": "2024-09-03T16:12:11.922468Z"
    },
    "papermill": {
     "duration": 0.079051,
     "end_time": "2024-09-03T16:12:11.925905",
     "exception": false,
     "start_time": "2024-09-03T16:12:11.846854",
     "status": "completed"
    },
    "tags": []
   },
   "outputs": [
    {
     "name": "stdout",
     "output_type": "stream",
     "text": [
      "# my_df.csv\n",
      ",hobby,weight,birthyear,children\n",
      "alice,Biking,68.5,1985,\n",
      "bob,Dancing,83.1,1984,3.0\n",
      "\n",
      "\n",
      "# my_df.html\n",
      "<table border=\"1\" class=\"dataframe\">\n",
      "  <thead>\n",
      "    <tr style=\"text-align: right;\">\n",
      "      <th></th>\n",
      "      <th>hobby</th>\n",
      "      <th>weight</th>\n",
      "      <th>birthyear</th>\n",
      "      <th>children</th>\n",
      "    </tr>\n",
      "  </thead>\n",
      "  <tbody>\n",
      "    <tr>\n",
      "      <th>alice</th>\n",
      "      <td>Biking</td>\n",
      "      <td>68.5</td>\n",
      "      <td>1985</td>\n",
      "      <td>NaN</td>\n",
      "    </tr>\n",
      "    <tr>\n",
      "      <th>bob</th>\n",
      "      <td>Dancing</td>\n",
      "      <td>83.1</td>\n",
      "      <td>1984</td>\n",
      "      <td>3.0</td>\n",
      "    </tr>\n",
      "  </tbody>\n",
      "</table>\n",
      "\n",
      "# my_df.json\n",
      "{\"hobby\":{\"alice\":\"Biking\",\"bob\":\"Dancing\"},\"weight\":{\"alice\":68.5,\"bob\":83.1},\"birthyear\":{\"alice\":1985,\"bob\":1984},\"children\":{\"alice\":null,\"bob\":3.0}}\n",
      "\n"
     ]
    }
   ],
   "source": [
    "from pathlib import Path\n",
    "\n",
    "for filename in (\"my_df.csv\", \"my_df.html\", \"my_df.json\"):\n",
    "    print(\"#\", filename)\n",
    "    print(Path(filename).read_text())\n",
    "    print()"
   ]
  },
  {
   "cell_type": "markdown",
   "id": "c2e71910",
   "metadata": {
    "papermill": {
     "duration": 0.068372,
     "end_time": "2024-09-03T16:12:12.062117",
     "exception": false,
     "start_time": "2024-09-03T16:12:11.993745",
     "status": "completed"
    },
    "tags": []
   },
   "source": [
    "Note that the index is saved as the first column in a CSV file, as `<th>` tags in HTML and as keys in JSON. The index column has no name by default, but you can fix that by setting `my_df.index.name` to any name you want.\n",
    "\n",
    "Saving to other formats works very similarly, but some formats require extra libraries to be installed. For example, saving to Excel requires the openpyxl library:"
   ]
  },
  {
   "cell_type": "code",
   "execution_count": 130,
   "id": "0a47577d",
   "metadata": {
    "execution": {
     "iopub.execute_input": "2024-09-03T16:12:12.199107Z",
     "iopub.status.busy": "2024-09-03T16:12:12.198215Z",
     "iopub.status.idle": "2024-09-03T16:12:12.528858Z",
     "shell.execute_reply": "2024-09-03T16:12:12.527889Z"
    },
    "papermill": {
     "duration": 0.402003,
     "end_time": "2024-09-03T16:12:12.531421",
     "exception": false,
     "start_time": "2024-09-03T16:12:12.129418",
     "status": "completed"
    },
    "tags": []
   },
   "outputs": [],
   "source": [
    "try :\n",
    "    my_df.to_excel(\"my_df.xlsx\", sheet_name=\"People\")\n",
    "except ImportError as e:\n",
    "    print(e)"
   ]
  },
  {
   "cell_type": "markdown",
   "id": "1d54c0c6",
   "metadata": {
    "papermill": {
     "duration": 0.066542,
     "end_time": "2024-09-03T16:12:12.665886",
     "exception": false,
     "start_time": "2024-09-03T16:12:12.599344",
     "status": "completed"
    },
    "tags": []
   },
   "source": [
    "## Loading\n",
    "Now let's load our CSV file back into a `DataFrame`:"
   ]
  },
  {
   "cell_type": "code",
   "execution_count": 131,
   "id": "95bd41c3",
   "metadata": {
    "execution": {
     "iopub.execute_input": "2024-09-03T16:12:12.802317Z",
     "iopub.status.busy": "2024-09-03T16:12:12.801777Z",
     "iopub.status.idle": "2024-09-03T16:12:12.819152Z",
     "shell.execute_reply": "2024-09-03T16:12:12.818081Z"
    },
    "papermill": {
     "duration": 0.087661,
     "end_time": "2024-09-03T16:12:12.821446",
     "exception": false,
     "start_time": "2024-09-03T16:12:12.733785",
     "status": "completed"
    },
    "tags": []
   },
   "outputs": [
    {
     "data": {
      "text/html": [
       "<div>\n",
       "<style scoped>\n",
       "    .dataframe tbody tr th:only-of-type {\n",
       "        vertical-align: middle;\n",
       "    }\n",
       "\n",
       "    .dataframe tbody tr th {\n",
       "        vertical-align: top;\n",
       "    }\n",
       "\n",
       "    .dataframe thead th {\n",
       "        text-align: right;\n",
       "    }\n",
       "</style>\n",
       "<table border=\"1\" class=\"dataframe\">\n",
       "  <thead>\n",
       "    <tr style=\"text-align: right;\">\n",
       "      <th></th>\n",
       "      <th>hobby</th>\n",
       "      <th>weight</th>\n",
       "      <th>birthyear</th>\n",
       "      <th>children</th>\n",
       "    </tr>\n",
       "  </thead>\n",
       "  <tbody>\n",
       "    <tr>\n",
       "      <th>alice</th>\n",
       "      <td>Biking</td>\n",
       "      <td>68.5</td>\n",
       "      <td>1985</td>\n",
       "      <td>NaN</td>\n",
       "    </tr>\n",
       "    <tr>\n",
       "      <th>bob</th>\n",
       "      <td>Dancing</td>\n",
       "      <td>83.1</td>\n",
       "      <td>1984</td>\n",
       "      <td>3.0</td>\n",
       "    </tr>\n",
       "  </tbody>\n",
       "</table>\n",
       "</div>"
      ],
      "text/plain": [
       "         hobby  weight  birthyear  children\n",
       "alice   Biking    68.5       1985       NaN\n",
       "bob    Dancing    83.1       1984       3.0"
      ]
     },
     "execution_count": 131,
     "metadata": {},
     "output_type": "execute_result"
    }
   ],
   "source": [
    "my_df_loaded = pd.read_csv(\"my_df.csv\", index_col = 0)\n",
    "my_df_loaded"
   ]
  },
  {
   "cell_type": "markdown",
   "id": "6d0b540c",
   "metadata": {
    "papermill": {
     "duration": 0.068379,
     "end_time": "2024-09-03T16:12:12.957825",
     "exception": false,
     "start_time": "2024-09-03T16:12:12.889446",
     "status": "completed"
    },
    "tags": []
   },
   "source": [
    "### As you might guess, there are similar read_json, read_html, read_excel functions as well. We can also read data straight from the Internet. For example, let's load the top 1,000 U.S. cities from GitHub:"
   ]
  },
  {
   "cell_type": "code",
   "execution_count": 132,
   "id": "bab3de6a",
   "metadata": {
    "execution": {
     "iopub.execute_input": "2024-09-03T16:12:13.094815Z",
     "iopub.status.busy": "2024-09-03T16:12:13.094366Z",
     "iopub.status.idle": "2024-09-03T16:12:13.344886Z",
     "shell.execute_reply": "2024-09-03T16:12:13.343759Z"
    },
    "papermill": {
     "duration": 0.32185,
     "end_time": "2024-09-03T16:12:13.347252",
     "exception": false,
     "start_time": "2024-09-03T16:12:13.025402",
     "status": "completed"
    },
    "tags": []
   },
   "outputs": [
    {
     "data": {
      "text/html": [
       "<div>\n",
       "<style scoped>\n",
       "    .dataframe tbody tr th:only-of-type {\n",
       "        vertical-align: middle;\n",
       "    }\n",
       "\n",
       "    .dataframe tbody tr th {\n",
       "        vertical-align: top;\n",
       "    }\n",
       "\n",
       "    .dataframe thead th {\n",
       "        text-align: right;\n",
       "    }\n",
       "</style>\n",
       "<table border=\"1\" class=\"dataframe\">\n",
       "  <thead>\n",
       "    <tr style=\"text-align: right;\">\n",
       "      <th></th>\n",
       "      <th>State</th>\n",
       "      <th>Population</th>\n",
       "      <th>lat</th>\n",
       "      <th>lon</th>\n",
       "    </tr>\n",
       "    <tr>\n",
       "      <th>City</th>\n",
       "      <th></th>\n",
       "      <th></th>\n",
       "      <th></th>\n",
       "      <th></th>\n",
       "    </tr>\n",
       "  </thead>\n",
       "  <tbody>\n",
       "    <tr>\n",
       "      <th>Marysville</th>\n",
       "      <td>Washington</td>\n",
       "      <td>63269</td>\n",
       "      <td>48.051764</td>\n",
       "      <td>-122.177082</td>\n",
       "    </tr>\n",
       "    <tr>\n",
       "      <th>Perris</th>\n",
       "      <td>California</td>\n",
       "      <td>72326</td>\n",
       "      <td>33.782519</td>\n",
       "      <td>-117.228648</td>\n",
       "    </tr>\n",
       "    <tr>\n",
       "      <th>Cleveland</th>\n",
       "      <td>Ohio</td>\n",
       "      <td>390113</td>\n",
       "      <td>41.499320</td>\n",
       "      <td>-81.694361</td>\n",
       "    </tr>\n",
       "    <tr>\n",
       "      <th>Worcester</th>\n",
       "      <td>Massachusetts</td>\n",
       "      <td>182544</td>\n",
       "      <td>42.262593</td>\n",
       "      <td>-71.802293</td>\n",
       "    </tr>\n",
       "    <tr>\n",
       "      <th>Columbia</th>\n",
       "      <td>South Carolina</td>\n",
       "      <td>133358</td>\n",
       "      <td>34.000710</td>\n",
       "      <td>-81.034814</td>\n",
       "    </tr>\n",
       "  </tbody>\n",
       "</table>\n",
       "</div>"
      ],
      "text/plain": [
       "                     State  Population        lat         lon\n",
       "City                                                         \n",
       "Marysville      Washington       63269  48.051764 -122.177082\n",
       "Perris          California       72326  33.782519 -117.228648\n",
       "Cleveland             Ohio      390113  41.499320  -81.694361\n",
       "Worcester    Massachusetts      182544  42.262593  -71.802293\n",
       "Columbia    South Carolina      133358  34.000710  -81.034814"
      ]
     },
     "execution_count": 132,
     "metadata": {},
     "output_type": "execute_result"
    }
   ],
   "source": [
    "us_cities = None\n",
    "try :\n",
    "    csv_url = \"https://raw.githubusercontent.com/plotly/datasets/master/us-cities-top-1k.csv\"\n",
    "    us_cities = pd.read_csv(csv_url, index_col = 0)\n",
    "    us_cities = us_cities.head()\n",
    "except IOError as e:\n",
    "    print(e)\n",
    "    \n",
    "us_cities"
   ]
  },
  {
   "cell_type": "markdown",
   "id": "422a2b7b",
   "metadata": {
    "papermill": {
     "duration": 0.068595,
     "end_time": "2024-09-03T16:12:13.483517",
     "exception": false,
     "start_time": "2024-09-03T16:12:13.414922",
     "status": "completed"
    },
    "tags": []
   },
   "source": [
    "# Combining `DataFrame`s\n",
    "\n",
    "## SQL-like joins\n",
    "One powerful feature of pandas is its ability to perform SQL-like joins on `DataFrame`s. Various types of joins are supported: inner joins, left/right outer joins and full joins. To illustrate this, let's start by creating a couple of simple `DataFrame`s:"
   ]
  },
  {
   "cell_type": "code",
   "execution_count": 133,
   "id": "9c60429d",
   "metadata": {
    "execution": {
     "iopub.execute_input": "2024-09-03T16:12:13.621785Z",
     "iopub.status.busy": "2024-09-03T16:12:13.620738Z",
     "iopub.status.idle": "2024-09-03T16:12:13.634781Z",
     "shell.execute_reply": "2024-09-03T16:12:13.633584Z"
    },
    "papermill": {
     "duration": 0.084953,
     "end_time": "2024-09-03T16:12:13.636810",
     "exception": false,
     "start_time": "2024-09-03T16:12:13.551857",
     "status": "completed"
    },
    "tags": []
   },
   "outputs": [
    {
     "data": {
      "text/html": [
       "<div>\n",
       "<style scoped>\n",
       "    .dataframe tbody tr th:only-of-type {\n",
       "        vertical-align: middle;\n",
       "    }\n",
       "\n",
       "    .dataframe tbody tr th {\n",
       "        vertical-align: top;\n",
       "    }\n",
       "\n",
       "    .dataframe thead th {\n",
       "        text-align: right;\n",
       "    }\n",
       "</style>\n",
       "<table border=\"1\" class=\"dataframe\">\n",
       "  <thead>\n",
       "    <tr style=\"text-align: right;\">\n",
       "      <th></th>\n",
       "      <th>state</th>\n",
       "      <th>city</th>\n",
       "      <th>lat</th>\n",
       "      <th>lng</th>\n",
       "    </tr>\n",
       "  </thead>\n",
       "  <tbody>\n",
       "    <tr>\n",
       "      <th>0</th>\n",
       "      <td>CA</td>\n",
       "      <td>San Francisco</td>\n",
       "      <td>37.781340</td>\n",
       "      <td>-122.416728</td>\n",
       "    </tr>\n",
       "    <tr>\n",
       "      <th>1</th>\n",
       "      <td>NY</td>\n",
       "      <td>New York</td>\n",
       "      <td>40.705649</td>\n",
       "      <td>-74.008344</td>\n",
       "    </tr>\n",
       "    <tr>\n",
       "      <th>2</th>\n",
       "      <td>FL</td>\n",
       "      <td>Miami</td>\n",
       "      <td>25.791100</td>\n",
       "      <td>-80.320733</td>\n",
       "    </tr>\n",
       "    <tr>\n",
       "      <th>3</th>\n",
       "      <td>OH</td>\n",
       "      <td>Cleveland</td>\n",
       "      <td>41.473508</td>\n",
       "      <td>-81.739979</td>\n",
       "    </tr>\n",
       "    <tr>\n",
       "      <th>4</th>\n",
       "      <td>UT</td>\n",
       "      <td>cleveland</td>\n",
       "      <td>40.755851</td>\n",
       "      <td>-111.896647</td>\n",
       "    </tr>\n",
       "  </tbody>\n",
       "</table>\n",
       "</div>"
      ],
      "text/plain": [
       "  state           city        lat         lng\n",
       "0    CA  San Francisco  37.781340 -122.416728\n",
       "1    NY       New York  40.705649  -74.008344\n",
       "2    FL          Miami  25.791100  -80.320733\n",
       "3    OH      Cleveland  41.473508  -81.739979\n",
       "4    UT      cleveland  40.755851 -111.896647"
      ]
     },
     "execution_count": 133,
     "metadata": {},
     "output_type": "execute_result"
    }
   ],
   "source": [
    "city_loc = pd.DataFrame(\n",
    "    [\n",
    "        [\"CA\",\"San Francisco\", 37.78134, -122.416728],\n",
    "        [\"NY\", \"New York\",40.705649,-74.008344],\n",
    "        [\"FL\",\"Miami\", 25.791100, -80.320733],\n",
    "        [\"OH\", \"Cleveland\", 41.473508, -81.7399791],\n",
    "        [\"UT\", \"cleveland\", 40.755851, -111.896647]\n",
    "            \n",
    "    ], columns=[\"state\",\"city\", \"lat\", \"lng\"]\n",
    ")\n",
    "\n",
    "city_loc"
   ]
  },
  {
   "cell_type": "code",
   "execution_count": 134,
   "id": "7124d1ac",
   "metadata": {
    "execution": {
     "iopub.execute_input": "2024-09-03T16:12:13.774875Z",
     "iopub.status.busy": "2024-09-03T16:12:13.773557Z",
     "iopub.status.idle": "2024-09-03T16:12:13.786709Z",
     "shell.execute_reply": "2024-09-03T16:12:13.785527Z"
    },
    "papermill": {
     "duration": 0.084233,
     "end_time": "2024-09-03T16:12:13.788861",
     "exception": false,
     "start_time": "2024-09-03T16:12:13.704628",
     "status": "completed"
    },
    "tags": []
   },
   "outputs": [
    {
     "data": {
      "text/html": [
       "<div>\n",
       "<style scoped>\n",
       "    .dataframe tbody tr th:only-of-type {\n",
       "        vertical-align: middle;\n",
       "    }\n",
       "\n",
       "    .dataframe tbody tr th {\n",
       "        vertical-align: top;\n",
       "    }\n",
       "\n",
       "    .dataframe thead th {\n",
       "        text-align: right;\n",
       "    }\n",
       "</style>\n",
       "<table border=\"1\" class=\"dataframe\">\n",
       "  <thead>\n",
       "    <tr style=\"text-align: right;\">\n",
       "      <th></th>\n",
       "      <th>population</th>\n",
       "      <th>city</th>\n",
       "      <th>state</th>\n",
       "    </tr>\n",
       "  </thead>\n",
       "  <tbody>\n",
       "    <tr>\n",
       "      <th>3</th>\n",
       "      <td>808976</td>\n",
       "      <td>San Francisco</td>\n",
       "      <td>California</td>\n",
       "    </tr>\n",
       "    <tr>\n",
       "      <th>4</th>\n",
       "      <td>8363710</td>\n",
       "      <td>New York</td>\n",
       "      <td>New-York</td>\n",
       "    </tr>\n",
       "    <tr>\n",
       "      <th>5</th>\n",
       "      <td>413201</td>\n",
       "      <td>Miami</td>\n",
       "      <td>Florida</td>\n",
       "    </tr>\n",
       "    <tr>\n",
       "      <th>6</th>\n",
       "      <td>2232193</td>\n",
       "      <td>Houston</td>\n",
       "      <td>Texas</td>\n",
       "    </tr>\n",
       "  </tbody>\n",
       "</table>\n",
       "</div>"
      ],
      "text/plain": [
       "   population           city       state\n",
       "3      808976  San Francisco  California\n",
       "4     8363710       New York    New-York\n",
       "5      413201          Miami     Florida\n",
       "6     2232193        Houston       Texas"
      ]
     },
     "execution_count": 134,
     "metadata": {},
     "output_type": "execute_result"
    }
   ],
   "source": [
    "city_pop = pd.DataFrame(\n",
    "    [\n",
    "        [808976, \"San Francisco\", \"California\"],\n",
    "        [8363710, \"New York\",\"New-York\"],\n",
    "        [413201, \"Miami\", \"Florida\"],\n",
    "        [2232193,\"Houston\", \"Texas\"]\n",
    "    ],index = [3,4,5,6], columns=[\"population\", \"city\", \"state\"]\n",
    ")\n",
    "\n",
    "city_pop"
   ]
  },
  {
   "cell_type": "markdown",
   "id": "5306926c",
   "metadata": {
    "papermill": {
     "duration": 0.069071,
     "end_time": "2024-09-03T16:12:13.926263",
     "exception": false,
     "start_time": "2024-09-03T16:12:13.857192",
     "status": "completed"
    },
    "tags": []
   },
   "source": [
    "Now let's join these `DataFrame`s using the `merge()` function:"
   ]
  },
  {
   "cell_type": "code",
   "execution_count": 135,
   "id": "7e3840de",
   "metadata": {
    "execution": {
     "iopub.execute_input": "2024-09-03T16:12:14.119549Z",
     "iopub.status.busy": "2024-09-03T16:12:14.119102Z",
     "iopub.status.idle": "2024-09-03T16:12:14.137184Z",
     "shell.execute_reply": "2024-09-03T16:12:14.136078Z"
    },
    "papermill": {
     "duration": 0.090092,
     "end_time": "2024-09-03T16:12:14.139395",
     "exception": false,
     "start_time": "2024-09-03T16:12:14.049303",
     "status": "completed"
    },
    "tags": []
   },
   "outputs": [
    {
     "data": {
      "text/html": [
       "<div>\n",
       "<style scoped>\n",
       "    .dataframe tbody tr th:only-of-type {\n",
       "        vertical-align: middle;\n",
       "    }\n",
       "\n",
       "    .dataframe tbody tr th {\n",
       "        vertical-align: top;\n",
       "    }\n",
       "\n",
       "    .dataframe thead th {\n",
       "        text-align: right;\n",
       "    }\n",
       "</style>\n",
       "<table border=\"1\" class=\"dataframe\">\n",
       "  <thead>\n",
       "    <tr style=\"text-align: right;\">\n",
       "      <th></th>\n",
       "      <th>state_x</th>\n",
       "      <th>city</th>\n",
       "      <th>lat</th>\n",
       "      <th>lng</th>\n",
       "      <th>population</th>\n",
       "      <th>state_y</th>\n",
       "    </tr>\n",
       "  </thead>\n",
       "  <tbody>\n",
       "    <tr>\n",
       "      <th>0</th>\n",
       "      <td>CA</td>\n",
       "      <td>San Francisco</td>\n",
       "      <td>37.781340</td>\n",
       "      <td>-122.416728</td>\n",
       "      <td>808976</td>\n",
       "      <td>California</td>\n",
       "    </tr>\n",
       "    <tr>\n",
       "      <th>1</th>\n",
       "      <td>NY</td>\n",
       "      <td>New York</td>\n",
       "      <td>40.705649</td>\n",
       "      <td>-74.008344</td>\n",
       "      <td>8363710</td>\n",
       "      <td>New-York</td>\n",
       "    </tr>\n",
       "    <tr>\n",
       "      <th>2</th>\n",
       "      <td>FL</td>\n",
       "      <td>Miami</td>\n",
       "      <td>25.791100</td>\n",
       "      <td>-80.320733</td>\n",
       "      <td>413201</td>\n",
       "      <td>Florida</td>\n",
       "    </tr>\n",
       "  </tbody>\n",
       "</table>\n",
       "</div>"
      ],
      "text/plain": [
       "  state_x           city        lat         lng  population     state_y\n",
       "0      CA  San Francisco  37.781340 -122.416728      808976  California\n",
       "1      NY       New York  40.705649  -74.008344     8363710    New-York\n",
       "2      FL          Miami  25.791100  -80.320733      413201     Florida"
      ]
     },
     "execution_count": 135,
     "metadata": {},
     "output_type": "execute_result"
    }
   ],
   "source": [
    "pd.merge(left=city_loc, right=city_pop, on=\"city\")"
   ]
  },
  {
   "cell_type": "markdown",
   "id": "b61d9731",
   "metadata": {
    "papermill": {
     "duration": 0.069909,
     "end_time": "2024-09-03T16:12:14.280794",
     "exception": false,
     "start_time": "2024-09-03T16:12:14.210885",
     "status": "completed"
    },
    "tags": []
   },
   "source": [
    "Note that both `DataFrame`s have a column named `state`, so in the result they got renamed to `state_x` and `state_y`.\n",
    "\n",
    "Also, note that Cleveland, Salt Lake City and Houston were dropped because they don't exist in *both* `DataFrame`s. This is the equivalent of a SQL `INNER JOIN`. If you want a `FULL OUTER JOIN`, where no city gets dropped and `NaN` values are added, you must specify `how=\"outer\"`:"
   ]
  },
  {
   "cell_type": "code",
   "execution_count": 136,
   "id": "11be5f95",
   "metadata": {
    "execution": {
     "iopub.execute_input": "2024-09-03T16:12:14.426124Z",
     "iopub.status.busy": "2024-09-03T16:12:14.425606Z",
     "iopub.status.idle": "2024-09-03T16:12:14.447146Z",
     "shell.execute_reply": "2024-09-03T16:12:14.445946Z"
    },
    "papermill": {
     "duration": 0.100206,
     "end_time": "2024-09-03T16:12:14.449788",
     "exception": false,
     "start_time": "2024-09-03T16:12:14.349582",
     "status": "completed"
    },
    "tags": []
   },
   "outputs": [
    {
     "data": {
      "text/html": [
       "<div>\n",
       "<style scoped>\n",
       "    .dataframe tbody tr th:only-of-type {\n",
       "        vertical-align: middle;\n",
       "    }\n",
       "\n",
       "    .dataframe tbody tr th {\n",
       "        vertical-align: top;\n",
       "    }\n",
       "\n",
       "    .dataframe thead th {\n",
       "        text-align: right;\n",
       "    }\n",
       "</style>\n",
       "<table border=\"1\" class=\"dataframe\">\n",
       "  <thead>\n",
       "    <tr style=\"text-align: right;\">\n",
       "      <th></th>\n",
       "      <th>state_x</th>\n",
       "      <th>city</th>\n",
       "      <th>lat</th>\n",
       "      <th>lng</th>\n",
       "      <th>population</th>\n",
       "      <th>state_y</th>\n",
       "    </tr>\n",
       "  </thead>\n",
       "  <tbody>\n",
       "    <tr>\n",
       "      <th>0</th>\n",
       "      <td>OH</td>\n",
       "      <td>Cleveland</td>\n",
       "      <td>41.473508</td>\n",
       "      <td>-81.739979</td>\n",
       "      <td>NaN</td>\n",
       "      <td>NaN</td>\n",
       "    </tr>\n",
       "    <tr>\n",
       "      <th>1</th>\n",
       "      <td>NaN</td>\n",
       "      <td>Houston</td>\n",
       "      <td>NaN</td>\n",
       "      <td>NaN</td>\n",
       "      <td>2232193.0</td>\n",
       "      <td>Texas</td>\n",
       "    </tr>\n",
       "    <tr>\n",
       "      <th>2</th>\n",
       "      <td>FL</td>\n",
       "      <td>Miami</td>\n",
       "      <td>25.791100</td>\n",
       "      <td>-80.320733</td>\n",
       "      <td>413201.0</td>\n",
       "      <td>Florida</td>\n",
       "    </tr>\n",
       "    <tr>\n",
       "      <th>3</th>\n",
       "      <td>NY</td>\n",
       "      <td>New York</td>\n",
       "      <td>40.705649</td>\n",
       "      <td>-74.008344</td>\n",
       "      <td>8363710.0</td>\n",
       "      <td>New-York</td>\n",
       "    </tr>\n",
       "    <tr>\n",
       "      <th>4</th>\n",
       "      <td>CA</td>\n",
       "      <td>San Francisco</td>\n",
       "      <td>37.781340</td>\n",
       "      <td>-122.416728</td>\n",
       "      <td>808976.0</td>\n",
       "      <td>California</td>\n",
       "    </tr>\n",
       "    <tr>\n",
       "      <th>5</th>\n",
       "      <td>UT</td>\n",
       "      <td>cleveland</td>\n",
       "      <td>40.755851</td>\n",
       "      <td>-111.896647</td>\n",
       "      <td>NaN</td>\n",
       "      <td>NaN</td>\n",
       "    </tr>\n",
       "  </tbody>\n",
       "</table>\n",
       "</div>"
      ],
      "text/plain": [
       "  state_x           city        lat         lng  population     state_y\n",
       "0      OH      Cleveland  41.473508  -81.739979         NaN         NaN\n",
       "1     NaN        Houston        NaN         NaN   2232193.0       Texas\n",
       "2      FL          Miami  25.791100  -80.320733    413201.0     Florida\n",
       "3      NY       New York  40.705649  -74.008344   8363710.0    New-York\n",
       "4      CA  San Francisco  37.781340 -122.416728    808976.0  California\n",
       "5      UT      cleveland  40.755851 -111.896647         NaN         NaN"
      ]
     },
     "execution_count": 136,
     "metadata": {},
     "output_type": "execute_result"
    }
   ],
   "source": [
    "all_cities = pd.merge(left=city_loc, right=city_pop, on=\"city\", how=\"outer\")\n",
    "all_cities"
   ]
  },
  {
   "cell_type": "markdown",
   "id": "fbde0bcc",
   "metadata": {
    "papermill": {
     "duration": 0.068573,
     "end_time": "2024-09-03T16:12:14.587454",
     "exception": false,
     "start_time": "2024-09-03T16:12:14.518881",
     "status": "completed"
    },
    "tags": []
   },
   "source": [
    "### Of course, LEFT OUTER JOIN is also available by setting how=\"left\": only the cities present in the left DataFrame end up in the result. Similarly, with how=\"right\" only cities in the right DataFrame appear in the result. For example:"
   ]
  },
  {
   "cell_type": "code",
   "execution_count": 137,
   "id": "0b95be83",
   "metadata": {
    "execution": {
     "iopub.execute_input": "2024-09-03T16:12:14.726769Z",
     "iopub.status.busy": "2024-09-03T16:12:14.726342Z",
     "iopub.status.idle": "2024-09-03T16:12:14.742593Z",
     "shell.execute_reply": "2024-09-03T16:12:14.741527Z"
    },
    "papermill": {
     "duration": 0.089466,
     "end_time": "2024-09-03T16:12:14.744762",
     "exception": false,
     "start_time": "2024-09-03T16:12:14.655296",
     "status": "completed"
    },
    "tags": []
   },
   "outputs": [
    {
     "data": {
      "text/html": [
       "<div>\n",
       "<style scoped>\n",
       "    .dataframe tbody tr th:only-of-type {\n",
       "        vertical-align: middle;\n",
       "    }\n",
       "\n",
       "    .dataframe tbody tr th {\n",
       "        vertical-align: top;\n",
       "    }\n",
       "\n",
       "    .dataframe thead th {\n",
       "        text-align: right;\n",
       "    }\n",
       "</style>\n",
       "<table border=\"1\" class=\"dataframe\">\n",
       "  <thead>\n",
       "    <tr style=\"text-align: right;\">\n",
       "      <th></th>\n",
       "      <th>state_x</th>\n",
       "      <th>city</th>\n",
       "      <th>lat</th>\n",
       "      <th>lng</th>\n",
       "      <th>population</th>\n",
       "      <th>state_y</th>\n",
       "    </tr>\n",
       "  </thead>\n",
       "  <tbody>\n",
       "    <tr>\n",
       "      <th>0</th>\n",
       "      <td>CA</td>\n",
       "      <td>San Francisco</td>\n",
       "      <td>37.781340</td>\n",
       "      <td>-122.416728</td>\n",
       "      <td>808976</td>\n",
       "      <td>California</td>\n",
       "    </tr>\n",
       "    <tr>\n",
       "      <th>1</th>\n",
       "      <td>NY</td>\n",
       "      <td>New York</td>\n",
       "      <td>40.705649</td>\n",
       "      <td>-74.008344</td>\n",
       "      <td>8363710</td>\n",
       "      <td>New-York</td>\n",
       "    </tr>\n",
       "    <tr>\n",
       "      <th>2</th>\n",
       "      <td>FL</td>\n",
       "      <td>Miami</td>\n",
       "      <td>25.791100</td>\n",
       "      <td>-80.320733</td>\n",
       "      <td>413201</td>\n",
       "      <td>Florida</td>\n",
       "    </tr>\n",
       "    <tr>\n",
       "      <th>3</th>\n",
       "      <td>NaN</td>\n",
       "      <td>Houston</td>\n",
       "      <td>NaN</td>\n",
       "      <td>NaN</td>\n",
       "      <td>2232193</td>\n",
       "      <td>Texas</td>\n",
       "    </tr>\n",
       "  </tbody>\n",
       "</table>\n",
       "</div>"
      ],
      "text/plain": [
       "  state_x           city        lat         lng  population     state_y\n",
       "0      CA  San Francisco  37.781340 -122.416728      808976  California\n",
       "1      NY       New York  40.705649  -74.008344     8363710    New-York\n",
       "2      FL          Miami  25.791100  -80.320733      413201     Florida\n",
       "3     NaN        Houston        NaN         NaN     2232193       Texas"
      ]
     },
     "execution_count": 137,
     "metadata": {},
     "output_type": "execute_result"
    }
   ],
   "source": [
    "pd.merge(left=city_loc, right=city_pop, on=\"city\", how=\"right\")"
   ]
  },
  {
   "cell_type": "markdown",
   "id": "ffd74ef6",
   "metadata": {
    "papermill": {
     "duration": 0.06834,
     "end_time": "2024-09-03T16:12:14.881775",
     "exception": false,
     "start_time": "2024-09-03T16:12:14.813435",
     "status": "completed"
    },
    "tags": []
   },
   "source": [
    "### If the key to join on is actually in one (or both) `DataFrame's` index, you must use `left_index=True` and/or `right_index=True.` If the key column names differ, you must use left_on and right_on. For example:"
   ]
  },
  {
   "cell_type": "code",
   "execution_count": 138,
   "id": "d78f3661",
   "metadata": {
    "execution": {
     "iopub.execute_input": "2024-09-03T16:12:15.024412Z",
     "iopub.status.busy": "2024-09-03T16:12:15.024018Z",
     "iopub.status.idle": "2024-09-03T16:12:15.041343Z",
     "shell.execute_reply": "2024-09-03T16:12:15.040080Z"
    },
    "papermill": {
     "duration": 0.089672,
     "end_time": "2024-09-03T16:12:15.043561",
     "exception": false,
     "start_time": "2024-09-03T16:12:14.953889",
     "status": "completed"
    },
    "tags": []
   },
   "outputs": [
    {
     "data": {
      "text/html": [
       "<div>\n",
       "<style scoped>\n",
       "    .dataframe tbody tr th:only-of-type {\n",
       "        vertical-align: middle;\n",
       "    }\n",
       "\n",
       "    .dataframe tbody tr th {\n",
       "        vertical-align: top;\n",
       "    }\n",
       "\n",
       "    .dataframe thead th {\n",
       "        text-align: right;\n",
       "    }\n",
       "</style>\n",
       "<table border=\"1\" class=\"dataframe\">\n",
       "  <thead>\n",
       "    <tr style=\"text-align: right;\">\n",
       "      <th></th>\n",
       "      <th>state_x</th>\n",
       "      <th>city</th>\n",
       "      <th>lat</th>\n",
       "      <th>lng</th>\n",
       "      <th>population</th>\n",
       "      <th>name</th>\n",
       "      <th>state_y</th>\n",
       "    </tr>\n",
       "  </thead>\n",
       "  <tbody>\n",
       "    <tr>\n",
       "      <th>0</th>\n",
       "      <td>CA</td>\n",
       "      <td>San Francisco</td>\n",
       "      <td>37.781340</td>\n",
       "      <td>-122.416728</td>\n",
       "      <td>808976</td>\n",
       "      <td>San Francisco</td>\n",
       "      <td>California</td>\n",
       "    </tr>\n",
       "    <tr>\n",
       "      <th>1</th>\n",
       "      <td>NY</td>\n",
       "      <td>New York</td>\n",
       "      <td>40.705649</td>\n",
       "      <td>-74.008344</td>\n",
       "      <td>8363710</td>\n",
       "      <td>New York</td>\n",
       "      <td>New-York</td>\n",
       "    </tr>\n",
       "    <tr>\n",
       "      <th>2</th>\n",
       "      <td>FL</td>\n",
       "      <td>Miami</td>\n",
       "      <td>25.791100</td>\n",
       "      <td>-80.320733</td>\n",
       "      <td>413201</td>\n",
       "      <td>Miami</td>\n",
       "      <td>Florida</td>\n",
       "    </tr>\n",
       "  </tbody>\n",
       "</table>\n",
       "</div>"
      ],
      "text/plain": [
       "  state_x           city        lat         lng  population           name  \\\n",
       "0      CA  San Francisco  37.781340 -122.416728      808976  San Francisco   \n",
       "1      NY       New York  40.705649  -74.008344     8363710       New York   \n",
       "2      FL          Miami  25.791100  -80.320733      413201          Miami   \n",
       "\n",
       "      state_y  \n",
       "0  California  \n",
       "1    New-York  \n",
       "2     Florida  "
      ]
     },
     "execution_count": 138,
     "metadata": {},
     "output_type": "execute_result"
    }
   ],
   "source": [
    "city_pop2 = city_pop.copy()\n",
    "city_pop2.columns = [\"population\", \"name\",\"state\"]\n",
    "pd.merge(left=city_loc, right=city_pop2, left_on=\"city\", right_on='name')"
   ]
  },
  {
   "cell_type": "markdown",
   "id": "54b375a4",
   "metadata": {
    "papermill": {
     "duration": 0.069298,
     "end_time": "2024-09-03T16:12:15.182594",
     "exception": false,
     "start_time": "2024-09-03T16:12:15.113296",
     "status": "completed"
    },
    "tags": []
   },
   "source": [
    "## Concatenation\n",
    "Rather than joining `DataFrame`s, we may just want to concatenate them. That's what `concat()` is for:"
   ]
  },
  {
   "cell_type": "code",
   "execution_count": 139,
   "id": "c4b61cfe",
   "metadata": {
    "execution": {
     "iopub.execute_input": "2024-09-03T16:12:15.323043Z",
     "iopub.status.busy": "2024-09-03T16:12:15.322592Z",
     "iopub.status.idle": "2024-09-03T16:12:15.338476Z",
     "shell.execute_reply": "2024-09-03T16:12:15.337425Z"
    },
    "papermill": {
     "duration": 0.089318,
     "end_time": "2024-09-03T16:12:15.340838",
     "exception": false,
     "start_time": "2024-09-03T16:12:15.251520",
     "status": "completed"
    },
    "tags": []
   },
   "outputs": [
    {
     "data": {
      "text/html": [
       "<div>\n",
       "<style scoped>\n",
       "    .dataframe tbody tr th:only-of-type {\n",
       "        vertical-align: middle;\n",
       "    }\n",
       "\n",
       "    .dataframe tbody tr th {\n",
       "        vertical-align: top;\n",
       "    }\n",
       "\n",
       "    .dataframe thead th {\n",
       "        text-align: right;\n",
       "    }\n",
       "</style>\n",
       "<table border=\"1\" class=\"dataframe\">\n",
       "  <thead>\n",
       "    <tr style=\"text-align: right;\">\n",
       "      <th></th>\n",
       "      <th>state</th>\n",
       "      <th>city</th>\n",
       "      <th>lat</th>\n",
       "      <th>lng</th>\n",
       "      <th>population</th>\n",
       "    </tr>\n",
       "  </thead>\n",
       "  <tbody>\n",
       "    <tr>\n",
       "      <th>0</th>\n",
       "      <td>CA</td>\n",
       "      <td>San Francisco</td>\n",
       "      <td>37.781340</td>\n",
       "      <td>-122.416728</td>\n",
       "      <td>NaN</td>\n",
       "    </tr>\n",
       "    <tr>\n",
       "      <th>1</th>\n",
       "      <td>NY</td>\n",
       "      <td>New York</td>\n",
       "      <td>40.705649</td>\n",
       "      <td>-74.008344</td>\n",
       "      <td>NaN</td>\n",
       "    </tr>\n",
       "    <tr>\n",
       "      <th>2</th>\n",
       "      <td>FL</td>\n",
       "      <td>Miami</td>\n",
       "      <td>25.791100</td>\n",
       "      <td>-80.320733</td>\n",
       "      <td>NaN</td>\n",
       "    </tr>\n",
       "    <tr>\n",
       "      <th>3</th>\n",
       "      <td>OH</td>\n",
       "      <td>Cleveland</td>\n",
       "      <td>41.473508</td>\n",
       "      <td>-81.739979</td>\n",
       "      <td>NaN</td>\n",
       "    </tr>\n",
       "    <tr>\n",
       "      <th>4</th>\n",
       "      <td>UT</td>\n",
       "      <td>cleveland</td>\n",
       "      <td>40.755851</td>\n",
       "      <td>-111.896647</td>\n",
       "      <td>NaN</td>\n",
       "    </tr>\n",
       "    <tr>\n",
       "      <th>3</th>\n",
       "      <td>California</td>\n",
       "      <td>San Francisco</td>\n",
       "      <td>NaN</td>\n",
       "      <td>NaN</td>\n",
       "      <td>808976.0</td>\n",
       "    </tr>\n",
       "    <tr>\n",
       "      <th>4</th>\n",
       "      <td>New-York</td>\n",
       "      <td>New York</td>\n",
       "      <td>NaN</td>\n",
       "      <td>NaN</td>\n",
       "      <td>8363710.0</td>\n",
       "    </tr>\n",
       "    <tr>\n",
       "      <th>5</th>\n",
       "      <td>Florida</td>\n",
       "      <td>Miami</td>\n",
       "      <td>NaN</td>\n",
       "      <td>NaN</td>\n",
       "      <td>413201.0</td>\n",
       "    </tr>\n",
       "    <tr>\n",
       "      <th>6</th>\n",
       "      <td>Texas</td>\n",
       "      <td>Houston</td>\n",
       "      <td>NaN</td>\n",
       "      <td>NaN</td>\n",
       "      <td>2232193.0</td>\n",
       "    </tr>\n",
       "  </tbody>\n",
       "</table>\n",
       "</div>"
      ],
      "text/plain": [
       "        state           city        lat         lng  population\n",
       "0          CA  San Francisco  37.781340 -122.416728         NaN\n",
       "1          NY       New York  40.705649  -74.008344         NaN\n",
       "2          FL          Miami  25.791100  -80.320733         NaN\n",
       "3          OH      Cleveland  41.473508  -81.739979         NaN\n",
       "4          UT      cleveland  40.755851 -111.896647         NaN\n",
       "3  California  San Francisco        NaN         NaN    808976.0\n",
       "4    New-York       New York        NaN         NaN   8363710.0\n",
       "5     Florida          Miami        NaN         NaN    413201.0\n",
       "6       Texas        Houston        NaN         NaN   2232193.0"
      ]
     },
     "execution_count": 139,
     "metadata": {},
     "output_type": "execute_result"
    }
   ],
   "source": [
    "result_concat = pd.concat([city_loc, city_pop])\n",
    "result_concat"
   ]
  },
  {
   "cell_type": "markdown",
   "id": "26afcf8a",
   "metadata": {
    "papermill": {
     "duration": 0.070342,
     "end_time": "2024-09-03T16:12:15.483008",
     "exception": false,
     "start_time": "2024-09-03T16:12:15.412666",
     "status": "completed"
    },
    "tags": []
   },
   "source": [
    "Note that this operation aligned the data horizontally (by columns) but not vertically (by rows). In this example, we end up with multiple rows having the same index (e.g. 3). Pandas handles this rather gracefully:"
   ]
  },
  {
   "cell_type": "code",
   "execution_count": 140,
   "id": "305de336",
   "metadata": {
    "execution": {
     "iopub.execute_input": "2024-09-03T16:12:15.626560Z",
     "iopub.status.busy": "2024-09-03T16:12:15.625495Z",
     "iopub.status.idle": "2024-09-03T16:12:15.638615Z",
     "shell.execute_reply": "2024-09-03T16:12:15.637457Z"
    },
    "papermill": {
     "duration": 0.08798,
     "end_time": "2024-09-03T16:12:15.640781",
     "exception": false,
     "start_time": "2024-09-03T16:12:15.552801",
     "status": "completed"
    },
    "tags": []
   },
   "outputs": [
    {
     "data": {
      "text/html": [
       "<div>\n",
       "<style scoped>\n",
       "    .dataframe tbody tr th:only-of-type {\n",
       "        vertical-align: middle;\n",
       "    }\n",
       "\n",
       "    .dataframe tbody tr th {\n",
       "        vertical-align: top;\n",
       "    }\n",
       "\n",
       "    .dataframe thead th {\n",
       "        text-align: right;\n",
       "    }\n",
       "</style>\n",
       "<table border=\"1\" class=\"dataframe\">\n",
       "  <thead>\n",
       "    <tr style=\"text-align: right;\">\n",
       "      <th></th>\n",
       "      <th>state</th>\n",
       "      <th>city</th>\n",
       "      <th>lat</th>\n",
       "      <th>lng</th>\n",
       "      <th>population</th>\n",
       "    </tr>\n",
       "  </thead>\n",
       "  <tbody>\n",
       "    <tr>\n",
       "      <th>3</th>\n",
       "      <td>OH</td>\n",
       "      <td>Cleveland</td>\n",
       "      <td>41.473508</td>\n",
       "      <td>-81.739979</td>\n",
       "      <td>NaN</td>\n",
       "    </tr>\n",
       "    <tr>\n",
       "      <th>3</th>\n",
       "      <td>California</td>\n",
       "      <td>San Francisco</td>\n",
       "      <td>NaN</td>\n",
       "      <td>NaN</td>\n",
       "      <td>808976.0</td>\n",
       "    </tr>\n",
       "  </tbody>\n",
       "</table>\n",
       "</div>"
      ],
      "text/plain": [
       "        state           city        lat        lng  population\n",
       "3          OH      Cleveland  41.473508 -81.739979         NaN\n",
       "3  California  San Francisco        NaN        NaN    808976.0"
      ]
     },
     "execution_count": 140,
     "metadata": {},
     "output_type": "execute_result"
    }
   ],
   "source": [
    "result_concat.loc[3]"
   ]
  },
  {
   "cell_type": "code",
   "execution_count": 141,
   "id": "4811bef7",
   "metadata": {
    "execution": {
     "iopub.execute_input": "2024-09-03T16:12:15.782445Z",
     "iopub.status.busy": "2024-09-03T16:12:15.782050Z",
     "iopub.status.idle": "2024-09-03T16:12:15.797392Z",
     "shell.execute_reply": "2024-09-03T16:12:15.796297Z"
    },
    "papermill": {
     "duration": 0.088245,
     "end_time": "2024-09-03T16:12:15.799624",
     "exception": false,
     "start_time": "2024-09-03T16:12:15.711379",
     "status": "completed"
    },
    "tags": []
   },
   "outputs": [
    {
     "data": {
      "text/html": [
       "<div>\n",
       "<style scoped>\n",
       "    .dataframe tbody tr th:only-of-type {\n",
       "        vertical-align: middle;\n",
       "    }\n",
       "\n",
       "    .dataframe tbody tr th {\n",
       "        vertical-align: top;\n",
       "    }\n",
       "\n",
       "    .dataframe thead th {\n",
       "        text-align: right;\n",
       "    }\n",
       "</style>\n",
       "<table border=\"1\" class=\"dataframe\">\n",
       "  <thead>\n",
       "    <tr style=\"text-align: right;\">\n",
       "      <th></th>\n",
       "      <th>state</th>\n",
       "      <th>city</th>\n",
       "      <th>lat</th>\n",
       "      <th>lng</th>\n",
       "      <th>population</th>\n",
       "    </tr>\n",
       "  </thead>\n",
       "  <tbody>\n",
       "    <tr>\n",
       "      <th>0</th>\n",
       "      <td>CA</td>\n",
       "      <td>San Francisco</td>\n",
       "      <td>37.781340</td>\n",
       "      <td>-122.416728</td>\n",
       "      <td>NaN</td>\n",
       "    </tr>\n",
       "    <tr>\n",
       "      <th>1</th>\n",
       "      <td>NY</td>\n",
       "      <td>New York</td>\n",
       "      <td>40.705649</td>\n",
       "      <td>-74.008344</td>\n",
       "      <td>NaN</td>\n",
       "    </tr>\n",
       "    <tr>\n",
       "      <th>2</th>\n",
       "      <td>FL</td>\n",
       "      <td>Miami</td>\n",
       "      <td>25.791100</td>\n",
       "      <td>-80.320733</td>\n",
       "      <td>NaN</td>\n",
       "    </tr>\n",
       "    <tr>\n",
       "      <th>3</th>\n",
       "      <td>OH</td>\n",
       "      <td>Cleveland</td>\n",
       "      <td>41.473508</td>\n",
       "      <td>-81.739979</td>\n",
       "      <td>NaN</td>\n",
       "    </tr>\n",
       "    <tr>\n",
       "      <th>4</th>\n",
       "      <td>UT</td>\n",
       "      <td>cleveland</td>\n",
       "      <td>40.755851</td>\n",
       "      <td>-111.896647</td>\n",
       "      <td>NaN</td>\n",
       "    </tr>\n",
       "    <tr>\n",
       "      <th>5</th>\n",
       "      <td>California</td>\n",
       "      <td>San Francisco</td>\n",
       "      <td>NaN</td>\n",
       "      <td>NaN</td>\n",
       "      <td>808976.0</td>\n",
       "    </tr>\n",
       "    <tr>\n",
       "      <th>6</th>\n",
       "      <td>New-York</td>\n",
       "      <td>New York</td>\n",
       "      <td>NaN</td>\n",
       "      <td>NaN</td>\n",
       "      <td>8363710.0</td>\n",
       "    </tr>\n",
       "    <tr>\n",
       "      <th>7</th>\n",
       "      <td>Florida</td>\n",
       "      <td>Miami</td>\n",
       "      <td>NaN</td>\n",
       "      <td>NaN</td>\n",
       "      <td>413201.0</td>\n",
       "    </tr>\n",
       "    <tr>\n",
       "      <th>8</th>\n",
       "      <td>Texas</td>\n",
       "      <td>Houston</td>\n",
       "      <td>NaN</td>\n",
       "      <td>NaN</td>\n",
       "      <td>2232193.0</td>\n",
       "    </tr>\n",
       "  </tbody>\n",
       "</table>\n",
       "</div>"
      ],
      "text/plain": [
       "        state           city        lat         lng  population\n",
       "0          CA  San Francisco  37.781340 -122.416728         NaN\n",
       "1          NY       New York  40.705649  -74.008344         NaN\n",
       "2          FL          Miami  25.791100  -80.320733         NaN\n",
       "3          OH      Cleveland  41.473508  -81.739979         NaN\n",
       "4          UT      cleveland  40.755851 -111.896647         NaN\n",
       "5  California  San Francisco        NaN         NaN    808976.0\n",
       "6    New-York       New York        NaN         NaN   8363710.0\n",
       "7     Florida          Miami        NaN         NaN    413201.0\n",
       "8       Texas        Houston        NaN         NaN   2232193.0"
      ]
     },
     "execution_count": 141,
     "metadata": {},
     "output_type": "execute_result"
    }
   ],
   "source": [
    "pd.concat([city_loc, city_pop], ignore_index=True)"
   ]
  },
  {
   "cell_type": "markdown",
   "id": "2d7b9f6d",
   "metadata": {
    "papermill": {
     "duration": 0.073387,
     "end_time": "2024-09-03T16:12:15.943494",
     "exception": false,
     "start_time": "2024-09-03T16:12:15.870107",
     "status": "completed"
    },
    "tags": []
   },
   "source": [
    "Notice that when a column does not exist in a DataFrame, it acts as if it was filled with NaN values. If we set join=\"inner\", then only columns that exist in both DataFrames are returned:"
   ]
  },
  {
   "cell_type": "code",
   "execution_count": 142,
   "id": "794a0471",
   "metadata": {
    "execution": {
     "iopub.execute_input": "2024-09-03T16:12:16.086234Z",
     "iopub.status.busy": "2024-09-03T16:12:16.085775Z",
     "iopub.status.idle": "2024-09-03T16:12:16.098345Z",
     "shell.execute_reply": "2024-09-03T16:12:16.097140Z"
    },
    "papermill": {
     "duration": 0.087563,
     "end_time": "2024-09-03T16:12:16.100795",
     "exception": false,
     "start_time": "2024-09-03T16:12:16.013232",
     "status": "completed"
    },
    "tags": []
   },
   "outputs": [
    {
     "data": {
      "text/html": [
       "<div>\n",
       "<style scoped>\n",
       "    .dataframe tbody tr th:only-of-type {\n",
       "        vertical-align: middle;\n",
       "    }\n",
       "\n",
       "    .dataframe tbody tr th {\n",
       "        vertical-align: top;\n",
       "    }\n",
       "\n",
       "    .dataframe thead th {\n",
       "        text-align: right;\n",
       "    }\n",
       "</style>\n",
       "<table border=\"1\" class=\"dataframe\">\n",
       "  <thead>\n",
       "    <tr style=\"text-align: right;\">\n",
       "      <th></th>\n",
       "      <th>state</th>\n",
       "      <th>city</th>\n",
       "    </tr>\n",
       "  </thead>\n",
       "  <tbody>\n",
       "    <tr>\n",
       "      <th>0</th>\n",
       "      <td>CA</td>\n",
       "      <td>San Francisco</td>\n",
       "    </tr>\n",
       "    <tr>\n",
       "      <th>1</th>\n",
       "      <td>NY</td>\n",
       "      <td>New York</td>\n",
       "    </tr>\n",
       "    <tr>\n",
       "      <th>2</th>\n",
       "      <td>FL</td>\n",
       "      <td>Miami</td>\n",
       "    </tr>\n",
       "    <tr>\n",
       "      <th>3</th>\n",
       "      <td>OH</td>\n",
       "      <td>Cleveland</td>\n",
       "    </tr>\n",
       "    <tr>\n",
       "      <th>4</th>\n",
       "      <td>UT</td>\n",
       "      <td>cleveland</td>\n",
       "    </tr>\n",
       "    <tr>\n",
       "      <th>3</th>\n",
       "      <td>California</td>\n",
       "      <td>San Francisco</td>\n",
       "    </tr>\n",
       "    <tr>\n",
       "      <th>4</th>\n",
       "      <td>New-York</td>\n",
       "      <td>New York</td>\n",
       "    </tr>\n",
       "    <tr>\n",
       "      <th>5</th>\n",
       "      <td>Florida</td>\n",
       "      <td>Miami</td>\n",
       "    </tr>\n",
       "    <tr>\n",
       "      <th>6</th>\n",
       "      <td>Texas</td>\n",
       "      <td>Houston</td>\n",
       "    </tr>\n",
       "  </tbody>\n",
       "</table>\n",
       "</div>"
      ],
      "text/plain": [
       "        state           city\n",
       "0          CA  San Francisco\n",
       "1          NY       New York\n",
       "2          FL          Miami\n",
       "3          OH      Cleveland\n",
       "4          UT      cleveland\n",
       "3  California  San Francisco\n",
       "4    New-York       New York\n",
       "5     Florida          Miami\n",
       "6       Texas        Houston"
      ]
     },
     "execution_count": 142,
     "metadata": {},
     "output_type": "execute_result"
    }
   ],
   "source": [
    "pd.concat([city_loc, city_pop], join=\"inner\")"
   ]
  },
  {
   "cell_type": "markdown",
   "id": "8b40d63b",
   "metadata": {
    "papermill": {
     "duration": 0.071459,
     "end_time": "2024-09-03T16:12:16.242420",
     "exception": false,
     "start_time": "2024-09-03T16:12:16.170961",
     "status": "completed"
    },
    "tags": []
   },
   "source": [
    "### You can concatenate `DataFrame`s horizontally instead of vertically by setting `axis=1`:"
   ]
  },
  {
   "cell_type": "code",
   "execution_count": 143,
   "id": "ab2dffbc",
   "metadata": {
    "execution": {
     "iopub.execute_input": "2024-09-03T16:12:16.386576Z",
     "iopub.status.busy": "2024-09-03T16:12:16.386136Z",
     "iopub.status.idle": "2024-09-03T16:12:16.403351Z",
     "shell.execute_reply": "2024-09-03T16:12:16.402282Z"
    },
    "papermill": {
     "duration": 0.091986,
     "end_time": "2024-09-03T16:12:16.405975",
     "exception": false,
     "start_time": "2024-09-03T16:12:16.313989",
     "status": "completed"
    },
    "tags": []
   },
   "outputs": [
    {
     "data": {
      "text/html": [
       "<div>\n",
       "<style scoped>\n",
       "    .dataframe tbody tr th:only-of-type {\n",
       "        vertical-align: middle;\n",
       "    }\n",
       "\n",
       "    .dataframe tbody tr th {\n",
       "        vertical-align: top;\n",
       "    }\n",
       "\n",
       "    .dataframe thead th {\n",
       "        text-align: right;\n",
       "    }\n",
       "</style>\n",
       "<table border=\"1\" class=\"dataframe\">\n",
       "  <thead>\n",
       "    <tr style=\"text-align: right;\">\n",
       "      <th></th>\n",
       "      <th>state</th>\n",
       "      <th>city</th>\n",
       "      <th>lat</th>\n",
       "      <th>lng</th>\n",
       "      <th>population</th>\n",
       "      <th>city</th>\n",
       "      <th>state</th>\n",
       "    </tr>\n",
       "  </thead>\n",
       "  <tbody>\n",
       "    <tr>\n",
       "      <th>0</th>\n",
       "      <td>CA</td>\n",
       "      <td>San Francisco</td>\n",
       "      <td>37.781340</td>\n",
       "      <td>-122.416728</td>\n",
       "      <td>NaN</td>\n",
       "      <td>NaN</td>\n",
       "      <td>NaN</td>\n",
       "    </tr>\n",
       "    <tr>\n",
       "      <th>1</th>\n",
       "      <td>NY</td>\n",
       "      <td>New York</td>\n",
       "      <td>40.705649</td>\n",
       "      <td>-74.008344</td>\n",
       "      <td>NaN</td>\n",
       "      <td>NaN</td>\n",
       "      <td>NaN</td>\n",
       "    </tr>\n",
       "    <tr>\n",
       "      <th>2</th>\n",
       "      <td>FL</td>\n",
       "      <td>Miami</td>\n",
       "      <td>25.791100</td>\n",
       "      <td>-80.320733</td>\n",
       "      <td>NaN</td>\n",
       "      <td>NaN</td>\n",
       "      <td>NaN</td>\n",
       "    </tr>\n",
       "    <tr>\n",
       "      <th>3</th>\n",
       "      <td>OH</td>\n",
       "      <td>Cleveland</td>\n",
       "      <td>41.473508</td>\n",
       "      <td>-81.739979</td>\n",
       "      <td>808976.0</td>\n",
       "      <td>San Francisco</td>\n",
       "      <td>California</td>\n",
       "    </tr>\n",
       "    <tr>\n",
       "      <th>4</th>\n",
       "      <td>UT</td>\n",
       "      <td>cleveland</td>\n",
       "      <td>40.755851</td>\n",
       "      <td>-111.896647</td>\n",
       "      <td>8363710.0</td>\n",
       "      <td>New York</td>\n",
       "      <td>New-York</td>\n",
       "    </tr>\n",
       "    <tr>\n",
       "      <th>5</th>\n",
       "      <td>NaN</td>\n",
       "      <td>NaN</td>\n",
       "      <td>NaN</td>\n",
       "      <td>NaN</td>\n",
       "      <td>413201.0</td>\n",
       "      <td>Miami</td>\n",
       "      <td>Florida</td>\n",
       "    </tr>\n",
       "    <tr>\n",
       "      <th>6</th>\n",
       "      <td>NaN</td>\n",
       "      <td>NaN</td>\n",
       "      <td>NaN</td>\n",
       "      <td>NaN</td>\n",
       "      <td>2232193.0</td>\n",
       "      <td>Houston</td>\n",
       "      <td>Texas</td>\n",
       "    </tr>\n",
       "  </tbody>\n",
       "</table>\n",
       "</div>"
      ],
      "text/plain": [
       "  state           city        lat         lng  population           city  \\\n",
       "0    CA  San Francisco  37.781340 -122.416728         NaN            NaN   \n",
       "1    NY       New York  40.705649  -74.008344         NaN            NaN   \n",
       "2    FL          Miami  25.791100  -80.320733         NaN            NaN   \n",
       "3    OH      Cleveland  41.473508  -81.739979    808976.0  San Francisco   \n",
       "4    UT      cleveland  40.755851 -111.896647   8363710.0       New York   \n",
       "5   NaN            NaN        NaN         NaN    413201.0          Miami   \n",
       "6   NaN            NaN        NaN         NaN   2232193.0        Houston   \n",
       "\n",
       "        state  \n",
       "0         NaN  \n",
       "1         NaN  \n",
       "2         NaN  \n",
       "3  California  \n",
       "4    New-York  \n",
       "5     Florida  \n",
       "6       Texas  "
      ]
     },
     "execution_count": 143,
     "metadata": {},
     "output_type": "execute_result"
    }
   ],
   "source": [
    "pd.concat([city_loc, city_pop], axis=1)"
   ]
  },
  {
   "cell_type": "code",
   "execution_count": 144,
   "id": "918b64cd",
   "metadata": {
    "execution": {
     "iopub.execute_input": "2024-09-03T16:12:16.555693Z",
     "iopub.status.busy": "2024-09-03T16:12:16.554461Z",
     "iopub.status.idle": "2024-09-03T16:12:16.572985Z",
     "shell.execute_reply": "2024-09-03T16:12:16.571650Z"
    },
    "papermill": {
     "duration": 0.095923,
     "end_time": "2024-09-03T16:12:16.575373",
     "exception": false,
     "start_time": "2024-09-03T16:12:16.479450",
     "status": "completed"
    },
    "tags": []
   },
   "outputs": [
    {
     "data": {
      "text/html": [
       "<div>\n",
       "<style scoped>\n",
       "    .dataframe tbody tr th:only-of-type {\n",
       "        vertical-align: middle;\n",
       "    }\n",
       "\n",
       "    .dataframe tbody tr th {\n",
       "        vertical-align: top;\n",
       "    }\n",
       "\n",
       "    .dataframe thead th {\n",
       "        text-align: right;\n",
       "    }\n",
       "</style>\n",
       "<table border=\"1\" class=\"dataframe\">\n",
       "  <thead>\n",
       "    <tr style=\"text-align: right;\">\n",
       "      <th></th>\n",
       "      <th>state</th>\n",
       "      <th>lat</th>\n",
       "      <th>lng</th>\n",
       "      <th>population</th>\n",
       "      <th>state</th>\n",
       "    </tr>\n",
       "    <tr>\n",
       "      <th>city</th>\n",
       "      <th></th>\n",
       "      <th></th>\n",
       "      <th></th>\n",
       "      <th></th>\n",
       "      <th></th>\n",
       "    </tr>\n",
       "  </thead>\n",
       "  <tbody>\n",
       "    <tr>\n",
       "      <th>San Francisco</th>\n",
       "      <td>CA</td>\n",
       "      <td>37.781340</td>\n",
       "      <td>-122.416728</td>\n",
       "      <td>808976.0</td>\n",
       "      <td>California</td>\n",
       "    </tr>\n",
       "    <tr>\n",
       "      <th>New York</th>\n",
       "      <td>NY</td>\n",
       "      <td>40.705649</td>\n",
       "      <td>-74.008344</td>\n",
       "      <td>8363710.0</td>\n",
       "      <td>New-York</td>\n",
       "    </tr>\n",
       "    <tr>\n",
       "      <th>Miami</th>\n",
       "      <td>FL</td>\n",
       "      <td>25.791100</td>\n",
       "      <td>-80.320733</td>\n",
       "      <td>413201.0</td>\n",
       "      <td>Florida</td>\n",
       "    </tr>\n",
       "    <tr>\n",
       "      <th>Cleveland</th>\n",
       "      <td>OH</td>\n",
       "      <td>41.473508</td>\n",
       "      <td>-81.739979</td>\n",
       "      <td>NaN</td>\n",
       "      <td>NaN</td>\n",
       "    </tr>\n",
       "    <tr>\n",
       "      <th>cleveland</th>\n",
       "      <td>UT</td>\n",
       "      <td>40.755851</td>\n",
       "      <td>-111.896647</td>\n",
       "      <td>NaN</td>\n",
       "      <td>NaN</td>\n",
       "    </tr>\n",
       "    <tr>\n",
       "      <th>Houston</th>\n",
       "      <td>NaN</td>\n",
       "      <td>NaN</td>\n",
       "      <td>NaN</td>\n",
       "      <td>2232193.0</td>\n",
       "      <td>Texas</td>\n",
       "    </tr>\n",
       "  </tbody>\n",
       "</table>\n",
       "</div>"
      ],
      "text/plain": [
       "              state        lat         lng  population       state\n",
       "city                                                              \n",
       "San Francisco    CA  37.781340 -122.416728    808976.0  California\n",
       "New York         NY  40.705649  -74.008344   8363710.0    New-York\n",
       "Miami            FL  25.791100  -80.320733    413201.0     Florida\n",
       "Cleveland        OH  41.473508  -81.739979         NaN         NaN\n",
       "cleveland        UT  40.755851 -111.896647         NaN         NaN\n",
       "Houston         NaN        NaN         NaN   2232193.0       Texas"
      ]
     },
     "execution_count": 144,
     "metadata": {},
     "output_type": "execute_result"
    }
   ],
   "source": [
    "pd.concat([city_loc.set_index(\"city\"), city_pop.set_index(\"city\")], axis=1)"
   ]
  },
  {
   "cell_type": "markdown",
   "id": "9bb51158",
   "metadata": {
    "papermill": {
     "duration": 0.074799,
     "end_time": "2024-09-03T16:12:16.727022",
     "exception": false,
     "start_time": "2024-09-03T16:12:16.652223",
     "status": "completed"
    },
    "tags": []
   },
   "source": [
    "### This looks a lot like a `FULL OUTER JOIN`, except that the `state` columns were not renamed to `state_x` and `state_y`, and the `city` column is now the index."
   ]
  },
  {
   "cell_type": "markdown",
   "id": "f8cc634f",
   "metadata": {
    "papermill": {
     "duration": 0.07144,
     "end_time": "2024-09-03T16:12:16.875383",
     "exception": false,
     "start_time": "2024-09-03T16:12:16.803943",
     "status": "completed"
    },
    "tags": []
   },
   "source": [
    "# Categories\n",
    "It is quite frequent to have values that represent categories, for example `1` for female and `2` for male, or `\"A\"` for Good, `\"B\"` for Average, `\"C\"` for Bad. These categorical values can be hard to read and cumbersome to handle, but fortunately pandas makes it easy. To illustrate this, let's take the `city_pop` `DataFrame` we created earlier, and add a column that represents a category:"
   ]
  },
  {
   "cell_type": "code",
   "execution_count": 145,
   "id": "0ce869ee",
   "metadata": {
    "execution": {
     "iopub.execute_input": "2024-09-03T16:12:17.045002Z",
     "iopub.status.busy": "2024-09-03T16:12:17.044573Z",
     "iopub.status.idle": "2024-09-03T16:12:17.057079Z",
     "shell.execute_reply": "2024-09-03T16:12:17.055832Z"
    },
    "papermill": {
     "duration": 0.092547,
     "end_time": "2024-09-03T16:12:17.059438",
     "exception": false,
     "start_time": "2024-09-03T16:12:16.966891",
     "status": "completed"
    },
    "tags": []
   },
   "outputs": [
    {
     "data": {
      "text/html": [
       "<div>\n",
       "<style scoped>\n",
       "    .dataframe tbody tr th:only-of-type {\n",
       "        vertical-align: middle;\n",
       "    }\n",
       "\n",
       "    .dataframe tbody tr th {\n",
       "        vertical-align: top;\n",
       "    }\n",
       "\n",
       "    .dataframe thead th {\n",
       "        text-align: right;\n",
       "    }\n",
       "</style>\n",
       "<table border=\"1\" class=\"dataframe\">\n",
       "  <thead>\n",
       "    <tr style=\"text-align: right;\">\n",
       "      <th></th>\n",
       "      <th>population</th>\n",
       "      <th>city</th>\n",
       "      <th>state</th>\n",
       "      <th>eco_code</th>\n",
       "    </tr>\n",
       "  </thead>\n",
       "  <tbody>\n",
       "    <tr>\n",
       "      <th>3</th>\n",
       "      <td>808976</td>\n",
       "      <td>San Francisco</td>\n",
       "      <td>California</td>\n",
       "      <td>117</td>\n",
       "    </tr>\n",
       "    <tr>\n",
       "      <th>4</th>\n",
       "      <td>8363710</td>\n",
       "      <td>New York</td>\n",
       "      <td>New-York</td>\n",
       "      <td>17</td>\n",
       "    </tr>\n",
       "    <tr>\n",
       "      <th>5</th>\n",
       "      <td>413201</td>\n",
       "      <td>Miami</td>\n",
       "      <td>Florida</td>\n",
       "      <td>34</td>\n",
       "    </tr>\n",
       "    <tr>\n",
       "      <th>6</th>\n",
       "      <td>2232193</td>\n",
       "      <td>Houston</td>\n",
       "      <td>Texas</td>\n",
       "      <td>20</td>\n",
       "    </tr>\n",
       "  </tbody>\n",
       "</table>\n",
       "</div>"
      ],
      "text/plain": [
       "   population           city       state  eco_code\n",
       "3      808976  San Francisco  California       117\n",
       "4     8363710       New York    New-York        17\n",
       "5      413201          Miami     Florida        34\n",
       "6     2232193        Houston       Texas        20"
      ]
     },
     "execution_count": 145,
     "metadata": {},
     "output_type": "execute_result"
    }
   ],
   "source": [
    "city_eco = city_pop.copy()\n",
    "city_eco[\"eco_code\"] = [117,17,34,20]\n",
    "city_eco"
   ]
  },
  {
   "cell_type": "markdown",
   "id": "961d3159",
   "metadata": {
    "papermill": {
     "duration": 0.077949,
     "end_time": "2024-09-03T16:12:17.210651",
     "exception": false,
     "start_time": "2024-09-03T16:12:17.132702",
     "status": "completed"
    },
    "tags": []
   },
   "source": [
    "### Right now the `eco_code` column is full of apparently meaningless codes. Let's fix that by creating a new categorical column based on the `eco_code`s:"
   ]
  },
  {
   "cell_type": "code",
   "execution_count": 146,
   "id": "8ba05fa3",
   "metadata": {
    "execution": {
     "iopub.execute_input": "2024-09-03T16:12:17.355704Z",
     "iopub.status.busy": "2024-09-03T16:12:17.355222Z",
     "iopub.status.idle": "2024-09-03T16:12:17.369904Z",
     "shell.execute_reply": "2024-09-03T16:12:17.368675Z"
    },
    "papermill": {
     "duration": 0.089511,
     "end_time": "2024-09-03T16:12:17.372330",
     "exception": false,
     "start_time": "2024-09-03T16:12:17.282819",
     "status": "completed"
    },
    "tags": []
   },
   "outputs": [
    {
     "data": {
      "text/html": [
       "<div>\n",
       "<style scoped>\n",
       "    .dataframe tbody tr th:only-of-type {\n",
       "        vertical-align: middle;\n",
       "    }\n",
       "\n",
       "    .dataframe tbody tr th {\n",
       "        vertical-align: top;\n",
       "    }\n",
       "\n",
       "    .dataframe thead th {\n",
       "        text-align: right;\n",
       "    }\n",
       "</style>\n",
       "<table border=\"1\" class=\"dataframe\">\n",
       "  <thead>\n",
       "    <tr style=\"text-align: right;\">\n",
       "      <th></th>\n",
       "      <th>population</th>\n",
       "      <th>city</th>\n",
       "      <th>state</th>\n",
       "      <th>eco_code</th>\n",
       "      <th>economy</th>\n",
       "    </tr>\n",
       "  </thead>\n",
       "  <tbody>\n",
       "    <tr>\n",
       "      <th>3</th>\n",
       "      <td>808976</td>\n",
       "      <td>San Francisco</td>\n",
       "      <td>California</td>\n",
       "      <td>117</td>\n",
       "      <td>NaN</td>\n",
       "    </tr>\n",
       "    <tr>\n",
       "      <th>4</th>\n",
       "      <td>8363710</td>\n",
       "      <td>New York</td>\n",
       "      <td>New-York</td>\n",
       "      <td>17</td>\n",
       "      <td>Banking</td>\n",
       "    </tr>\n",
       "    <tr>\n",
       "      <th>5</th>\n",
       "      <td>413201</td>\n",
       "      <td>Miami</td>\n",
       "      <td>Florida</td>\n",
       "      <td>34</td>\n",
       "      <td>Tourism</td>\n",
       "    </tr>\n",
       "    <tr>\n",
       "      <th>6</th>\n",
       "      <td>2232193</td>\n",
       "      <td>Houston</td>\n",
       "      <td>Texas</td>\n",
       "      <td>20</td>\n",
       "      <td>Energy</td>\n",
       "    </tr>\n",
       "  </tbody>\n",
       "</table>\n",
       "</div>"
      ],
      "text/plain": [
       "   population           city       state  eco_code  economy\n",
       "3      808976  San Francisco  California       117      NaN\n",
       "4     8363710       New York    New-York        17  Banking\n",
       "5      413201          Miami     Florida        34  Tourism\n",
       "6     2232193        Houston       Texas        20   Energy"
      ]
     },
     "execution_count": 146,
     "metadata": {},
     "output_type": "execute_result"
    }
   ],
   "source": [
    "city_eco['economy'] = pd.Categorical(\n",
    "    city_eco['eco_code'].map({17 :\"Banking\", 20:\"Energy\", 34:\"Tourism\"})\n",
    ")\n",
    "\n",
    "city_eco"
   ]
  },
  {
   "cell_type": "code",
   "execution_count": 147,
   "id": "3e21dec4",
   "metadata": {
    "execution": {
     "iopub.execute_input": "2024-09-03T16:12:17.516551Z",
     "iopub.status.busy": "2024-09-03T16:12:17.516122Z",
     "iopub.status.idle": "2024-09-03T16:12:17.523807Z",
     "shell.execute_reply": "2024-09-03T16:12:17.522753Z"
    },
    "papermill": {
     "duration": 0.081892,
     "end_time": "2024-09-03T16:12:17.525910",
     "exception": false,
     "start_time": "2024-09-03T16:12:17.444018",
     "status": "completed"
    },
    "tags": []
   },
   "outputs": [
    {
     "data": {
      "text/plain": [
       "Index(['Banking', 'Energy', 'Tourism'], dtype='object')"
      ]
     },
     "execution_count": 147,
     "metadata": {},
     "output_type": "execute_result"
    }
   ],
   "source": [
    "city_eco['economy'].cat.categories"
   ]
  },
  {
   "cell_type": "markdown",
   "id": "42c3155b",
   "metadata": {
    "papermill": {
     "duration": 0.070159,
     "end_time": "2024-09-03T16:12:17.666736",
     "exception": false,
     "start_time": "2024-09-03T16:12:17.596577",
     "status": "completed"
    },
    "tags": []
   },
   "source": [
    "### And you can rename categories using rename_categories:"
   ]
  },
  {
   "cell_type": "code",
   "execution_count": 148,
   "id": "047c3ee7",
   "metadata": {
    "execution": {
     "iopub.execute_input": "2024-09-03T16:12:17.811409Z",
     "iopub.status.busy": "2024-09-03T16:12:17.810978Z",
     "iopub.status.idle": "2024-09-03T16:12:17.824113Z",
     "shell.execute_reply": "2024-09-03T16:12:17.822943Z"
    },
    "papermill": {
     "duration": 0.088016,
     "end_time": "2024-09-03T16:12:17.826402",
     "exception": false,
     "start_time": "2024-09-03T16:12:17.738386",
     "status": "completed"
    },
    "tags": []
   },
   "outputs": [
    {
     "data": {
      "text/html": [
       "<div>\n",
       "<style scoped>\n",
       "    .dataframe tbody tr th:only-of-type {\n",
       "        vertical-align: middle;\n",
       "    }\n",
       "\n",
       "    .dataframe tbody tr th {\n",
       "        vertical-align: top;\n",
       "    }\n",
       "\n",
       "    .dataframe thead th {\n",
       "        text-align: right;\n",
       "    }\n",
       "</style>\n",
       "<table border=\"1\" class=\"dataframe\">\n",
       "  <thead>\n",
       "    <tr style=\"text-align: right;\">\n",
       "      <th></th>\n",
       "      <th>population</th>\n",
       "      <th>city</th>\n",
       "      <th>state</th>\n",
       "      <th>eco_code</th>\n",
       "      <th>economy</th>\n",
       "    </tr>\n",
       "  </thead>\n",
       "  <tbody>\n",
       "    <tr>\n",
       "      <th>3</th>\n",
       "      <td>808976</td>\n",
       "      <td>San Francisco</td>\n",
       "      <td>California</td>\n",
       "      <td>117</td>\n",
       "      <td>NaN</td>\n",
       "    </tr>\n",
       "    <tr>\n",
       "      <th>4</th>\n",
       "      <td>8363710</td>\n",
       "      <td>New York</td>\n",
       "      <td>New-York</td>\n",
       "      <td>17</td>\n",
       "      <td>Finance</td>\n",
       "    </tr>\n",
       "    <tr>\n",
       "      <th>5</th>\n",
       "      <td>413201</td>\n",
       "      <td>Miami</td>\n",
       "      <td>Florida</td>\n",
       "      <td>34</td>\n",
       "      <td>Tourism</td>\n",
       "    </tr>\n",
       "    <tr>\n",
       "      <th>6</th>\n",
       "      <td>2232193</td>\n",
       "      <td>Houston</td>\n",
       "      <td>Texas</td>\n",
       "      <td>20</td>\n",
       "      <td>Energy</td>\n",
       "    </tr>\n",
       "  </tbody>\n",
       "</table>\n",
       "</div>"
      ],
      "text/plain": [
       "   population           city       state  eco_code  economy\n",
       "3      808976  San Francisco  California       117      NaN\n",
       "4     8363710       New York    New-York        17  Finance\n",
       "5      413201          Miami     Florida        34  Tourism\n",
       "6     2232193        Houston       Texas        20   Energy"
      ]
     },
     "execution_count": 148,
     "metadata": {},
     "output_type": "execute_result"
    }
   ],
   "source": [
    "city_eco[\"economy\"] = city_eco['economy'].cat.rename_categories({\"Banking\":\"Finance\"})\n",
    "city_eco"
   ]
  },
  {
   "cell_type": "code",
   "execution_count": null,
   "id": "1d0e5203",
   "metadata": {
    "papermill": {
     "duration": 0.074091,
     "end_time": "2024-09-03T16:12:17.972414",
     "exception": false,
     "start_time": "2024-09-03T16:12:17.898323",
     "status": "completed"
    },
    "tags": []
   },
   "outputs": [],
   "source": []
  },
  {
   "cell_type": "code",
   "execution_count": null,
   "id": "bf1d26c3",
   "metadata": {
    "papermill": {
     "duration": 0.128566,
     "end_time": "2024-09-03T16:12:18.171926",
     "exception": false,
     "start_time": "2024-09-03T16:12:18.043360",
     "status": "completed"
    },
    "tags": []
   },
   "outputs": [],
   "source": []
  }
 ],
 "metadata": {
  "kaggle": {
   "accelerator": "none",
   "dataSources": [],
   "dockerImageVersionId": 30761,
   "isGpuEnabled": false,
   "isInternetEnabled": true,
   "language": "python",
   "sourceType": "notebook"
  },
  "kernelspec": {
   "display_name": "Python 3",
   "language": "python",
   "name": "python3"
  },
  "language_info": {
   "codemirror_mode": {
    "name": "ipython",
    "version": 3
   },
   "file_extension": ".py",
   "mimetype": "text/x-python",
   "name": "python",
   "nbconvert_exporter": "python",
   "pygments_lexer": "ipython3",
   "version": "3.10.14"
  },
  "papermill": {
   "default_parameters": {},
   "duration": 41.456127,
   "end_time": "2024-09-03T16:12:18.865181",
   "environment_variables": {},
   "exception": null,
   "input_path": "__notebook__.ipynb",
   "output_path": "__notebook__.ipynb",
   "parameters": {},
   "start_time": "2024-09-03T16:11:37.409054",
   "version": "2.6.0"
  }
 },
 "nbformat": 4,
 "nbformat_minor": 5
}
